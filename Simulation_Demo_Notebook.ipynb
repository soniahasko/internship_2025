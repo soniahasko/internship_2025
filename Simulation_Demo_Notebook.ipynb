{
 "cells": [
  {
   "cell_type": "markdown",
   "id": "b9d41dae-eb38-4b4e-a9b0-261ff7808cef",
   "metadata": {},
   "source": [
    "### Simulating diffraction patterns"
   ]
  },
  {
   "cell_type": "markdown",
   "id": "b52616f4-e04b-4cc0-ae90-dff380d5d055",
   "metadata": {},
   "source": [
    "The goal is to simulate the diffraction pattern for one compound and crystal system--in this demo, it's cubic NaCl--with a large number of variations. The variations are created by adjusting the lattice parameter lengths of the cubic cell, and we have set the maximum adjustment to each length to be a multiplicative factor of 2. The angles remain unchanged. These variations will serve as datasets for training and testing an ML model that finds peaks in diffraction data."
   ]
  },
  {
   "cell_type": "code",
   "execution_count": 2,
   "id": "85f90d0a-b814-458c-bf48-f47e084736b5",
   "metadata": {},
   "outputs": [],
   "source": [
    "# Import relevant libraries\n",
    "\n",
    "import Dans_Diffraction as dif\n",
    "import Dans_Diffraction.functions_scattering as fs\n",
    "import numpy as np\n",
    "import matplotlib.pyplot as plt\n",
    "import sys"
   ]
  },
  {
   "cell_type": "code",
   "execution_count": 32,
   "id": "38dbda23-235b-4248-ade5-684817a61446",
   "metadata": {},
   "outputs": [],
   "source": [
    "all_crystals = ['BaSO4_orthorhombic', 'NaCl_cubic', 'polypropylene', 'TiO2_tetragonal', 'ZnO_hexagonal']\n",
    "crystal = all_crystals[3]\n",
    "cif_file = f'cif_files/{crystal}.cif' \n",
    "xtl = dif.Crystal(cif_file) # load in the cif file"
   ]
  },
  {
   "cell_type": "markdown",
   "id": "5e353c0a-1c53-462a-bf98-d50520fa7b14",
   "metadata": {},
   "source": [
    "Now, we'll define the parameter space that we are exploring. We're starting off with a small number of patterns but the goal is to generate a large number (on the order of 1000) patterns."
   ]
  },
  {
   "cell_type": "code",
   "execution_count": 33,
   "id": "94bc7968-0b68-4aa2-9e7f-475207124ff9",
   "metadata": {},
   "outputs": [],
   "source": [
    "orig_lps = xtl.Cell.lp() # starting lattice parameters\n",
    "lp_multiplier = (2,2,2,1,1,1) # separate multiplier for cell prms\n",
    "max_lps = np.array(orig_lps) * np.array(lp_multiplier) # max lp_a, lp_b, lp_c, alpha, beta, gamma\n",
    "num_patterns = 1 # number of variations in lattice prms\n",
    "\n",
    "all_lps = np.linspace(orig_lps, max_lps, num_patterns) # all variations, including original"
   ]
  },
  {
   "cell_type": "markdown",
   "id": "cbc765ca-5906-4610-a77b-941f0be5e28b",
   "metadata": {},
   "source": [
    "Next, we can define our constants. These wavelength and energy values will change for synchrotron data."
   ]
  },
  {
   "cell_type": "code",
   "execution_count": 34,
   "id": "7d890619-28be-44fe-9188-a7d9cc2f0024",
   "metadata": {},
   "outputs": [],
   "source": [
    "# wavelength = 1.5406 # Cu K-alpha\n",
    "# energy_kev = 8.0478 # Cu K-alpha energy in kEV\n",
    "wavelength = 0.1665\n",
    "energy_kev = 74\n",
    "min_twotheta = 1\n",
    "max_twotheta = 10\n",
    "scattering_type = 'xray'"
   ]
  },
  {
   "cell_type": "markdown",
   "id": "32bc9e15-0418-4e21-b37a-b8ae3e8618b1",
   "metadata": {},
   "source": [
    "Next, we can calculate the structure factor, which will be used in the intensity function to compute the intensity value."
   ]
  },
  {
   "cell_type": "code",
   "execution_count": 35,
   "id": "6211ad79-665b-4b99-82d6-f570f49a6a7a",
   "metadata": {},
   "outputs": [],
   "source": [
    "new_structure_factor = xtl.Scatter.structure_factor # find the structure factor\n",
    "\n",
    "# This function has been adapted from the Dans-Diffraction library\n",
    "def intensity(hkl=None, scattering_type=None, int_hkl=None, **options):\n",
    "    \"\"\"\n",
    "    Returns the structure factor squared\n",
    "            I = |sum( f_i * occ_i * dw_i * exp( -i * 2 * pi * hkl.uvw ) |^2\n",
    "    Where f_i is the elemental scattering factor, occ_i is the site occupancy, dw_i\n",
    "    is the Debye-Waller thermal factor, hkl is the reflection and uvw is the site position.\n",
    "\n",
    "    The following options for scattering_type are  supported:\n",
    "      'xray'  - uses x-ray form factors\n",
    "      'neutron' - uses neutron scattering lengths\n",
    "      'xray magnetic' - calculates the magnetic (non-resonant) component of the x-ray scattering\n",
    "      'neutron magnetic' - calculates the magnetic component of neutron scattering\n",
    "      'xray resonant' - calculates magnetic resonant scattering\n",
    "      'xray dispersion' - uses x-ray form factors including f'-if'' components\n",
    "\n",
    "    :param hkl: array[n,3] : reflection indexes (h, k, l)\n",
    "    :param scattering_type: str : one of ['xray','neutron', 'electron', 'xray magnetic','neutron magnetic','xray resonant']\n",
    "    :param int_hkl: Bool : when True, hkl values are converted to integer.\n",
    "    :param kwargs: additional options to pass to scattering function\n",
    "    :return: float array[n] : array of |SF|^2\n",
    "    \"\"\"\n",
    "    return fs.intensity(new_structure_factor(hkl, scattering_type, int_hkl, **options))\n",
    "new_intensity = intensity"
   ]
  },
  {
   "cell_type": "markdown",
   "id": "703ace85-d384-4aae-a5de-7bb1a8e2c5d7",
   "metadata": {},
   "source": [
    "We can then define a function that lists all valid reflections in the form of a numpy array containing lists of indices, two theta values, and integrated area intensities. This is useful for determining the correct number of valid reflections and their two theta values; however, the function does not provide the desired intensity values, which are heights rather than integrated areas."
   ]
  },
  {
   "cell_type": "code",
   "execution_count": 36,
   "id": "cea2a366-69b7-4f16-bfdc-b0ee08f33089",
   "metadata": {},
   "outputs": [],
   "source": [
    "# This function has been adapted from the Dans-Diffraction library\n",
    "\n",
    "def list_all_reflections(energy_kev=None, print_symmetric=False,\n",
    "                              min_intensity=0.01, max_intensity=None, units=None):\n",
    "\n",
    "    '''\n",
    "    Returns an np array containing lists of hkl indices, two theta values, and intensities for reflections\n",
    "    All of these reflections are valid and at the right two theta values; however, the intensity values correspond\n",
    "    to the integrated areas rather than the peak heights.\n",
    "    '''\n",
    "        \n",
    "    if energy_kev is None:\n",
    "        energy_kev = ENERGY_KEV\n",
    "    \n",
    "    if min_intensity is None: min_intensity = -1\n",
    "    if max_intensity is None: max_intensity = np.inf\n",
    "    \n",
    "    hkl = xtl.Cell.all_hkl(energy_kev, max_twotheta)\n",
    "    if not print_symmetric:\n",
    "        hkl = xtl.Symmetry.remove_symmetric_reflections(hkl)\n",
    "        \n",
    "    hkl = xtl.Cell.sort_hkl(hkl)\n",
    "\n",
    "    tth = xtl.Cell.tth(hkl, energy_kev)\n",
    "    inrange = np.all([tth < max_twotheta, tth > min_twotheta], axis=0)\n",
    "    hkl = hkl[inrange, :]\n",
    "    tth = tth[inrange]\n",
    "    #inten = np.sqrt(self.intensity(hkl)) # structure factor\n",
    "    inten = intensity(hkl)\n",
    "\n",
    "    all_info = []\n",
    "\n",
    "    count = 0\n",
    "    for n in range(1, len(tth)):\n",
    "        if inten[n] < min_intensity: continue\n",
    "        if inten[n] > max_intensity: continue\n",
    "        count += 1\n",
    "        all_info.append([hkl[n,0], hkl[n,1], hkl[n,2],tth[n],inten[n]])\n",
    "    \n",
    "    return np.array(all_info)"
   ]
  },
  {
   "cell_type": "markdown",
   "id": "23d1aaa1-cbad-4a4a-be7b-aa92e19ac332",
   "metadata": {},
   "source": [
    "Now, we can define ists, to which we'll append numpy arrays containing the valid reflections (including hkl indices, tth values, and integrated area intensities), two theta values for all the data, intensities for all the data, and the Dans-Diffraction powder-method based reflections (including extra and aphysical reflections but correct intensities). "
   ]
  },
  {
   "cell_type": "code",
   "execution_count": 37,
   "id": "84b6c915-40c1-4683-879b-f33689902915",
   "metadata": {},
   "outputs": [],
   "source": [
    "valid_refs = [] # contains valid reflections with integrated areas intensities\n",
    "tths = [] # each lst entry contains an array with all the two theta vals for that set of lattice prms\n",
    "intensities = [] # same as above, but for intensities\n",
    "powder_ref1s = [] # contains powder reflections"
   ]
  },
  {
   "cell_type": "markdown",
   "id": "372ad2b4-e961-4297-a32c-9046881ef20f",
   "metadata": {},
   "source": [
    "Here, we can set up the scattering parameters for a 2theta scan, where the scattering_type was defined in an earlier cell, along with the energy_kev and min and max two_theta values. The powder_lorentz value describes the fraction of the simulated scattering pattern that is described by the Lorentz rather than Gauss function in the pseudo-Voigt, and the value was arbitrarily chosen."
   ]
  },
  {
   "cell_type": "code",
   "execution_count": 38,
   "id": "cc8d77e8-f001-4499-9458-0d53fb8b7540",
   "metadata": {},
   "outputs": [],
   "source": [
    "xtl.Scatter.setup_scatter(\n",
    "    scattering_type=scattering_type, \n",
    "    powder_units='twotheta', \n",
    "    energy_kev=energy_kev,\n",
    "    min_twotheta=min_twotheta,\n",
    "    max_twotheta=max_twotheta,\n",
    "    output=False,\n",
    "    powder_lorentz=1\n",
    ")"
   ]
  },
  {
   "cell_type": "markdown",
   "id": "ab09a26c-7c7a-4973-8bcc-8c5fb1f3dd27",
   "metadata": {},
   "source": [
    "Now we can fill the lists defined above with all the reflection values and the scattering data. Each appended list contains the relevant information from a single variation of the simulation."
   ]
  },
  {
   "cell_type": "code",
   "execution_count": 39,
   "id": "a6750937-61a0-4b17-9b06-a35de1f6ca35",
   "metadata": {},
   "outputs": [
    {
     "name": "stderr",
     "output_type": "stream",
     "text": [
      "Setting lattice parameters: 100%|██████████| 1/1 [00:00<00:00,  7.65it/s]"
     ]
    },
    {
     "name": "stdout",
     "output_type": "stream",
     "text": [
      "(1, 11763)\n"
     ]
    },
    {
     "name": "stderr",
     "output_type": "stream",
     "text": [
      "\n"
     ]
    }
   ],
   "source": [
    "import csv\n",
    "from tqdm import tqdm\n",
    "\n",
    "for i in tqdm(range(num_patterns), desc=\"Setting lattice parameters\"):\n",
    "    xtl.Cell.latt(all_lps[i]) # set lattice prms\n",
    "\n",
    "    tth1, intensity1, ref1 = xtl.Scatter.powder() # record two theta, intensities, and all reflections including aphysical ones\n",
    "    tths.append(tth1)\n",
    "    intensities.append(intensity1)\n",
    "    powder_ref1s.append(ref1)\n",
    "    \n",
    "    real_reflections = list_all_reflections(energy_kev=energy_kev)\n",
    "    valid_refs.append(real_reflections)\n",
    "\n",
    "tths = np.array(tths)\n",
    "intensities = np.array(intensities)\n",
    "print(tths.shape)"
   ]
  },
  {
   "cell_type": "markdown",
   "id": "4a11d007-e624-4e6a-885b-76cf28b11c99",
   "metadata": {},
   "source": [
    "Here, we'll populate np arrays with the valid reflection two theta values and the corresponding integrated area intensities, which we obtained from the list_all_reflections function and stored in the valid_refs lists. The size of each array corresponds to the maximum possible size, for the variation with the largest number of reflections, so the arrays are initially populated with zeros."
   ]
  },
  {
   "cell_type": "code",
   "execution_count": 40,
   "id": "95eca414-4642-4088-86e5-e248cd758853",
   "metadata": {},
   "outputs": [],
   "source": [
    "max_refs = max(len(sublist) for sublist in valid_refs)\n",
    "\n",
    "refs_arr_tths = np.zeros((num_patterns, max_refs))\n",
    "refs_arr_ints = np.zeros((num_patterns, max_refs))\n",
    "\n",
    "for i in range(num_patterns):\n",
    "    for j in range(len(valid_refs[i])):\n",
    "        refs_arr_tths[i][j] = valid_refs[i][j][3]\n",
    "        refs_arr_ints[i][j] = valid_refs[i][j][4]"
   ]
  },
  {
   "cell_type": "markdown",
   "id": "3952ab75-3d03-4b1d-8bd0-77102f81ea2b",
   "metadata": {},
   "source": [
    "We can separate the output of the Dans-Diffraction powder method for each variation, which we stored in the powder_ref1s list, into lists containing hkl index tuples, tth values, and intensity values."
   ]
  },
  {
   "cell_type": "code",
   "execution_count": 41,
   "id": "8066998c-876c-4d7d-8a94-b7c22ff37465",
   "metadata": {},
   "outputs": [],
   "source": [
    "# Separate ouput of Dans-Diffraction powder method into hkls, tths, intensities, for all variations\n",
    "powder_ref1_hkls = [] \n",
    "powder_ref1_tths = []\n",
    "powder_ref1_intensities = []\n",
    "\n",
    "for j in range(num_patterns):\n",
    "    ref1_tths_pattern = []\n",
    "    ref1_intensities_pattern = []\n",
    "    ref1_hkls_pattern = []\n",
    "    \n",
    "    for i in range(len(powder_ref1s[j])):\n",
    "        ref1_hkls_pattern.append((powder_ref1s[j][i][0], powder_ref1s[j][i][1], powder_ref1s[j][i][2]))\n",
    "        ref1_tths_pattern.append(powder_ref1s[j][i][3])\n",
    "        ref1_intensities_pattern.append(powder_ref1s[j][i][4])\n",
    "    \n",
    "    powder_ref1_hkls.append(ref1_hkls_pattern)\n",
    "    powder_ref1_tths.append(ref1_tths_pattern)\n",
    "    powder_ref1_intensities.append(ref1_intensities_pattern)"
   ]
  },
  {
   "cell_type": "markdown",
   "id": "165d59f9-d98d-4761-b188-385d4fa0121e",
   "metadata": {},
   "source": [
    "### Storing the simulated data"
   ]
  },
  {
   "cell_type": "markdown",
   "id": "4e4c64e6-3e4d-4062-9103-2da89a8eb1a1",
   "metadata": {},
   "source": [
    "Now that we have simulated variations of scattering data for a compound, we need to think about how we'll store the data to make it easy to use in ML models and for plotting purposes. First, we'll create a list that will contain np arrays that each correspond to one variation. The arrays will contain binary values and have the length of the entire set of data in each simulation. A value of 0 will indicate that there is not peak at that 2theta value; 1 will indicate that there is a peak."
   ]
  },
  {
   "cell_type": "code",
   "execution_count": 42,
   "id": "e7c20138-54bd-49d0-9b03-3ca514f6d539",
   "metadata": {},
   "outputs": [],
   "source": [
    "import xarray as xr"
   ]
  },
  {
   "cell_type": "code",
   "execution_count": 43,
   "id": "d0ca72e6-780a-4b59-8792-9fea8d1f49a7",
   "metadata": {},
   "outputs": [],
   "source": [
    "binary_peaks = [] # empty list that will contain the np arrays"
   ]
  },
  {
   "cell_type": "markdown",
   "id": "9ff4c259-722b-4364-8d9f-313283b4cb1d",
   "metadata": {},
   "source": [
    "We can define the data types that will be used in an np array that will hold the data for each pattern."
   ]
  },
  {
   "cell_type": "code",
   "execution_count": 44,
   "id": "a816e082-2c32-4bb7-b67f-c92b3ed81abb",
   "metadata": {},
   "outputs": [],
   "source": [
    "peak_dtype = np.dtype([\n",
    "    ('hkl', '3i4'),           # tuple of 3 integers\n",
    "    ('2theta_calc', 'f8'),   # calculated 2θ\n",
    "    ('2theta_nearest', 'f8'),# nearest 2θ\n",
    "    ('intensity', 'f8')      # intensity\n",
    "]) # this is an array that will hold all of the data we want to keep"
   ]
  },
  {
   "cell_type": "code",
   "execution_count": 45,
   "id": "ff5d78b6-d7bb-4609-9ff6-5b3a1158ba17",
   "metadata": {},
   "outputs": [],
   "source": [
    "all_variations = [] # Create a list to hold each variation's reflections"
   ]
  },
  {
   "cell_type": "markdown",
   "id": "156c7389-a666-4eff-99b6-420cdf432798",
   "metadata": {},
   "source": [
    "Now we can loop through all the variations and add the relevant values to the all_variations list and the binary_peaks list."
   ]
  },
  {
   "cell_type": "code",
   "execution_count": 46,
   "id": "5b917f4a-66c1-49ea-bc81-65202179b2f7",
   "metadata": {},
   "outputs": [
    {
     "data": {
      "text/plain": [
       "72"
      ]
     },
     "execution_count": 46,
     "metadata": {},
     "output_type": "execute_result"
    }
   ],
   "source": [
    "len(powder_ref1_intensities[0])"
   ]
  },
  {
   "cell_type": "code",
   "execution_count": 47,
   "id": "606eec54-57fa-46db-a859-7b994bdcab12",
   "metadata": {},
   "outputs": [],
   "source": [
    "tol = 0.1\n",
    "max_refs = max(len(sublist) for sublist in powder_ref1_tths)\n",
    "\n",
    "for j in range(num_patterns):\n",
    "    binary_peaks_pattern = np.zeros(tths[j].shape[0], dtype=int)\n",
    "    non_zero_count = np.count_nonzero(refs_arr_tths[j])\n",
    "    variation_data = np.zeros((non_zero_count), dtype=peak_dtype)\n",
    "\n",
    "    count = 0\n",
    "\n",
    "    for i in range(non_zero_count):\n",
    "        if refs_arr_tths[j][i] == 0:\n",
    "            continue  # skip zero entries\n",
    "\n",
    "        diffs = np.abs(powder_ref1_tths[j] - refs_arr_tths[j][i])\n",
    "        min_idx_powder = np.argmin(diffs)\n",
    "        \n",
    "        if diffs[min_idx_powder] < tol:\n",
    "            idx_powder = min_idx_powder\n",
    "            variation_data[i] = (\n",
    "                powder_ref1_hkls[j][idx_powder],\n",
    "                refs_arr_tths[j][i],\n",
    "                powder_ref1_tths[j][idx_powder],\n",
    "                powder_ref1_intensities[j][idx_powder]\n",
    "            )    \n",
    "        \n",
    "        # For binary pattern\n",
    "        diffs_alldata = np.abs(tths[j] - refs_arr_tths[j][i])\n",
    "        min_idx_alldata = np.argmin(diffs_alldata)\n",
    "        if diffs_alldata[min_idx_alldata] < tol:\n",
    "            binary_peaks_pattern[min_idx_alldata] = 1\n",
    "            count+=1\n",
    "            # print(f\"Yes: match in tths[{j}] for ref peak {refs_arr_tths[j][i]} (i={i} at hkl {powder_ref1_hkls[j][i]}\")\n",
    "            # print(tths[j][min_idx_alldata])\n",
    "\n",
    "        else:\n",
    "            print(f\"No match in tths[{j}] for ref peak {refs_arr_tths[j][i]} (i={i})\")\n",
    "    # print(f'count: {count}')\n",
    "\n",
    "    # print(f\"Pattern {j} - Peaks marked: {np.count_nonzero(binary_peaks_pattern)}\")\n",
    "    all_variations.append(variation_data)\n",
    "    binary_peaks.append(binary_peaks_pattern)\n",
    " "
   ]
  },
  {
   "cell_type": "code",
   "execution_count": 48,
   "id": "8ef995d5-a59a-4464-b858-ed55d9401ec0",
   "metadata": {},
   "outputs": [
    {
     "name": "stdout",
     "output_type": "stream",
     "text": [
      "1\n"
     ]
    }
   ],
   "source": [
    "print(len(all_variations))"
   ]
  },
  {
   "cell_type": "code",
   "execution_count": 49,
   "id": "8d5093a0-45fa-43a2-9674-21884a31b3a2",
   "metadata": {},
   "outputs": [],
   "source": [
    "# Find the maximum number of peaks across all variations\n",
    "max_reflections = max(len(arr) for arr in all_variations)\n",
    "\n",
    "# Initialize arrays with NaNs (to pad if necessary)\n",
    "hkl_arr = np.full((num_patterns, max_reflections, 3), np.nan)\n",
    "theta_calc_arr = np.full((num_patterns, max_reflections), np.nan)\n",
    "theta_nearest_arr = np.full((num_patterns, max_reflections), np.nan)\n",
    "intensity_arr = np.full((num_patterns, max_reflections), np.nan)\n",
    "\n",
    "# Fill in values\n",
    "for i, arr in enumerate(all_variations):\n",
    "    num_reflections = len(arr)\n",
    "    hkl_arr[i, :num_reflections] = np.stack([row[0] for row in arr])\n",
    "    theta_calc_arr[i, :num_reflections] = [row[1] for row in arr]\n",
    "    theta_nearest_arr[i, :num_reflections] = [row[2] for row in arr]\n",
    "    intensity_arr[i, :num_reflections] = [row[3] for row in arr]"
   ]
  },
  {
   "cell_type": "code",
   "execution_count": 50,
   "id": "cecb5f02-9f90-4712-9982-c6beef87f4e0",
   "metadata": {},
   "outputs": [
    {
     "data": {
      "text/plain": [
       "(11763,)"
      ]
     },
     "execution_count": 50,
     "metadata": {},
     "output_type": "execute_result"
    }
   ],
   "source": [
    "binary_peaks_pattern.shape"
   ]
  },
  {
   "cell_type": "code",
   "execution_count": 51,
   "id": "0f9209a7-3425-4e86-a9ec-6712a5447a73",
   "metadata": {},
   "outputs": [],
   "source": [
    "ds_combined = xr.Dataset(\n",
    "    {\n",
    "        # These are your xr dataarrays - they can be multidimensional and are indexed to coords (which are also xr dataarrays)\n",
    "        \"Intensities\": ([\"pattern\", \"tth\"], intensities),\n",
    "        \"hkl\": ((\"variation\", \"peak\", \"hkl_index\"), hkl_arr),\n",
    "        \"2theta_calc\": ((\"variation\", \"peak\"), theta_calc_arr),\n",
    "        \"2theta_nearest\": ((\"variation\", \"peak\"), theta_nearest_arr),\n",
    "        \"intensity\": ((\"variation\", \"peak\"), intensity_arr),\n",
    "        \"binary_arr\": ((\"pattern\", \"tth\"), binary_peaks)\n",
    "    },\n",
    "    coords={ # coordinates for indexing your dataarrays \n",
    "        \"pattern\": np.arange(num_patterns),\n",
    "        \"tth\": np.linspace(min_twotheta, max_twotheta, tths.shape[1]), # np.linspace(min_tth,max_tth, 11763) or whatever your tth values are\n",
    "        \"variation\": np.arange(num_patterns),\n",
    "        \"peak\": np.arange(max_reflections),\n",
    "        \"hkl_index\": [\"h\", \"k\", \"l\"]\n",
    "    },\n",
    "    attrs={ # metadata\n",
    "        \"CIF\": cif_file, # you can throw a whole json in here if you like\n",
    "        \"tth_range\": (min_twotheta, max_twotheta)\n",
    "    }\n",
    ")"
   ]
  },
  {
   "cell_type": "code",
   "execution_count": 52,
   "id": "59abee97-c47b-4dbc-bb25-850edcf7cab3",
   "metadata": {},
   "outputs": [
    {
     "name": "stdout",
     "output_type": "stream",
     "text": [
      "(1, 11763)\n",
      "(1, 11763)\n"
     ]
    }
   ],
   "source": [
    "print(ds_combined['Intensities'].shape)\n",
    "print(ds_combined['binary_arr'].shape)"
   ]
  },
  {
   "cell_type": "code",
   "execution_count": 816,
   "id": "f52c533c-22d9-4841-85a3-1f8623fedd03",
   "metadata": {},
   "outputs": [],
   "source": [
    "from zipfile import ZipFile, ZIP_DEFLATED\n",
    "import os\n",
    "\n",
    "path = 'saved_data/'\n",
    "file = f'ds_combined_{num_patterns}_patterns_{crystal}.nc'\n",
    "\n",
    "ds_combined.to_netcdf(os.path.join(path, file))\n",
    "with ZipFile(os.path.join(path,file.replace('.nc','.zip')), 'w', ZIP_DEFLATED) as zObject:\n",
    "    zObject.write(os.path.join(path,file), arcname=file)"
   ]
  },
  {
   "cell_type": "code",
   "execution_count": 817,
   "id": "ff4a1cf9-2031-4e96-b9c5-0cdbcf7729bd",
   "metadata": {},
   "outputs": [],
   "source": [
    "f = xr.open_dataset(f'saved_data/{file}')"
   ]
  },
  {
   "cell_type": "code",
   "execution_count": 818,
   "id": "3450236e-1dc4-4124-84ed-a299d71737a4",
   "metadata": {},
   "outputs": [
    {
     "data": {
      "text/html": [
       "<div><svg style=\"position: absolute; width: 0; height: 0; overflow: hidden\">\n",
       "<defs>\n",
       "<symbol id=\"icon-database\" viewBox=\"0 0 32 32\">\n",
       "<path d=\"M16 0c-8.837 0-16 2.239-16 5v4c0 2.761 7.163 5 16 5s16-2.239 16-5v-4c0-2.761-7.163-5-16-5z\"></path>\n",
       "<path d=\"M16 17c-8.837 0-16-2.239-16-5v6c0 2.761 7.163 5 16 5s16-2.239 16-5v-6c0 2.761-7.163 5-16 5z\"></path>\n",
       "<path d=\"M16 26c-8.837 0-16-2.239-16-5v6c0 2.761 7.163 5 16 5s16-2.239 16-5v-6c0 2.761-7.163 5-16 5z\"></path>\n",
       "</symbol>\n",
       "<symbol id=\"icon-file-text2\" viewBox=\"0 0 32 32\">\n",
       "<path d=\"M28.681 7.159c-0.694-0.947-1.662-2.053-2.724-3.116s-2.169-2.030-3.116-2.724c-1.612-1.182-2.393-1.319-2.841-1.319h-15.5c-1.378 0-2.5 1.121-2.5 2.5v27c0 1.378 1.122 2.5 2.5 2.5h23c1.378 0 2.5-1.122 2.5-2.5v-19.5c0-0.448-0.137-1.23-1.319-2.841zM24.543 5.457c0.959 0.959 1.712 1.825 2.268 2.543h-4.811v-4.811c0.718 0.556 1.584 1.309 2.543 2.268zM28 29.5c0 0.271-0.229 0.5-0.5 0.5h-23c-0.271 0-0.5-0.229-0.5-0.5v-27c0-0.271 0.229-0.5 0.5-0.5 0 0 15.499-0 15.5 0v7c0 0.552 0.448 1 1 1h7v19.5z\"></path>\n",
       "<path d=\"M23 26h-14c-0.552 0-1-0.448-1-1s0.448-1 1-1h14c0.552 0 1 0.448 1 1s-0.448 1-1 1z\"></path>\n",
       "<path d=\"M23 22h-14c-0.552 0-1-0.448-1-1s0.448-1 1-1h14c0.552 0 1 0.448 1 1s-0.448 1-1 1z\"></path>\n",
       "<path d=\"M23 18h-14c-0.552 0-1-0.448-1-1s0.448-1 1-1h14c0.552 0 1 0.448 1 1s-0.448 1-1 1z\"></path>\n",
       "</symbol>\n",
       "</defs>\n",
       "</svg>\n",
       "<style>/* CSS stylesheet for displaying xarray objects in jupyterlab.\n",
       " *\n",
       " */\n",
       "\n",
       ":root {\n",
       "  --xr-font-color0: var(--jp-content-font-color0, rgba(0, 0, 0, 1));\n",
       "  --xr-font-color2: var(--jp-content-font-color2, rgba(0, 0, 0, 0.54));\n",
       "  --xr-font-color3: var(--jp-content-font-color3, rgba(0, 0, 0, 0.38));\n",
       "  --xr-border-color: var(--jp-border-color2, #e0e0e0);\n",
       "  --xr-disabled-color: var(--jp-layout-color3, #bdbdbd);\n",
       "  --xr-background-color: var(--jp-layout-color0, white);\n",
       "  --xr-background-color-row-even: var(--jp-layout-color1, white);\n",
       "  --xr-background-color-row-odd: var(--jp-layout-color2, #eeeeee);\n",
       "}\n",
       "\n",
       "html[theme=dark],\n",
       "body[data-theme=dark],\n",
       "body.vscode-dark {\n",
       "  --xr-font-color0: rgba(255, 255, 255, 1);\n",
       "  --xr-font-color2: rgba(255, 255, 255, 0.54);\n",
       "  --xr-font-color3: rgba(255, 255, 255, 0.38);\n",
       "  --xr-border-color: #1F1F1F;\n",
       "  --xr-disabled-color: #515151;\n",
       "  --xr-background-color: #111111;\n",
       "  --xr-background-color-row-even: #111111;\n",
       "  --xr-background-color-row-odd: #313131;\n",
       "}\n",
       "\n",
       ".xr-wrap {\n",
       "  display: block !important;\n",
       "  min-width: 300px;\n",
       "  max-width: 700px;\n",
       "}\n",
       "\n",
       ".xr-text-repr-fallback {\n",
       "  /* fallback to plain text repr when CSS is not injected (untrusted notebook) */\n",
       "  display: none;\n",
       "}\n",
       "\n",
       ".xr-header {\n",
       "  padding-top: 6px;\n",
       "  padding-bottom: 6px;\n",
       "  margin-bottom: 4px;\n",
       "  border-bottom: solid 1px var(--xr-border-color);\n",
       "}\n",
       "\n",
       ".xr-header > div,\n",
       ".xr-header > ul {\n",
       "  display: inline;\n",
       "  margin-top: 0;\n",
       "  margin-bottom: 0;\n",
       "}\n",
       "\n",
       ".xr-obj-type,\n",
       ".xr-array-name {\n",
       "  margin-left: 2px;\n",
       "  margin-right: 10px;\n",
       "}\n",
       "\n",
       ".xr-obj-type {\n",
       "  color: var(--xr-font-color2);\n",
       "}\n",
       "\n",
       ".xr-sections {\n",
       "  padding-left: 0 !important;\n",
       "  display: grid;\n",
       "  grid-template-columns: 150px auto auto 1fr 20px 20px;\n",
       "}\n",
       "\n",
       ".xr-section-item {\n",
       "  display: contents;\n",
       "}\n",
       "\n",
       ".xr-section-item input {\n",
       "  display: none;\n",
       "}\n",
       "\n",
       ".xr-section-item input + label {\n",
       "  color: var(--xr-disabled-color);\n",
       "}\n",
       "\n",
       ".xr-section-item input:enabled + label {\n",
       "  cursor: pointer;\n",
       "  color: var(--xr-font-color2);\n",
       "}\n",
       "\n",
       ".xr-section-item input:enabled + label:hover {\n",
       "  color: var(--xr-font-color0);\n",
       "}\n",
       "\n",
       ".xr-section-summary {\n",
       "  grid-column: 1;\n",
       "  color: var(--xr-font-color2);\n",
       "  font-weight: 500;\n",
       "}\n",
       "\n",
       ".xr-section-summary > span {\n",
       "  display: inline-block;\n",
       "  padding-left: 0.5em;\n",
       "}\n",
       "\n",
       ".xr-section-summary-in:disabled + label {\n",
       "  color: var(--xr-font-color2);\n",
       "}\n",
       "\n",
       ".xr-section-summary-in + label:before {\n",
       "  display: inline-block;\n",
       "  content: '►';\n",
       "  font-size: 11px;\n",
       "  width: 15px;\n",
       "  text-align: center;\n",
       "}\n",
       "\n",
       ".xr-section-summary-in:disabled + label:before {\n",
       "  color: var(--xr-disabled-color);\n",
       "}\n",
       "\n",
       ".xr-section-summary-in:checked + label:before {\n",
       "  content: '▼';\n",
       "}\n",
       "\n",
       ".xr-section-summary-in:checked + label > span {\n",
       "  display: none;\n",
       "}\n",
       "\n",
       ".xr-section-summary,\n",
       ".xr-section-inline-details {\n",
       "  padding-top: 4px;\n",
       "  padding-bottom: 4px;\n",
       "}\n",
       "\n",
       ".xr-section-inline-details {\n",
       "  grid-column: 2 / -1;\n",
       "}\n",
       "\n",
       ".xr-section-details {\n",
       "  display: none;\n",
       "  grid-column: 1 / -1;\n",
       "  margin-bottom: 5px;\n",
       "}\n",
       "\n",
       ".xr-section-summary-in:checked ~ .xr-section-details {\n",
       "  display: contents;\n",
       "}\n",
       "\n",
       ".xr-array-wrap {\n",
       "  grid-column: 1 / -1;\n",
       "  display: grid;\n",
       "  grid-template-columns: 20px auto;\n",
       "}\n",
       "\n",
       ".xr-array-wrap > label {\n",
       "  grid-column: 1;\n",
       "  vertical-align: top;\n",
       "}\n",
       "\n",
       ".xr-preview {\n",
       "  color: var(--xr-font-color3);\n",
       "}\n",
       "\n",
       ".xr-array-preview,\n",
       ".xr-array-data {\n",
       "  padding: 0 5px !important;\n",
       "  grid-column: 2;\n",
       "}\n",
       "\n",
       ".xr-array-data,\n",
       ".xr-array-in:checked ~ .xr-array-preview {\n",
       "  display: none;\n",
       "}\n",
       "\n",
       ".xr-array-in:checked ~ .xr-array-data,\n",
       ".xr-array-preview {\n",
       "  display: inline-block;\n",
       "}\n",
       "\n",
       ".xr-dim-list {\n",
       "  display: inline-block !important;\n",
       "  list-style: none;\n",
       "  padding: 0 !important;\n",
       "  margin: 0;\n",
       "}\n",
       "\n",
       ".xr-dim-list li {\n",
       "  display: inline-block;\n",
       "  padding: 0;\n",
       "  margin: 0;\n",
       "}\n",
       "\n",
       ".xr-dim-list:before {\n",
       "  content: '(';\n",
       "}\n",
       "\n",
       ".xr-dim-list:after {\n",
       "  content: ')';\n",
       "}\n",
       "\n",
       ".xr-dim-list li:not(:last-child):after {\n",
       "  content: ',';\n",
       "  padding-right: 5px;\n",
       "}\n",
       "\n",
       ".xr-has-index {\n",
       "  font-weight: bold;\n",
       "}\n",
       "\n",
       ".xr-var-list,\n",
       ".xr-var-item {\n",
       "  display: contents;\n",
       "}\n",
       "\n",
       ".xr-var-item > div,\n",
       ".xr-var-item label,\n",
       ".xr-var-item > .xr-var-name span {\n",
       "  background-color: var(--xr-background-color-row-even);\n",
       "  margin-bottom: 0;\n",
       "}\n",
       "\n",
       ".xr-var-item > .xr-var-name:hover span {\n",
       "  padding-right: 5px;\n",
       "}\n",
       "\n",
       ".xr-var-list > li:nth-child(odd) > div,\n",
       ".xr-var-list > li:nth-child(odd) > label,\n",
       ".xr-var-list > li:nth-child(odd) > .xr-var-name span {\n",
       "  background-color: var(--xr-background-color-row-odd);\n",
       "}\n",
       "\n",
       ".xr-var-name {\n",
       "  grid-column: 1;\n",
       "}\n",
       "\n",
       ".xr-var-dims {\n",
       "  grid-column: 2;\n",
       "}\n",
       "\n",
       ".xr-var-dtype {\n",
       "  grid-column: 3;\n",
       "  text-align: right;\n",
       "  color: var(--xr-font-color2);\n",
       "}\n",
       "\n",
       ".xr-var-preview {\n",
       "  grid-column: 4;\n",
       "}\n",
       "\n",
       ".xr-index-preview {\n",
       "  grid-column: 2 / 5;\n",
       "  color: var(--xr-font-color2);\n",
       "}\n",
       "\n",
       ".xr-var-name,\n",
       ".xr-var-dims,\n",
       ".xr-var-dtype,\n",
       ".xr-preview,\n",
       ".xr-attrs dt {\n",
       "  white-space: nowrap;\n",
       "  overflow: hidden;\n",
       "  text-overflow: ellipsis;\n",
       "  padding-right: 10px;\n",
       "}\n",
       "\n",
       ".xr-var-name:hover,\n",
       ".xr-var-dims:hover,\n",
       ".xr-var-dtype:hover,\n",
       ".xr-attrs dt:hover {\n",
       "  overflow: visible;\n",
       "  width: auto;\n",
       "  z-index: 1;\n",
       "}\n",
       "\n",
       ".xr-var-attrs,\n",
       ".xr-var-data,\n",
       ".xr-index-data {\n",
       "  display: none;\n",
       "  background-color: var(--xr-background-color) !important;\n",
       "  padding-bottom: 5px !important;\n",
       "}\n",
       "\n",
       ".xr-var-attrs-in:checked ~ .xr-var-attrs,\n",
       ".xr-var-data-in:checked ~ .xr-var-data,\n",
       ".xr-index-data-in:checked ~ .xr-index-data {\n",
       "  display: block;\n",
       "}\n",
       "\n",
       ".xr-var-data > table {\n",
       "  float: right;\n",
       "}\n",
       "\n",
       ".xr-var-name span,\n",
       ".xr-var-data,\n",
       ".xr-index-name div,\n",
       ".xr-index-data,\n",
       ".xr-attrs {\n",
       "  padding-left: 25px !important;\n",
       "}\n",
       "\n",
       ".xr-attrs,\n",
       ".xr-var-attrs,\n",
       ".xr-var-data,\n",
       ".xr-index-data {\n",
       "  grid-column: 1 / -1;\n",
       "}\n",
       "\n",
       "dl.xr-attrs {\n",
       "  padding: 0;\n",
       "  margin: 0;\n",
       "  display: grid;\n",
       "  grid-template-columns: 125px auto;\n",
       "}\n",
       "\n",
       ".xr-attrs dt,\n",
       ".xr-attrs dd {\n",
       "  padding: 0;\n",
       "  margin: 0;\n",
       "  float: left;\n",
       "  padding-right: 10px;\n",
       "  width: auto;\n",
       "}\n",
       "\n",
       ".xr-attrs dt {\n",
       "  font-weight: normal;\n",
       "  grid-column: 1;\n",
       "}\n",
       "\n",
       ".xr-attrs dt:hover span {\n",
       "  display: inline-block;\n",
       "  background: var(--xr-background-color);\n",
       "  padding-right: 10px;\n",
       "}\n",
       "\n",
       ".xr-attrs dd {\n",
       "  grid-column: 2;\n",
       "  white-space: pre-wrap;\n",
       "  word-break: break-all;\n",
       "}\n",
       "\n",
       ".xr-icon-database,\n",
       ".xr-icon-file-text2,\n",
       ".xr-no-icon {\n",
       "  display: inline-block;\n",
       "  vertical-align: middle;\n",
       "  width: 1em;\n",
       "  height: 1.5em !important;\n",
       "  stroke-width: 0;\n",
       "  stroke: currentColor;\n",
       "  fill: currentColor;\n",
       "}\n",
       "</style><pre class='xr-text-repr-fallback'>&lt;xarray.DataArray &#x27;binary_arr&#x27; (pattern: 100, tth: 11763)&gt; Size: 9MB\n",
       "[1176300 values with dtype=int64]\n",
       "Coordinates:\n",
       "  * pattern  (pattern) int64 800B 0 1 2 3 4 5 6 7 8 ... 92 93 94 95 96 97 98 99\n",
       "  * tth      (tth) float64 94kB 1.0 1.001 1.002 1.002 ... 9.998 9.998 9.999 10.0</pre><div class='xr-wrap' style='display:none'><div class='xr-header'><div class='xr-obj-type'>xarray.DataArray</div><div class='xr-array-name'>'binary_arr'</div><ul class='xr-dim-list'><li><span class='xr-has-index'>pattern</span>: 100</li><li><span class='xr-has-index'>tth</span>: 11763</li></ul></div><ul class='xr-sections'><li class='xr-section-item'><div class='xr-array-wrap'><input id='section-1250bb29-cb3f-44f4-afc3-79f0f72928f8' class='xr-array-in' type='checkbox' checked><label for='section-1250bb29-cb3f-44f4-afc3-79f0f72928f8' title='Show/hide data repr'><svg class='icon xr-icon-database'><use xlink:href='#icon-database'></use></svg></label><div class='xr-array-preview xr-preview'><span>...</span></div><div class='xr-array-data'><pre>[1176300 values with dtype=int64]</pre></div></div></li><li class='xr-section-item'><input id='section-3ef855f0-2daa-4e08-b995-fff547bb5aa6' class='xr-section-summary-in' type='checkbox'  checked><label for='section-3ef855f0-2daa-4e08-b995-fff547bb5aa6' class='xr-section-summary' >Coordinates: <span>(2)</span></label><div class='xr-section-inline-details'></div><div class='xr-section-details'><ul class='xr-var-list'><li class='xr-var-item'><div class='xr-var-name'><span class='xr-has-index'>pattern</span></div><div class='xr-var-dims'>(pattern)</div><div class='xr-var-dtype'>int64</div><div class='xr-var-preview xr-preview'>0 1 2 3 4 5 6 ... 94 95 96 97 98 99</div><input id='attrs-f2d57874-b1bf-4037-98a9-95afbe951ade' class='xr-var-attrs-in' type='checkbox' disabled><label for='attrs-f2d57874-b1bf-4037-98a9-95afbe951ade' title='Show/Hide attributes'><svg class='icon xr-icon-file-text2'><use xlink:href='#icon-file-text2'></use></svg></label><input id='data-d785983e-e6ee-41e7-86a1-fba2d87f5659' class='xr-var-data-in' type='checkbox'><label for='data-d785983e-e6ee-41e7-86a1-fba2d87f5659' title='Show/Hide data repr'><svg class='icon xr-icon-database'><use xlink:href='#icon-database'></use></svg></label><div class='xr-var-attrs'><dl class='xr-attrs'></dl></div><div class='xr-var-data'><pre>array([ 0,  1,  2,  3,  4,  5,  6,  7,  8,  9, 10, 11, 12, 13, 14, 15, 16, 17,\n",
       "       18, 19, 20, 21, 22, 23, 24, 25, 26, 27, 28, 29, 30, 31, 32, 33, 34, 35,\n",
       "       36, 37, 38, 39, 40, 41, 42, 43, 44, 45, 46, 47, 48, 49, 50, 51, 52, 53,\n",
       "       54, 55, 56, 57, 58, 59, 60, 61, 62, 63, 64, 65, 66, 67, 68, 69, 70, 71,\n",
       "       72, 73, 74, 75, 76, 77, 78, 79, 80, 81, 82, 83, 84, 85, 86, 87, 88, 89,\n",
       "       90, 91, 92, 93, 94, 95, 96, 97, 98, 99])</pre></div></li><li class='xr-var-item'><div class='xr-var-name'><span class='xr-has-index'>tth</span></div><div class='xr-var-dims'>(tth)</div><div class='xr-var-dtype'>float64</div><div class='xr-var-preview xr-preview'>1.0 1.001 1.002 ... 9.999 10.0</div><input id='attrs-6deb99a1-16af-447c-acf8-be83d5ecd96d' class='xr-var-attrs-in' type='checkbox' disabled><label for='attrs-6deb99a1-16af-447c-acf8-be83d5ecd96d' title='Show/Hide attributes'><svg class='icon xr-icon-file-text2'><use xlink:href='#icon-file-text2'></use></svg></label><input id='data-9873f543-8c8f-4395-81c9-a5de41c55aeb' class='xr-var-data-in' type='checkbox'><label for='data-9873f543-8c8f-4395-81c9-a5de41c55aeb' title='Show/Hide data repr'><svg class='icon xr-icon-database'><use xlink:href='#icon-database'></use></svg></label><div class='xr-var-attrs'><dl class='xr-attrs'></dl></div><div class='xr-var-data'><pre>array([ 1.      ,  1.000765,  1.00153 , ...,  9.99847 ,  9.999235, 10.      ])</pre></div></li></ul></div></li><li class='xr-section-item'><input id='section-e1a25332-1b5d-4333-8f82-518dbca3a49c' class='xr-section-summary-in' type='checkbox'  ><label for='section-e1a25332-1b5d-4333-8f82-518dbca3a49c' class='xr-section-summary' >Indexes: <span>(2)</span></label><div class='xr-section-inline-details'></div><div class='xr-section-details'><ul class='xr-var-list'><li class='xr-var-item'><div class='xr-index-name'><div>pattern</div></div><div class='xr-index-preview'>PandasIndex</div><div></div><input id='index-7b1259ad-c1f7-40b5-a444-723262225300' class='xr-index-data-in' type='checkbox'/><label for='index-7b1259ad-c1f7-40b5-a444-723262225300' title='Show/Hide index repr'><svg class='icon xr-icon-database'><use xlink:href='#icon-database'></use></svg></label><div class='xr-index-data'><pre>PandasIndex(Index([ 0,  1,  2,  3,  4,  5,  6,  7,  8,  9, 10, 11, 12, 13, 14, 15, 16, 17,\n",
       "       18, 19, 20, 21, 22, 23, 24, 25, 26, 27, 28, 29, 30, 31, 32, 33, 34, 35,\n",
       "       36, 37, 38, 39, 40, 41, 42, 43, 44, 45, 46, 47, 48, 49, 50, 51, 52, 53,\n",
       "       54, 55, 56, 57, 58, 59, 60, 61, 62, 63, 64, 65, 66, 67, 68, 69, 70, 71,\n",
       "       72, 73, 74, 75, 76, 77, 78, 79, 80, 81, 82, 83, 84, 85, 86, 87, 88, 89,\n",
       "       90, 91, 92, 93, 94, 95, 96, 97, 98, 99],\n",
       "      dtype=&#x27;int64&#x27;, name=&#x27;pattern&#x27;))</pre></div></li><li class='xr-var-item'><div class='xr-index-name'><div>tth</div></div><div class='xr-index-preview'>PandasIndex</div><div></div><input id='index-57afe767-3b4c-4132-9f86-8961b60656fb' class='xr-index-data-in' type='checkbox'/><label for='index-57afe767-3b4c-4132-9f86-8961b60656fb' title='Show/Hide index repr'><svg class='icon xr-icon-database'><use xlink:href='#icon-database'></use></svg></label><div class='xr-index-data'><pre>PandasIndex(Index([               1.0, 1.0007651759904779, 1.0015303519809555,\n",
       "       1.0022955279714334, 1.0030607039619113, 1.0038258799523891,\n",
       "       1.0045910559428668, 1.0053562319333447, 1.0061214079238225,\n",
       "       1.0068865839143002,\n",
       "       ...\n",
       "          9.9931134160857,  9.993878592076177,  9.994643768066656,\n",
       "        9.995408944057132,   9.99617412004761,   9.99693929603809,\n",
       "        9.997704472028566,  9.998469648019045,  9.999234824009521,\n",
       "                     10.0],\n",
       "      dtype=&#x27;float64&#x27;, name=&#x27;tth&#x27;, length=11763))</pre></div></li></ul></div></li><li class='xr-section-item'><input id='section-cde8db15-bcd6-4870-9bcb-77be0718bbfa' class='xr-section-summary-in' type='checkbox' disabled ><label for='section-cde8db15-bcd6-4870-9bcb-77be0718bbfa' class='xr-section-summary'  title='Expand/collapse section'>Attributes: <span>(0)</span></label><div class='xr-section-inline-details'></div><div class='xr-section-details'><dl class='xr-attrs'></dl></div></li></ul></div></div>"
      ],
      "text/plain": [
       "<xarray.DataArray 'binary_arr' (pattern: 100, tth: 11763)> Size: 9MB\n",
       "[1176300 values with dtype=int64]\n",
       "Coordinates:\n",
       "  * pattern  (pattern) int64 800B 0 1 2 3 4 5 6 7 8 ... 92 93 94 95 96 97 98 99\n",
       "  * tth      (tth) float64 94kB 1.0 1.001 1.002 1.002 ... 9.998 9.998 9.999 10.0"
      ]
     },
     "execution_count": 818,
     "metadata": {},
     "output_type": "execute_result"
    }
   ],
   "source": [
    "f['binary_arr']"
   ]
  },
  {
   "cell_type": "code",
   "execution_count": 53,
   "id": "45202868",
   "metadata": {},
   "outputs": [
    {
     "data": {
      "text/plain": [
       "array([[ 0.21287855,  0.21305305,  0.21322776, ..., 28.31340216,\n",
       "        29.66420737, 31.11280397]], shape=(1, 11763))"
      ]
     },
     "execution_count": 53,
     "metadata": {},
     "output_type": "execute_result"
    }
   ],
   "source": [
    "ds_combined['Intensities'].values"
   ]
  },
  {
   "cell_type": "code",
   "execution_count": null,
   "id": "000d6d33",
   "metadata": {},
   "outputs": [
    {
     "data": {
      "image/png": "[encoded data removed]",
      "text/plain": [
       "<Figure size 1000x500 with 1 Axes>"
      ]
     },
     "metadata": {},
     "output_type": "display_data"
    }
   ],
   "source": [
    "plt.figure(figsize=(10,5))\n",
    "plt.plot(ds_combined['Intensities'].values[0], color='#00B0F0')\n",
    "plt.show()"
   ]
  },
  {
   "cell_type": "markdown",
   "id": "994f3ffa-dd6b-4228-9a38-ca2ffe4ff902",
   "metadata": {},
   "source": [
    "### Training the ML Model"
   ]
  },
  {
   "cell_type": "markdown",
   "id": "8713bc04-4b4f-4c6a-935f-edae994c3d92",
   "metadata": {},
   "source": [
    "Now that we have our simulated data and many variations of it for a single compound, we can use the data to train an ML model for classification. We can start with an MLP (multi-layer perceptron) model, which is an artificial neural network."
   ]
  },
  {
   "cell_type": "code",
   "execution_count": 819,
   "id": "50754ea0-660c-40f7-9b71-7ee94d849a0d",
   "metadata": {},
   "outputs": [],
   "source": [
    "# Import relevant libraries\n",
    "\n",
    "from sklearn.model_selection import train_test_split\n",
    "from sklearn.model_selection import train_test_split\n",
    "from sklearn.preprocessing import MinMaxScaler\n",
    "from sklearn.neural_network import MLPClassifier\n",
    "from sklearn.metrics import accuracy_score, classification_report, confusion_matrix\n",
    "import numpy as np\n",
    "import matplotlib.pyplot as plt"
   ]
  },
  {
   "cell_type": "markdown",
   "id": "6c7320f6-4c30-4dcf-bafd-8004497831fb",
   "metadata": {},
   "source": [
    "Set a random state for reproducibility."
   ]
  },
  {
   "cell_type": "code",
   "execution_count": 820,
   "id": "fa2cdd14-3d44-45df-a441-24c2bcd141b6",
   "metadata": {},
   "outputs": [],
   "source": [
    "random_state = 42"
   ]
  },
  {
   "cell_type": "markdown",
   "id": "d6427dfe-4a4b-4819-aa95-04d0c39f52ee",
   "metadata": {},
   "source": [
    "We can split the data into training and testing datasets. The xdata is the intensity values, whereas the labels are the binary values corresponding to peaks (or lack thereof)."
   ]
  },
  {
   "cell_type": "code",
   "execution_count": 821,
   "id": "a66a3607-4468-4b24-9486-5ac09ac412fc",
   "metadata": {},
   "outputs": [],
   "source": [
    "intensities_train, intensities_test, binary_peaks_train, binary_peaks_test = train_test_split(intensities, np.array(binary_peaks), test_size=0.2, random_state=random_state)"
   ]
  },
  {
   "cell_type": "markdown",
   "id": "29db1b27-d4dc-4eb2-96cf-c1651d5166af",
   "metadata": {},
   "source": [
    "Now we need to scale the intensity data."
   ]
  },
  {
   "cell_type": "code",
   "execution_count": 822,
   "id": "b691f697-e309-4b1d-8ba3-10dffad3ca91",
   "metadata": {},
   "outputs": [],
   "source": [
    "scaler = MinMaxScaler() # create the scaler object \n",
    "\n",
    "intensities_train_sc = scaler.fit_transform(intensities_train) # fit the scaler based on the training data\n",
    "intensities_test_sc = scaler.transform(intensities_test) # transform test data"
   ]
  },
  {
   "cell_type": "markdown",
   "id": "b733d51b-fd31-49ae-827d-7f23d57a0b99",
   "metadata": {},
   "source": [
    "The next steps are initializing and training the MLP classifier."
   ]
  },
  {
   "cell_type": "code",
   "execution_count": 823,
   "id": "fdb38077-d9db-4a35-b45d-7f90c6a3afe7",
   "metadata": {},
   "outputs": [],
   "source": [
    "mlp = MLPClassifier(hidden_layer_sizes=(1000, 500, 200, 100,50), max_iter=1000, random_state=random_state, verbose=True,\n",
    "                   learning_rate_init=0.001,  # Default is 0.001, you can increase or decrease\n",
    "                    tol=1e-5,\n",
    "                   early_stopping=False) # initialize MLPClassifier"
   ]
  },
  {
   "cell_type": "code",
   "execution_count": 824,
   "id": "8feebcde-c755-4035-a489-5dc50d376c2b",
   "metadata": {},
   "outputs": [
    {
     "name": "stdout",
     "output_type": "stream",
     "text": [
      "Iteration 1, loss = 155816.41092672\n",
      "Iteration 2, loss = 137019.97949073\n",
      "Iteration 3, loss = 88118.09257599\n",
      "Iteration 4, loss = 75969.64321525\n",
      "Iteration 5, loss = 54995.26221280\n",
      "Iteration 6, loss = 33339.23489595\n",
      "Iteration 7, loss = 29939.83125739\n",
      "Iteration 8, loss = 18128.21309776\n",
      "Iteration 9, loss = 10718.73911844\n",
      "Iteration 10, loss = 6283.68653193\n",
      "Iteration 11, loss = 3489.84401861\n",
      "Iteration 12, loss = 1976.75392920\n",
      "Iteration 13, loss = 1285.34853471\n",
      "Iteration 14, loss = 1053.67697400\n",
      "Iteration 15, loss = 1003.75593695\n",
      "Iteration 16, loss = 1008.68773267\n",
      "Iteration 17, loss = 1050.30170460\n",
      "Iteration 18, loss = 1156.10652458\n",
      "Iteration 19, loss = 1309.51219034\n",
      "Iteration 20, loss = 1411.85970863\n",
      "Iteration 21, loss = 1374.59569307\n",
      "Iteration 22, loss = 1257.05420816\n",
      "Iteration 23, loss = 1107.49656616\n",
      "Iteration 24, loss = 1006.61268148\n",
      "Iteration 25, loss = 942.28714583\n",
      "Iteration 26, loss = 901.63556977\n",
      "Iteration 27, loss = 866.18528325\n",
      "Iteration 28, loss = 833.27660262\n",
      "Iteration 29, loss = 809.04853453\n",
      "Iteration 30, loss = 804.69554018\n",
      "Iteration 31, loss = 808.93795066\n",
      "Iteration 32, loss = 798.51597570\n",
      "Iteration 33, loss = 750.11285509\n",
      "Iteration 34, loss = 690.21151794\n",
      "Iteration 35, loss = 644.84886702\n",
      "Iteration 36, loss = 613.61363616\n",
      "Iteration 37, loss = 587.46142662\n",
      "Iteration 38, loss = 562.98486506\n",
      "Iteration 39, loss = 541.36870733\n",
      "Iteration 40, loss = 524.11067710\n",
      "Iteration 41, loss = 504.83846901\n",
      "Iteration 42, loss = 479.38320227\n",
      "Iteration 43, loss = 453.07291067\n",
      "Iteration 44, loss = 431.69155174\n",
      "Iteration 45, loss = 412.68893513\n",
      "Iteration 46, loss = 393.23255749\n",
      "Iteration 47, loss = 374.80180704\n",
      "Iteration 48, loss = 359.36145096\n",
      "Iteration 49, loss = 344.66780072\n",
      "Iteration 50, loss = 327.51459279\n",
      "Iteration 51, loss = 313.58841952\n",
      "Iteration 52, loss = 301.92038438\n",
      "Iteration 53, loss = 289.55757852\n",
      "Iteration 54, loss = 278.10999216\n",
      "Iteration 55, loss = 267.91539080\n",
      "Iteration 56, loss = 257.92618969\n",
      "Iteration 57, loss = 248.88745435\n",
      "Iteration 58, loss = 240.47145128\n",
      "Iteration 59, loss = 232.43321554\n",
      "Iteration 60, loss = 225.19271846\n",
      "Iteration 61, loss = 218.12415205\n",
      "Iteration 62, loss = 211.18327463\n",
      "Iteration 63, loss = 205.48812299\n",
      "Iteration 64, loss = 200.48700321\n",
      "Iteration 65, loss = 194.80663002\n",
      "Iteration 66, loss = 189.60430492\n",
      "Iteration 67, loss = 184.86435538\n",
      "Iteration 68, loss = 180.42602144\n",
      "Iteration 69, loss = 176.22959922\n",
      "Iteration 70, loss = 172.11104629\n",
      "Iteration 71, loss = 168.47879879\n",
      "Iteration 72, loss = 165.04691547\n",
      "Iteration 73, loss = 161.56785431\n",
      "Iteration 74, loss = 158.29104547\n",
      "Iteration 75, loss = 155.30985108\n",
      "Iteration 76, loss = 152.48999617\n",
      "Iteration 77, loss = 149.97709250\n",
      "Iteration 78, loss = 147.73674437\n",
      "Iteration 79, loss = 145.41247137\n",
      "Iteration 80, loss = 143.18886826\n",
      "Iteration 81, loss = 141.21904069\n",
      "Iteration 82, loss = 139.18779356\n",
      "Iteration 83, loss = 137.17522629\n",
      "Iteration 84, loss = 135.34044570\n",
      "Iteration 85, loss = 133.57889163\n",
      "Iteration 86, loss = 131.94345163\n",
      "Iteration 87, loss = 130.33668693\n",
      "Iteration 88, loss = 128.71780068\n",
      "Iteration 89, loss = 127.26840403\n",
      "Iteration 90, loss = 125.84097970\n",
      "Iteration 91, loss = 124.39621141\n",
      "Iteration 92, loss = 123.05281683\n",
      "Iteration 93, loss = 121.74867934\n",
      "Iteration 94, loss = 120.45157300\n",
      "Iteration 95, loss = 119.19144676\n",
      "Iteration 96, loss = 117.95866280\n",
      "Iteration 97, loss = 116.74735461\n",
      "Iteration 98, loss = 115.59526942\n",
      "Iteration 99, loss = 114.47092910\n",
      "Iteration 100, loss = 113.34595885\n",
      "Iteration 101, loss = 112.24371583\n",
      "Iteration 102, loss = 111.18039346\n",
      "Iteration 103, loss = 110.14267719\n",
      "Iteration 104, loss = 109.14178022\n",
      "Iteration 105, loss = 108.14320037\n",
      "Iteration 106, loss = 107.18077281\n",
      "Iteration 107, loss = 106.23567119\n",
      "Iteration 108, loss = 105.29935717\n",
      "Iteration 109, loss = 104.38671558\n",
      "Iteration 110, loss = 103.51310200\n",
      "Iteration 111, loss = 102.64292496\n",
      "Iteration 112, loss = 101.77854207\n",
      "Iteration 113, loss = 100.94895601\n",
      "Iteration 114, loss = 100.13910492\n",
      "Iteration 115, loss = 99.32034960\n",
      "Iteration 116, loss = 98.52158056\n",
      "Iteration 117, loss = 97.73969349\n",
      "Iteration 118, loss = 96.97204665\n",
      "Iteration 119, loss = 96.21094410\n",
      "Iteration 120, loss = 95.45073946\n",
      "Iteration 121, loss = 94.72869266\n",
      "Iteration 122, loss = 94.00599201\n",
      "Iteration 123, loss = 93.27617655\n",
      "Iteration 124, loss = 92.59027491\n",
      "Iteration 125, loss = 91.89498390\n",
      "Iteration 126, loss = 91.19267825\n",
      "Iteration 127, loss = 90.51080382\n",
      "Iteration 128, loss = 89.84172532\n",
      "Iteration 129, loss = 89.17313482\n",
      "Iteration 130, loss = 88.51290371\n",
      "Iteration 131, loss = 87.86117636\n",
      "Iteration 132, loss = 87.21588823\n",
      "Iteration 133, loss = 86.57564229\n",
      "Iteration 134, loss = 85.96065622\n",
      "Iteration 135, loss = 85.32676410\n",
      "Iteration 136, loss = 84.71364985\n",
      "Iteration 137, loss = 84.11838356\n",
      "Iteration 138, loss = 83.50634940\n",
      "Iteration 139, loss = 82.90042622\n",
      "Iteration 140, loss = 82.31292721\n",
      "Iteration 141, loss = 81.72832917\n",
      "Iteration 142, loss = 81.13454956\n",
      "Iteration 143, loss = 80.55947226\n",
      "Iteration 144, loss = 79.97099917\n",
      "Iteration 145, loss = 79.39728874\n",
      "Iteration 146, loss = 78.83429150\n",
      "Iteration 147, loss = 78.25718959\n",
      "Iteration 148, loss = 77.69635465\n",
      "Iteration 149, loss = 77.13998013\n",
      "Iteration 150, loss = 76.56323982\n",
      "Iteration 151, loss = 76.01877944\n",
      "Iteration 152, loss = 75.45628238\n",
      "Iteration 153, loss = 74.91670580\n",
      "Iteration 154, loss = 74.37223698\n",
      "Iteration 155, loss = 73.82281906\n",
      "Iteration 156, loss = 73.26474349\n",
      "Iteration 157, loss = 72.72751894\n",
      "Iteration 158, loss = 72.20261709\n",
      "Iteration 159, loss = 71.65286884\n",
      "Iteration 160, loss = 71.11243337\n",
      "Iteration 161, loss = 70.58122739\n",
      "Iteration 162, loss = 70.05783102\n",
      "Iteration 163, loss = 69.52837418\n",
      "Iteration 164, loss = 69.00816588\n",
      "Iteration 165, loss = 68.48117721\n",
      "Iteration 166, loss = 67.97585871\n",
      "Iteration 167, loss = 67.45492426\n",
      "Iteration 168, loss = 66.94190568\n",
      "Iteration 169, loss = 66.43687921\n",
      "Iteration 170, loss = 65.92994781\n",
      "Iteration 171, loss = 65.43116454\n",
      "Iteration 172, loss = 64.92445856\n",
      "Iteration 173, loss = 64.44060276\n",
      "Iteration 174, loss = 63.94687414\n",
      "Iteration 175, loss = 63.45941420\n",
      "Iteration 176, loss = 62.97508078\n",
      "Iteration 177, loss = 62.50658937\n",
      "Iteration 178, loss = 62.02555627\n",
      "Iteration 179, loss = 61.55661684\n",
      "Iteration 180, loss = 61.07179594\n",
      "Iteration 181, loss = 60.60791610\n",
      "Iteration 182, loss = 60.14269666\n",
      "Iteration 183, loss = 59.67239823\n",
      "Iteration 184, loss = 59.21043231\n",
      "Iteration 185, loss = 58.75880139\n",
      "Iteration 186, loss = 58.30733632\n",
      "Iteration 187, loss = 57.86453906\n",
      "Iteration 188, loss = 57.42616412\n",
      "Iteration 189, loss = 56.99609082\n",
      "Iteration 190, loss = 56.54885444\n",
      "Iteration 191, loss = 56.11324688\n",
      "Iteration 192, loss = 55.68415230\n",
      "Iteration 193, loss = 55.25650902\n",
      "Iteration 194, loss = 54.82277077\n",
      "Iteration 195, loss = 54.39610523\n",
      "Iteration 196, loss = 53.97780198\n",
      "Iteration 197, loss = 53.56069566\n",
      "Iteration 198, loss = 53.14955080\n",
      "Iteration 199, loss = 52.73578804\n",
      "Iteration 200, loss = 52.32376791\n",
      "Iteration 201, loss = 51.92100538\n",
      "Iteration 202, loss = 51.51998141\n",
      "Iteration 203, loss = 51.11857160\n",
      "Iteration 204, loss = 50.72297404\n",
      "Iteration 205, loss = 50.33007935\n",
      "Iteration 206, loss = 49.93762172\n",
      "Iteration 207, loss = 49.55055636\n",
      "Iteration 208, loss = 49.16663721\n",
      "Iteration 209, loss = 48.77545836\n",
      "Iteration 210, loss = 48.39991427\n",
      "Iteration 211, loss = 48.01569357\n",
      "Iteration 212, loss = 47.64037853\n",
      "Iteration 213, loss = 47.26806703\n",
      "Iteration 214, loss = 46.87477138\n",
      "Iteration 215, loss = 46.50026109\n",
      "Iteration 216, loss = 46.11785304\n",
      "Iteration 217, loss = 45.75161864\n",
      "Iteration 218, loss = 45.37864775\n",
      "Iteration 219, loss = 45.00613291\n",
      "Iteration 220, loss = 44.64452656\n",
      "Iteration 221, loss = 44.28175513\n",
      "Iteration 222, loss = 45.52084815\n",
      "Iteration 223, loss = 44.46944629\n",
      "Iteration 224, loss = 43.49264042\n",
      "Iteration 225, loss = 43.47681426\n",
      "Iteration 226, loss = 42.86953435\n",
      "Iteration 227, loss = 42.51669502\n",
      "Iteration 228, loss = 42.08416458\n",
      "Iteration 229, loss = 41.79883099\n",
      "Iteration 230, loss = 41.30111770\n",
      "Iteration 231, loss = 41.01335583\n",
      "Iteration 232, loss = 40.60430549\n",
      "Iteration 233, loss = 40.30021512\n",
      "Iteration 234, loss = 39.86382226\n",
      "Iteration 235, loss = 39.62246329\n",
      "Iteration 236, loss = 39.17785409\n",
      "Iteration 237, loss = 38.91025625\n",
      "Iteration 238, loss = 38.52276331\n",
      "Iteration 239, loss = 38.20467487\n",
      "Iteration 240, loss = 37.86798475\n",
      "Iteration 241, loss = 37.55476001\n",
      "Iteration 242, loss = 37.20510458\n",
      "Iteration 243, loss = 36.89990074\n",
      "Iteration 244, loss = 36.59213328\n",
      "Iteration 245, loss = 36.24544914\n",
      "Iteration 246, loss = 35.95842686\n",
      "Iteration 247, loss = 35.63975239\n",
      "Iteration 248, loss = 35.33317875\n",
      "Iteration 249, loss = 35.01992179\n",
      "Iteration 250, loss = 34.72404693\n",
      "Iteration 251, loss = 34.40637395\n",
      "Iteration 252, loss = 34.11355221\n",
      "Iteration 253, loss = 33.81469474\n",
      "Iteration 254, loss = 33.51460799\n",
      "Iteration 255, loss = 33.22174864\n",
      "Iteration 256, loss = 32.93532239\n",
      "Iteration 257, loss = 32.64310044\n",
      "Iteration 258, loss = 32.35461083\n",
      "Iteration 259, loss = 32.07187681\n",
      "Iteration 260, loss = 31.78847641\n",
      "Iteration 261, loss = 31.50877586\n",
      "Iteration 262, loss = 31.22421488\n",
      "Iteration 263, loss = 30.94231902\n",
      "Iteration 264, loss = 30.66822622\n",
      "Iteration 265, loss = 30.39531834\n",
      "Iteration 266, loss = 30.12322846\n",
      "Iteration 267, loss = 29.85576394\n",
      "Iteration 268, loss = 29.58687051\n",
      "Iteration 269, loss = 29.32134990\n",
      "Iteration 270, loss = 29.05982505\n",
      "Iteration 271, loss = 28.79604201\n",
      "Iteration 272, loss = 28.54696565\n",
      "Iteration 273, loss = 28.28751187\n",
      "Iteration 274, loss = 28.03373604\n",
      "Iteration 275, loss = 27.77853444\n",
      "Iteration 276, loss = 27.52499293\n",
      "Iteration 277, loss = 27.27850969\n",
      "Iteration 278, loss = 27.03915239\n",
      "Iteration 279, loss = 26.78866269\n",
      "Iteration 280, loss = 26.54983617\n",
      "Iteration 281, loss = 26.31304441\n",
      "Iteration 282, loss = 26.07664574\n",
      "Iteration 283, loss = 25.85364317\n",
      "Iteration 284, loss = 25.62098943\n",
      "Iteration 285, loss = 25.38603233\n",
      "Iteration 286, loss = 25.17116331\n",
      "Iteration 287, loss = 24.96476351\n",
      "Iteration 288, loss = 24.72155818\n",
      "Iteration 289, loss = 24.52557149\n",
      "Iteration 290, loss = 24.29170332\n",
      "Iteration 291, loss = 24.07017889\n",
      "Iteration 292, loss = 23.86516210\n",
      "Iteration 293, loss = 23.63311934\n",
      "Iteration 294, loss = 23.42907430\n",
      "Iteration 295, loss = 23.21823903\n",
      "Iteration 296, loss = 23.00559527\n",
      "Iteration 297, loss = 22.79845868\n",
      "Iteration 298, loss = 22.59718367\n",
      "Iteration 299, loss = 22.38782748\n",
      "Iteration 300, loss = 22.19270588\n",
      "Iteration 301, loss = 21.99205439\n",
      "Iteration 302, loss = 21.79983794\n",
      "Iteration 303, loss = 21.59280567\n",
      "Iteration 304, loss = 21.39889904\n",
      "Iteration 305, loss = 21.21040318\n",
      "Iteration 306, loss = 21.02253671\n",
      "Iteration 307, loss = 20.82557291\n",
      "Iteration 308, loss = 20.64286629\n",
      "Iteration 309, loss = 20.46740579\n",
      "Iteration 310, loss = 20.26752089\n",
      "Iteration 311, loss = 20.10422407\n",
      "Iteration 312, loss = 19.92096656\n",
      "Iteration 313, loss = 19.72934468\n",
      "Iteration 314, loss = 19.56846958\n",
      "Iteration 315, loss = 19.37642667\n",
      "Iteration 316, loss = 19.20098898\n",
      "Iteration 317, loss = 19.03935451\n",
      "Iteration 318, loss = 18.85838945\n",
      "Iteration 319, loss = 18.69133891\n",
      "Iteration 320, loss = 18.52271047\n",
      "Iteration 321, loss = 18.35051572\n",
      "Iteration 322, loss = 18.18771028\n",
      "Iteration 323, loss = 18.01935962\n",
      "Iteration 324, loss = 17.86007656\n",
      "Iteration 325, loss = 17.69606402\n",
      "Iteration 326, loss = 17.52841891\n",
      "Iteration 327, loss = 17.37023948\n",
      "Iteration 328, loss = 17.21556082\n",
      "Iteration 329, loss = 17.06125228\n",
      "Iteration 330, loss = 16.90173090\n",
      "Iteration 331, loss = 16.74800889\n",
      "Iteration 332, loss = 16.59623815\n",
      "Iteration 333, loss = 16.44905707\n",
      "Iteration 334, loss = 16.29303500\n",
      "Iteration 335, loss = 16.15351172\n",
      "Iteration 336, loss = 16.01424034\n",
      "Iteration 337, loss = 15.86253852\n",
      "Iteration 338, loss = 15.73088313\n",
      "Iteration 339, loss = 15.57868743\n",
      "Iteration 340, loss = 15.43937331\n",
      "Iteration 341, loss = 15.29831300\n",
      "Iteration 342, loss = 15.15690498\n",
      "Iteration 343, loss = 15.01556811\n",
      "Iteration 344, loss = 14.88465280\n",
      "Iteration 345, loss = 14.74451441\n",
      "Iteration 346, loss = 14.60467671\n",
      "Iteration 347, loss = 14.46949543\n",
      "Iteration 348, loss = 14.34654379\n",
      "Iteration 349, loss = 14.21220535\n",
      "Iteration 350, loss = 14.07736630\n",
      "Iteration 351, loss = 13.95255926\n",
      "Iteration 352, loss = 13.82038620\n",
      "Iteration 353, loss = 13.69645987\n",
      "Iteration 354, loss = 13.57223379\n",
      "Iteration 355, loss = 13.44174363\n",
      "Iteration 356, loss = 13.32211364\n",
      "Iteration 357, loss = 13.19976285\n",
      "Iteration 358, loss = 13.07726565\n",
      "Iteration 359, loss = 12.95880647\n",
      "Iteration 360, loss = 12.84052690\n",
      "Iteration 361, loss = 12.72072478\n",
      "Iteration 362, loss = 12.60796848\n",
      "Iteration 363, loss = 12.49900239\n",
      "Iteration 364, loss = 12.38157275\n",
      "Iteration 365, loss = 12.26205792\n",
      "Iteration 366, loss = 12.15185296\n",
      "Iteration 367, loss = 12.03892464\n",
      "Iteration 368, loss = 11.92648725\n",
      "Iteration 369, loss = 11.81589760\n",
      "Iteration 370, loss = 11.70237358\n",
      "Iteration 371, loss = 11.59550707\n",
      "Iteration 372, loss = 11.48623907\n",
      "Iteration 373, loss = 11.37832123\n",
      "Iteration 374, loss = 11.26878616\n",
      "Iteration 375, loss = 11.16475790\n",
      "Iteration 376, loss = 11.06048543\n",
      "Iteration 377, loss = 10.95447341\n",
      "Iteration 378, loss = 10.85398563\n",
      "Iteration 379, loss = 10.75026355\n",
      "Iteration 380, loss = 10.65083462\n",
      "Iteration 381, loss = 10.55140363\n",
      "Iteration 382, loss = 10.44919002\n",
      "Iteration 383, loss = 10.35990221\n",
      "Iteration 384, loss = 10.26090519\n",
      "Iteration 385, loss = 10.16433909\n",
      "Iteration 386, loss = 10.06738604\n",
      "Iteration 387, loss = 9.97978958\n",
      "Iteration 388, loss = 9.88031112\n",
      "Iteration 389, loss = 9.78590550\n",
      "Iteration 390, loss = 9.69364784\n",
      "Iteration 391, loss = 9.60590147\n",
      "Iteration 392, loss = 9.51235975\n",
      "Iteration 393, loss = 9.42418246\n",
      "Iteration 394, loss = 9.33363832\n",
      "Iteration 395, loss = 9.25083981\n",
      "Iteration 396, loss = 9.15709028\n",
      "Iteration 397, loss = 9.07453291\n",
      "Iteration 398, loss = 8.98807914\n",
      "Iteration 399, loss = 8.90336433\n",
      "Iteration 400, loss = 8.82084027\n",
      "Iteration 401, loss = 8.73837177\n",
      "Iteration 402, loss = 8.65622307\n",
      "Iteration 403, loss = 8.57675224\n",
      "Iteration 404, loss = 8.49589101\n",
      "Iteration 405, loss = 8.41926999\n",
      "Iteration 406, loss = 8.33884201\n",
      "Iteration 407, loss = 8.26090117\n",
      "Iteration 408, loss = 8.18844632\n",
      "Iteration 409, loss = 8.10899543\n",
      "Iteration 410, loss = 8.03408149\n",
      "Iteration 411, loss = 7.95944767\n",
      "Iteration 412, loss = 7.88543886\n",
      "Iteration 413, loss = 7.81500951\n",
      "Iteration 414, loss = 7.74339006\n",
      "Iteration 415, loss = 7.67180214\n",
      "Iteration 416, loss = 7.60184751\n",
      "Iteration 417, loss = 7.53191750\n",
      "Iteration 418, loss = 7.46370257\n",
      "Iteration 419, loss = 7.39553786\n",
      "Iteration 420, loss = 7.32769276\n",
      "Iteration 421, loss = 7.26245892\n",
      "Iteration 422, loss = 7.19565815\n",
      "Iteration 423, loss = 7.12979687\n",
      "Iteration 424, loss = 7.06604155\n",
      "Iteration 425, loss = 7.00131102\n",
      "Iteration 426, loss = 6.93832668\n",
      "Iteration 427, loss = 6.87651233\n",
      "Iteration 428, loss = 6.81375425\n",
      "Iteration 429, loss = 6.75284574\n",
      "Iteration 430, loss = 6.69142153\n",
      "Iteration 431, loss = 6.63196300\n",
      "Iteration 432, loss = 6.57320787\n",
      "Iteration 433, loss = 6.51261460\n",
      "Iteration 434, loss = 6.45574328\n",
      "Iteration 435, loss = 6.39863227\n",
      "Iteration 436, loss = 6.34281612\n",
      "Iteration 437, loss = 6.28433149\n",
      "Iteration 438, loss = 6.22762726\n",
      "Iteration 439, loss = 6.17292876\n",
      "Iteration 440, loss = 6.11678736\n",
      "Iteration 441, loss = 6.06357422\n",
      "Iteration 442, loss = 6.00733101\n",
      "Iteration 443, loss = 5.95485438\n",
      "Iteration 444, loss = 5.89962573\n",
      "Iteration 445, loss = 5.84778866\n",
      "Iteration 446, loss = 5.79486119\n",
      "Iteration 447, loss = 5.74425356\n",
      "Iteration 448, loss = 5.69189762\n",
      "Iteration 449, loss = 5.64293708\n",
      "Iteration 450, loss = 5.58959119\n",
      "Iteration 451, loss = 5.54098775\n",
      "Iteration 452, loss = 5.48909144\n",
      "Iteration 453, loss = 5.44178096\n",
      "Iteration 454, loss = 5.39099889\n",
      "Iteration 455, loss = 5.34499599\n",
      "Iteration 456, loss = 5.29567131\n",
      "Iteration 457, loss = 5.25172748\n",
      "Iteration 458, loss = 5.20347233\n",
      "Iteration 459, loss = 5.15953930\n",
      "Iteration 460, loss = 5.11563984\n",
      "Iteration 461, loss = 5.07225111\n",
      "Iteration 462, loss = 5.02973169\n",
      "Iteration 463, loss = 4.98557733\n",
      "Iteration 464, loss = 4.94406691\n",
      "Iteration 465, loss = 4.90136452\n",
      "Iteration 466, loss = 4.86005287\n",
      "Iteration 467, loss = 4.81853622\n",
      "Iteration 468, loss = 4.77765784\n",
      "Iteration 469, loss = 4.73746454\n",
      "Iteration 470, loss = 4.69769872\n",
      "Iteration 471, loss = 4.65838473\n",
      "Iteration 472, loss = 4.61908440\n",
      "Iteration 473, loss = 4.58102225\n",
      "Iteration 474, loss = 4.54246902\n",
      "Iteration 475, loss = 4.50431042\n",
      "Iteration 476, loss = 4.46676142\n",
      "Iteration 477, loss = 4.42962140\n",
      "Iteration 478, loss = 4.39411257\n",
      "Iteration 479, loss = 4.35706215\n",
      "Iteration 480, loss = 4.32205495\n",
      "Iteration 481, loss = 4.28536799\n",
      "Iteration 482, loss = 4.25055848\n",
      "Iteration 483, loss = 4.21549512\n",
      "Iteration 484, loss = 4.18061711\n",
      "Iteration 485, loss = 4.15474662\n",
      "Iteration 486, loss = 4.12114887\n",
      "Iteration 487, loss = 4.08751761\n",
      "Iteration 488, loss = 4.05420397\n",
      "Iteration 489, loss = 4.01823164\n",
      "Iteration 490, loss = 3.98726079\n",
      "Iteration 491, loss = 3.95323660\n",
      "Iteration 492, loss = 3.92304485\n",
      "Iteration 493, loss = 3.88858552\n",
      "Iteration 494, loss = 3.85747340\n",
      "Iteration 495, loss = 3.82565729\n",
      "Iteration 496, loss = 3.79348145\n",
      "Iteration 497, loss = 3.76345608\n",
      "Iteration 498, loss = 3.73229794\n",
      "Iteration 499, loss = 3.70177957\n",
      "Iteration 500, loss = 3.67268579\n",
      "Iteration 501, loss = 3.64320293\n",
      "Iteration 502, loss = 3.61355293\n",
      "Iteration 503, loss = 3.58425538\n",
      "Iteration 504, loss = 3.55572860\n",
      "Iteration 505, loss = 3.52721049\n",
      "Iteration 506, loss = 3.49835825\n",
      "Iteration 507, loss = 3.47068384\n",
      "Iteration 508, loss = 3.44292132\n",
      "Iteration 509, loss = 3.41556292\n",
      "Iteration 510, loss = 3.38774691\n",
      "Iteration 511, loss = 3.36164061\n",
      "Iteration 512, loss = 3.33349194\n",
      "Iteration 513, loss = 3.30737334\n",
      "Iteration 514, loss = 3.28057159\n",
      "Iteration 515, loss = 3.25527238\n",
      "Iteration 516, loss = 3.22827629\n",
      "Iteration 517, loss = 3.20263159\n",
      "Iteration 518, loss = 3.17702237\n",
      "Iteration 519, loss = 3.15142493\n",
      "Iteration 520, loss = 3.12615967\n",
      "Iteration 521, loss = 3.10125261\n",
      "Iteration 522, loss = 3.07757129\n",
      "Iteration 523, loss = 3.05307428\n",
      "Iteration 524, loss = 3.02799219\n",
      "Iteration 525, loss = 3.00510243\n",
      "Iteration 526, loss = 2.98050359\n",
      "Iteration 527, loss = 2.95704878\n",
      "Iteration 528, loss = 2.93349596\n",
      "Iteration 529, loss = 2.90998902\n",
      "Iteration 530, loss = 2.88684161\n",
      "Iteration 531, loss = 2.86440956\n",
      "Iteration 532, loss = 2.84157541\n",
      "Iteration 533, loss = 2.81882051\n",
      "Iteration 534, loss = 2.79645829\n",
      "Iteration 535, loss = 2.77389558\n",
      "Iteration 536, loss = 2.75207589\n",
      "Iteration 537, loss = 2.73047302\n",
      "Iteration 538, loss = 2.70889764\n",
      "Iteration 539, loss = 2.68774069\n",
      "Iteration 540, loss = 2.66630315\n",
      "Iteration 541, loss = 2.64547299\n",
      "Iteration 542, loss = 2.62525052\n",
      "Iteration 543, loss = 2.60441225\n",
      "Iteration 544, loss = 2.58392062\n",
      "Iteration 545, loss = 2.56374318\n",
      "Iteration 546, loss = 2.54383494\n",
      "Iteration 547, loss = 2.52386878\n",
      "Iteration 548, loss = 2.50416681\n",
      "Iteration 549, loss = 2.48442706\n",
      "Iteration 550, loss = 2.46628634\n",
      "Iteration 551, loss = 2.44689097\n",
      "Iteration 552, loss = 2.42851923\n",
      "Iteration 553, loss = 2.40921526\n",
      "Iteration 554, loss = 2.39140078\n",
      "Iteration 555, loss = 2.37241402\n",
      "Iteration 556, loss = 2.35419287\n",
      "Iteration 557, loss = 2.33667700\n",
      "Iteration 558, loss = 2.31872477\n",
      "Iteration 559, loss = 2.30060684\n",
      "Iteration 560, loss = 2.28309526\n",
      "Iteration 561, loss = 2.26575813\n",
      "Iteration 562, loss = 2.24834899\n",
      "Iteration 563, loss = 2.23124231\n",
      "Iteration 564, loss = 2.21395391\n",
      "Iteration 565, loss = 2.19760233\n",
      "Iteration 566, loss = 2.18069851\n",
      "Iteration 567, loss = 2.16444533\n",
      "Iteration 568, loss = 2.14800555\n",
      "Iteration 569, loss = 2.13187581\n",
      "Iteration 570, loss = 2.11581481\n",
      "Iteration 571, loss = 2.09979871\n",
      "Iteration 572, loss = 2.08397475\n",
      "Iteration 573, loss = 2.06882689\n",
      "Iteration 574, loss = 2.05372819\n",
      "Iteration 575, loss = 2.03881086\n",
      "Iteration 576, loss = 2.02288754\n",
      "Iteration 577, loss = 2.00887587\n",
      "Iteration 578, loss = 1.99335586\n",
      "Iteration 579, loss = 1.97925635\n",
      "Iteration 580, loss = 1.96470575\n",
      "Iteration 581, loss = 1.94992099\n",
      "Iteration 582, loss = 1.93633258\n",
      "Iteration 583, loss = 1.92194500\n",
      "Iteration 584, loss = 1.90769476\n",
      "Iteration 585, loss = 1.89414145\n",
      "Iteration 586, loss = 1.88016649\n",
      "Iteration 587, loss = 1.86637881\n",
      "Iteration 588, loss = 1.85297867\n",
      "Iteration 589, loss = 1.83984894\n",
      "Iteration 590, loss = 1.82650766\n",
      "Iteration 591, loss = 1.81343575\n",
      "Iteration 592, loss = 1.80073027\n",
      "Iteration 593, loss = 1.78782124\n",
      "Iteration 594, loss = 1.77508344\n",
      "Iteration 595, loss = 1.76262489\n",
      "Iteration 596, loss = 1.74990198\n",
      "Iteration 597, loss = 1.73745048\n",
      "Iteration 598, loss = 1.72526028\n",
      "Iteration 599, loss = 1.71329634\n",
      "Iteration 600, loss = 1.70117864\n",
      "Iteration 601, loss = 1.68916779\n",
      "Iteration 602, loss = 1.67749838\n",
      "Iteration 603, loss = 1.66576706\n",
      "Iteration 604, loss = 1.65392212\n",
      "Iteration 605, loss = 1.64230542\n",
      "Iteration 606, loss = 1.63148971\n",
      "Iteration 607, loss = 1.61984665\n",
      "Iteration 608, loss = 1.60842995\n",
      "Iteration 609, loss = 1.59725823\n",
      "Iteration 610, loss = 1.58617721\n",
      "Iteration 611, loss = 1.57528771\n",
      "Iteration 612, loss = 1.56431361\n",
      "Iteration 613, loss = 1.55397911\n",
      "Iteration 614, loss = 1.54301733\n",
      "Iteration 615, loss = 1.53238692\n",
      "Iteration 616, loss = 1.52225239\n",
      "Iteration 617, loss = 1.51187415\n",
      "Iteration 618, loss = 1.50163645\n",
      "Iteration 619, loss = 1.49128526\n",
      "Iteration 620, loss = 1.48193664\n",
      "Iteration 621, loss = 1.47087137\n",
      "Iteration 622, loss = 1.46119353\n",
      "Iteration 623, loss = 1.45120175\n",
      "Iteration 624, loss = 1.44139432\n",
      "Iteration 625, loss = 1.43163051\n",
      "Iteration 626, loss = 1.42221282\n",
      "Iteration 627, loss = 1.41270130\n",
      "Iteration 628, loss = 1.40290781\n",
      "Iteration 629, loss = 1.39371619\n",
      "Iteration 630, loss = 1.38412859\n",
      "Iteration 631, loss = 1.37476923\n",
      "Iteration 632, loss = 1.36559930\n",
      "Iteration 633, loss = 1.35669277\n",
      "Iteration 634, loss = 1.34738386\n",
      "Iteration 635, loss = 1.33843190\n",
      "Iteration 636, loss = 1.32961082\n",
      "Iteration 637, loss = 1.32086566\n",
      "Iteration 638, loss = 1.31213210\n",
      "Iteration 639, loss = 1.30332963\n",
      "Iteration 640, loss = 1.29469272\n",
      "Iteration 641, loss = 1.28617452\n",
      "Iteration 642, loss = 1.27760928\n",
      "Iteration 643, loss = 1.26923266\n",
      "Iteration 644, loss = 1.26073989\n",
      "Iteration 645, loss = 1.25269289\n",
      "Iteration 646, loss = 1.24447617\n",
      "Iteration 647, loss = 1.23629886\n",
      "Iteration 648, loss = 1.22855989\n",
      "Iteration 649, loss = 1.22049273\n",
      "Iteration 650, loss = 1.21271615\n",
      "Iteration 651, loss = 1.20488589\n",
      "Iteration 652, loss = 1.19726981\n",
      "Iteration 653, loss = 1.18968018\n",
      "Iteration 654, loss = 1.18205018\n",
      "Iteration 655, loss = 1.17470993\n",
      "Iteration 656, loss = 1.16742481\n",
      "Iteration 657, loss = 1.16004530\n",
      "Iteration 658, loss = 1.15287907\n",
      "Iteration 659, loss = 1.14605811\n",
      "Iteration 660, loss = 1.13866402\n",
      "Iteration 661, loss = 1.13169665\n",
      "Iteration 662, loss = 1.12480262\n",
      "Iteration 663, loss = 1.11781541\n",
      "Iteration 664, loss = 1.11104099\n",
      "Iteration 665, loss = 1.10423783\n",
      "Iteration 666, loss = 1.09751738\n",
      "Iteration 667, loss = 1.09130528\n",
      "Iteration 668, loss = 1.08446288\n",
      "Iteration 669, loss = 1.07805435\n",
      "Iteration 670, loss = 1.07165187\n",
      "Iteration 671, loss = 1.06536404\n",
      "Iteration 672, loss = 1.05919491\n",
      "Iteration 673, loss = 1.05308859\n",
      "Iteration 674, loss = 1.04690101\n",
      "Iteration 675, loss = 1.04076204\n",
      "Iteration 676, loss = 1.03486499\n",
      "Iteration 677, loss = 1.02904765\n",
      "Iteration 678, loss = 1.02320127\n",
      "Iteration 679, loss = 1.01727535\n",
      "Iteration 680, loss = 1.01160938\n",
      "Iteration 681, loss = 1.00588529\n",
      "Iteration 682, loss = 1.00038582\n",
      "Iteration 683, loss = 0.99485574\n",
      "Iteration 684, loss = 0.98914943\n",
      "Iteration 685, loss = 0.98376805\n",
      "Iteration 686, loss = 0.97823884\n",
      "Iteration 687, loss = 0.97308291\n",
      "Iteration 688, loss = 0.96785067\n",
      "Iteration 689, loss = 0.96233457\n",
      "Iteration 690, loss = 0.95776895\n",
      "Iteration 691, loss = 0.95201500\n",
      "Iteration 692, loss = 0.94710578\n",
      "Iteration 693, loss = 0.94205796\n",
      "Iteration 694, loss = 0.93697233\n",
      "Iteration 695, loss = 0.93213987\n",
      "Iteration 696, loss = 0.92709660\n",
      "Iteration 697, loss = 0.92237946\n",
      "Iteration 698, loss = 0.91749703\n",
      "Iteration 699, loss = 0.91260079\n",
      "Iteration 700, loss = 0.90809206\n",
      "Iteration 701, loss = 0.90315436\n",
      "Iteration 702, loss = 0.89868707\n",
      "Iteration 703, loss = 0.89395850\n",
      "Iteration 704, loss = 0.88930904\n",
      "Iteration 705, loss = 0.88494947\n",
      "Iteration 706, loss = 0.88062146\n",
      "Iteration 707, loss = 0.87654351\n",
      "Iteration 708, loss = 0.87187790\n",
      "Iteration 709, loss = 0.86725899\n",
      "Iteration 710, loss = 0.86357187\n",
      "Iteration 711, loss = 0.85848707\n",
      "Iteration 712, loss = 0.85444619\n",
      "Iteration 713, loss = 0.85027413\n",
      "Iteration 714, loss = 0.84589604\n",
      "Iteration 715, loss = 0.84166715\n",
      "Iteration 716, loss = 0.83779597\n",
      "Iteration 717, loss = 0.83329385\n",
      "Iteration 718, loss = 0.82925353\n",
      "Iteration 719, loss = 0.82530470\n",
      "Iteration 720, loss = 0.82130029\n",
      "Iteration 721, loss = 0.81716810\n",
      "Iteration 722, loss = 0.81319270\n",
      "Iteration 723, loss = 0.80934632\n",
      "Iteration 724, loss = 0.80549030\n",
      "Iteration 725, loss = 0.80160659\n",
      "Iteration 726, loss = 0.79768093\n",
      "Iteration 727, loss = 0.79386151\n",
      "Iteration 728, loss = 0.79006018\n",
      "Iteration 729, loss = 0.78634456\n",
      "Iteration 730, loss = 0.78252177\n",
      "Iteration 731, loss = 0.77880926\n",
      "Iteration 732, loss = 0.77513910\n",
      "Iteration 733, loss = 0.77151680\n",
      "Iteration 734, loss = 0.76779359\n",
      "Iteration 735, loss = 0.76423667\n",
      "Iteration 736, loss = 0.76065048\n",
      "Iteration 737, loss = 0.75711990\n",
      "Iteration 738, loss = 0.75359273\n",
      "Iteration 739, loss = 0.75014834\n",
      "Iteration 740, loss = 0.74664705\n",
      "Iteration 741, loss = 0.74323043\n",
      "Iteration 742, loss = 0.73985476\n",
      "Iteration 743, loss = 0.73646417\n",
      "Iteration 744, loss = 0.73304205\n",
      "Iteration 745, loss = 0.72966615\n",
      "Iteration 746, loss = 0.72644049\n",
      "Iteration 747, loss = 0.72314507\n",
      "Iteration 748, loss = 0.71984609\n",
      "Iteration 749, loss = 0.71662379\n",
      "Iteration 750, loss = 0.71335635\n",
      "Iteration 751, loss = 0.71021996\n",
      "Iteration 752, loss = 0.70707371\n",
      "Iteration 753, loss = 0.70384555\n",
      "Iteration 754, loss = 0.70076898\n",
      "Iteration 755, loss = 0.69756075\n",
      "Iteration 756, loss = 0.69450646\n",
      "Iteration 757, loss = 0.69140979\n",
      "Iteration 758, loss = 0.68842883\n",
      "Iteration 759, loss = 0.68541658\n",
      "Iteration 760, loss = 0.68234371\n",
      "Iteration 761, loss = 0.67941414\n",
      "Iteration 762, loss = 0.67637168\n",
      "Iteration 763, loss = 0.67340350\n",
      "Iteration 764, loss = 0.67051714\n",
      "Iteration 765, loss = 0.66762752\n",
      "Iteration 766, loss = 0.66474675\n",
      "Iteration 767, loss = 0.66183309\n",
      "Iteration 768, loss = 0.65917064\n",
      "Iteration 769, loss = 0.65619761\n",
      "Iteration 770, loss = 0.65347735\n",
      "Iteration 771, loss = 0.65063710\n",
      "Iteration 772, loss = 0.64787134\n",
      "Iteration 773, loss = 0.64504447\n",
      "Iteration 774, loss = 0.64231381\n",
      "Iteration 775, loss = 0.63958734\n",
      "Iteration 776, loss = 0.63687403\n",
      "Iteration 777, loss = 0.63417933\n",
      "Iteration 778, loss = 0.63150624\n",
      "Iteration 779, loss = 0.62886851\n",
      "Iteration 780, loss = 0.62621410\n",
      "Iteration 781, loss = 0.62364226\n",
      "Iteration 782, loss = 0.62097957\n",
      "Iteration 783, loss = 0.61841813\n",
      "Iteration 784, loss = 0.61584940\n",
      "Iteration 785, loss = 0.61339151\n",
      "Iteration 786, loss = 0.61077333\n",
      "Iteration 787, loss = 0.60835850\n",
      "Iteration 788, loss = 0.60581692\n",
      "Iteration 789, loss = 0.60328938\n",
      "Iteration 790, loss = 0.60082260\n",
      "Iteration 791, loss = 0.59834688\n",
      "Iteration 792, loss = 0.59588577\n",
      "Iteration 793, loss = 0.59346130\n",
      "Iteration 794, loss = 0.59105886\n",
      "Iteration 795, loss = 0.58859400\n",
      "Iteration 796, loss = 0.58627182\n",
      "Iteration 797, loss = 0.58384824\n",
      "Iteration 798, loss = 0.58152177\n",
      "Iteration 799, loss = 0.57916147\n",
      "Iteration 800, loss = 0.57681823\n",
      "Iteration 801, loss = 0.57453735\n",
      "Iteration 802, loss = 0.57223739\n",
      "Iteration 803, loss = 0.56993349\n",
      "Iteration 804, loss = 0.56769615\n",
      "Iteration 805, loss = 0.56542597\n",
      "Iteration 806, loss = 0.56319645\n",
      "Iteration 807, loss = 0.56092447\n",
      "Iteration 808, loss = 0.55880751\n",
      "Iteration 809, loss = 0.55653665\n",
      "Iteration 810, loss = 0.55434194\n",
      "Iteration 811, loss = 0.55218044\n",
      "Iteration 812, loss = 0.55000594\n",
      "Iteration 813, loss = 0.54789562\n",
      "Iteration 814, loss = 0.54570476\n",
      "Iteration 815, loss = 0.54359522\n",
      "Iteration 816, loss = 0.54147708\n",
      "Iteration 817, loss = 0.53936313\n",
      "Iteration 818, loss = 0.53731350\n",
      "Iteration 819, loss = 0.53522084\n",
      "Iteration 820, loss = 0.53316094\n",
      "Iteration 821, loss = 0.53110915\n",
      "Iteration 822, loss = 0.52906332\n",
      "Iteration 823, loss = 0.52703444\n",
      "Iteration 824, loss = 0.52503455\n",
      "Iteration 825, loss = 0.52308509\n",
      "Iteration 826, loss = 0.52111683\n",
      "Iteration 827, loss = 0.51917016\n",
      "Iteration 828, loss = 0.51715150\n",
      "Iteration 829, loss = 0.51523012\n",
      "Iteration 830, loss = 0.51326910\n",
      "Iteration 831, loss = 0.51137125\n",
      "Iteration 832, loss = 0.50947151\n",
      "Iteration 833, loss = 0.50756806\n",
      "Iteration 834, loss = 0.50565793\n",
      "Iteration 835, loss = 0.50375954\n",
      "Iteration 836, loss = 0.50187512\n",
      "Iteration 837, loss = 0.49997683\n",
      "Iteration 838, loss = 0.49818385\n",
      "Iteration 839, loss = 0.49631984\n",
      "Iteration 840, loss = 0.49449769\n",
      "Iteration 841, loss = 0.49268203\n",
      "Iteration 842, loss = 0.49087731\n",
      "Iteration 843, loss = 0.48907438\n",
      "Iteration 844, loss = 0.48725199\n",
      "Iteration 845, loss = 0.48552588\n",
      "Iteration 846, loss = 0.48380032\n",
      "Iteration 847, loss = 0.48198542\n",
      "Iteration 848, loss = 0.48024020\n",
      "Iteration 849, loss = 0.47847261\n",
      "Iteration 850, loss = 0.47675965\n",
      "Iteration 851, loss = 0.47501962\n",
      "Iteration 852, loss = 0.47335991\n",
      "Iteration 853, loss = 0.47160283\n",
      "Iteration 854, loss = 0.46992592\n",
      "Iteration 855, loss = 0.46820700\n",
      "Iteration 856, loss = 0.46659842\n",
      "Iteration 857, loss = 0.46486171\n",
      "Iteration 858, loss = 0.46327483\n",
      "Iteration 859, loss = 0.46162967\n",
      "Iteration 860, loss = 0.45995292\n",
      "Iteration 861, loss = 0.45833247\n",
      "Iteration 862, loss = 0.45675011\n",
      "Iteration 863, loss = 0.45518127\n",
      "Iteration 864, loss = 0.45353198\n",
      "Iteration 865, loss = 0.45195616\n",
      "Iteration 866, loss = 0.45035228\n",
      "Iteration 867, loss = 0.44876329\n",
      "Iteration 868, loss = 0.44719546\n",
      "Iteration 869, loss = 0.44565708\n",
      "Iteration 870, loss = 0.44410007\n",
      "Iteration 871, loss = 0.44253305\n",
      "Iteration 872, loss = 0.44099723\n",
      "Iteration 873, loss = 0.43947763\n",
      "Iteration 874, loss = 0.43796918\n",
      "Iteration 875, loss = 0.43643891\n",
      "Iteration 876, loss = 0.43492380\n",
      "Iteration 877, loss = 0.43352200\n",
      "Iteration 878, loss = 0.43197589\n",
      "Iteration 879, loss = 0.43050144\n",
      "Iteration 880, loss = 0.42903345\n",
      "Iteration 881, loss = 0.42755929\n",
      "Iteration 882, loss = 0.42619077\n",
      "Iteration 883, loss = 0.42466953\n",
      "Iteration 884, loss = 0.42328422\n",
      "Iteration 885, loss = 0.42184460\n",
      "Iteration 886, loss = 0.42040987\n",
      "Iteration 887, loss = 0.41894021\n",
      "Iteration 888, loss = 0.41755955\n",
      "Iteration 889, loss = 0.41617484\n",
      "Iteration 890, loss = 0.41477955\n",
      "Iteration 891, loss = 0.41338559\n",
      "Iteration 892, loss = 0.41200679\n",
      "Iteration 893, loss = 0.41060139\n",
      "Iteration 894, loss = 0.40922920\n",
      "Iteration 895, loss = 0.40784416\n",
      "Iteration 896, loss = 0.40654426\n",
      "Iteration 897, loss = 0.40514525\n",
      "Iteration 898, loss = 0.40380547\n",
      "Iteration 899, loss = 0.40247490\n",
      "Iteration 900, loss = 0.40111366\n",
      "Iteration 901, loss = 0.39981317\n",
      "Iteration 902, loss = 0.39843954\n",
      "Iteration 903, loss = 0.39712784\n",
      "Iteration 904, loss = 0.39582037\n",
      "Iteration 905, loss = 0.39454156\n",
      "Iteration 906, loss = 0.39320557\n",
      "Iteration 907, loss = 0.39193994\n",
      "Iteration 908, loss = 0.39065143\n",
      "Iteration 909, loss = 0.38938393\n",
      "Iteration 910, loss = 0.38809059\n",
      "Iteration 911, loss = 0.38683013\n",
      "Iteration 912, loss = 0.38555986\n",
      "Iteration 913, loss = 0.38428208\n",
      "Iteration 914, loss = 0.38305124\n",
      "Iteration 915, loss = 0.38183125\n",
      "Iteration 916, loss = 0.38059958\n",
      "Iteration 917, loss = 0.37935747\n",
      "Iteration 918, loss = 0.37813777\n",
      "Iteration 919, loss = 0.37689922\n",
      "Iteration 920, loss = 0.37570914\n",
      "Iteration 921, loss = 0.37450079\n",
      "Iteration 922, loss = 0.37329445\n",
      "Iteration 923, loss = 0.37210519\n",
      "Iteration 924, loss = 0.37090435\n",
      "Iteration 925, loss = 0.36973708\n",
      "Iteration 926, loss = 0.36856753\n",
      "Iteration 927, loss = 0.36739347\n",
      "Iteration 928, loss = 0.36622399\n",
      "Iteration 929, loss = 0.36506322\n",
      "Iteration 930, loss = 0.36392957\n",
      "Iteration 931, loss = 0.36277725\n",
      "Iteration 932, loss = 0.36165328\n",
      "Iteration 933, loss = 0.36049510\n",
      "Iteration 934, loss = 0.35941999\n",
      "Iteration 935, loss = 0.35823637\n",
      "Iteration 936, loss = 0.35715012\n",
      "Iteration 937, loss = 0.35603317\n",
      "Iteration 938, loss = 0.35491381\n",
      "Iteration 939, loss = 0.35385782\n",
      "Iteration 940, loss = 0.35270629\n",
      "Iteration 941, loss = 0.35163493\n",
      "Iteration 942, loss = 0.35052787\n",
      "Iteration 943, loss = 0.34946154\n",
      "Iteration 944, loss = 0.34837690\n",
      "Iteration 945, loss = 0.34729775\n",
      "Iteration 946, loss = 0.34624521\n",
      "Iteration 947, loss = 0.34517872\n",
      "Iteration 948, loss = 0.34412628\n",
      "Iteration 949, loss = 0.34307260\n",
      "Iteration 950, loss = 0.34202092\n",
      "Iteration 951, loss = 0.34096353\n",
      "Iteration 952, loss = 0.33992483\n",
      "Iteration 953, loss = 0.33889822\n",
      "Iteration 954, loss = 0.33788001\n",
      "Iteration 955, loss = 0.33684017\n",
      "Iteration 956, loss = 0.33581336\n",
      "Iteration 957, loss = 0.33479603\n",
      "Iteration 958, loss = 0.33378106\n",
      "Iteration 959, loss = 0.33278823\n",
      "Iteration 960, loss = 0.33178974\n",
      "Iteration 961, loss = 0.33079438\n",
      "Iteration 962, loss = 0.32981824\n",
      "Iteration 963, loss = 0.32883323\n",
      "Iteration 964, loss = 0.32783258\n",
      "Iteration 965, loss = 0.32688007\n",
      "Iteration 966, loss = 0.32588058\n",
      "Iteration 967, loss = 0.32490826\n",
      "Iteration 968, loss = 0.32394969\n",
      "Iteration 969, loss = 0.32296849\n",
      "Iteration 970, loss = 0.32201173\n",
      "Iteration 971, loss = 0.32108280\n",
      "Iteration 972, loss = 0.32013435\n",
      "Iteration 973, loss = 0.31919538\n",
      "Iteration 974, loss = 0.31827428\n",
      "Iteration 975, loss = 0.31731545\n",
      "Iteration 976, loss = 0.31638947\n",
      "Iteration 977, loss = 0.31546219\n",
      "Iteration 978, loss = 0.31458298\n",
      "Iteration 979, loss = 0.31363029\n",
      "Iteration 980, loss = 0.31273823\n",
      "Iteration 981, loss = 0.31181064\n",
      "Iteration 982, loss = 0.31089133\n",
      "Iteration 983, loss = 0.30999691\n",
      "Iteration 984, loss = 0.30911753\n",
      "Iteration 985, loss = 0.30823767\n",
      "Iteration 986, loss = 0.30732672\n",
      "Iteration 987, loss = 0.30644075\n",
      "Iteration 988, loss = 0.30556011\n",
      "Iteration 989, loss = 0.30470696\n",
      "Iteration 990, loss = 0.30385676\n",
      "Iteration 991, loss = 0.30297257\n",
      "Iteration 992, loss = 0.30207342\n",
      "Iteration 993, loss = 0.30120618\n",
      "Iteration 994, loss = 0.30038586\n",
      "Iteration 995, loss = 0.29954098\n",
      "Iteration 996, loss = 0.29874183\n",
      "Iteration 997, loss = 0.29789526\n",
      "Iteration 998, loss = 0.29702112\n",
      "Iteration 999, loss = 0.29618415\n",
      "Iteration 1000, loss = 0.29535521\n"
     ]
    },
    {
     "name": "stderr",
     "output_type": "stream",
     "text": [
      "/nsls2/conda/envs/2024-2.0-py311-tiled/lib/python3.11/site-packages/sklearn/neural_network/_multilayer_perceptron.py:691: ConvergenceWarning: Stochastic Optimizer: Maximum iterations (1000) reached and the optimization hasn't converged yet.\n",
      "  warnings.warn(\n"
     ]
    },
    {
     "data": {
      "text/html": [
       "<style>#sk-container-id-17 {\n",
       "  /* Definition of color scheme common for light and dark mode */\n",
       "  --sklearn-color-text: black;\n",
       "  --sklearn-color-line: gray;\n",
       "  /* Definition of color scheme for unfitted estimators */\n",
       "  --sklearn-color-unfitted-level-0: #fff5e6;\n",
       "  --sklearn-color-unfitted-level-1: #f6e4d2;\n",
       "  --sklearn-color-unfitted-level-2: #ffe0b3;\n",
       "  --sklearn-color-unfitted-level-3: chocolate;\n",
       "  /* Definition of color scheme for fitted estimators */\n",
       "  --sklearn-color-fitted-level-0: #f0f8ff;\n",
       "  --sklearn-color-fitted-level-1: #d4ebff;\n",
       "  --sklearn-color-fitted-level-2: #b3dbfd;\n",
       "  --sklearn-color-fitted-level-3: cornflowerblue;\n",
       "\n",
       "  /* Specific color for light theme */\n",
       "  --sklearn-color-text-on-default-background: var(--sg-text-color, var(--theme-code-foreground, var(--jp-content-font-color1, black)));\n",
       "  --sklearn-color-background: var(--sg-background-color, var(--theme-background, var(--jp-layout-color0, white)));\n",
       "  --sklearn-color-border-box: var(--sg-text-color, var(--theme-code-foreground, var(--jp-content-font-color1, black)));\n",
       "  --sklearn-color-icon: #696969;\n",
       "\n",
       "  @media (prefers-color-scheme: dark) {\n",
       "    /* Redefinition of color scheme for dark theme */\n",
       "    --sklearn-color-text-on-default-background: var(--sg-text-color, var(--theme-code-foreground, var(--jp-content-font-color1, white)));\n",
       "    --sklearn-color-background: var(--sg-background-color, var(--theme-background, var(--jp-layout-color0, #111)));\n",
       "    --sklearn-color-border-box: var(--sg-text-color, var(--theme-code-foreground, var(--jp-content-font-color1, white)));\n",
       "    --sklearn-color-icon: #878787;\n",
       "  }\n",
       "}\n",
       "\n",
       "#sk-container-id-17 {\n",
       "  color: var(--sklearn-color-text);\n",
       "}\n",
       "\n",
       "#sk-container-id-17 pre {\n",
       "  padding: 0;\n",
       "}\n",
       "\n",
       "#sk-container-id-17 input.sk-hidden--visually {\n",
       "  border: 0;\n",
       "  clip: rect(1px 1px 1px 1px);\n",
       "  clip: rect(1px, 1px, 1px, 1px);\n",
       "  height: 1px;\n",
       "  margin: -1px;\n",
       "  overflow: hidden;\n",
       "  padding: 0;\n",
       "  position: absolute;\n",
       "  width: 1px;\n",
       "}\n",
       "\n",
       "#sk-container-id-17 div.sk-dashed-wrapped {\n",
       "  border: 1px dashed var(--sklearn-color-line);\n",
       "  margin: 0 0.4em 0.5em 0.4em;\n",
       "  box-sizing: border-box;\n",
       "  padding-bottom: 0.4em;\n",
       "  background-color: var(--sklearn-color-background);\n",
       "}\n",
       "\n",
       "#sk-container-id-17 div.sk-container {\n",
       "  /* jupyter's `normalize.less` sets `[hidden] { display: none; }`\n",
       "     but bootstrap.min.css set `[hidden] { display: none !important; }`\n",
       "     so we also need the `!important` here to be able to override the\n",
       "     default hidden behavior on the sphinx rendered scikit-learn.org.\n",
       "     See: https://github.com/scikit-learn/scikit-learn/issues/21755 */\n",
       "  display: inline-block !important;\n",
       "  position: relative;\n",
       "}\n",
       "\n",
       "#sk-container-id-17 div.sk-text-repr-fallback {\n",
       "  display: none;\n",
       "}\n",
       "\n",
       "div.sk-parallel-item,\n",
       "div.sk-serial,\n",
       "div.sk-item {\n",
       "  /* draw centered vertical line to link estimators */\n",
       "  background-image: linear-gradient(var(--sklearn-color-text-on-default-background), var(--sklearn-color-text-on-default-background));\n",
       "  background-size: 2px 100%;\n",
       "  background-repeat: no-repeat;\n",
       "  background-position: center center;\n",
       "}\n",
       "\n",
       "/* Parallel-specific style estimator block */\n",
       "\n",
       "#sk-container-id-17 div.sk-parallel-item::after {\n",
       "  content: \"\";\n",
       "  width: 100%;\n",
       "  border-bottom: 2px solid var(--sklearn-color-text-on-default-background);\n",
       "  flex-grow: 1;\n",
       "}\n",
       "\n",
       "#sk-container-id-17 div.sk-parallel {\n",
       "  display: flex;\n",
       "  align-items: stretch;\n",
       "  justify-content: center;\n",
       "  background-color: var(--sklearn-color-background);\n",
       "  position: relative;\n",
       "}\n",
       "\n",
       "#sk-container-id-17 div.sk-parallel-item {\n",
       "  display: flex;\n",
       "  flex-direction: column;\n",
       "}\n",
       "\n",
       "#sk-container-id-17 div.sk-parallel-item:first-child::after {\n",
       "  align-self: flex-end;\n",
       "  width: 50%;\n",
       "}\n",
       "\n",
       "#sk-container-id-17 div.sk-parallel-item:last-child::after {\n",
       "  align-self: flex-start;\n",
       "  width: 50%;\n",
       "}\n",
       "\n",
       "#sk-container-id-17 div.sk-parallel-item:only-child::after {\n",
       "  width: 0;\n",
       "}\n",
       "\n",
       "/* Serial-specific style estimator block */\n",
       "\n",
       "#sk-container-id-17 div.sk-serial {\n",
       "  display: flex;\n",
       "  flex-direction: column;\n",
       "  align-items: center;\n",
       "  background-color: var(--sklearn-color-background);\n",
       "  padding-right: 1em;\n",
       "  padding-left: 1em;\n",
       "}\n",
       "\n",
       "\n",
       "/* Toggleable style: style used for estimator/Pipeline/ColumnTransformer box that is\n",
       "clickable and can be expanded/collapsed.\n",
       "- Pipeline and ColumnTransformer use this feature and define the default style\n",
       "- Estimators will overwrite some part of the style using the `sk-estimator` class\n",
       "*/\n",
       "\n",
       "/* Pipeline and ColumnTransformer style (default) */\n",
       "\n",
       "#sk-container-id-17 div.sk-toggleable {\n",
       "  /* Default theme specific background. It is overwritten whether we have a\n",
       "  specific estimator or a Pipeline/ColumnTransformer */\n",
       "  background-color: var(--sklearn-color-background);\n",
       "}\n",
       "\n",
       "/* Toggleable label */\n",
       "#sk-container-id-17 label.sk-toggleable__label {\n",
       "  cursor: pointer;\n",
       "  display: block;\n",
       "  width: 100%;\n",
       "  margin-bottom: 0;\n",
       "  padding: 0.5em;\n",
       "  box-sizing: border-box;\n",
       "  text-align: center;\n",
       "}\n",
       "\n",
       "#sk-container-id-17 label.sk-toggleable__label-arrow:before {\n",
       "  /* Arrow on the left of the label */\n",
       "  content: \"▸\";\n",
       "  float: left;\n",
       "  margin-right: 0.25em;\n",
       "  color: var(--sklearn-color-icon);\n",
       "}\n",
       "\n",
       "#sk-container-id-17 label.sk-toggleable__label-arrow:hover:before {\n",
       "  color: var(--sklearn-color-text);\n",
       "}\n",
       "\n",
       "/* Toggleable content - dropdown */\n",
       "\n",
       "#sk-container-id-17 div.sk-toggleable__content {\n",
       "  max-height: 0;\n",
       "  max-width: 0;\n",
       "  overflow: hidden;\n",
       "  text-align: left;\n",
       "  /* unfitted */\n",
       "  background-color: var(--sklearn-color-unfitted-level-0);\n",
       "}\n",
       "\n",
       "#sk-container-id-17 div.sk-toggleable__content.fitted {\n",
       "  /* fitted */\n",
       "  background-color: var(--sklearn-color-fitted-level-0);\n",
       "}\n",
       "\n",
       "#sk-container-id-17 div.sk-toggleable__content pre {\n",
       "  margin: 0.2em;\n",
       "  border-radius: 0.25em;\n",
       "  color: var(--sklearn-color-text);\n",
       "  /* unfitted */\n",
       "  background-color: var(--sklearn-color-unfitted-level-0);\n",
       "}\n",
       "\n",
       "#sk-container-id-17 div.sk-toggleable__content.fitted pre {\n",
       "  /* unfitted */\n",
       "  background-color: var(--sklearn-color-fitted-level-0);\n",
       "}\n",
       "\n",
       "#sk-container-id-17 input.sk-toggleable__control:checked~div.sk-toggleable__content {\n",
       "  /* Expand drop-down */\n",
       "  max-height: 200px;\n",
       "  max-width: 100%;\n",
       "  overflow: auto;\n",
       "}\n",
       "\n",
       "#sk-container-id-17 input.sk-toggleable__control:checked~label.sk-toggleable__label-arrow:before {\n",
       "  content: \"▾\";\n",
       "}\n",
       "\n",
       "/* Pipeline/ColumnTransformer-specific style */\n",
       "\n",
       "#sk-container-id-17 div.sk-label input.sk-toggleable__control:checked~label.sk-toggleable__label {\n",
       "  color: var(--sklearn-color-text);\n",
       "  background-color: var(--sklearn-color-unfitted-level-2);\n",
       "}\n",
       "\n",
       "#sk-container-id-17 div.sk-label.fitted input.sk-toggleable__control:checked~label.sk-toggleable__label {\n",
       "  background-color: var(--sklearn-color-fitted-level-2);\n",
       "}\n",
       "\n",
       "/* Estimator-specific style */\n",
       "\n",
       "/* Colorize estimator box */\n",
       "#sk-container-id-17 div.sk-estimator input.sk-toggleable__control:checked~label.sk-toggleable__label {\n",
       "  /* unfitted */\n",
       "  background-color: var(--sklearn-color-unfitted-level-2);\n",
       "}\n",
       "\n",
       "#sk-container-id-17 div.sk-estimator.fitted input.sk-toggleable__control:checked~label.sk-toggleable__label {\n",
       "  /* fitted */\n",
       "  background-color: var(--sklearn-color-fitted-level-2);\n",
       "}\n",
       "\n",
       "#sk-container-id-17 div.sk-label label.sk-toggleable__label,\n",
       "#sk-container-id-17 div.sk-label label {\n",
       "  /* The background is the default theme color */\n",
       "  color: var(--sklearn-color-text-on-default-background);\n",
       "}\n",
       "\n",
       "/* On hover, darken the color of the background */\n",
       "#sk-container-id-17 div.sk-label:hover label.sk-toggleable__label {\n",
       "  color: var(--sklearn-color-text);\n",
       "  background-color: var(--sklearn-color-unfitted-level-2);\n",
       "}\n",
       "\n",
       "/* Label box, darken color on hover, fitted */\n",
       "#sk-container-id-17 div.sk-label.fitted:hover label.sk-toggleable__label.fitted {\n",
       "  color: var(--sklearn-color-text);\n",
       "  background-color: var(--sklearn-color-fitted-level-2);\n",
       "}\n",
       "\n",
       "/* Estimator label */\n",
       "\n",
       "#sk-container-id-17 div.sk-label label {\n",
       "  font-family: monospace;\n",
       "  font-weight: bold;\n",
       "  display: inline-block;\n",
       "  line-height: 1.2em;\n",
       "}\n",
       "\n",
       "#sk-container-id-17 div.sk-label-container {\n",
       "  text-align: center;\n",
       "}\n",
       "\n",
       "/* Estimator-specific */\n",
       "#sk-container-id-17 div.sk-estimator {\n",
       "  font-family: monospace;\n",
       "  border: 1px dotted var(--sklearn-color-border-box);\n",
       "  border-radius: 0.25em;\n",
       "  box-sizing: border-box;\n",
       "  margin-bottom: 0.5em;\n",
       "  /* unfitted */\n",
       "  background-color: var(--sklearn-color-unfitted-level-0);\n",
       "}\n",
       "\n",
       "#sk-container-id-17 div.sk-estimator.fitted {\n",
       "  /* fitted */\n",
       "  background-color: var(--sklearn-color-fitted-level-0);\n",
       "}\n",
       "\n",
       "/* on hover */\n",
       "#sk-container-id-17 div.sk-estimator:hover {\n",
       "  /* unfitted */\n",
       "  background-color: var(--sklearn-color-unfitted-level-2);\n",
       "}\n",
       "\n",
       "#sk-container-id-17 div.sk-estimator.fitted:hover {\n",
       "  /* fitted */\n",
       "  background-color: var(--sklearn-color-fitted-level-2);\n",
       "}\n",
       "\n",
       "/* Specification for estimator info (e.g. \"i\" and \"?\") */\n",
       "\n",
       "/* Common style for \"i\" and \"?\" */\n",
       "\n",
       ".sk-estimator-doc-link,\n",
       "a:link.sk-estimator-doc-link,\n",
       "a:visited.sk-estimator-doc-link {\n",
       "  float: right;\n",
       "  font-size: smaller;\n",
       "  line-height: 1em;\n",
       "  font-family: monospace;\n",
       "  background-color: var(--sklearn-color-background);\n",
       "  border-radius: 1em;\n",
       "  height: 1em;\n",
       "  width: 1em;\n",
       "  text-decoration: none !important;\n",
       "  margin-left: 1ex;\n",
       "  /* unfitted */\n",
       "  border: var(--sklearn-color-unfitted-level-1) 1pt solid;\n",
       "  color: var(--sklearn-color-unfitted-level-1);\n",
       "}\n",
       "\n",
       ".sk-estimator-doc-link.fitted,\n",
       "a:link.sk-estimator-doc-link.fitted,\n",
       "a:visited.sk-estimator-doc-link.fitted {\n",
       "  /* fitted */\n",
       "  border: var(--sklearn-color-fitted-level-1) 1pt solid;\n",
       "  color: var(--sklearn-color-fitted-level-1);\n",
       "}\n",
       "\n",
       "/* On hover */\n",
       "div.sk-estimator:hover .sk-estimator-doc-link:hover,\n",
       ".sk-estimator-doc-link:hover,\n",
       "div.sk-label-container:hover .sk-estimator-doc-link:hover,\n",
       ".sk-estimator-doc-link:hover {\n",
       "  /* unfitted */\n",
       "  background-color: var(--sklearn-color-unfitted-level-3);\n",
       "  color: var(--sklearn-color-background);\n",
       "  text-decoration: none;\n",
       "}\n",
       "\n",
       "div.sk-estimator.fitted:hover .sk-estimator-doc-link.fitted:hover,\n",
       ".sk-estimator-doc-link.fitted:hover,\n",
       "div.sk-label-container:hover .sk-estimator-doc-link.fitted:hover,\n",
       ".sk-estimator-doc-link.fitted:hover {\n",
       "  /* fitted */\n",
       "  background-color: var(--sklearn-color-fitted-level-3);\n",
       "  color: var(--sklearn-color-background);\n",
       "  text-decoration: none;\n",
       "}\n",
       "\n",
       "/* Span, style for the box shown on hovering the info icon */\n",
       ".sk-estimator-doc-link span {\n",
       "  display: none;\n",
       "  z-index: 9999;\n",
       "  position: relative;\n",
       "  font-weight: normal;\n",
       "  right: .2ex;\n",
       "  padding: .5ex;\n",
       "  margin: .5ex;\n",
       "  width: min-content;\n",
       "  min-width: 20ex;\n",
       "  max-width: 50ex;\n",
       "  color: var(--sklearn-color-text);\n",
       "  box-shadow: 2pt 2pt 4pt #999;\n",
       "  /* unfitted */\n",
       "  background: var(--sklearn-color-unfitted-level-0);\n",
       "  border: .5pt solid var(--sklearn-color-unfitted-level-3);\n",
       "}\n",
       "\n",
       ".sk-estimator-doc-link.fitted span {\n",
       "  /* fitted */\n",
       "  background: var(--sklearn-color-fitted-level-0);\n",
       "  border: var(--sklearn-color-fitted-level-3);\n",
       "}\n",
       "\n",
       ".sk-estimator-doc-link:hover span {\n",
       "  display: block;\n",
       "}\n",
       "\n",
       "/* \"?\"-specific style due to the `<a>` HTML tag */\n",
       "\n",
       "#sk-container-id-17 a.estimator_doc_link {\n",
       "  float: right;\n",
       "  font-size: 1rem;\n",
       "  line-height: 1em;\n",
       "  font-family: monospace;\n",
       "  background-color: var(--sklearn-color-background);\n",
       "  border-radius: 1rem;\n",
       "  height: 1rem;\n",
       "  width: 1rem;\n",
       "  text-decoration: none;\n",
       "  /* unfitted */\n",
       "  color: var(--sklearn-color-unfitted-level-1);\n",
       "  border: var(--sklearn-color-unfitted-level-1) 1pt solid;\n",
       "}\n",
       "\n",
       "#sk-container-id-17 a.estimator_doc_link.fitted {\n",
       "  /* fitted */\n",
       "  border: var(--sklearn-color-fitted-level-1) 1pt solid;\n",
       "  color: var(--sklearn-color-fitted-level-1);\n",
       "}\n",
       "\n",
       "/* On hover */\n",
       "#sk-container-id-17 a.estimator_doc_link:hover {\n",
       "  /* unfitted */\n",
       "  background-color: var(--sklearn-color-unfitted-level-3);\n",
       "  color: var(--sklearn-color-background);\n",
       "  text-decoration: none;\n",
       "}\n",
       "\n",
       "#sk-container-id-17 a.estimator_doc_link.fitted:hover {\n",
       "  /* fitted */\n",
       "  background-color: var(--sklearn-color-fitted-level-3);\n",
       "}\n",
       "</style><div id=\"sk-container-id-17\" class=\"sk-top-container\"><div class=\"sk-text-repr-fallback\"><pre>MLPClassifier(hidden_layer_sizes=(1000, 500, 200, 100, 50), max_iter=1000,\n",
       "              random_state=42, tol=1e-05, verbose=True)</pre><b>In a Jupyter environment, please rerun this cell to show the HTML representation or trust the notebook. <br />On GitHub, the HTML representation is unable to render, please try loading this page with nbviewer.org.</b></div><div class=\"sk-container\" hidden><div class=\"sk-item\"><div class=\"sk-estimator fitted sk-toggleable\"><input class=\"sk-toggleable__control sk-hidden--visually\" id=\"sk-estimator-id-17\" type=\"checkbox\" checked><label for=\"sk-estimator-id-17\" class=\"sk-toggleable__label fitted sk-toggleable__label-arrow fitted\">&nbsp;&nbsp;MLPClassifier<a class=\"sk-estimator-doc-link fitted\" rel=\"noreferrer\" target=\"_blank\" href=\"https://scikit-learn.org/1.4/modules/generated/sklearn.neural_network.MLPClassifier.html\">?<span>Documentation for MLPClassifier</span></a><span class=\"sk-estimator-doc-link fitted\">i<span>Fitted</span></span></label><div class=\"sk-toggleable__content fitted\"><pre>MLPClassifier(hidden_layer_sizes=(1000, 500, 200, 100, 50), max_iter=1000,\n",
       "              random_state=42, tol=1e-05, verbose=True)</pre></div> </div></div></div></div>"
      ],
      "text/plain": [
       "MLPClassifier(hidden_layer_sizes=(1000, 500, 200, 100, 50), max_iter=1000,\n",
       "              random_state=42, tol=1e-05, verbose=True)"
      ]
     },
     "execution_count": 824,
     "metadata": {},
     "output_type": "execute_result"
    }
   ],
   "source": [
    "mlp.fit(intensities_train, binary_peaks_train) # train MLPClassifier"
   ]
  },
  {
   "cell_type": "markdown",
   "id": "bce1946c-88be-437a-b96f-1686059a3832",
   "metadata": {},
   "source": [
    "### Testing and evaluating the model"
   ]
  },
  {
   "cell_type": "markdown",
   "id": "2dc823a7-51dc-4d47-86c2-918d860f711d",
   "metadata": {},
   "source": [
    "Now, we can make predictions using our MLP classifier."
   ]
  },
  {
   "cell_type": "code",
   "execution_count": 825,
   "id": "dc9a2a44-ce1b-4009-b85f-cb9a74d9617a",
   "metadata": {},
   "outputs": [],
   "source": [
    "b_peaks_pred = mlp.predict(intensities_test)"
   ]
  },
  {
   "cell_type": "markdown",
   "id": "92e1965f-72e5-4cf3-ae31-320397ca1713",
   "metadata": {},
   "source": [
    "Compute the probabilities of each binary class for each feature in each sample."
   ]
  },
  {
   "cell_type": "code",
   "execution_count": 826,
   "id": "5cc51f61-0dfb-4baa-829a-f9df578de192",
   "metadata": {},
   "outputs": [],
   "source": [
    "probs = mlp.predict_proba(intensities_test)"
   ]
  },
  {
   "cell_type": "code",
   "execution_count": 827,
   "id": "e0c7a873-2f07-4f6b-91d8-c2fe57157cf7",
   "metadata": {},
   "outputs": [
    {
     "data": {
      "text/plain": [
       "(20, 11763)"
      ]
     },
     "execution_count": 827,
     "metadata": {},
     "output_type": "execute_result"
    }
   ],
   "source": [
    "probs.shape # Check that shape is (num_samples, num_features)"
   ]
  },
  {
   "cell_type": "code",
   "execution_count": 828,
   "id": "510f29f6-75f9-4d90-bb3b-e89d804405d4",
   "metadata": {},
   "outputs": [],
   "source": [
    "two_classprobs = np.array([[i,1-i] for i in probs]) # 1-i will give probability for the 0 class"
   ]
  },
  {
   "cell_type": "code",
   "execution_count": 829,
   "id": "7754b004-365e-4bf6-a8e6-f463ee523d5a",
   "metadata": {},
   "outputs": [],
   "source": [
    "two_classprobs = two_classprobs.reshape((probs.shape[0],probs.shape[1],2)) # reshape to (num_samples, num_features, num_classes)"
   ]
  },
  {
   "cell_type": "code",
   "execution_count": 830,
   "id": "c8764eab-a3a1-4d49-946d-482b8c806324",
   "metadata": {},
   "outputs": [
    {
     "data": {
      "text/plain": [
       "(11763, 2)"
      ]
     },
     "execution_count": 830,
     "metadata": {},
     "output_type": "execute_result"
    }
   ],
   "source": [
    "two_classprobs[0].shape # check that for a single element / sample, the shape is (num_features, num_classes)"
   ]
  },
  {
   "cell_type": "code",
   "execution_count": 831,
   "id": "93e12dc6-8037-4a03-a2b3-46f31800e1cd",
   "metadata": {},
   "outputs": [],
   "source": [
    "confidence = np.max(two_classprobs[0], axis=1) # returns max value for each of the features"
   ]
  },
  {
   "cell_type": "code",
   "execution_count": 832,
   "id": "d245e0ee-2f49-4042-b068-9a92dc928f5d",
   "metadata": {},
   "outputs": [
    {
     "data": {
      "text/plain": [
       "array([2.71919341e-26, 9.67410409e-19, 3.25517490e-14, ...,\n",
       "       1.00000000e+00, 1.00000000e+00, 1.00000000e+00])"
      ]
     },
     "execution_count": 832,
     "metadata": {},
     "output_type": "execute_result"
    }
   ],
   "source": [
    "confidence"
   ]
  },
  {
   "cell_type": "code",
   "execution_count": 861,
   "id": "c2f92dd0-1b64-49b2-8eaf-5cf6fb63262d",
   "metadata": {},
   "outputs": [],
   "source": [
    "confidences = []\n",
    "for i in range(two_classprobs.shape[0]):\n",
    "    confidence = np.max(two_classprobs[i], axis=1) # returns max value for each of the features\n",
    "    confidences.append(confidence)\n",
    "confidences = np.array(confidences)"
   ]
  },
  {
   "cell_type": "code",
   "execution_count": 863,
   "id": "cde9ebce-a865-40b1-a0a5-2908a0d62993",
   "metadata": {},
   "outputs": [
    {
     "data": {
      "text/plain": [
       "(20, 11763)"
      ]
     },
     "execution_count": 863,
     "metadata": {},
     "output_type": "execute_result"
    }
   ],
   "source": [
    "confidences.shape"
   ]
  },
  {
   "cell_type": "code",
   "execution_count": 833,
   "id": "7d6b7d8c-6f47-4ee0-80a3-5ae76f768784",
   "metadata": {},
   "outputs": [
    {
     "data": {
      "text/plain": [
       "(2, 11763, 20)"
      ]
     },
     "execution_count": 833,
     "metadata": {},
     "output_type": "execute_result"
    }
   ],
   "source": [
    "two_classprobs.T.shape"
   ]
  },
  {
   "cell_type": "code",
   "execution_count": 834,
   "id": "d2220e3b-abed-45d5-a893-c0f9ce27ac36",
   "metadata": {},
   "outputs": [],
   "source": [
    "uncertainty = entropy(two_classprobs[0].T)"
   ]
  },
  {
   "cell_type": "code",
   "execution_count": 835,
   "id": "c0b23df5-652c-4145-bfdd-9d78b60128e0",
   "metadata": {},
   "outputs": [
    {
     "data": {
      "text/plain": [
       "array([5.94756872e-10, 7.26679701e-08, 6.86796787e-01, ...,\n",
       "       6.93147181e-01, 6.93147181e-01, 6.75300010e-01])"
      ]
     },
     "execution_count": 835,
     "metadata": {},
     "output_type": "execute_result"
    }
   ],
   "source": [
    "uncertainty # these are the error bars (from the shannon entropy)"
   ]
  },
  {
   "cell_type": "markdown",
   "id": "7ff9bc14-471a-4022-bfc7-41e8c1ffab0c",
   "metadata": {},
   "source": [
    "Make array of all the uncertainties, with shape (num_samples, num_features)"
   ]
  },
  {
   "cell_type": "code",
   "execution_count": 836,
   "id": "85dc3130-0766-49a8-8f82-5c51239321ca",
   "metadata": {},
   "outputs": [],
   "source": [
    "uncertainties = []\n",
    "for i in range(two_classprobs.shape[0]):\n",
    "    uncertainties.append(entropy(two_classprobs[i].T))\n",
    "uncertainties = np.array(uncertainties)"
   ]
  },
  {
   "cell_type": "code",
   "execution_count": 837,
   "id": "3683ce95-6db0-44e9-9fed-d27919a0b645",
   "metadata": {},
   "outputs": [
    {
     "data": {
      "text/plain": [
       "(20, 11763)"
      ]
     },
     "execution_count": 837,
     "metadata": {},
     "output_type": "execute_result"
    }
   ],
   "source": [
    "uncertainties.shape"
   ]
  },
  {
   "cell_type": "markdown",
   "id": "4b7b8712-b651-4e1f-b822-a4fff9b9d1c4",
   "metadata": {},
   "source": [
    "Here, we can compute the accuracy of our model based on the predictions."
   ]
  },
  {
   "cell_type": "code",
   "execution_count": 838,
   "id": "5cc15e66-79fd-4cfa-8e49-bb7f5f22bfd4",
   "metadata": {},
   "outputs": [],
   "source": [
    "%matplotlib widget"
   ]
  },
  {
   "cell_type": "code",
   "execution_count": 839,
   "id": "a601657c-7dad-4974-b899-68374b166974",
   "metadata": {},
   "outputs": [],
   "source": [
    "plt.close()"
   ]
  },
  {
   "cell_type": "code",
   "execution_count": 840,
   "id": "07c08bd8-2f72-4ab0-ad0f-ab7186aabd37",
   "metadata": {},
   "outputs": [
    {
     "data": {
      "text/plain": [
       "<matplotlib.collections.PathCollection at 0x146b8c44e110>"
      ]
     },
     "execution_count": 840,
     "metadata": {},
     "output_type": "execute_result"
    },
    {
     "data": {
      "application/vnd.jupyter.widget-view+json": {
       "model_id": "0debee6d356c41499db586c3d09329b0",
       "version_major": 2,
       "version_minor": 0
      },
      "image/png": "[encoded data removed]",
      "text/html": [
       "\n",
       "            <div style=\"display: inline-block;\">\n",
       "                <div class=\"jupyter-widgets widget-label\" style=\"text-align: center;\">\n",
       "                    Figure\n",
       "                </div>\n",
       "                <img src='data:image/png;base64,iVBORw0KGgoAAAANSUhEUgAAAoAAAAHgCAYAAAA10dzkAAAAOXRFWHRTb2Z0d2FyZQBNYXRwbG90bGliIHZlcnNpb24zLjguNCwgaHR0cHM6Ly9tYXRwbG90bGliLm9yZy8fJSN1AAAACXBIWXMAAA9hAAAPYQGoP6dpAAAuhElEQVR4nO3de3hU5b328TsHciDNDCGQgUiCwSpSaFWSlk0AW7XGFywWPIDFQkDpNhULIVYRsVWpkC1uebWlpFIFYgVlY0FxN1ry1spBaKtpYr2ArdtCTYCEmBBmQjCJSeb9Y2DIZCbJhIQMzPP9XNdcOmvW4fc8z1qzbtasmYQ4nU6nAAAAYIzQQBcAAACA3kUABAAAMAwBEAAAwDAEQAAAAMMQAAEAAAxDAAQAADAMARAAAMAwBEAAAADDEAABAAAMQwAEAAAwDAEQAADAMARAAAAAwxAAAQAADEMABAAAMAwBEAAAwDAEQAAAAMMQAAEAAAxDAAQAADAMARAAAMAwBEAAAADDEAABAAAMQwAEAAAwDAEQAADAMARAAAAAwxAAAQAADEMABAAAMAwBEAAAwDAEQAAAAMMQAAEAAAxDAAQAADAMARAAAMAwBEAAAADDEAABAAAMQwAEAAAwDAEQAADAMARAAAAAwxAAAQAADEMABAAAMAwBEAAAwDAEQAAAAMMQAAEAAAxDAAQAADAMARAAAMAwBEAAAADDEAABAAAMQwAEAAAwDAEQAADAMARAAAAAwxAAAQAADEMABAAAMAwBEAAAwDAEQAAAAMMQAAEAAAxDAAQAADAMARAAAMAwBEAAAADDhAe6gItZS0uLjh49qtjYWIWEhAS6HAAA4Aen06na2lolJiYqNNTMa2EEwG44evSokpKSAl0GAAA4B2VlZRoyZEigywgIAmA3xMbGSnLtQBaLJcDVAAAAfzgcDiUlJbnP4yYiAHbDmY99LRYLARAAgIuMybdvmfnBNwAAgMEIgAAAAIYhAAIAABiGAAgAAGAYAiAAAIBhCIAAAACGIQACAAAYhgAIAABgGH4IGh2qt9ersbZRliHeP3TtOOxQRGyEoqxR/i9TWqOIhiJF9flcih4sDZwghYZ1XkhLs/T5LumL8rPLSd7T/FlXN9rWVR1t4/P9n8sppxK+luDf9n31gZ/tddeRGOO1DsfROr+31V576u31qv6kWvFXxHv1Wad92UG7ujNG3RrfTvq628dFS7Pq//lnNVYdlWVYshwNVynCGu1eptPj5HR99ccOq7F5oCxXfddrX2hbR9t9oPWybfeBTvu2pk6N/9otS9xxz/pamuX48P8pIuxzRdmGSAMnqL72S3e72/ZB63nb9kG7fddBf3vN12ocHTX9FXHpeEXFxfhsk3s7NSdlqX9Zqv2nFHuZNOxeqeavchwsVcSAREVddl37bWpTj/v/Y/u466j/cqAaI1NlSY5rty2Surb+M2Pc3ricXs7Z4lSIWmSJ/NBr32lda0dj6NbUKH26Wo5PD8kZM1QhKbNkuXRAh+NzLmOK8yfE6XQ6A11ET9i5c6eefvppFRUVqby8XFu3btWUKVM6XGbHjh3KycnRvn37lJiYqIceekhZWVl+b9PhcMhqtcputwflXwKpt9drw//ZoLrKOmW+mylrktX9mr3Mrvzv5CsmIUZ3vX2Xx0mm3WX++qryv/++YmLtumvRy4rq2yD1HSKlPicl3dp+IWVbpKIF0qnDZ6dFxLv+21h9dpo/6+pG27qqo21U7qvUmtQ1kqR/L/p3JYw8GwJ9bt9XH/jZXncdRyuV+bN8Wft+fHZbp4Yr/xeZiklM6HRb9Zev1Ia5Dq/21NvrlX99vir/UamEryco88+Z7j7rtC87aFe9ZdI5j1G3xreTvu72cbExQZGfPqINj1+vOkeMbp33mrasvlMxl9h01zvz1fA/r3d8nJyur77qc2146oeqc8Qoc9kfZb1puXtfaFuHJI99IFL/ci976wO7tOXXd7j3gQZHQ8d9u2+zNtz6Z9Wd6KPMR9fLGu9w1Tf0B7IXbVP+kpsUY6nTXYtelqITtWFllupOROnObXfqzblvuvtAHz3unnfyj97Qqytnufug9Tb97e/bN92u16a/dnY+/ck9jvZqi/KfnK2Yfl/qri3XKWrkHWqr3l6vDROWq+6Y/Wy7zmznzPKWOt3+0C699pt7vNv0bqYkueuZ/MJkvXrLq4rpV6+7cn6jqJBDqj8V6er3Wqsy3/imrGPu9GpLdP9oKUT6ovoL/9Z/ZowPv+l7XFKfk103aP2163Xqc7v6xjj0gwfy9eZvv+/ed/T1x5U/o1Ix/eo1OfMlvbrsBp9j6O7/4oek/1kpe1WM1i+do1O1fdXXckqz8yNlnfhU146H8/T+25lgP3/7I2g+Aq6rq9NVV12lVatW+TX/oUOHNGnSJE2YMEHFxcV65JFHNH/+fP3+978/z5VePBprG1VXWaeagzXK/06+7GV2SWcP0JqDNaqrrFNjbWPny/z1VeXfslc1xyyqc8So8YtI1wKnjki7bned1Hwp2+J6vfXJWHIFv9bhz591dbNtXdXRNjZO2qjmhmY1NzRr46SNHW+/vT7ws72NtY2qO1qpmtJG5S+5SfZq15udvdqi/CU3qabU9Xpn22p8Z65rPW3aU/VxlSr/UamWphZVflSp6o+r/evLTtrV+PEb5zxG5zy+fvR1t4+LW/aq6p8NqnPEqKayv9Y9cY/ruDh8RNXbHu/4OCl+yF1f4xeR7nXkL7lJ9tfvlsq2+Kyj7T5QdTT+7PYXf8+9D1R/XN1p/zS+M1d1J/q4tvvkbNf+dOqw7Lufd+1Plf3dtTcer1bd4SOqOVijjZM2qvZorWoO1mjdzX/Vuocnqqayv2prYrVxxQ/dfdD48RvnNJYnj508O9/41a7+aBX+air7q+5EHzW+M9fnMdO49zHVHbN7tkvyXN4Ro5PlJ323afw6rRu/TjUHa1R7tFYbJ2101Xb4iBqPu44J95gdsyj/lr2y//VVn22pO1bn//or69T48RvtjMsR2V+/W/njV+vEv06o6YsmnaiM1cYVd6m2JtY1/g9P1Lqb/+pa72fl2rj0xnbHMP87+bK/tUg68LTsVTHKf3K2TlTFqenLcJ34PE75s+tdr3fleDhP77/oXNBcAWwtJCSk0yuAixYt0rZt23TgwAH3tKysLH344Yfau3evX9sx4V8QrQ/IuGFxmvq7qdo6c6v7edt/vflcJv8Wbb39V6o5ZlFcwnGvf11LIa5/qd5yyPtjrm2Xep+MO9TOunqobV3V0Tasya5120vt7W//kq900gd+tLelWfa1I90n57iE45r6463amjfV/Txz2XZZZ38o/fdlHW7Lfmq48nOzVHPwhFfNoeGhamlq8a8vOx1bV7vs15Qo//qXz2mMujy+ftakWw7JfuRk14+Lz44rf8wy93Fw44zteu2Xd6ilJUyhoc26ff5/qXDj2THyPk4khYRJzuaz62wVTuISjmvqwve09bcz3ePjrsPHPuC1/QffUeHmO7yX9dE/Xtttuz+1qt1ebVX+MlfItSZb1HKyXLXHXR/DxsY5FBraInt1v9PL5cuaZPHan/0dS9d8611taLeuWu9jpqlR2tzXHWo6a5dnm6xqaWpR7dFaV5sSYxUaHuo6rm0OZS55wefVxJrK/oqzOTT1tZ9oa+Y2j7ZIcre3w/UPi1PmOz+UtfiqzsfF5tCt972qLb++XTWV/WWNP6GWllDV1ljaGQvfY+irX26d95p7vXEJxzV18wJtnfPfXTtPnIf3346YcP7ujLEB8Nprr9U111yj5557zj1t69atmjZtmk6dOqU+ffp4LdPQ0KCGhgb3c4fDoaSkpKDfgVofqGd05eTrXqa9k9oZN/xZsn3n7PNj70p/uu7cim67rnacS9u6qqNtSOp4+/72QUftPb2O1icH97Zaj8no/yv9fWHn7bnyLeXf8YlXzbduvFVbZmzxry+70C574zXnPEZdGt8u9nWX951j78r+X9/3GoPQ0Ga1tJwNO50eJ23b6Gtc29bRwT7gtX0/+6fT/altjc88oprP6n22wWs5H/uzv/1t//vbyp/4Vud1td7G/zzr3vf9bVenbRoapcwHlvscR3/GzFd7PdZ/Zv6I4i6Ni6/XPdbb0Rg+tUA1R3zvq37th237oRfef9tDAAyij4C7qqKiQjabzWOazWZTU1OTqqqqfC6Tm5srq9XqfiQlJfVGqQFnTbJq6u+mekyb+rupHR6gPpf58daOT2pflHf8vCv8XPZc2tZVHW2j0+372wcdzXf6NWu8Q1N/vNVzW63HpPaffm3K2r/GZ81Dxgzxvy+70K7ujFGXlu1iX3e5ri/KfY7BxNkFnuvo7Dhpw+e4tq2jg33Aa/t+9k+n+1PbeZ8Z2G4bvJbzMRb+9re1f41/dbXeRqt93992ddqmZwa2O47+jJmv9vqcv4vj4uv19ub1Wu+i/V1a7zmdJ3r4/RftMzYASq4rha2duRjadvoZixcvlt1udz/KysrOe40XAnuZXVtneh7YW2dudd+34fcyeVPd99X4FD244+dd4eey59K2rupoG51u398+6Gi+06/Zqy3amuf5ZusxJrGX+bUp+/E4nzUf/uth//uyC+3qzhh1adku9nWX64oe7HMM3lo/yXMdnR0nbfgc17Z1dLAPeG3fz/7pdH9qO+8Dn7fbBq/lfIyFv/1tPx7nX12tt9Fq3/e3XZ226YHP2x1Hf8bMV3t9zt/FcfH1envzeq33qa91ab3ndJ7o4fdftM/YADho0CBVVFR4TKusrFR4eLji4+N9LhMZGSmLxeLxCHZt79O4+727FTcszuvm3Q6X2ZWpOJvD6+bqs0Kkvklnf9rljIETXPfqyHcg962ddfVQ27qqo220vqm73e132gd+tHfgBNe9e63uDbr7sRcVl3D87JiculL66n2dbst+6krl3/Fxu+3xuy/9bJe9/hvnPEZdHt8u9PU5HRf131D+srnuMZiW/ar749fQ0GZNy37Fc0x8hYeQMI/62t7zdXfum4ob1s+7Dh/7gNf2FxX6XtZH/3htt+3+1Kp21/1jc1XzWb2syRbF9q9zvxYb55A1/kSr5aw+92d/+9teZnftnx3W5eOY+ep9UkiY3+3ybJNVsYmxZ9uUGCtrslU1n9Urf9lcV5tat6XNPYB378r0akvr9ra7/jPz13/Dv3FZNleHP73E/bo1/oRi485e6fMeCx9jeCTMZ78c/jTRc7s7Znb9PHEe3n/RMWMD4NixY1VYWOgxbfv27UpLS/N5/5+JHIcdHgdo5ruZSkpPUua7nm9YjsOOjpcZf6ky3/imxxuGw/3mcvpklvqs95cYQsNcP33Rer4OdbCuHmhbV3W0DWuyVfZSu+yldlmTre1v/2hdB33gX3sdR+uU/4tMjxvZk64oU+aj68+OyS9myVFR3+G2HNWxyv/FLI8vCSSlJ+nWV251fwEkNDxUt71yW+d92eHYup47Ep/2+AJIV8bonMbXj5qU+qyrP8/luLj+ZfdN9LfO+70KN2a4w1dLS5gKN96k2/4zuoPjJES6MqfVeHie7DMfzVfSXY8o893ZXnW03Qdunfea9/ZfuVm3vXJ7p/3jqI5ts10f+9Pp2l01Zrq/LCGFqPZ4jKzxJ2SNP+H+AsLZ4JEpR+LTHvuzv2N55P0jp+c7objkCFd/XHHYR12x3sdMeIQccQ/41a4jnya2aZNUe7RW1mSrrMlW95c1rMlW17d9n8x0j6PXmL3xTdf7Y6u2tP6HYafrP1ij/OtfliPxP9sZl8PKfDRfcckRqjlm0bon7j4d/lz33NXWWDoYC+8xjBsWp8z1UV79su6Je85ud32Ukq4d1vXzRA+//6JzQRMAT548qZKSEpWUlEhy/cxLSUmJSktLJbk+vp01a5Z7/qysLH322WfKycnRgQMHtHbtWr344ov66U9/GojyL0gRsRGKSYjxuinXmmR1H6gxCTHuHy7tcJkxdypz21jF2RyKsdQpIvr0l2n6DpEmvNb+b9kl3ep6ve8lbYqLP/tbgGd0tq5utq2rOtrGjIIZCosMU1hkmGYUzOh4++31gZ/tjYiNUExiguukuOyPHvfsZC7brrhk1+udbSvi+hdc62nTngHDByjhGwkKDQ9VwtcTFD883r++7KRdEcO/f85jdM7j60dfd/u42DZWAy6LUIylTnEJxzXnsRddx8WQSxR/y+MdHyfXrHDXFxHd4F5H5rLtsk5ZKyXd6rOOtvvAgMTqs9vP/YN7H4gfHt9p/0Rc/4Ji+n3p+WWBvkmyjr9Xmcv+qLiE4+7aI/oPUMyQSxQ3LE4zCmYoNjFWccPiNOcPYzTnP95SXMJxxcbVasZDL7v7IGL4989pLL9i+8rZ+Xbf5+qPvpe49vPTYSWmX5Mirn/B5zETMfYJxdisXl+C8FjeUqevDI713abdczRn9xzFDYtTbGKsZhTMcNU25BJF9HcdE+4xszmUuW2s+3cA27Ylxhbj//oTYhQx/PvtjMsQWaesVebu+9Tv0n4Kjw5Xv4RazXhog2Ljal3j/x9va84fxrjWO3SwZvy8sN0xzHw30/U7fyMelHVAnTIfXa9+A2oU3qdJ/QbWKHN9lPt3AM/pPNGD77/oXNB8C/jdd9/Vddd5f4MvMzNT69ev1+zZs/Wvf/1L7777rvu1HTt2aOHChe4fgl60aBE/BN0GfwmEvwTCXwLhL4F49S1/CYS/BHKR/yUQE87fnQmaABgI7EAAAFx8OH8H0UfAAAAA8A8BEAAAwDAEQAAAAMMQAAEAAAxDAAQAADAMARAAAMAwBEAAAADDEAABAAAMQwAEAAAwDAEQAADAMARAAAAAwxAAAQAADEMABAAAMAwBEAAAwDAEQAAAAMMQAAEAAAxDAAQAADAMARAAAMAwBEAAAADDEAABAAAMQwAEAAAwDAEQAADAMARAAAAAwxAAAQAADEMABAAAMAwBEAAAwDAEQAAAAMMQAAEAAAxDAAQAADAMARAAAMAwBEAAAADDEAABAAAMQwAEAAAwDAEQAADAMARAAAAAwxAAAQAADEMABAAAMAwBEAAAwDAEQAAAAMMQAAEAAAxDAAQAADAMARAAAMAwBEAAAADDEAABAAAMQwAEAAAwDAEQAADAMARAAAAAwxAAAQAADEMABAAAMAwBEAAAwDAEQAAAAMMQAAEAAAxDAAQAADAMARAAAMAwBEAAAADDEAABAAAME1QBcPXq1UpJSVFUVJRSU1O1a9euDuffsGGDrrrqKvXt21eDBw/WnDlzVF1d3UvVAgAABEbQBMBNmzYpOztbS5YsUXFxsSZMmKCJEyeqtLTU5/y7d+/WrFmzdM8992jfvn3avHmz3n//fc2dO7eXKwcAAOhdQRMAV65cqXvuuUdz587ViBEj9OyzzyopKUl5eXk+5//LX/6iSy+9VPPnz1dKSorGjx+ve++9Vx988EEvVw4AANC7giIANjY2qqioSBkZGR7TMzIytGfPHp/LpKen6/DhwyooKJDT6dSxY8f02muv6eabb+6NkgEAAAImKAJgVVWVmpubZbPZPKbbbDZVVFT4XCY9PV0bNmzQ9OnTFRERoUGDBqlfv3761a9+1e52Ghoa5HA4PB4AAAAXm6AIgGeEhIR4PHc6nV7Tzti/f7/mz5+vn//85yoqKtLbb7+tQ4cOKSsrq9315+bmymq1uh9JSUk9Wj8AAEBvCHE6nc5AF9FdjY2N6tu3rzZv3qypU6e6py9YsEAlJSXasWOH1zIzZ85UfX29Nm/e7J62e/duTZgwQUePHtXgwYO9lmloaFBDQ4P7ucPhUFJSkux2uywWSw+3CgAAnA8Oh0NWq9Xo83dQXAGMiIhQamqqCgsLPaYXFhYqPT3d5zKnTp1SaKhn88PCwiS5rhz6EhkZKYvF4vEAAAC42ARFAJSknJwcvfDCC1q7dq0OHDighQsXqrS01P2R7uLFizVr1iz3/JMnT9aWLVuUl5engwcP6r333tP8+fP1rW99S4mJiYFqBgAAwHkXHugCesr06dNVXV2tpUuXqry8XKNGjVJBQYGGDh0qSSovL/f4TcDZs2ertrZWq1at0gMPPKB+/frp+uuv11NPPRWoJgAAAPSKoLgHMFC4hwAAgIsP5+8g+ggYAAAA/iEAAgAAGIYACAAAYBgCIAAAgGEIgAAAAIYhAAIAABiGAAgAAGAYAiAAAIBhCIAAAACGIQACAAAYhgAIAABgGAIgAACAYQiAAAAAhiEAAgAAGIYACAAAYBgCIAAAgGEIgAAAAIYhAAIAABiGAAgAAGAYAiAAAIBhCIAAAACGIQACAAAYhgAIAABgGAIgAACAYQiAAAAAhiEAAgAAGIYACAAAYBgCIAAAgGEIgAAAAIYhAAIAABiGAAgAAGAYAiAAAIBhCIAAAACGIQACAAAYhgAIAABgGAIgAACAYQiAAAAAhiEAAgAAGIYACAAAYBgCIAAAgGEIgAAAAIYhAAIAABiGAAgAAGAYAiAAAIBhCIAAAACGIQACAAAYhgAIAABgGAIgAACAYQiAAAAAhiEAAgAAGIYACAAAYBgCIAAAgGEIgAAAAIYhAAIAABiGAAgAAGAYAiAAAIBhgioArl69WikpKYqKilJqaqp27drV4fwNDQ1asmSJhg4dqsjISF122WVau3ZtL1ULAAAQGOGBLqCnbNq0SdnZ2Vq9erXGjRun559/XhMnTtT+/fuVnJzsc5lp06bp2LFjevHFF/XVr35VlZWVampq6uXKAQAAeleI0+l0BrqInjBmzBiNHj1aeXl57mkjRozQlClTlJub6zX/22+/rTvvvFMHDx5U//79z2mbDodDVqtVdrtdFovlnGsHAAC9h/N3kHwE3NjYqKKiImVkZHhMz8jI0J49e3wus23bNqWlpWnFihW65JJLdMUVV+inP/2pvvjii94oGQAAIGCC4iPgqqoqNTc3y2azeUy32WyqqKjwuczBgwe1e/duRUVFaevWraqqqtJ9992n48ePt3sfYENDgxoaGtzPHQ5HzzUCAACglwTFFcAzQkJCPJ47nU6vaWe0tLQoJCREGzZs0Le+9S1NmjRJK1eu1Pr169u9Cpibmyur1ep+JCUl9XgbAAAAzregCIADBgxQWFiY19W+yspKr6uCZwwePFiXXHKJrFare9qIESPkdDp1+PBhn8ssXrxYdrvd/SgrK+u5RgAAAPSSoAiAERERSk1NVWFhocf0wsJCpaen+1xm3LhxOnr0qE6ePOme9sknnyg0NFRDhgzxuUxkZKQsFovHAwAA4GITFAFQknJycvTCCy9o7dq1OnDggBYuXKjS0lJlZWVJcl29mzVrlnv+GTNmKD4+XnPmzNH+/fu1c+dOPfjgg7r77rsVHR0dqGYAAACcd0HxJRBJmj59uqqrq7V06VKVl5dr1KhRKigo0NChQyVJ5eXlKi0tdc//la98RYWFhfrJT36itLQ0xcfHa9q0aXryyScD1QQAAIBeETS/AxgI/I4QAAAXH87fQfQRMAAAAPxDAAQAADAMARAAAMAwBEAAAADDEAABAAAMQwAEAAAwDAEQAADAMARAAAAAwxAAAQAADEMABAAAMAwBEAAAwDAEQAAAAMMQAAEAAAxDAAQAADAMARAAAMAwBEAAAADDEAABAAAMQwAEAAAwDAEQAADAMARAAAAAwxAAAQAADEMABAAAMAwBEAAAwDAEQAAAAMMQAAEAAAxDAAQAADAMARAAAMAwBEAAAADDEAABAAAMQwAEAAAwDAEQAADAMARAAAAAwxAAAQAADEMABAAAMAwBEAAAwDAEQAAAAMMQAAEAAAxDAAQAADAMARAAAMAwBEAAAADDEAABAAAMQwAEAAAwDAEQAADAMARAAAAAwxAAAQAADEMABAAAMAwBEAAAwDAEQAAAAMMQAAEAAAxDAAQAADAMARAAAMAwBEAAAADDEAABAAAMQwAEAAAwDAEQAADAMARAAAAAwxAAAQAADBNUAXD16tVKSUlRVFSUUlNTtWvXLr+We++99xQeHq6rr776/BYIAABwAQiaALhp0yZlZ2dryZIlKi4u1oQJEzRx4kSVlpZ2uJzdbtesWbN0ww039FKlAAAAgRXidDqdgS6iJ4wZM0ajR49WXl6ee9qIESM0ZcoU5ebmtrvcnXfeqcsvv1xhYWF6/fXXVVJS4vc2HQ6HrFar7Ha7LBZLd8oHAAC9hPN3kFwBbGxsVFFRkTIyMjymZ2RkaM+ePe0ut27dOv3zn//UY4895td2Ghoa5HA4PB4AAAAXm6AIgFVVVWpubpbNZvOYbrPZVFFR4XOZ//3f/9XDDz+sDRs2KDw83K/t5Obmymq1uh9JSUndrh0AAKC3BUUAPCMkJMTjudPp9JomSc3NzZoxY4aeeOIJXXHFFX6vf/HixbLb7e5HWVlZt2sGAADobf5d+rrADRgwQGFhYV5X+yorK72uCkpSbW2tPvjgAxUXF+v++++XJLW0tMjpdCo8PFzbt2/X9ddf77VcZGSkIiMjz08jAAAAeklQXAGMiIhQamqqCgsLPaYXFhYqPT3da36LxaKPPvpIJSUl7kdWVpaGDx+ukpISjRkzprdKBwAA6HVBcQVQknJycjRz5kylpaVp7NixWrNmjUpLS5WVlSXJ9fHtkSNH9NJLLyk0NFSjRo3yWD4hIUFRUVFe0wEAAIJN0ATA6dOnq7q6WkuXLlV5eblGjRqlgoICDR06VJJUXl7e6W8CAgAAmCBofgcwEPgdIQAALj6cv4PkHkAAAAD4jwAIAABgGAIgAACAYQiAAAAAhiEAAgAAGIYACAAAYBgCIAAAgGEIgAAAAIYhAAIAABiGAAgAAGAYAiAAAIBhCIAAAACGIQACAAAYhgAIAABgGAIgAACAYQiAAAAAhiEAAgAAGIYACAAAYBgCIAAAgGEIgAAAAIYhAAIAABiGAAgAAGAYAiAAAIBhCIAAAACGIQACAAAYhgAIAABgGAIgAACAYQiAAAAAhiEAAgAAGIYACAAAYBgCIAAAgGEIgAAAAIYhAAIAABiGAAgAAGAYAiAAAIBhCIAAAACGIQACAAAYhgAIAABgGAIgAACAYQiAAAAAhiEAAgAAGIYACAAAYBgCIAAAgGEIgAAAAIYhAAIAABiGAAgAAGAYAiAAAIBhCIAAAACGIQACAAAYhgAIAABgGAIgAACAYQiAAAAAhiEAAgAAGIYACAAAYBgCIAAAgGEIgAAAAIYJqgC4evVqpaSkKCoqSqmpqdq1a1e7827ZskU33nijBg4cKIvForFjx+qPf/xjL1YLAAAQGEETADdt2qTs7GwtWbJExcXFmjBhgiZOnKjS0lKf8+/cuVM33nijCgoKVFRUpOuuu06TJ09WcXFxL1cOAADQu0KcTqcz0EX0hDFjxmj06NHKy8tzTxsxYoSmTJmi3Nxcv9YxcuRITZ8+XT//+c/9mt/hcMhqtcput8tisZxT3QAAoHdx/g6SK4CNjY0qKipSRkaGx/SMjAzt2bPHr3W0tLSotrZW/fv3b3eehoYGORwOjwcAAMDFJigCYFVVlZqbm2Wz2Tym22w2VVRU+LWOZ555RnV1dZo2bVq78+Tm5spqtbofSUlJ3aobAAAgEIIiAJ4REhLi8dzpdHpN8+WVV17R448/rk2bNikhIaHd+RYvXiy73e5+lJWVdbtmAACA3hYe6AJ6woABAxQWFuZ1ta+ystLrqmBbmzZt0j333KPNmzfru9/9bofzRkZGKjIystv1AgAABFJQXAGMiIhQamqqCgsLPaYXFhYqPT293eVeeeUVzZ49Wxs3btTNN998vssEAAC4IATFFUBJysnJ0cyZM5WWlqaxY8dqzZo1Ki0tVVZWliTXx7dHjhzRSy+9JMkV/mbNmqXnnntO//Zv/+a+ehgdHS2r1RqwdgAAAJxvQRMAp0+frurqai1dulTl5eUaNWqUCgoKNHToUElSeXm5x28CPv/882pqatK8efM0b9489/TMzEytX7++t8sHAADoNUHzO4CBwO8IAQBw8eH8HST3AAIAAMB/BEAAAADDEAABAAAMQwAEAAAwDAEQAADAMARAAAAAwxAAAQAADEMABAAAMAwBEAAAwDAEQAAAAMMQAAEAAAxDAAQAADAMARAAAMAwBEAAAADDEAABAAAMQwAEAAAwDAEQAADAMARAAAAAwxAAAQAADEMABAAAMAwBEAAAwDAEQAAAAMMQAAEAAAxDAAQAADAMARAAAMAwBEAAAADDEAABAAAMQwAEAAAwDAEQAADAMARAAAAAwxAAAQAADEMABAAAMAwBEAAAwDAEQAAAAMMQAAEAAAxDAAQAADAMARAAAMAwBEAAAADDEAABAAAMQwAEAAAwDAEQAADAMARAAAAAwxAAAQAADEMABAAAMAwBEAAAwDAEQAAAAMMQAAEAAAxDAAQAADAMARAAAMAwBEAAAADDEAABAAAMQwAEAAAwDAEQAADAMARAAAAAwxAAAQAADBMe6AJwVt7oPFUWV55+9oUkZ6tXQwJQEQAAF4JoSVLCNQn68d9/HOBagkNQBcDVq1fr6aefVnl5uUaOHKlnn31WEyZMaHf+HTt2KCcnR/v27VNiYqIeeughZWVl9WLFZ50Nf2dCX1RA6gAA4MLjOjdWFlcqb3QeIbAHBE0A3LRpk7Kzs7V69WqNGzdOzz//vCZOnKj9+/crOTnZa/5Dhw5p0qRJ+tGPfqSXX35Z7733nu677z4NHDhQt912W6/XX/1xtVw7OFf6AADwzXn6fInuCnE6nc7OZ7vwjRkzRqNHj1ZeXp572ogRIzRlyhTl5uZ6zb9o0SJt27ZNBw4ccE/LysrShx9+qL179/q1TYfDIavVKrvdLovF0r0GHP6DfpGyUy1N0SIEAgDQllOh4V/oZ4eulYbc3K019ej5+yIVFF8CaWxsVFFRkTIyMjymZ2RkaM+ePT6X2bt3r9f8N910kz744AN9+eWXPpdpaGiQw+HwePSYnd/Tz/JXKDS87b1/AACY7nT4y18h7fxeoIsJCkERAKuqqtTc3CybzeYx3WazqaKiwucyFRUVPudvampSVVWVz2Vyc3NltVrdj6SkpJ5pQCs/y18hqbnH1wsAwMWr+fT5ET0lKALgGSEhnh+dOp1Or2mdze9r+hmLFy+W3W53P8rKyrpZsbdfZD4kKazH1wsAwMUr7PT5ET0lKL4EMmDAAIWFhXld7ausrPS6ynfGoEGDfM4fHh6u+Ph4n8tERkYqMjKyZ4pu69r/5h5AAAB8ClFLU7R+kfmQ6x5AdFtQXAGMiIhQamqqCgsLPaYXFhYqPT3d5zJjx471mn/79u1KS0tTnz59zlut7XlyeDHhDwCAdrlC4JPDiwNdSFAIiiuAkpSTk6OZM2cqLS1NY8eO1Zo1a1RaWur+Xb/FixfryJEjeumllyS5vvG7atUq5eTk6Ec/+pH27t2rF198Ua+88kpA6o8fHt/mdwABAICnEMUP9/0pHbomaALg9OnTVV1draVLl6q8vFyjRo1SQUGBhg4dKkkqLy9XaWmpe/6UlBQVFBRo4cKF+vWvf63ExET98pe/DMhvAErSj//+Y/4SCAAAPvGXQHpa0PwOYCDwO0IAAFx8OH8HyT2AAAAA8B8BEAAAwDAEQAAAAMMQAAEAAAxDAAQAADAMARAAAMAwBEAAAADDEAABAAAMQwAEAAAwTND8KbhAOPNHVBwOR4ArAQAA/jpz3jb5j6ERALuhtrZWkpSUlBTgSgAAQFfV1tbKarUGuoyA4G8Bd0NLS4uOHj2q2NhYhYSEBLqcC5LD4VBSUpLKysqM/XuLFxLG48LCeFxYGI8Ly/kcD6fTqdraWiUmJio01My74bgC2A2hoaEaMmRIoMu4KFgsFt5QLyCMx4WF8biwMB4XlvM1HqZe+TvDzNgLAABgMAIgAACAYQiAOK8iIyP12GOPKTIyMtClQIzHhYbxuLAwHhcWxuP84ksgAAAAhuEKIAAAgGEIgAAAAIYhAAIAABiGAAgAAGAYAiB6XG5urr75zW8qNjZWCQkJmjJlij7++ONAl4XTcnNzFRISouzs7ECXYrQjR47ohz/8oeLj49W3b19dffXVKioqCnRZRmpqatKjjz6qlJQURUdHa9iwYVq6dKlaWloCXZoRdu7cqcmTJysxMVEhISF6/fXXPV53Op16/PHHlZiYqOjoaH3nO9/Rvn37AlNsECEAosft2LFD8+bN01/+8hcVFhaqqalJGRkZqqurC3Rpxnv//fe1Zs0afeMb3wh0KUarqanRuHHj1KdPH7311lvav3+/nnnmGfXr1y/QpRnpqaee0m9+8xutWrVKBw4c0IoVK/T000/rV7/6VaBLM0JdXZ2uuuoqrVq1yufrK1as0MqVK7Vq1Sq9//77GjRokG688UbV1tb2cqXBhZ+BwXn3+eefKyEhQTt27NC1114b6HKMdfLkSY0ePVqrV6/Wk08+qauvvlrPPvtsoMsy0sMPP6z33ntPu3btCnQpkPS9731PNptNL774onvabbfdpr59++p3v/tdACszT0hIiLZu3aopU6ZIcl39S0xMVHZ2thYtWiRJamhokM1m01NPPaV77703gNVe3LgCiPPObrdLkvr37x/gSsw2b9483Xzzzfrud78b6FKMt23bNqWlpemOO+5QQkKCrrnmGv32t78NdFnGGj9+vP70pz/pk08+kSR9+OGH2r17tyZNmhTgynDo0CFVVFQoIyPDPS0yMlLf/va3tWfPngBWdvELD3QBCG5Op1M5OTkaP368Ro0aFehyjPXqq6/q73//u95///1AlwJJBw8eVF5ennJycvTII4/ob3/7m+bPn6/IyEjNmjUr0OUZZ9GiRbLb7bryyisVFham5uZmLVu2TD/4wQ8CXZrxKioqJEk2m81jus1m02effRaIkoIGARDn1f33369//OMf2r17d6BLMVZZWZkWLFig7du3KyoqKtDlQFJLS4vS0tK0fPlySdI111yjffv2KS8vjwAYAJs2bdLLL7+sjRs3auTIkSopKVF2drYSExOVmZkZ6PIg10fDrTmdTq9p6BoCIM6bn/zkJ9q2bZt27typIUOGBLocYxUVFamyslKpqanuac3Nzdq5c6dWrVqlhoYGhYWFBbBC8wwePFhf+9rXPKaNGDFCv//97wNUkdkefPBBPfzww7rzzjslSV//+tf12WefKTc3lwAYYIMGDZLkuhI4ePBg9/TKykqvq4LoGu4BRI9zOp26//77tWXLFr3zzjtKSUkJdElGu+GGG/TRRx+ppKTE/UhLS9Ndd92lkpISwl8AjBs3zuunkT755BMNHTo0QBWZ7dSpUwoN9TwdhoWF8TMwF4CUlBQNGjRIhYWF7mmNjY3asWOH0tPTA1jZxY8rgOhx8+bN08aNG/XGG28oNjbWfQ+H1WpVdHR0gKszT2xsrNf9lzExMYqPj+e+zABZuHCh0tPTtXz5ck2bNk1/+9vftGbNGq1ZsybQpRlp8uTJWrZsmZKTkzVy5EgVFxdr5cqVuvvuuwNdmhFOnjypTz/91P380KFDKikpUf/+/ZWcnKzs7GwtX75cl19+uS6//HItX75cffv21YwZMwJYdRBwAj1Mks/HunXrAl0aTvv2t7/tXLBgQaDLMNqbb77pHDVqlDMyMtJ55ZVXOtesWRPokozlcDicCxYscCYnJzujoqKcw4YNcy5ZssTZ0NAQ6NKM8Oc//9nnOSMzM9PpdDqdLS0tzscee8w5aNAgZ2RkpPPaa691fvTRR4EtOgjwO4AAAACG4R5AAAAAwxAAAQAADEMABAAAMAwBEAAAwDAEQAAAAMMQAAEAAAxDAAQAADAMARAAAMAwBEAAAADDEAABAAAMQwAEAAAwDAEQAADAMARAAAAAwxAAAQAADEMABAAAMAwBEAAAwDAEQAAAAMMQAAEAAAxDAAQAADAMARAAAMAwBEAAAADDEAABAAAMQwAEAAAwDAEQAADAMARAAAAAwxAAAQAADEMABAAAMAwBEAAAwDAEQAAAAMMQAAEAAAxDAAQAADDM/wccUy0zZmPyvwAAAABJRU5ErkJggg==' width=640.0/>\n",
       "            </div>\n",
       "        "
      ],
      "text/plain": [
       "Canvas(toolbar=Toolbar(toolitems=[('Home', 'Reset original view', 'home', 'home'), ('Back', 'Back to previous …"
      ]
     },
     "metadata": {},
     "output_type": "display_data"
    }
   ],
   "source": [
    "plt.figure()\n",
    "j = 2\n",
    "# plt.plot(np.linspace(1,10,11763), intensities_test[j])\n",
    "plt.scatter(np.linspace(1,10,11763), b_peaks_pred[j], color='orange')\n",
    "plt.scatter(np.linspace(1,10,11763), binary_peaks_test[j], marker='x', color='purple')"
   ]
  },
  {
   "cell_type": "code",
   "execution_count": 858,
   "id": "4facfcec-361b-424a-9abc-0a5f2adc30bf",
   "metadata": {},
   "outputs": [],
   "source": [
    "plt.close()"
   ]
  },
  {
   "cell_type": "code",
   "execution_count": 859,
   "id": "b5f54848-5720-41ef-aa13-85fb8ce32d1a",
   "metadata": {},
   "outputs": [
    {
     "data": {
      "application/vnd.jupyter.widget-view+json": {
       "model_id": "fbdbb140b5b34ca6bf9819bc472b9187",
       "version_major": 2,
       "version_minor": 0
      },
      "image/png": "[encoded data removed]",
      "text/html": [
       "\n",
       "            <div style=\"display: inline-block;\">\n",
       "                <div class=\"jupyter-widgets widget-label\" style=\"text-align: center;\">\n",
       "                    Figure\n",
       "                </div>\n",
       "                <img src='data:image/png;base64,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' width=640.0/>\n",
       "            </div>\n",
       "        "
      ],
      "text/plain": [
       "Canvas(toolbar=Toolbar(toolitems=[('Home', 'Reset original view', 'home', 'home'), ('Back', 'Back to previous …"
      ]
     },
     "metadata": {},
     "output_type": "display_data"
    },
    {
     "data": {
      "text/plain": [
       "<matplotlib.collections.PathCollection at 0x146b5fa87410>"
      ]
     },
     "execution_count": 859,
     "metadata": {},
     "output_type": "execute_result"
    }
   ],
   "source": [
    "plt.figure()\n",
    "j = 2\n",
    "\n",
    "x = np.linspace(1, 10, 11763)\n",
    "y = b_peaks_pred[j]\n",
    "yerr = uncertainties[j]\n",
    "\n",
    "# Mask for values greater than 0\n",
    "mask = y > 0\n",
    "\n",
    "# Plot only the valid values\n",
    "plt.errorbar(x[mask], y[mask], yerr=yerr[mask], marker='o', color='orange')\n",
    "plt.xlabel(\"X\")\n",
    "plt.ylabel(\"b_peaks_pred[0]\")\n",
    "plt.title(\"Filtered Errorbar Plot\")\n",
    "plt.show()\n",
    "\n",
    "plt.scatter(np.linspace(1,10,11763), binary_peaks_test[j], marker='x', color='purple')"
   ]
  },
  {
   "cell_type": "code",
   "execution_count": 851,
   "id": "db3ad1cb-7084-4093-88a0-42190e9d86e8",
   "metadata": {},
   "outputs": [],
   "source": [
    "plt.close()"
   ]
  },
  {
   "cell_type": "code",
   "execution_count": 852,
   "id": "41ab2a70-11e2-455f-b777-81a2a0751c20",
   "metadata": {},
   "outputs": [
    {
     "data": {
      "application/vnd.jupyter.widget-view+json": {
       "model_id": "e5d0eee3a5504090b05fea872ff85b16",
       "version_major": 2,
       "version_minor": 0
      },
      "image/png": "[encoded data removed]",
      "text/html": [
       "\n",
       "            <div style=\"display: inline-block;\">\n",
       "                <div class=\"jupyter-widgets widget-label\" style=\"text-align: center;\">\n",
       "                    Figure\n",
       "                </div>\n",
       "                <img src='data:image/png;base64,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' width=640.0/>\n",
       "            </div>\n",
       "        "
      ],
      "text/plain": [
       "Canvas(toolbar=Toolbar(toolitems=[('Home', 'Reset original view', 'home', 'home'), ('Back', 'Back to previous …"
      ]
     },
     "metadata": {},
     "output_type": "display_data"
    },
    {
     "data": {
      "text/plain": [
       "<matplotlib.collections.PathCollection at 0x146b5fe61750>"
      ]
     },
     "execution_count": 852,
     "metadata": {},
     "output_type": "execute_result"
    }
   ],
   "source": [
    "plt.figure()\n",
    "j = 0\n",
    "\n",
    "x = np.linspace(1, 10, 11763)\n",
    "y = b_peaks_pred[j]\n",
    "yerr = uncertainties[j]\n",
    "\n",
    "# Mask for values greater than 0\n",
    "mask = y == 0\n",
    "\n",
    "# Plot only the valid values\n",
    "plt.errorbar(x[mask], y[mask], yerr=yerr[mask], color='orange')\n",
    "plt.xlabel(\"X\")\n",
    "plt.ylabel(\"b_peaks_pred[0]\")\n",
    "plt.title(\"Filtered Errorbar Plot\")\n",
    "plt.show()\n",
    "\n",
    "plt.scatter(np.linspace(1,10,11763), binary_peaks_test[j], marker='x', color='purple')"
   ]
  },
  {
   "cell_type": "code",
   "execution_count": 873,
   "id": "e16d339c-655b-4224-8e79-1bb6c0cc1d7d",
   "metadata": {},
   "outputs": [],
   "source": [
    "plt.close()"
   ]
  },
  {
   "cell_type": "code",
   "execution_count": 874,
   "id": "fe24180c-b732-423d-861c-8ea107a0f15f",
   "metadata": {},
   "outputs": [
    {
     "data": {
      "text/plain": [
       "[<matplotlib.lines.Line2D at 0x146b5f5d74d0>]"
      ]
     },
     "execution_count": 874,
     "metadata": {},
     "output_type": "execute_result"
    },
    {
     "data": {
      "application/vnd.jupyter.widget-view+json": {
       "model_id": "a48ec2946ea24b16993d0507aadeaf09",
       "version_major": 2,
       "version_minor": 0
      },
      "image/png": "[encoded data removed]",
      "text/html": [
       "\n",
       "            <div style=\"display: inline-block;\">\n",
       "                <div class=\"jupyter-widgets widget-label\" style=\"text-align: center;\">\n",
       "                    Figure\n",
       "                </div>\n",
       "                <img src='data:image/png;base64,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' width=640.0/>\n",
       "            </div>\n",
       "        "
      ],
      "text/plain": [
       "Canvas(toolbar=Toolbar(toolitems=[('Home', 'Reset original view', 'home', 'home'), ('Back', 'Back to previous …"
      ]
     },
     "metadata": {},
     "output_type": "display_data"
    },
    {
     "data": {
      "application/vnd.jupyter.widget-view+json": {
       "model_id": "6f62369506de49c2822ab95f358d6a5a",
       "version_major": 2,
       "version_minor": 0
      },
      "image/png": "[encoded data removed]",
      "text/html": [
       "\n",
       "            <div style=\"display: inline-block;\">\n",
       "                <div class=\"jupyter-widgets widget-label\" style=\"text-align: center;\">\n",
       "                    Figure\n",
       "                </div>\n",
       "                <img src='data:image/png;base64,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' width=640.0/>\n",
       "            </div>\n",
       "        "
      ],
      "text/plain": [
       "Canvas(toolbar=Toolbar(toolitems=[('Home', 'Reset original view', 'home', 'home'), ('Back', 'Back to previous …"
      ]
     },
     "metadata": {},
     "output_type": "display_data"
    }
   ],
   "source": [
    "plt.figure()\n",
    "j = 4\n",
    "plt.plot(np.linspace(1,10,11763), intensities_test[j])\n",
    "plt.figure()\n",
    "\n",
    "plt.plot(np.linspace(1,10,11763), confidences[j], color='blue')\n",
    "\n",
    "# plt.scatter(np.linspace(1,10,11763), b_peaks_pred[j], color='orange')\n",
    "# plt.scatter(np.linspace(1,10,11763), binary_peaks_test[j], marker='x', color='purple')"
   ]
  },
  {
   "cell_type": "markdown",
   "id": "908dc824-688c-4ee7-b0e4-06ff318c1679",
   "metadata": {},
   "source": [
    "## Scratch Code"
   ]
  },
  {
   "cell_type": "code",
   "execution_count": 516,
   "id": "d904ffaa-ae08-480f-a183-2c3a7e80c0e7",
   "metadata": {},
   "outputs": [
    {
     "data": {
      "text/plain": [
       "<matplotlib.collections.PathCollection at 0x146cbbf35e50>"
      ]
     },
     "execution_count": 516,
     "metadata": {},
     "output_type": "execute_result"
    },
    {
     "data": {
      "application/vnd.jupyter.widget-view+json": {
       "model_id": "b5358abd6382455fabbef2ed1356f08b",
       "version_major": 2,
       "version_minor": 0
      },
      "image/png": "[encoded data removed]",
      "text/html": [
       "\n",
       "            <div style=\"display: inline-block;\">\n",
       "                <div class=\"jupyter-widgets widget-label\" style=\"text-align: center;\">\n",
       "                    Figure\n",
       "                </div>\n",
       "                <img src='data:image/png;base64,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' width=640.0/>\n",
       "            </div>\n",
       "        "
      ],
      "text/plain": [
       "Canvas(toolbar=Toolbar(toolitems=[('Home', 'Reset original view', 'home', 'home'), ('Back', 'Back to previous …"
      ]
     },
     "metadata": {},
     "output_type": "display_data"
    }
   ],
   "source": [
    "plt.close()\n",
    "plt.figure()\n",
    "j = 0\n",
    "plt.plot(np.linspace(1,10,11763), intensities_test[j])\n",
    "plt.errorbar(np.linspace(1,10,11763), b_peaks_pred[j], yerr=probabilities, marker='o', color='orange')\n",
    "plt.scatter(np.linspace(1,10,11763), binary_peaks_test[j], marker='x', color='purple')"
   ]
  },
  {
   "cell_type": "code",
   "execution_count": 158,
   "id": "83a6319d-1e60-4969-9dfd-fee9613766f7",
   "metadata": {},
   "outputs": [
    {
     "data": {
      "text/plain": [
       "(200, 11763)"
      ]
     },
     "execution_count": 158,
     "metadata": {},
     "output_type": "execute_result"
    }
   ],
   "source": [
    "b_peaks_pred.shape"
   ]
  },
  {
   "cell_type": "code",
   "execution_count": 185,
   "id": "3c759936-3567-42cc-8766-63ef2387a503",
   "metadata": {},
   "outputs": [
    {
     "name": "stdout",
     "output_type": "stream",
     "text": [
      "0.99657740372354\n"
     ]
    }
   ],
   "source": [
    "all_accs = []\n",
    "\n",
    "for j in range(b_peaks_pred.shape[0]):\n",
    "    all_accs.append(accuracy_score(binary_peaks_test[j], b_peaks_pred[j]))\n",
    "\n",
    "print(np.mean(all_accs))"
   ]
  },
  {
   "cell_type": "code",
   "execution_count": 207,
   "id": "07ee2b42-a07c-4c2b-97f0-8237db7326ba",
   "metadata": {},
   "outputs": [
    {
     "data": {
      "application/vnd.jupyter.widget-view+json": {
       "model_id": "ee1373c24f094a729023e0a5e6991ad9",
       "version_major": 2,
       "version_minor": 0
      },
      "image/png": "[encoded data removed]",
      "text/html": [
       "\n",
       "            <div style=\"display: inline-block;\">\n",
       "                <div class=\"jupyter-widgets widget-label\" style=\"text-align: center;\">\n",
       "                    Figure\n",
       "                </div>\n",
       "                <img src='data:image/png;base64,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' width=640.0/>\n",
       "            </div>\n",
       "        "
      ],
      "text/plain": [
       "Canvas(toolbar=Toolbar(toolitems=[('Home', 'Reset original view', 'home', 'home'), ('Back', 'Back to previous …"
      ]
     },
     "metadata": {},
     "output_type": "display_data"
    }
   ],
   "source": [
    "plt.close()\n",
    "\n",
    "plt.scatter(np.linspace(0,10,11763), np.array(binary_peaks_test[0]), marker='.')\n",
    "plt.scatter(np.linspace(0,10,11763), b_peaks_pred[0], marker='x')\n",
    "# for i in range(intensities_test.shape[0]):\n",
    "plt.plot(np.linspace(0,10,11763), intensities_test[0])\n",
    "plt.show()\n",
    "\n",
    "# plot full patterns\n",
    "# plot only the 1s"
   ]
  },
  {
   "cell_type": "code",
   "execution_count": 167,
   "id": "b580c4b0-4eb0-41b6-9e15-8b80fc532d9d",
   "metadata": {},
   "outputs": [
    {
     "name": "stdout",
     "output_type": "stream",
     "text": [
      "128\n",
      "121\n",
      "[array([0, 0, 0, ..., 0, 0, 0]), array([0, 0, 0, ..., 0, 0, 0]), array([0, 0, 0, ..., 0, 0, 0])]\n",
      "[[0 0 0 ... 0 0 0]\n",
      " [0 0 0 ... 0 0 0]\n",
      " [0 0 0 ... 0 0 0]]\n",
      "[0 0 0 0 0 0 0 0 0 0 0 0 0 0 0 0 0 0 0 0 0 0 0 0 0 0 0 0 0 0 0 0 0 0 0 0 0\n",
      " 0 0 0 0 0 0 0 0 0 0 0 0 0 0 0 0 0 0 0 0 0 0 0 0 0 0 0 0 0 0 0 0 0 0 0 0 0\n",
      " 0 0 0 0 0 0 0 0 0 0 0 0 0 0 0 0 0 0 0 0 0 0 0 0 1 1 1 1 1 1 1 1 1 1 1 1 1\n",
      " 1 1 1 1 1 1 1 1 1 1 1 1 1 1 1 1 1 1 1 1 1 1 1 1 1 1 1 1 1 1 1 1 1 1 1 1 1\n",
      " 1 1 1 1 1 1 1 1 2 2 2 2 2 2 2 2 2 2 2 2 2 2 2 2 2 2 2 2 2 2 2 2 2 2 2 2 2\n",
      " 2 2 2 2 2 2 2 2 2 2 2 2 2 2 2 2 2 2 2 2 2 2 2 2 2 2 2 2 2 2 2 2 2 2 2 2 2\n",
      " 2 2 2 2 2 2 2 2 2 2 2 2 2 2 2 2 2 2 2 2 2]\n"
     ]
    }
   ],
   "source": [
    "print(np.count_nonzero(binary_peaks_test))\n",
    "print(np.count_nonzero(b_peaks_pred))\n",
    "print(binary_peaks_test)\n",
    "print(b_peaks_pred)\n",
    "diff_indices = np.where(binary_peaks_test != b_peaks_pred)[0]\n",
    "print(diff_indices)"
   ]
  },
  {
   "cell_type": "code",
   "execution_count": 168,
   "id": "fa028198-af31-47d8-86d3-44c2a2d0ab72",
   "metadata": {},
   "outputs": [],
   "source": [
    "# If it's a list with one array:\n",
    "binary_peaks_test = binary_peaks_test[0]"
   ]
  },
  {
   "cell_type": "code",
   "execution_count": 170,
   "id": "ee8e264d-1657-4696-939f-d5d6588b5e59",
   "metadata": {},
   "outputs": [
    {
     "name": "stdout",
     "output_type": "stream",
     "text": [
      "98\n"
     ]
    }
   ],
   "source": [
    "print(len(diffs))"
   ]
  },
  {
   "cell_type": "code",
   "execution_count": 85,
   "id": "802d588f-2472-42e1-bf8f-dacf1d19ddaa",
   "metadata": {},
   "outputs": [
    {
     "name": "stdout",
     "output_type": "stream",
     "text": [
      "[1 1 0 0 1 0 0 1 0 0 1 0 0 1 1 0 0 1 0 0]\n"
     ]
    }
   ],
   "source": [
    "print(b_peaks_pred[0][70:90])"
   ]
  },
  {
   "cell_type": "code",
   "execution_count": 79,
   "id": "17d34fce-8b73-4ab0-a837-ce6806d4cef8",
   "metadata": {},
   "outputs": [
    {
     "name": "stdout",
     "output_type": "stream",
     "text": [
      "71\n"
     ]
    }
   ],
   "source": [
    "count = np.count_nonzero(b_peaks_pred[0] == 1)\n",
    "print(count)"
   ]
  },
  {
   "cell_type": "code",
   "execution_count": 90,
   "id": "0232f807-0b67-4e15-8eba-2a92d00092ed",
   "metadata": {},
   "outputs": [
    {
     "name": "stdout",
     "output_type": "stream",
     "text": [
      "4\n"
     ]
    }
   ],
   "source": [
    "count = np.count_nonzero(binary_peaks_test[0][70:] == 1)\n",
    "print(count)"
   ]
  },
  {
   "cell_type": "code",
   "execution_count": 103,
   "id": "610f2950-510c-4a3e-8b16-31b4fc4905d7",
   "metadata": {},
   "outputs": [],
   "source": [
    "%matplotlib widget"
   ]
  },
  {
   "cell_type": "code",
   "execution_count": 148,
   "id": "55dc2773-00fa-4925-9e57-389774384551",
   "metadata": {},
   "outputs": [
    {
     "name": "stdout",
     "output_type": "stream",
     "text": [
      "[ 2  3  6  9 10 13 16 17 20 23 26 29 30 33 36 37 40 43 44]\n"
     ]
    },
    {
     "data": {
      "application/vnd.jupyter.widget-view+json": {
       "model_id": "f92d5f5c503e497ba26c401cc9bd8afd",
       "version_major": 2,
       "version_minor": 0
      },
      "image/png": "[encoded data removed]",
      "text/html": [
       "\n",
       "            <div style=\"display: inline-block;\">\n",
       "                <div class=\"jupyter-widgets widget-label\" style=\"text-align: center;\">\n",
       "                    Figure\n",
       "                </div>\n",
       "                <img src='data:image/png;base64,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' width=640.0/>\n",
       "            </div>\n",
       "        "
      ],
      "text/plain": [
       "Canvas(toolbar=Toolbar(toolitems=[('Home', 'Reset original view', 'home', 'home'), ('Back', 'Back to previous …"
      ]
     },
     "metadata": {},
     "output_type": "display_data"
    },
    {
     "name": "stdout",
     "output_type": "stream",
     "text": [
      "[1.01409262 1.0211179  1.04219374 1.06326962 1.07029492 1.09137084\n",
      " 1.11244681 1.11947214 1.14054815 1.1616242  1.1827003  1.20377643\n",
      " 1.21080181 1.231878   1.25295423 1.25997965 1.28105593 1.30213226\n",
      " 1.30915771]\n"
     ]
    }
   ],
   "source": [
    "%matplotlib widget\n",
    "\n",
    "import matplotlib.cm as cm\n",
    "colors = cm.plasma(np.linspace(0,1, num_patterns))\n",
    "\n",
    "# if num_patterns < 6:\n",
    "\n",
    "#     plt.figure()\n",
    "    \n",
    "#     for i in range(num_patterns):\n",
    "        \n",
    "#         plt.plot(tths[i],intensities[i], c=colors[i], alpha=0.8, label=f'{i}')\n",
    "#         # plt.scatter(correct_refs[i][0], correct_refs[i][1], marker='x', color=colors[i])\n",
    "#         for j in range(len(all_variations[i])):\n",
    "#             plt.scatter(all_variations[i][j][2], all_variations[i][j][3], marker='x', color=colors[i])\n",
    "#             plt.scatter(binary_peaks[0], marker='o', color='blue')\n",
    "#     plt.legend()\n",
    "#     plt.show()\n",
    "\n",
    "plt.figure()\n",
    "    \n",
    "i = 0\n",
    "plt.plot(tths[i],intensities[i], c=colors[i], alpha=0.8, label=f'{i}')\n",
    "indices = np.where(binary_peaks[0] == 1)\n",
    "print(indices[0])\n",
    "\n",
    "# plt.scatter(correct_refs[i][0], correct_refs[i][1], marker='x', color=colors[i])\n",
    "for j in range(len(all_variations[i])):\n",
    "    plt.scatter(all_variations[i][j][2], all_variations[i][j][3], marker='x', color=colors[i])\n",
    "\n",
    "plt.scatter(tths[0][indices], intensities[0][indices], marker='o', color='blue')\n",
    "    # plt.scatter(binary_peaks[0], marker='o', color='blue')\n",
    "\n",
    "plt.legend()\n",
    "plt.show()\n",
    "print(tths[0][indices])"
   ]
  },
  {
   "cell_type": "code",
   "execution_count": 138,
   "id": "01b7c0e8-ac5d-4e6a-a6f4-c71de85064af",
   "metadata": {},
   "outputs": [
    {
     "name": "stdout",
     "output_type": "stream",
     "text": [
      "[0. 0. 1. ... 0. 0. 0.]\n"
     ]
    }
   ],
   "source": []
  },
  {
   "cell_type": "code",
   "execution_count": 104,
   "id": "042790da-20b8-48e9-8560-b6185ff4b3b6",
   "metadata": {},
   "outputs": [
    {
     "name": "stdout",
     "output_type": "stream",
     "text": [
      "[-0.86654425 -0.86656016 -0.86657606 ... -3.62749488 -3.60148759\n",
      " -3.57547671]\n"
     ]
    },
    {
     "data": {
      "application/vnd.jupyter.widget-view+json": {
       "model_id": "700910de6e424c8fa88f9d1e448aa1c8",
       "version_major": 2,
       "version_minor": 0
      },
      "image/png": "[encoded data removed]",
      "text/html": [
       "\n",
       "            <div style=\"display: inline-block;\">\n",
       "                <div class=\"jupyter-widgets widget-label\" style=\"text-align: center;\">\n",
       "                    Figure\n",
       "                </div>\n",
       "                <img src='data:image/png;base64,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' width=640.0/>\n",
       "            </div>\n",
       "        "
      ],
      "text/plain": [
       "Canvas(toolbar=Toolbar(toolitems=[('Home', 'Reset original view', 'home', 'home'), ('Back', 'Back to previous …"
      ]
     },
     "metadata": {},
     "output_type": "display_data"
    }
   ],
   "source": [
    "plt.plot(intensities_test[0])\n",
    "\n",
    "for i in range(len(binary_peaks_test[0])):\n",
    "    if binary_peaks_test[0][i] == 1:\n",
    "        plt.plot(binary_peaks_test[0][i], marker='x', color='red')\n",
    "\n",
    "print(intensities_test[0])"
   ]
  },
  {
   "cell_type": "code",
   "execution_count": null,
   "id": "27d9c3bb-a118-4c89-8589-1b680dfb9429",
   "metadata": {},
   "outputs": [],
   "source": [
    "def prob_norm(array):\n",
    "    array_sum = array.sum()\n",
    "    if array_sum != 0:\n",
    "        array_norm = array / array_sum\n",
    "    else:\n",
    "        array_norm = np.ones_like(array) / len(array) # set to a uniform distribution\n",
    "    return array_norm\n",
    "def minmax_norm(array):\n",
    "    array_norm = (array - array.min()) / (array.max() - array.min())\n",
    "    return array_norm"
   ]
  },
  {
   "cell_type": "code",
   "execution_count": null,
   "id": "b9d42266-94d1-4052-9eea-808cfc81a038",
   "metadata": {},
   "outputs": [],
   "source": [
    "accuracy = accuracy_score(binary_peaks_test[0], b_peaks_pred[0])\n",
    "print(accuracy)\n",
    "\n",
    "from sklearn.metrics import silhouette_samples, silhouette_score, classification_report, f1_score, precision_score, recall_score\n",
    "\n",
    "all_f1s = []\n",
    "\n",
    "for j in range(b_peaks_pred.shape[0]):\n",
    "    f1 = f1_score(binary_peaks_test[j], b_peaks_pred[j], average=None)\n",
    "    all_f1s.append(f1)\n",
    "\n",
    "print(np.mean(all_f1s))"
   ]
  }
 ],
 "metadata": {
  "kernelspec": {
   "display_name": "internship",
   "language": "python",
   "name": "python3"
  },
  "language_info": {
   "codemirror_mode": {
    "name": "ipython",
    "version": 3
   },
   "file_extension": ".py",
   "mimetype": "text/x-python",
   "name": "python",
   "nbconvert_exporter": "python",
   "pygments_lexer": "ipython3",
   "version": "3.13.5"
  }
 },
 "nbformat": 4,
 "nbformat_minor": 5
}
