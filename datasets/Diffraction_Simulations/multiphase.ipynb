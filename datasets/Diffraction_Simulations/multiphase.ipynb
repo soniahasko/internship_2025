{
 "cells": [
  {
   "cell_type": "code",
   "execution_count": 1,
   "id": "f58591e2",
   "metadata": {},
   "outputs": [],
   "source": [
    "import Dans_Diffraction as dif\n",
    "import Dans_Diffraction.functions_scattering as fs\n",
    "import numpy as np\n",
    "import matplotlib.pyplot as plt\n",
    "import os, sys\n",
    "import csv\n",
    "from tqdm import tqdm\n",
    "import xarray as xr\n",
    "from zipfile import ZipFile, ZIP_DEFLATED"
   ]
  },
  {
   "cell_type": "code",
   "execution_count": 20,
   "id": "0e998861",
   "metadata": {},
   "outputs": [],
   "source": [
    "def add_noise_by_percentage(signal, noise_percentage):\n",
    "        \"\"\"\n",
    "        Add random noise to a NumPy array based on a percentage of the maximum signal value.\n",
    "\n",
    "        Parameters:\n",
    "            signal (numpy.ndarray): The original signal array.\n",
    "            noise_percentage (float): Percentage of the maximum signal value to use as noise.\n",
    "\n",
    "        Returns:\n",
    "            noisy_signal (numpy.ndarray): The signal array with added noise.\n",
    "        \"\"\"\n",
    "        # Find the maximum value in the signal\n",
    "        max_value = np.max(np.abs(signal))\n",
    "\n",
    "        # Calculate the noise standard deviation as a percentage of the max signal value\n",
    "        noise_std = (noise_percentage / 100) * max_value\n",
    "\n",
    "        # Generate random Gaussian noise with zero mean and calculated standard deviation\n",
    "        noise = np.random.normal(0.005, noise_std, signal.shape)\n",
    "\n",
    "        # Add the noise to the original signal\n",
    "        noisy_signal = signal + noise\n",
    "\n",
    "        return noisy_signal"
   ]
  },
  {
   "cell_type": "code",
   "execution_count": 2,
   "id": "cfa9fb03",
   "metadata": {},
   "outputs": [],
   "source": [
    "cif_list = ['NaCl_cubic', 'BaSO4_orthorhombic']\n",
    "cif_files_lst = [f'cif_files/{f}.cif' for f in cif_list]\n",
    "\n",
    "crystals = [dif.Crystal(cif_file) for cif_file in cif_files_lst]\n",
    "multi_xtl = dif.MultiCrystal(crystals)"
   ]
  },
  {
   "cell_type": "code",
   "execution_count": 3,
   "id": "78bd7766",
   "metadata": {},
   "outputs": [],
   "source": [
    "# Set up scattering parameters\n",
    "energy_kev = 12.398 / 0.1665\n",
    "min_twotheta = 1\n",
    "max_twotheta = 10\n",
    "scattering_type = 'xray'\n",
    "num_patterns = 20"
   ]
  },
  {
   "cell_type": "code",
   "execution_count": 4,
   "id": "4a8705f4",
   "metadata": {},
   "outputs": [],
   "source": [
    "# Set up scatter\n",
    "multi_xtl.setup_scatter(\n",
    "    scattering_type=scattering_type, \n",
    "    powder_units='twotheta', \n",
    "    energy_kev=energy_kev,\n",
    "    min_twotheta=min_twotheta,\n",
    "    max_twotheta=max_twotheta,\n",
    "    output=False,\n",
    "    powder_lorentz=1\n",
    ")"
   ]
  },
  {
   "cell_type": "code",
   "execution_count": 5,
   "id": "88ba1240",
   "metadata": {},
   "outputs": [],
   "source": [
    "# Vary lattice parameters\n",
    "all_lps = np.linspace(crystals[0].Cell.lp(), crystals[0].Cell.lp()*np.array([2,2,2,1,1,1]), num_patterns)"
   ]
  },
  {
   "cell_type": "code",
   "execution_count": 6,
   "id": "aedae1c9",
   "metadata": {},
   "outputs": [],
   "source": [
    "# Make lists to hold data\n",
    "tths = []\n",
    "intensities = []\n",
    "all_reflections = []"
   ]
  },
  {
   "cell_type": "code",
   "execution_count": 7,
   "id": "1e9fe53c",
   "metadata": {},
   "outputs": [
    {
     "name": "stderr",
     "output_type": "stream",
     "text": [
      "Simulating multiphase patterns: 100%|██████████| 20/20 [00:02<00:00,  7.20it/s]\n"
     ]
    }
   ],
   "source": [
    "# Iter thru patterns for all crystals\n",
    "\n",
    "for i in tqdm(range(num_patterns), desc=\"Simulating multiphase patterns\"):\n",
    "    # Set lattice for each crystal\n",
    "    for xtl in multi_xtl.crystal_list:\n",
    "        xtl.Cell.latt(all_lps[i])\n",
    "\n",
    "    # Initialize arrays for summing\n",
    "    combined_intensity = None\n",
    "    combined_tth = None\n",
    "    combined_refl = []\n",
    "\n",
    "    for xtl in multi_xtl.crystal_list:\n",
    "        tth, inten, refl = xtl.Scatter.powder(return_hkl=True)\n",
    "\n",
    "        if combined_intensity is None:\n",
    "            combined_tth = tth\n",
    "            combined_intensity = inten\n",
    "        else:\n",
    "            combined_intensity += inten  # sum intensities across phases\n",
    "\n",
    "        combined_refl.extend(refl)\n",
    "\n",
    "    tths.append(combined_tth)\n",
    "    intensities.append(combined_intensity)\n",
    "    all_reflections.append(combined_refl)\n"
   ]
  },
  {
   "cell_type": "code",
   "execution_count": 8,
   "id": "2f2138a1",
   "metadata": {},
   "outputs": [],
   "source": [
    "# Turn lists to arrays\n",
    "tths = np.array(tths)\n",
    "intensities = np.array(intensities)"
   ]
  },
  {
   "cell_type": "code",
   "execution_count": 9,
   "id": "fbf4625b",
   "metadata": {},
   "outputs": [],
   "source": [
    "# Prepare binary arrays for indexing peaks\n",
    "binary_peaks = []\n",
    "tol = 0.1\n",
    "for i in range(num_patterns):\n",
    "    peaks = np.zeros_like(tths[i], dtype=int)\n",
    "    for ref in all_reflections[i]:\n",
    "        tth_val = ref[3]\n",
    "        idx = np.argmin(np.abs(tths[i] - tth_val))\n",
    "        if np.abs(tths[i][idx] - tth_val) < tol:\n",
    "            peaks[idx-5:idx+8] = 1\n",
    "    binary_peaks.append(peaks)\n",
    "\n",
    "binary_peaks = np.array(binary_peaks)"
   ]
  },
  {
   "cell_type": "code",
   "execution_count": 21,
   "id": "c145f625",
   "metadata": {},
   "outputs": [],
   "source": [
    "noisy_intensities = add_noise_by_percentage(intensities, 0.05)"
   ]
  },
  {
   "cell_type": "code",
   "execution_count": 23,
   "id": "543a6a2d",
   "metadata": {},
   "outputs": [],
   "source": [
    "ds = xr.Dataset(\n",
    "    {\n",
    "        \"Intensities\": ([\"pattern\", \"x\"], noisy_intensities),\n",
    "        \"BinaryArr\": ([\"pattern\", \"x\"], binary_peaks)\n",
    "    },\n",
    "    coords={\n",
    "        \"pattern\": np.arange(num_patterns),\n",
    "        \"x\": np.linspace(min_twotheta, max_twotheta, noisy_intensities.shape[1])\n",
    "    },\n",
    "    attrs={\n",
    "        \"CIFs\": cif_list,\n",
    "        \"description\": \"Multiphase powder diffraction simulated with MultiCrystal\",\n",
    "        \"energy_kev\": energy_kev\n",
    "    }\n",
    ")"
   ]
  },
  {
   "cell_type": "code",
   "execution_count": 24,
   "id": "546c741c",
   "metadata": {},
   "outputs": [
    {
     "data": {
      "image/png": "[encoded data removed]",
      "text/plain": [
       "<Figure size 640x480 with 1 Axes>"
      ]
     },
     "metadata": {},
     "output_type": "display_data"
    }
   ],
   "source": [
    "plt.figure()\n",
    "intens = ds[\"Intensities\"].values\n",
    "bins = ds[\"BinaryArr\"].values\n",
    "x = ds[\"x\"].values\n",
    "\n",
    "colors = ['purple', 'green', 'orange']\n",
    "\n",
    "for i in range(3):\n",
    "    plt.plot(x, intens[i], color=colors[i], label=f'Pattern {i}')\n",
    "\n",
    "plt.legend()\n",
    "plt.show()"
   ]
  },
  {
   "cell_type": "code",
   "execution_count": 25,
   "id": "26c3a6a0",
   "metadata": {},
   "outputs": [
    {
     "data": {
      "image/png": "[encoded data removed]",
      "text/plain": [
       "<Figure size 640x480 with 1 Axes>"
      ]
     },
     "metadata": {},
     "output_type": "display_data"
    }
   ],
   "source": [
    "plt.figure()\n",
    "\n",
    "plt.plot(x, intens[0], color='purple', label='Pattern 0')\n",
    "plt.plot(x, intens[9], color='green', label='Pattern 9')\n",
    "plt.plot(x, intens[19], color='orange', label='Pattern 19')\n",
    "\n",
    "plt.legend()\n",
    "plt.show()"
   ]
  },
  {
   "cell_type": "markdown",
   "id": "495f8b94",
   "metadata": {},
   "source": [
    "BELOW AND ABOVE ARE DIFFERENT!"
   ]
  },
  {
   "cell_type": "code",
   "execution_count": null,
   "id": "2eae5572",
   "metadata": {},
   "outputs": [],
   "source": []
  },
  {
   "cell_type": "code",
   "execution_count": 1,
   "id": "548c09ae",
   "metadata": {},
   "outputs": [],
   "source": [
    "# Import relevant libraries\n",
    "\n",
    "import Dans_Diffraction as dif\n",
    "import Dans_Diffraction.functions_scattering as fs\n",
    "import numpy as np\n",
    "import matplotlib.pyplot as plt\n",
    "import sys\n",
    "from tqdm import tqdm"
   ]
  },
  {
   "cell_type": "code",
   "execution_count": 2,
   "id": "4a561214",
   "metadata": {},
   "outputs": [],
   "source": [
    "# all crystals that will be in multi-phase pattern\n",
    "all_crystals = ['BaSO4_orthorhombic', 'NaCl_cubic']\n",
    "cif_files = [f'cif_files/{i}.cif' for i in all_crystals]\n",
    "\n",
    "# Create crystal objects for the crystals, put in list\n",
    "xtls = [dif.Crystal(i) for i in cif_files]\n",
    "\n",
    "multi_xtl = dif.MultiCrystal(xtls)"
   ]
  },
  {
   "cell_type": "code",
   "execution_count": 3,
   "id": "f323fbd5",
   "metadata": {},
   "outputs": [
    {
     "data": {
      "text/plain": [
       "MultiCrystal([BaSO4_orthorhombic, NaCl_cubic])"
      ]
     },
     "execution_count": 3,
     "metadata": {},
     "output_type": "execute_result"
    }
   ],
   "source": [
    "multi_xtl"
   ]
  },
  {
   "cell_type": "code",
   "execution_count": 4,
   "id": "830890fb",
   "metadata": {},
   "outputs": [],
   "source": [
    "orig_lps = []\n",
    "for xtl in multi_xtl.crystal_list:\n",
    "    orig_lps.append(xtl.Cell.lp()) # starting lattice parameters"
   ]
  },
  {
   "cell_type": "code",
   "execution_count": 5,
   "id": "2b7dd0bc",
   "metadata": {},
   "outputs": [
    {
     "data": {
      "text/plain": [
       "[(8.91393949, 5.46903188, 7.18825422, 90.0, 90.0, 90.0),\n",
       " (5.58812644, 5.58812644, 5.58812644, 90.0, 90.0, 90.0)]"
      ]
     },
     "execution_count": 5,
     "metadata": {},
     "output_type": "execute_result"
    }
   ],
   "source": [
    "orig_lps"
   ]
  },
  {
   "cell_type": "code",
   "execution_count": 6,
   "id": "1499c495",
   "metadata": {},
   "outputs": [],
   "source": [
    "lp_multiplier = (2,2,2,1,1,1) # separate multiplier for cell prms\n",
    "max_lps = np.array(orig_lps) * np.array(lp_multiplier) # max lp_a, lp_b, lp_c, alpha, beta, gamma\n",
    "num_patterns = 10 # number of variations in lattice prms\n",
    "\n",
    "all_lps = np.linspace(orig_lps, max_lps, num_patterns) # shape (num_patterns,num of crystals/phases, 6)"
   ]
  },
  {
   "cell_type": "code",
   "execution_count": 7,
   "id": "0ffb71af",
   "metadata": {},
   "outputs": [],
   "source": [
    "wavelength = 0.1665\n",
    "energy_kev = 12.398 / wavelength # convert to kEv\n",
    "min_twotheta = 1\n",
    "max_twotheta = 10\n",
    "scattering_type = 'xray'"
   ]
  },
  {
   "cell_type": "code",
   "execution_count": 8,
   "id": "fd603a68",
   "metadata": {},
   "outputs": [],
   "source": [
    "new_structure_factors = []\n",
    "for xtl in multi_xtl.crystal_list:\n",
    "    new_structure_factors.append(xtl.Scatter.structure_factor) # find the structure factor for each crystal"
   ]
  },
  {
   "cell_type": "code",
   "execution_count": 9,
   "id": "5943b849",
   "metadata": {},
   "outputs": [],
   "source": [
    "# This function has been adapted from the Dans-Diffraction library\n",
    "def intensity(i, hkl=None, scattering_type=None, int_hkl=None, **options):\n",
    "    \"\"\"\n",
    "    Returns the structure factor squared\n",
    "            I = |sum( f_i * occ_i * dw_i * exp( -i * 2 * pi * hkl.uvw ) |^2\n",
    "    Where f_i is the elemental scattering factor, occ_i is the site occupancy, dw_i\n",
    "    is the Debye-Waller thermal factor, hkl is the reflection and uvw is the site position.\n",
    "\n",
    "    The following options for scattering_type are  supported:\n",
    "      'xray'  - uses x-ray form factors\n",
    "      'neutron' - uses neutron scattering lengths\n",
    "      'xray magnetic' - calculates the magnetic (non-resonant) component of the x-ray scattering\n",
    "      'neutron magnetic' - calculates the magnetic component of neutron scattering\n",
    "      'xray resonant' - calculates magnetic resonant scattering\n",
    "      'xray dispersion' - uses x-ray form factors including f'-if'' components\n",
    "\n",
    "    :param hkl: array[n,3] : reflection indexes (h, k, l)\n",
    "    :param scattering_type: str : one of ['xray','neutron', 'electron', 'xray magnetic','neutron magnetic','xray resonant']\n",
    "    :param int_hkl: Bool : when True, hkl values are converted to integer.\n",
    "    :param kwargs: additional options to pass to scattering function\n",
    "    :return: float array[n] : array of |SF|^2\n",
    "    \"\"\"\n",
    "    return fs.intensity(new_structure_factors[i](hkl, scattering_type, int_hkl, **options))\n",
    "\n",
    "new_intensities = [intensity(i) for i in range(len(new_structure_factors))]"
   ]
  },
  {
   "cell_type": "code",
   "execution_count": 10,
   "id": "b18b0a21",
   "metadata": {},
   "outputs": [],
   "source": [
    "from tqdm import tqdm"
   ]
  },
  {
   "cell_type": "code",
   "execution_count": 11,
   "id": "68c7f82d",
   "metadata": {},
   "outputs": [],
   "source": [
    "def list_all_reflections(energy_kev=energy_kev, print_symmetric=False,\n",
    "                              min_intensity=min_twotheta, max_intensity=max_twotheta):\n",
    "\n",
    "    hkl = np.empty(shape=(0,3))\n",
    "    tth = np.empty(shape=0)\n",
    "    inten = np.empty(shape=0)\n",
    "    name = np.empty(shape=0)\n",
    "    for xtl in multi_xtl.crystal_list:\n",
    "        hkl_xtl = xtl.Cell.all_hkl(energy_kev, xtl.Scatter._scattering_max_twotheta)\n",
    "        if not print_symmetric:\n",
    "            hkl_xtl = xtl.Symmetry.remove_symmetric_reflections(hkl_xtl)\n",
    "\n",
    "        hkl_xtl = xtl.Cell.sort_hkl(hkl_xtl)\n",
    "        # remove [0,0,0]\n",
    "        hkl_xtl = hkl_xtl[1:, :]\n",
    "        \n",
    "\n",
    "\n",
    "        tth_xtl = xtl.Cell.tth(hkl_xtl, energy_kev)\n",
    "        inrange = np.all([tth_xtl < xtl.Scatter._scattering_max_twotheta, tth_xtl > xtl.Scatter._scattering_min_twotheta], axis=0)\n",
    "        hkl_xtl = hkl_xtl[inrange, :]\n",
    "        tth_xtl = tth_xtl[inrange]\n",
    "        inten_xtl = xtl.Scatter.intensity(hkl_xtl)\n",
    "        \n",
    "\n",
    "        name = np.append(name, [xtl.name]*len(tth_xtl))\n",
    "        hkl = np.vstack((hkl, hkl_xtl))\n",
    "        tth = np.append(tth, tth_xtl)\n",
    "        inten = np.append(inten, inten_xtl)\n",
    "\n",
    "    # Sort reflections from all reflections\n",
    "    idx = np.argsort(tth)\n",
    "    name = name[idx]\n",
    "    hkl = hkl[idx, :]\n",
    "    tth = tth[idx]\n",
    "    inten = inten[idx]\n",
    "\n",
    "    all_info = []\n",
    "\n",
    "    count = 0\n",
    "    for n in range(0, len(tth)):\n",
    "        if inten[n] < min_intensity: continue\n",
    "        if inten[n] > max_intensity: continue\n",
    "        count += 1\n",
    "\n",
    "        all_info.append([hkl[n,0], hkl[n,1], hkl[n,2],tth[n],inten[n]])\n",
    "\n",
    "    return np.array(all_info)"
   ]
  },
  {
   "cell_type": "code",
   "execution_count": 12,
   "id": "bce812af",
   "metadata": {},
   "outputs": [],
   "source": [
    "\n",
    "valid_refs = [] # contains valid reflections with integrated areas intensities\n",
    "tths = [] # each lst entry contains an array with all the two theta vals for that set of lattice prms\n",
    "intensities = [] # same as above, but for intensities\n",
    "powder_ref1s = [] # contains powder reflections"
   ]
  },
  {
   "cell_type": "code",
   "execution_count": 13,
   "id": "53ea40b2",
   "metadata": {},
   "outputs": [],
   "source": [
    "for xtl in multi_xtl.crystal_list:\n",
    "    xtl.Scatter.setup_scatter(\n",
    "        scattering_type=scattering_type, \n",
    "        powder_units='twotheta', \n",
    "        energy_kev=energy_kev,\n",
    "        min_twotheta=min_twotheta,\n",
    "        max_twotheta=max_twotheta,\n",
    "        output=False,\n",
    "        powder_lorentz=1\n",
    "    )"
   ]
  },
  {
   "cell_type": "code",
   "execution_count": 14,
   "id": "c7496b95",
   "metadata": {},
   "outputs": [
    {
     "name": "stdout",
     "output_type": "stream",
     "text": [
      "count is 0\n"
     ]
    },
    {
     "name": "stderr",
     "output_type": "stream",
     "text": [
      "Setting lattice parameters:   0%|          | 0/10 [00:00<?, ?it/s]"
     ]
    },
    {
     "name": "stderr",
     "output_type": "stream",
     "text": [
      "Setting lattice parameters: 100%|██████████| 10/10 [00:21<00:00,  2.12s/it]\n"
     ]
    },
    {
     "name": "stdout",
     "output_type": "stream",
     "text": [
      "count is 1\n"
     ]
    },
    {
     "name": "stderr",
     "output_type": "stream",
     "text": [
      "Setting lattice parameters: 100%|██████████| 10/10 [01:23<00:00,  8.36s/it]"
     ]
    },
    {
     "name": "stdout",
     "output_type": "stream",
     "text": [
      "(20, 11837)\n"
     ]
    },
    {
     "name": "stderr",
     "output_type": "stream",
     "text": [
      "\n"
     ]
    }
   ],
   "source": [
    "import csv\n",
    "from tqdm import tqdm\n",
    "\n",
    "for xtl in multi_xtl.crystal_list:\n",
    "    \n",
    "    count = multi_xtl.crystal_list.index(xtl)\n",
    "    print(f'count is {count}')\n",
    "\n",
    "    for i in tqdm(range(num_patterns), desc=\"Setting lattice parameters\"):\n",
    "        xtl.Cell.latt(all_lps[i][count]) # set lattice prms\n",
    "\n",
    "        tth1, intensity1, ref1 = xtl.Scatter.powder() # record two theta, intensities, and all reflections including aphysical ones\n",
    "        tths.append(tth1)\n",
    "        intensities.append(intensity1)\n",
    "        powder_ref1s.append(ref1)\n",
    "        \n",
    "        real_reflections = list_all_reflections(energy_kev=energy_kev)\n",
    "        valid_refs.append(real_reflections)\n",
    "\n",
    "tths = np.array(tths)\n",
    "intensities = np.array(intensities)\n",
    "print(tths.shape)\n"
   ]
  },
  {
   "cell_type": "code",
   "execution_count": 16,
   "id": "3d7af8f6",
   "metadata": {},
   "outputs": [],
   "source": [
    "max_refs = max(len(sublist) for sublist in valid_refs)\n",
    "\n",
    "refs_arr_tths = np.zeros((num_patterns, max_refs))\n",
    "refs_arr_ints = np.zeros((num_patterns, max_refs))\n",
    "\n",
    "for i in range(num_patterns):\n",
    "    for j in range(len(valid_refs[i])):\n",
    "        refs_arr_tths[i][j] = valid_refs[i][j][3]\n",
    "        refs_arr_ints[i][j] = valid_refs[i][j][4]\n"
   ]
  },
  {
   "cell_type": "code",
   "execution_count": 17,
   "id": "cf1d04c2",
   "metadata": {},
   "outputs": [],
   "source": [
    "# Separate ouput of Dans-Diffraction powder method into hkls, tths, intensities, for all variations\n",
    "powder_ref1_hkls = [] \n",
    "powder_ref1_tths = []\n",
    "powder_ref1_intensities = []\n",
    "\n",
    "for j in range(num_patterns):\n",
    "    ref1_tths_pattern = []\n",
    "    ref1_intensities_pattern = []\n",
    "    ref1_hkls_pattern = []\n",
    "    \n",
    "    for i in range(len(powder_ref1s[j])):\n",
    "        ref1_hkls_pattern.append((powder_ref1s[j][i][0], powder_ref1s[j][i][1], powder_ref1s[j][i][2]))\n",
    "        ref1_tths_pattern.append(powder_ref1s[j][i][3])\n",
    "        ref1_intensities_pattern.append(powder_ref1s[j][i][4])\n",
    "    \n",
    "    powder_ref1_hkls.append(ref1_hkls_pattern)\n",
    "    powder_ref1_tths.append(ref1_tths_pattern)\n",
    "    powder_ref1_intensities.append(ref1_intensities_pattern)"
   ]
  },
  {
   "cell_type": "code",
   "execution_count": 18,
   "id": "3e45bfd8",
   "metadata": {},
   "outputs": [],
   "source": [
    "import xarray as xr"
   ]
  },
  {
   "cell_type": "code",
   "execution_count": 19,
   "id": "62b87947",
   "metadata": {},
   "outputs": [],
   "source": [
    "binary_peaks = [] # empty list that will contain the np arrays\n"
   ]
  },
  {
   "cell_type": "code",
   "execution_count": 20,
   "id": "e56321cf",
   "metadata": {},
   "outputs": [],
   "source": [
    "peak_dtype = np.dtype([\n",
    "    ('hkl', '3i4'),           # tuple of 3 integers\n",
    "    ('2theta_calc', 'f8'),   # calculated 2θ\n",
    "    ('2theta_nearest', 'f8'),# nearest 2θ\n",
    "    ('intensity', 'f8')      # intensity\n",
    "]) # this is an array that will hold all of the data we want to keep"
   ]
  },
  {
   "cell_type": "code",
   "execution_count": 21,
   "id": "f21becd0",
   "metadata": {},
   "outputs": [],
   "source": [
    "all_variations = [] # Create a list to hold each variation's reflections\n"
   ]
  },
  {
   "cell_type": "code",
   "execution_count": null,
   "id": "021fc358",
   "metadata": {},
   "outputs": [],
   "source": [
    "tol = 0.1\n",
    "max_refs = max(len(sublist) for sublist in powder_ref1_tths)\n",
    "\n",
    "for xtl in multi_xtl.crystal_list:\n",
    "    for j in range(num_patterns):\n",
    "        binary_peaks_pattern = np.zeros(tths[j].shape[0], dtype=int)\n",
    "        non_zero_count = np.count_nonzero(refs_arr_tths[j])\n",
    "        variation_data = np.zeros((non_zero_count), dtype=peak_dtype)\n",
    "\n",
    "        count = 0\n",
    "\n",
    "        for i in range(non_zero_count):\n",
    "            if refs_arr_tths[j][i] == 0:\n",
    "                continue  # skip zero entries\n",
    "\n",
    "            diffs = np.abs(powder_ref1_tths[j] - refs_arr_tths[j][i])\n",
    "            min_idx_powder = np.argmin(diffs)\n",
    "            \n",
    "            if diffs[min_idx_powder] < tol:\n",
    "                idx_powder = min_idx_powder\n",
    "                variation_data[i] = (\n",
    "                    powder_ref1_hkls[j][idx_powder],\n",
    "                    refs_arr_tths[j][i],\n",
    "                    powder_ref1_tths[j][idx_powder],\n",
    "                    powder_ref1_intensities[j][idx_powder]\n",
    "                )    \n",
    "            \n",
    "            # For binary pattern\n",
    "            diffs_alldata = np.abs(tths[j] - refs_arr_tths[j][i])\n",
    "            min_idx_alldata = np.argmin(diffs_alldata)\n",
    "\n",
    "            # peak width = 0.01 degrees, and 9 degrees (1-->10 theta) divided by 11763 points is ~7.6e-4 points per degree\n",
    "            # over 0.01 degrees that is 13 points\n",
    "            start_id = min_idx_alldata - 5 #\n",
    "            end_id = min_idx_alldata + 8\n",
    "\n",
    "            if diffs_alldata[min_idx_alldata] < tol:\n",
    "                binary_peaks_pattern[start_id:end_id] = 1\n",
    "                count+=1\n",
    "                # print(f\"Yes: match in tths[{j}] for ref peak {refs_arr_tths[j][i]} (i={i} at hkl {powder_ref1_hkls[j][i]}\")\n",
    "                # print(tths[j][min_idx_alldata])\n",
    "\n",
    "            else:\n",
    "                print(f\"No match in tths[{j}] for ref peak {refs_arr_tths[j][i]} (i={i})\")\n",
    "        # print(f'count: {count}')\n",
    "\n",
    "        # print(f\"Pattern {j} - Peaks marked: {np.count_nonzero(binary_peaks_pattern)}\")\n",
    "        all_variations.append(variation_data)\n",
    "        binary_peaks.append(binary_peaks_pattern)\n",
    "    "
   ]
  },
  {
   "cell_type": "code",
   "execution_count": 23,
   "id": "3acffec7",
   "metadata": {},
   "outputs": [],
   "source": [
    "# Find the maximum number of peaks across all variations\n",
    "max_reflections = max(len(arr) for arr in all_variations)\n",
    "\n",
    "# Initialize arrays with NaNs (to pad if necessary)\n",
    "hkl_arr = np.full((num_patterns, max_reflections, 3), np.nan)\n",
    "theta_calc_arr = np.full((num_patterns, max_reflections), np.nan)\n",
    "theta_nearest_arr = np.full((num_patterns, max_reflections), np.nan)\n",
    "intensity_arr = np.full((num_patterns, max_reflections), np.nan)\n",
    "\n",
    "# Fill in values\n",
    "for i, arr in enumerate(all_variations):\n",
    "    num_reflections = len(arr)\n",
    "    hkl_arr[i, :num_reflections] = np.stack([row[0] for row in arr])\n",
    "    theta_calc_arr[i, :num_reflections] = [row[1] for row in arr]\n",
    "    theta_nearest_arr[i, :num_reflections] = [row[2] for row in arr]\n",
    "    intensity_arr[i, :num_reflections] = [row[3] for row in arr]"
   ]
  },
  {
   "cell_type": "code",
   "execution_count": 24,
   "id": "354338a9",
   "metadata": {},
   "outputs": [],
   "source": [
    "def add_noise_by_percentage(signal, noise_percentage):\n",
    "        \"\"\"\n",
    "        Add random noise to a NumPy array based on a percentage of the maximum signal value.\n",
    "\n",
    "        Parameters:\n",
    "            signal (numpy.ndarray): The original signal array.\n",
    "            noise_percentage (float): Percentage of the maximum signal value to use as noise.\n",
    "\n",
    "        Returns:\n",
    "            noisy_signal (numpy.ndarray): The signal array with added noise.\n",
    "        \"\"\"\n",
    "        # Find the maximum value in the signal\n",
    "        max_value = np.max(np.abs(signal))\n",
    "\n",
    "        # Calculate the noise standard deviation as a percentage of the max signal value\n",
    "        noise_std = (noise_percentage / 100) * max_value\n",
    "\n",
    "        # Generate random Gaussian noise with zero mean and calculated standard deviation\n",
    "        noise = np.random.normal(0.005, noise_std, signal.shape)\n",
    "\n",
    "        # Add the noise to the original signal\n",
    "        noisy_signal = signal + noise\n",
    "\n",
    "        return noisy_signal\n",
    "\n",
    "noisy_signal = add_noise_by_percentage(intensities, 0.05)"
   ]
  },
  {
   "cell_type": "code",
   "execution_count": 26,
   "id": "7cfba9de",
   "metadata": {},
   "outputs": [
    {
     "ename": "ValueError",
     "evalue": "conflicting sizes for dimension 'pattern': length 10 on 'BinaryArr1' and length 20 on {'pattern': 'Intensities1', 'tth': 'Intensities1'}",
     "output_type": "error",
     "traceback": [
      "\u001b[31m---------------------------------------------------------------------------\u001b[39m",
      "\u001b[31mValueError\u001b[39m                                Traceback (most recent call last)",
      "\u001b[36mCell\u001b[39m\u001b[36m \u001b[39m\u001b[32mIn[26]\u001b[39m\u001b[32m, line 1\u001b[39m\n\u001b[32m----> \u001b[39m\u001b[32m1\u001b[39m ds_NOTSAVED = \u001b[43mxr\u001b[49m\u001b[43m.\u001b[49m\u001b[43mDataset\u001b[49m\u001b[43m(\u001b[49m\n\u001b[32m      2\u001b[39m \u001b[43m    \u001b[49m\u001b[43m{\u001b[49m\n\u001b[32m      3\u001b[39m \u001b[43m        \u001b[49m\u001b[38;5;66;43;03m# These are your xr dataarrays - they can be multidimensional and are indexed to coords (which are also xr dataarrays)\u001b[39;49;00m\n\u001b[32m      4\u001b[39m \u001b[43m        \u001b[49m\u001b[33;43m\"\u001b[39;49m\u001b[33;43mIntensities1\u001b[39;49m\u001b[33;43m\"\u001b[39;49m\u001b[43m:\u001b[49m\u001b[43m \u001b[49m\u001b[43m(\u001b[49m\u001b[43m[\u001b[49m\u001b[33;43m\"\u001b[39;49m\u001b[33;43mpattern\u001b[39;49m\u001b[33;43m\"\u001b[39;49m\u001b[43m,\u001b[49m\u001b[43m \u001b[49m\u001b[33;43m\"\u001b[39;49m\u001b[33;43mtth\u001b[39;49m\u001b[33;43m\"\u001b[39;49m\u001b[43m]\u001b[49m\u001b[43m,\u001b[49m\u001b[43m \u001b[49m\u001b[43mnoisy_signal\u001b[49m\u001b[43m)\u001b[49m\u001b[43m,\u001b[49m\n\u001b[32m      5\u001b[39m \u001b[43m        \u001b[49m\u001b[33;43m\"\u001b[39;49m\u001b[33;43mBinaryArr1\u001b[39;49m\u001b[33;43m\"\u001b[39;49m\u001b[43m:\u001b[49m\u001b[43m \u001b[49m\u001b[43m(\u001b[49m\u001b[43m(\u001b[49m\u001b[33;43m\"\u001b[39;49m\u001b[33;43mpattern\u001b[39;49m\u001b[33;43m\"\u001b[39;49m\u001b[43m,\u001b[49m\u001b[43m \u001b[49m\u001b[33;43m\"\u001b[39;49m\u001b[33;43mtth\u001b[39;49m\u001b[33;43m\"\u001b[39;49m\u001b[43m)\u001b[49m\u001b[43m,\u001b[49m\u001b[43m \u001b[49m\u001b[43mbinary_peaks\u001b[49m\u001b[43m)\u001b[49m\u001b[43m,\u001b[49m\n\u001b[32m      6\u001b[39m \u001b[43m    \u001b[49m\u001b[43m}\u001b[49m\u001b[43m,\u001b[49m\n\u001b[32m      7\u001b[39m \u001b[43m    \u001b[49m\u001b[43mcoords\u001b[49m\u001b[43m=\u001b[49m\u001b[43m{\u001b[49m\u001b[43m \u001b[49m\u001b[38;5;66;43;03m# coordinates for indexing your dataarrays \u001b[39;49;00m\n\u001b[32m      8\u001b[39m \u001b[43m        \u001b[49m\u001b[33;43m\"\u001b[39;49m\u001b[33;43mpattern\u001b[39;49m\u001b[33;43m\"\u001b[39;49m\u001b[43m:\u001b[49m\u001b[43m \u001b[49m\u001b[43mnp\u001b[49m\u001b[43m.\u001b[49m\u001b[43marange\u001b[49m\u001b[43m(\u001b[49m\u001b[43mnum_patterns\u001b[49m\u001b[43m*\u001b[49m\u001b[38;5;28;43mlen\u001b[39;49m\u001b[43m(\u001b[49m\u001b[43mmulti_xtl\u001b[49m\u001b[43m.\u001b[49m\u001b[43mcrystal_list\u001b[49m\u001b[43m)\u001b[49m\u001b[43m)\u001b[49m\u001b[43m,\u001b[49m\n\u001b[32m      9\u001b[39m \u001b[43m        \u001b[49m\u001b[33;43m\"\u001b[39;49m\u001b[33;43mtth\u001b[39;49m\u001b[33;43m\"\u001b[39;49m\u001b[43m:\u001b[49m\u001b[43m \u001b[49m\u001b[43mnp\u001b[49m\u001b[43m.\u001b[49m\u001b[43mlinspace\u001b[49m\u001b[43m(\u001b[49m\u001b[43mmin_twotheta\u001b[49m\u001b[43m,\u001b[49m\u001b[43m \u001b[49m\u001b[43mmax_twotheta\u001b[49m\u001b[43m,\u001b[49m\u001b[43m \u001b[49m\u001b[43mtths\u001b[49m\u001b[43m.\u001b[49m\u001b[43mshape\u001b[49m\u001b[43m[\u001b[49m\u001b[32;43m1\u001b[39;49m\u001b[43m]\u001b[49m\u001b[43m)\u001b[49m\u001b[43m,\u001b[49m\u001b[43m \u001b[49m\u001b[38;5;66;43;03m# np.linspace(min_tth,max_tth, 11763) or whatever your tth values are\u001b[39;49;00m\n\u001b[32m     10\u001b[39m \u001b[43m    \u001b[49m\u001b[43m}\u001b[49m\u001b[43m,\u001b[49m\n\u001b[32m     11\u001b[39m \u001b[43m    \u001b[49m\u001b[43mattrs\u001b[49m\u001b[43m=\u001b[49m\u001b[43m{\u001b[49m\u001b[43m \u001b[49m\u001b[38;5;66;43;03m# metadata\u001b[39;49;00m\n\u001b[32m     12\u001b[39m \u001b[43m    \u001b[49m\u001b[43m}\u001b[49m\n\u001b[32m     13\u001b[39m \u001b[43m)\u001b[49m\n",
      "\u001b[36mFile \u001b[39m\u001b[32m~/conda_envs/internship/lib/python3.13/site-packages/xarray/core/dataset.py:389\u001b[39m, in \u001b[36mDataset.__init__\u001b[39m\u001b[34m(self, data_vars, coords, attrs)\u001b[39m\n\u001b[32m    386\u001b[39m \u001b[38;5;28;01mif\u001b[39;00m \u001b[38;5;28misinstance\u001b[39m(coords, Dataset):\n\u001b[32m    387\u001b[39m     coords = coords._variables\n\u001b[32m--> \u001b[39m\u001b[32m389\u001b[39m variables, coord_names, dims, indexes, _ = \u001b[43mmerge_data_and_coords\u001b[49m\u001b[43m(\u001b[49m\n\u001b[32m    390\u001b[39m \u001b[43m    \u001b[49m\u001b[43mdata_vars\u001b[49m\u001b[43m,\u001b[49m\u001b[43m \u001b[49m\u001b[43mcoords\u001b[49m\n\u001b[32m    391\u001b[39m \u001b[43m\u001b[49m\u001b[43m)\u001b[49m\n\u001b[32m    393\u001b[39m \u001b[38;5;28mself\u001b[39m._attrs = \u001b[38;5;28mdict\u001b[39m(attrs) \u001b[38;5;28;01mif\u001b[39;00m attrs \u001b[38;5;28;01melse\u001b[39;00m \u001b[38;5;28;01mNone\u001b[39;00m\n\u001b[32m    394\u001b[39m \u001b[38;5;28mself\u001b[39m._close = \u001b[38;5;28;01mNone\u001b[39;00m\n",
      "\u001b[36mFile \u001b[39m\u001b[32m~/conda_envs/internship/lib/python3.13/site-packages/xarray/structure/merge.py:1082\u001b[39m, in \u001b[36mmerge_data_and_coords\u001b[39m\u001b[34m(data_vars, coords)\u001b[39m\n\u001b[32m   1078\u001b[39m     coords = create_coords_with_default_indexes(coords, data_vars)\n\u001b[32m   1080\u001b[39m \u001b[38;5;66;03m# exclude coords from alignment (all variables in a Coordinates object should\u001b[39;00m\n\u001b[32m   1081\u001b[39m \u001b[38;5;66;03m# already be aligned together) and use coordinates' indexes to align data_vars\u001b[39;00m\n\u001b[32m-> \u001b[39m\u001b[32m1082\u001b[39m \u001b[38;5;28;01mreturn\u001b[39;00m \u001b[43mmerge_core\u001b[49m\u001b[43m(\u001b[49m\n\u001b[32m   1083\u001b[39m \u001b[43m    \u001b[49m\u001b[43m[\u001b[49m\u001b[43mdata_vars\u001b[49m\u001b[43m,\u001b[49m\u001b[43m \u001b[49m\u001b[43mcoords\u001b[49m\u001b[43m]\u001b[49m\u001b[43m,\u001b[49m\n\u001b[32m   1084\u001b[39m \u001b[43m    \u001b[49m\u001b[43mcompat\u001b[49m\u001b[43m=\u001b[49m\u001b[33;43m\"\u001b[39;49m\u001b[33;43mbroadcast_equals\u001b[39;49m\u001b[33;43m\"\u001b[39;49m\u001b[43m,\u001b[49m\n\u001b[32m   1085\u001b[39m \u001b[43m    \u001b[49m\u001b[43mjoin\u001b[49m\u001b[43m=\u001b[49m\u001b[33;43m\"\u001b[39;49m\u001b[33;43mouter\u001b[39;49m\u001b[33;43m\"\u001b[39;49m\u001b[43m,\u001b[49m\n\u001b[32m   1086\u001b[39m \u001b[43m    \u001b[49m\u001b[43mexplicit_coords\u001b[49m\u001b[43m=\u001b[49m\u001b[38;5;28;43mtuple\u001b[39;49m\u001b[43m(\u001b[49m\u001b[43mcoords\u001b[49m\u001b[43m)\u001b[49m\u001b[43m,\u001b[49m\n\u001b[32m   1087\u001b[39m \u001b[43m    \u001b[49m\u001b[43mindexes\u001b[49m\u001b[43m=\u001b[49m\u001b[43mcoords\u001b[49m\u001b[43m.\u001b[49m\u001b[43mxindexes\u001b[49m\u001b[43m,\u001b[49m\n\u001b[32m   1088\u001b[39m \u001b[43m    \u001b[49m\u001b[43mpriority_arg\u001b[49m\u001b[43m=\u001b[49m\u001b[32;43m1\u001b[39;49m\u001b[43m,\u001b[49m\n\u001b[32m   1089\u001b[39m \u001b[43m    \u001b[49m\u001b[43mskip_align_args\u001b[49m\u001b[43m=\u001b[49m\u001b[43m[\u001b[49m\u001b[32;43m1\u001b[39;49m\u001b[43m]\u001b[49m\u001b[43m,\u001b[49m\n\u001b[32m   1090\u001b[39m \u001b[43m\u001b[49m\u001b[43m)\u001b[49m\n",
      "\u001b[36mFile \u001b[39m\u001b[32m~/conda_envs/internship/lib/python3.13/site-packages/xarray/structure/merge.py:713\u001b[39m, in \u001b[36mmerge_core\u001b[39m\u001b[34m(objects, compat, join, combine_attrs, priority_arg, explicit_coords, indexes, fill_value, skip_align_args)\u001b[39m\n\u001b[32m    708\u001b[39m prioritized = _get_priority_vars_and_indexes(aligned, priority_arg, compat=compat)\n\u001b[32m    709\u001b[39m variables, out_indexes = merge_collected(\n\u001b[32m    710\u001b[39m     collected, prioritized, compat=compat, combine_attrs=combine_attrs\n\u001b[32m    711\u001b[39m )\n\u001b[32m--> \u001b[39m\u001b[32m713\u001b[39m dims = \u001b[43mcalculate_dimensions\u001b[49m\u001b[43m(\u001b[49m\u001b[43mvariables\u001b[49m\u001b[43m)\u001b[49m\n\u001b[32m    715\u001b[39m coord_names, noncoord_names = determine_coords(coerced)\n\u001b[32m    716\u001b[39m \u001b[38;5;28;01mif\u001b[39;00m compat == \u001b[33m\"\u001b[39m\u001b[33mminimal\u001b[39m\u001b[33m\"\u001b[39m:\n\u001b[32m    717\u001b[39m     \u001b[38;5;66;03m# coordinates may be dropped in merged results\u001b[39;00m\n",
      "\u001b[36mFile \u001b[39m\u001b[32m~/conda_envs/internship/lib/python3.13/site-packages/xarray/core/variable.py:3044\u001b[39m, in \u001b[36mcalculate_dimensions\u001b[39m\u001b[34m(variables)\u001b[39m\n\u001b[32m   3042\u001b[39m             last_used[dim] = k\n\u001b[32m   3043\u001b[39m         \u001b[38;5;28;01melif\u001b[39;00m dims[dim] != size:\n\u001b[32m-> \u001b[39m\u001b[32m3044\u001b[39m             \u001b[38;5;28;01mraise\u001b[39;00m \u001b[38;5;167;01mValueError\u001b[39;00m(\n\u001b[32m   3045\u001b[39m                 \u001b[33mf\u001b[39m\u001b[33m\"\u001b[39m\u001b[33mconflicting sizes for dimension \u001b[39m\u001b[38;5;132;01m{\u001b[39;00mdim\u001b[38;5;132;01m!r}\u001b[39;00m\u001b[33m: \u001b[39m\u001b[33m\"\u001b[39m\n\u001b[32m   3046\u001b[39m                 \u001b[33mf\u001b[39m\u001b[33m\"\u001b[39m\u001b[33mlength \u001b[39m\u001b[38;5;132;01m{\u001b[39;00msize\u001b[38;5;132;01m}\u001b[39;00m\u001b[33m on \u001b[39m\u001b[38;5;132;01m{\u001b[39;00mk\u001b[38;5;132;01m!r}\u001b[39;00m\u001b[33m and length \u001b[39m\u001b[38;5;132;01m{\u001b[39;00mdims[dim]\u001b[38;5;132;01m}\u001b[39;00m\u001b[33m on \u001b[39m\u001b[38;5;132;01m{\u001b[39;00mlast_used\u001b[38;5;132;01m!r}\u001b[39;00m\u001b[33m\"\u001b[39m\n\u001b[32m   3047\u001b[39m             )\n\u001b[32m   3048\u001b[39m \u001b[38;5;28;01mreturn\u001b[39;00m dims\n",
      "\u001b[31mValueError\u001b[39m: conflicting sizes for dimension 'pattern': length 10 on 'BinaryArr1' and length 20 on {'pattern': 'Intensities1', 'tth': 'Intensities1'}"
     ]
    }
   ],
   "source": [
    "ds_NOTSAVED = xr.Dataset(\n",
    "    {\n",
    "        # These are your xr dataarrays - they can be multidimensional and are indexed to coords (which are also xr dataarrays)\n",
    "        \"Intensities1\": ([\"pattern\", \"tth\"], noisy_signal),\n",
    "        \"BinaryArr1\": ((\"pattern\", \"tth\"), binary_peaks),\n",
    "    },\n",
    "    coords={ # coordinates for indexing your dataarrays \n",
    "        \"pattern\": np.arange(num_patterns*len(multi_xtl.crystal_list)),\n",
    "        \"tth\": np.linspace(min_twotheta, max_twotheta, tths.shape[1]), # np.linspace(min_tth,max_tth, 11763) or whatever your tth values are\n",
    "    },\n",
    "    attrs={ # metadata\n",
    "    }\n",
    ")"
   ]
  },
  {
   "cell_type": "code",
   "execution_count": 44,
   "id": "355a7820",
   "metadata": {},
   "outputs": [
    {
     "name": "stdout",
     "output_type": "stream",
     "text": [
      "(100, 11837)\n",
      "(100, 11837)\n",
      "(100, 11837)\n",
      "(100, 11837)\n"
     ]
    }
   ],
   "source": [
    "print(ds_NOTSAVED['Intensities1'].shape)\n",
    "print(ds_NOTSAVED['Intensities2'].shape)\n",
    "print(ds_NOTSAVED[\"BinaryArr1\"].shape)\n",
    "print(ds_NOTSAVED[\"BinaryArr2\"].shape)"
   ]
  }
 ],
 "metadata": {
  "kernelspec": {
   "display_name": "internship",
   "language": "python",
   "name": "python3"
  },
  "language_info": {
   "codemirror_mode": {
    "name": "ipython",
    "version": 3
   },
   "file_extension": ".py",
   "mimetype": "text/x-python",
   "name": "python",
   "nbconvert_exporter": "python",
   "pygments_lexer": "ipython3",
   "version": "3.13.5"
  }
 },
 "nbformat": 4,
 "nbformat_minor": 5
}
