{
 "cells": [
  {
   "cell_type": "markdown",
   "id": "4be583e3",
   "metadata": {},
   "source": [
    "Code adapted from:\n",
    "Juho Laitala, Mingzhe Jiang, Elise Syrjälä, Emad Kasaeyan Naeini, Antti\n",
    "Airola, Amir M. Rahmani, Nikil D. Dutt, and Pasi Liljeberg. 2020. Robust\n",
    "ECG R-peak Detection Using LSTM. In The 35th ACM/SIGAPP Symposium\n",
    "on Applied Computing (SAC ’20), March 30-April 3, 2020, Brno, Czech Republic\n",
    "ACM, New York, NY, USA, Article 4, 8 pages. https://doi.org/10.1145/3341105.\n",
    "3373945"
   ]
  },
  {
   "cell_type": "code",
   "execution_count": 28,
   "id": "5a4e21f5",
   "metadata": {},
   "outputs": [],
   "source": [
    "import sys\n",
    "import os\n",
    "\n",
    "# Add the parent directory to sys.path\n",
    "sys.path.append(os.path.abspath(\"..\"))\n",
    "\n",
    "# Importing needed libraries\n",
    "from matplotlib import pyplot as plt\n",
    "from ecg2rr import data\n",
    "import wfdb\n",
    "from wfdb.io import get_record_list\n",
    "from wfdb import rdsamp\n",
    "import numpy as np\n",
    "import tensorflow as tf\n",
    "from tensorflow.keras import layers\n",
    "from scipy.signal import resample_poly\n",
    "\n",
    "\n",
    "# Now you can import\n",
    "from ecg2rr import data\n",
    "import tensorflow\n",
    "from tensorflow.keras import layers, models, Input\n",
    "import numpy as np"
   ]
  },
  {
   "cell_type": "code",
   "execution_count": 29,
   "id": "76dc9b91",
   "metadata": {},
   "outputs": [],
   "source": [
    "import xarray as xr\n",
    "import matplotlib.pyplot as plt\n",
    "import numpy as np"
   ]
  },
  {
   "cell_type": "code",
   "execution_count": 30,
   "id": "fcf813d2",
   "metadata": {},
   "outputs": [],
   "source": [
    "# # path = 'saved_data/math_functions_single.nc'\n",
    "# import xarray as xr\n",
    "\n",
    "# path = '/nsls2/users/shasko/Repos/ecg2rr/ecg2rr/ds_combined_500_patterns_NaCl.nc'\n",
    "# ds = xr.open_dataset(path, engine=\"netcdf4\")\n",
    "# gaussians = ds[\"Intensities\"]\n",
    "# binary = ds[\"binary_arr\"]\n",
    "# x = ds[\"tth\"].values\n"
   ]
  },
  {
   "cell_type": "code",
   "execution_count": 31,
   "id": "ffba0842",
   "metadata": {},
   "outputs": [
    {
     "name": "stdout",
     "output_type": "stream",
     "text": [
      "<class 'numpy.ndarray'>\n"
     ]
    }
   ],
   "source": [
    "path = '/nsls2/users/shasko/Repos/ecg2rr/ecg2rr/math_functions_smalldataset.nc'\n",
    "ds = xr.open_dataset(path, engine=\"netcdf4\")\n",
    "\n",
    "gaussians = ds[\"Gaussians\"].values\n",
    "binary = ds[\"BinaryArr\"].values\n",
    "print(type(binary))\n",
    "\n",
    "\n",
    "# for j in range(binary.shape[0]):\n",
    "#     idx = np.where(binary[j] == 1)[0][0] # because there's only 1 \"1\" we can use [0][0]\n",
    "#     binary[j][idx - 2] = 1\n",
    "#     binary[j][idx - 1] = 1\n",
    "#     binary[j][idx + 1] = 1\n",
    "#     binary[j][idx + 2] = 1\n",
    "\n",
    "x = ds[\"x\"].values"
   ]
  },
  {
   "cell_type": "code",
   "execution_count": 32,
   "id": "625c6f3b",
   "metadata": {},
   "outputs": [
    {
     "data": {
      "text/html": [
       "<div><svg style=\"position: absolute; width: 0; height: 0; overflow: hidden\">\n",
       "<defs>\n",
       "<symbol id=\"icon-database\" viewBox=\"0 0 32 32\">\n",
       "<path d=\"M16 0c-8.837 0-16 2.239-16 5v4c0 2.761 7.163 5 16 5s16-2.239 16-5v-4c0-2.761-7.163-5-16-5z\"></path>\n",
       "<path d=\"M16 17c-8.837 0-16-2.239-16-5v6c0 2.761 7.163 5 16 5s16-2.239 16-5v-6c0 2.761-7.163 5-16 5z\"></path>\n",
       "<path d=\"M16 26c-8.837 0-16-2.239-16-5v6c0 2.761 7.163 5 16 5s16-2.239 16-5v-6c0 2.761-7.163 5-16 5z\"></path>\n",
       "</symbol>\n",
       "<symbol id=\"icon-file-text2\" viewBox=\"0 0 32 32\">\n",
       "<path d=\"M28.681 7.159c-0.694-0.947-1.662-2.053-2.724-3.116s-2.169-2.030-3.116-2.724c-1.612-1.182-2.393-1.319-2.841-1.319h-15.5c-1.378 0-2.5 1.121-2.5 2.5v27c0 1.378 1.122 2.5 2.5 2.5h23c1.378 0 2.5-1.122 2.5-2.5v-19.5c0-0.448-0.137-1.23-1.319-2.841zM24.543 5.457c0.959 0.959 1.712 1.825 2.268 2.543h-4.811v-4.811c0.718 0.556 1.584 1.309 2.543 2.268zM28 29.5c0 0.271-0.229 0.5-0.5 0.5h-23c-0.271 0-0.5-0.229-0.5-0.5v-27c0-0.271 0.229-0.5 0.5-0.5 0 0 15.499-0 15.5 0v7c0 0.552 0.448 1 1 1h7v19.5z\"></path>\n",
       "<path d=\"M23 26h-14c-0.552 0-1-0.448-1-1s0.448-1 1-1h14c0.552 0 1 0.448 1 1s-0.448 1-1 1z\"></path>\n",
       "<path d=\"M23 22h-14c-0.552 0-1-0.448-1-1s0.448-1 1-1h14c0.552 0 1 0.448 1 1s-0.448 1-1 1z\"></path>\n",
       "<path d=\"M23 18h-14c-0.552 0-1-0.448-1-1s0.448-1 1-1h14c0.552 0 1 0.448 1 1s-0.448 1-1 1z\"></path>\n",
       "</symbol>\n",
       "</defs>\n",
       "</svg>\n",
       "<style>/* CSS stylesheet for displaying xarray objects in jupyterlab.\n",
       " *\n",
       " */\n",
       "\n",
       ":root {\n",
       "  --xr-font-color0: var(--jp-content-font-color0, rgba(0, 0, 0, 1));\n",
       "  --xr-font-color2: var(--jp-content-font-color2, rgba(0, 0, 0, 0.54));\n",
       "  --xr-font-color3: var(--jp-content-font-color3, rgba(0, 0, 0, 0.38));\n",
       "  --xr-border-color: var(--jp-border-color2, #e0e0e0);\n",
       "  --xr-disabled-color: var(--jp-layout-color3, #bdbdbd);\n",
       "  --xr-background-color: var(--jp-layout-color0, white);\n",
       "  --xr-background-color-row-even: var(--jp-layout-color1, white);\n",
       "  --xr-background-color-row-odd: var(--jp-layout-color2, #eeeeee);\n",
       "}\n",
       "\n",
       "html[theme=dark],\n",
       "body.vscode-dark {\n",
       "  --xr-font-color0: rgba(255, 255, 255, 1);\n",
       "  --xr-font-color2: rgba(255, 255, 255, 0.54);\n",
       "  --xr-font-color3: rgba(255, 255, 255, 0.38);\n",
       "  --xr-border-color: #1F1F1F;\n",
       "  --xr-disabled-color: #515151;\n",
       "  --xr-background-color: #111111;\n",
       "  --xr-background-color-row-even: #111111;\n",
       "  --xr-background-color-row-odd: #313131;\n",
       "}\n",
       "\n",
       ".xr-wrap {\n",
       "  display: block;\n",
       "  min-width: 300px;\n",
       "  max-width: 700px;\n",
       "}\n",
       "\n",
       ".xr-text-repr-fallback {\n",
       "  /* fallback to plain text repr when CSS is not injected (untrusted notebook) */\n",
       "  display: none;\n",
       "}\n",
       "\n",
       ".xr-header {\n",
       "  padding-top: 6px;\n",
       "  padding-bottom: 6px;\n",
       "  margin-bottom: 4px;\n",
       "  border-bottom: solid 1px var(--xr-border-color);\n",
       "}\n",
       "\n",
       ".xr-header > div,\n",
       ".xr-header > ul {\n",
       "  display: inline;\n",
       "  margin-top: 0;\n",
       "  margin-bottom: 0;\n",
       "}\n",
       "\n",
       ".xr-obj-type,\n",
       ".xr-array-name {\n",
       "  margin-left: 2px;\n",
       "  margin-right: 10px;\n",
       "}\n",
       "\n",
       ".xr-obj-type {\n",
       "  color: var(--xr-font-color2);\n",
       "}\n",
       "\n",
       ".xr-sections {\n",
       "  padding-left: 0 !important;\n",
       "  display: grid;\n",
       "  grid-template-columns: 150px auto auto 1fr 20px 20px;\n",
       "}\n",
       "\n",
       ".xr-section-item {\n",
       "  display: contents;\n",
       "}\n",
       "\n",
       ".xr-section-item input {\n",
       "  display: none;\n",
       "}\n",
       "\n",
       ".xr-section-item input + label {\n",
       "  color: var(--xr-disabled-color);\n",
       "}\n",
       "\n",
       ".xr-section-item input:enabled + label {\n",
       "  cursor: pointer;\n",
       "  color: var(--xr-font-color2);\n",
       "}\n",
       "\n",
       ".xr-section-item input:enabled + label:hover {\n",
       "  color: var(--xr-font-color0);\n",
       "}\n",
       "\n",
       ".xr-section-summary {\n",
       "  grid-column: 1;\n",
       "  color: var(--xr-font-color2);\n",
       "  font-weight: 500;\n",
       "}\n",
       "\n",
       ".xr-section-summary > span {\n",
       "  display: inline-block;\n",
       "  padding-left: 0.5em;\n",
       "}\n",
       "\n",
       ".xr-section-summary-in:disabled + label {\n",
       "  color: var(--xr-font-color2);\n",
       "}\n",
       "\n",
       ".xr-section-summary-in + label:before {\n",
       "  display: inline-block;\n",
       "  content: '►';\n",
       "  font-size: 11px;\n",
       "  width: 15px;\n",
       "  text-align: center;\n",
       "}\n",
       "\n",
       ".xr-section-summary-in:disabled + label:before {\n",
       "  color: var(--xr-disabled-color);\n",
       "}\n",
       "\n",
       ".xr-section-summary-in:checked + label:before {\n",
       "  content: '▼';\n",
       "}\n",
       "\n",
       ".xr-section-summary-in:checked + label > span {\n",
       "  display: none;\n",
       "}\n",
       "\n",
       ".xr-section-summary,\n",
       ".xr-section-inline-details {\n",
       "  padding-top: 4px;\n",
       "  padding-bottom: 4px;\n",
       "}\n",
       "\n",
       ".xr-section-inline-details {\n",
       "  grid-column: 2 / -1;\n",
       "}\n",
       "\n",
       ".xr-section-details {\n",
       "  display: none;\n",
       "  grid-column: 1 / -1;\n",
       "  margin-bottom: 5px;\n",
       "}\n",
       "\n",
       ".xr-section-summary-in:checked ~ .xr-section-details {\n",
       "  display: contents;\n",
       "}\n",
       "\n",
       ".xr-array-wrap {\n",
       "  grid-column: 1 / -1;\n",
       "  display: grid;\n",
       "  grid-template-columns: 20px auto;\n",
       "}\n",
       "\n",
       ".xr-array-wrap > label {\n",
       "  grid-column: 1;\n",
       "  vertical-align: top;\n",
       "}\n",
       "\n",
       ".xr-preview {\n",
       "  color: var(--xr-font-color3);\n",
       "}\n",
       "\n",
       ".xr-array-preview,\n",
       ".xr-array-data {\n",
       "  padding: 0 5px !important;\n",
       "  grid-column: 2;\n",
       "}\n",
       "\n",
       ".xr-array-data,\n",
       ".xr-array-in:checked ~ .xr-array-preview {\n",
       "  display: none;\n",
       "}\n",
       "\n",
       ".xr-array-in:checked ~ .xr-array-data,\n",
       ".xr-array-preview {\n",
       "  display: inline-block;\n",
       "}\n",
       "\n",
       ".xr-dim-list {\n",
       "  display: inline-block !important;\n",
       "  list-style: none;\n",
       "  padding: 0 !important;\n",
       "  margin: 0;\n",
       "}\n",
       "\n",
       ".xr-dim-list li {\n",
       "  display: inline-block;\n",
       "  padding: 0;\n",
       "  margin: 0;\n",
       "}\n",
       "\n",
       ".xr-dim-list:before {\n",
       "  content: '(';\n",
       "}\n",
       "\n",
       ".xr-dim-list:after {\n",
       "  content: ')';\n",
       "}\n",
       "\n",
       ".xr-dim-list li:not(:last-child):after {\n",
       "  content: ',';\n",
       "  padding-right: 5px;\n",
       "}\n",
       "\n",
       ".xr-has-index {\n",
       "  font-weight: bold;\n",
       "}\n",
       "\n",
       ".xr-var-list,\n",
       ".xr-var-item {\n",
       "  display: contents;\n",
       "}\n",
       "\n",
       ".xr-var-item > div,\n",
       ".xr-var-item label,\n",
       ".xr-var-item > .xr-var-name span {\n",
       "  background-color: var(--xr-background-color-row-even);\n",
       "  margin-bottom: 0;\n",
       "}\n",
       "\n",
       ".xr-var-item > .xr-var-name:hover span {\n",
       "  padding-right: 5px;\n",
       "}\n",
       "\n",
       ".xr-var-list > li:nth-child(odd) > div,\n",
       ".xr-var-list > li:nth-child(odd) > label,\n",
       ".xr-var-list > li:nth-child(odd) > .xr-var-name span {\n",
       "  background-color: var(--xr-background-color-row-odd);\n",
       "}\n",
       "\n",
       ".xr-var-name {\n",
       "  grid-column: 1;\n",
       "}\n",
       "\n",
       ".xr-var-dims {\n",
       "  grid-column: 2;\n",
       "}\n",
       "\n",
       ".xr-var-dtype {\n",
       "  grid-column: 3;\n",
       "  text-align: right;\n",
       "  color: var(--xr-font-color2);\n",
       "}\n",
       "\n",
       ".xr-var-preview {\n",
       "  grid-column: 4;\n",
       "}\n",
       "\n",
       ".xr-var-name,\n",
       ".xr-var-dims,\n",
       ".xr-var-dtype,\n",
       ".xr-preview,\n",
       ".xr-attrs dt {\n",
       "  white-space: nowrap;\n",
       "  overflow: hidden;\n",
       "  text-overflow: ellipsis;\n",
       "  padding-right: 10px;\n",
       "}\n",
       "\n",
       ".xr-var-name:hover,\n",
       ".xr-var-dims:hover,\n",
       ".xr-var-dtype:hover,\n",
       ".xr-attrs dt:hover {\n",
       "  overflow: visible;\n",
       "  width: auto;\n",
       "  z-index: 1;\n",
       "}\n",
       "\n",
       ".xr-var-attrs,\n",
       ".xr-var-data {\n",
       "  display: none;\n",
       "  background-color: var(--xr-background-color) !important;\n",
       "  padding-bottom: 5px !important;\n",
       "}\n",
       "\n",
       ".xr-var-attrs-in:checked ~ .xr-var-attrs,\n",
       ".xr-var-data-in:checked ~ .xr-var-data {\n",
       "  display: block;\n",
       "}\n",
       "\n",
       ".xr-var-data > table {\n",
       "  float: right;\n",
       "}\n",
       "\n",
       ".xr-var-name span,\n",
       ".xr-var-data,\n",
       ".xr-attrs {\n",
       "  padding-left: 25px !important;\n",
       "}\n",
       "\n",
       ".xr-attrs,\n",
       ".xr-var-attrs,\n",
       ".xr-var-data {\n",
       "  grid-column: 1 / -1;\n",
       "}\n",
       "\n",
       "dl.xr-attrs {\n",
       "  padding: 0;\n",
       "  margin: 0;\n",
       "  display: grid;\n",
       "  grid-template-columns: 125px auto;\n",
       "}\n",
       "\n",
       ".xr-attrs dt,\n",
       ".xr-attrs dd {\n",
       "  padding: 0;\n",
       "  margin: 0;\n",
       "  float: left;\n",
       "  padding-right: 10px;\n",
       "  width: auto;\n",
       "}\n",
       "\n",
       ".xr-attrs dt {\n",
       "  font-weight: normal;\n",
       "  grid-column: 1;\n",
       "}\n",
       "\n",
       ".xr-attrs dt:hover span {\n",
       "  display: inline-block;\n",
       "  background: var(--xr-background-color);\n",
       "  padding-right: 10px;\n",
       "}\n",
       "\n",
       ".xr-attrs dd {\n",
       "  grid-column: 2;\n",
       "  white-space: pre-wrap;\n",
       "  word-break: break-all;\n",
       "}\n",
       "\n",
       ".xr-icon-database,\n",
       ".xr-icon-file-text2 {\n",
       "  display: inline-block;\n",
       "  vertical-align: middle;\n",
       "  width: 1em;\n",
       "  height: 1.5em !important;\n",
       "  stroke-width: 0;\n",
       "  stroke: currentColor;\n",
       "  fill: currentColor;\n",
       "}\n",
       "</style><pre class='xr-text-repr-fallback'>&lt;xarray.Dataset&gt;\n",
       "Dimensions:    (pattern: 5000, x: 1000)\n",
       "Coordinates:\n",
       "  * pattern    (pattern) int64 0 1 2 3 4 5 6 ... 4994 4995 4996 4997 4998 4999\n",
       "  * x          (x) float64 0.0 0.01001 0.02002 0.03003 ... 9.97 9.98 9.99 10.0\n",
       "Data variables:\n",
       "    Gaussians  (pattern, x) float64 2.174e-17 3.766e-17 ... 2.613e-48 9.194e-49\n",
       "    BinaryArr  (pattern, x) float64 0.0 0.0 0.0 0.0 0.0 ... 0.0 0.0 0.0 0.0 0.0</pre><div class='xr-wrap' hidden><div class='xr-header'><div class='xr-obj-type'>xarray.Dataset</div></div><ul class='xr-sections'><li class='xr-section-item'><input id='section-eddff64a-8cce-459f-b34d-ce6efcd7ac89' class='xr-section-summary-in' type='checkbox' disabled ><label for='section-eddff64a-8cce-459f-b34d-ce6efcd7ac89' class='xr-section-summary'  title='Expand/collapse section'>Dimensions:</label><div class='xr-section-inline-details'><ul class='xr-dim-list'><li><span class='xr-has-index'>pattern</span>: 5000</li><li><span class='xr-has-index'>x</span>: 1000</li></ul></div><div class='xr-section-details'></div></li><li class='xr-section-item'><input id='section-040c21a3-03c8-4d6e-a9ad-a4c176805db5' class='xr-section-summary-in' type='checkbox'  checked><label for='section-040c21a3-03c8-4d6e-a9ad-a4c176805db5' class='xr-section-summary' >Coordinates: <span>(2)</span></label><div class='xr-section-inline-details'></div><div class='xr-section-details'><ul class='xr-var-list'><li class='xr-var-item'><div class='xr-var-name'><span class='xr-has-index'>pattern</span></div><div class='xr-var-dims'>(pattern)</div><div class='xr-var-dtype'>int64</div><div class='xr-var-preview xr-preview'>0 1 2 3 4 ... 4996 4997 4998 4999</div><input id='attrs-046946dd-010a-4121-afb3-acbb2443e827' class='xr-var-attrs-in' type='checkbox' disabled><label for='attrs-046946dd-010a-4121-afb3-acbb2443e827' title='Show/Hide attributes'><svg class='icon xr-icon-file-text2'><use xlink:href='#icon-file-text2'></use></svg></label><input id='data-acb460e1-906a-476d-b9d1-d4c5e758f696' class='xr-var-data-in' type='checkbox'><label for='data-acb460e1-906a-476d-b9d1-d4c5e758f696' title='Show/Hide data repr'><svg class='icon xr-icon-database'><use xlink:href='#icon-database'></use></svg></label><div class='xr-var-attrs'><dl class='xr-attrs'></dl></div><div class='xr-var-data'><pre>array([   0,    1,    2, ..., 4997, 4998, 4999])</pre></div></li><li class='xr-var-item'><div class='xr-var-name'><span class='xr-has-index'>x</span></div><div class='xr-var-dims'>(x)</div><div class='xr-var-dtype'>float64</div><div class='xr-var-preview xr-preview'>0.0 0.01001 0.02002 ... 9.99 10.0</div><input id='attrs-32676169-2870-4408-9032-3421d7d726ef' class='xr-var-attrs-in' type='checkbox' disabled><label for='attrs-32676169-2870-4408-9032-3421d7d726ef' title='Show/Hide attributes'><svg class='icon xr-icon-file-text2'><use xlink:href='#icon-file-text2'></use></svg></label><input id='data-e28dff40-ead0-4582-a115-8769a14d58c0' class='xr-var-data-in' type='checkbox'><label for='data-e28dff40-ead0-4582-a115-8769a14d58c0' title='Show/Hide data repr'><svg class='icon xr-icon-database'><use xlink:href='#icon-database'></use></svg></label><div class='xr-var-attrs'><dl class='xr-attrs'></dl></div><div class='xr-var-data'><pre>array([ 0.     ,  0.01001,  0.02002, ...,  9.97998,  9.98999, 10.     ])</pre></div></li></ul></div></li><li class='xr-section-item'><input id='section-35cb4a19-47f5-4ac2-87c0-64b4097c04a0' class='xr-section-summary-in' type='checkbox'  checked><label for='section-35cb4a19-47f5-4ac2-87c0-64b4097c04a0' class='xr-section-summary' >Data variables: <span>(2)</span></label><div class='xr-section-inline-details'></div><div class='xr-section-details'><ul class='xr-var-list'><li class='xr-var-item'><div class='xr-var-name'><span>Gaussians</span></div><div class='xr-var-dims'>(pattern, x)</div><div class='xr-var-dtype'>float64</div><div class='xr-var-preview xr-preview'>2.174e-17 3.766e-17 ... 9.194e-49</div><input id='attrs-5837d77d-9304-4d10-8f72-82a0b5ca0156' class='xr-var-attrs-in' type='checkbox' disabled><label for='attrs-5837d77d-9304-4d10-8f72-82a0b5ca0156' title='Show/Hide attributes'><svg class='icon xr-icon-file-text2'><use xlink:href='#icon-file-text2'></use></svg></label><input id='data-d8dd855a-d2f6-4b99-a283-a21612189738' class='xr-var-data-in' type='checkbox'><label for='data-d8dd855a-d2f6-4b99-a283-a21612189738' title='Show/Hide data repr'><svg class='icon xr-icon-database'><use xlink:href='#icon-database'></use></svg></label><div class='xr-var-attrs'><dl class='xr-attrs'></dl></div><div class='xr-var-data'><pre>array([[2.173949e-017, 3.765816e-017, 6.497775e-017, ..., 2.261696e-041,\n",
       "        9.564124e-042, 4.028580e-042],\n",
       "       [3.335569e-044, 1.503362e-043, 6.698832e-043, ..., 4.992045e-301,\n",
       "        9.337584e-303, 1.726762e-304],\n",
       "       [2.047632e-019, 4.501489e-019, 9.824550e-019, ..., 5.660647e-090,\n",
       "        1.003227e-090, 1.765160e-091],\n",
       "       ...,\n",
       "       [5.616036e-019, 9.191352e-019, 1.499957e-018, ..., 7.271074e-084,\n",
       "        2.538505e-084, 8.837048e-085],\n",
       "       [3.357657e-029, 9.969796e-029, 2.933474e-028, ..., 1.685619e-178,\n",
       "        1.094134e-179, 7.037646e-181],\n",
       "       [4.200771e-027, 9.113071e-027, 1.967233e-026, ..., 7.389332e-048,\n",
       "        2.612900e-048, 9.193814e-049]])</pre></div></li><li class='xr-var-item'><div class='xr-var-name'><span>BinaryArr</span></div><div class='xr-var-dims'>(pattern, x)</div><div class='xr-var-dtype'>float64</div><div class='xr-var-preview xr-preview'>0.0 0.0 0.0 0.0 ... 0.0 0.0 0.0 0.0</div><input id='attrs-41799912-e6e3-4f59-93ed-e9aa2c8bbc29' class='xr-var-attrs-in' type='checkbox' disabled><label for='attrs-41799912-e6e3-4f59-93ed-e9aa2c8bbc29' title='Show/Hide attributes'><svg class='icon xr-icon-file-text2'><use xlink:href='#icon-file-text2'></use></svg></label><input id='data-a1360230-ffac-4dd4-a041-3d4d37bac4a7' class='xr-var-data-in' type='checkbox'><label for='data-a1360230-ffac-4dd4-a041-3d4d37bac4a7' title='Show/Hide data repr'><svg class='icon xr-icon-database'><use xlink:href='#icon-database'></use></svg></label><div class='xr-var-attrs'><dl class='xr-attrs'></dl></div><div class='xr-var-data'><pre>array([[0., 0., 0., ..., 0., 0., 0.],\n",
       "       [0., 0., 0., ..., 0., 0., 0.],\n",
       "       [0., 0., 0., ..., 0., 0., 0.],\n",
       "       ...,\n",
       "       [0., 0., 0., ..., 0., 0., 0.],\n",
       "       [0., 0., 0., ..., 0., 0., 0.],\n",
       "       [0., 0., 0., ..., 0., 0., 0.]])</pre></div></li></ul></div></li><li class='xr-section-item'><input id='section-6e052210-6c26-4447-a710-bae3cdccdf37' class='xr-section-summary-in' type='checkbox' disabled ><label for='section-6e052210-6c26-4447-a710-bae3cdccdf37' class='xr-section-summary'  title='Expand/collapse section'>Attributes: <span>(0)</span></label><div class='xr-section-inline-details'></div><div class='xr-section-details'><dl class='xr-attrs'></dl></div></li></ul></div></div>"
      ],
      "text/plain": [
       "<xarray.Dataset>\n",
       "Dimensions:    (pattern: 5000, x: 1000)\n",
       "Coordinates:\n",
       "  * pattern    (pattern) int64 0 1 2 3 4 5 6 ... 4994 4995 4996 4997 4998 4999\n",
       "  * x          (x) float64 0.0 0.01001 0.02002 0.03003 ... 9.97 9.98 9.99 10.0\n",
       "Data variables:\n",
       "    Gaussians  (pattern, x) float64 2.174e-17 3.766e-17 ... 2.613e-48 9.194e-49\n",
       "    BinaryArr  (pattern, x) float64 0.0 0.0 0.0 0.0 0.0 ... 0.0 0.0 0.0 0.0 0.0"
      ]
     },
     "execution_count": 32,
     "metadata": {},
     "output_type": "execute_result"
    }
   ],
   "source": [
    "ds"
   ]
  },
  {
   "cell_type": "code",
   "execution_count": 33,
   "id": "1e41c1c4",
   "metadata": {},
   "outputs": [],
   "source": [
    "import sklearn\n",
    "from sklearn.model_selection import train_test_split\n",
    "\n",
    "train_gaussians, test_gaussians, train_binary, test_binary = train_test_split(gaussians, binary, test_size=0.2, shuffle=False)"
   ]
  },
  {
   "cell_type": "code",
   "execution_count": 34,
   "id": "0e3dfdbb",
   "metadata": {},
   "outputs": [],
   "source": [
    "gauss_signals_train = [signal for signal in train_gaussians]\n",
    "gauss_signals_test = [signal for signal in test_gaussians]\n",
    "\n",
    "binary_labels_train = [label for label in train_binary]\n",
    "binary_labels_test = [label for label in test_binary]"
   ]
  },
  {
   "cell_type": "code",
   "execution_count": 35,
   "id": "52d115ee",
   "metadata": {},
   "outputs": [],
   "source": [
    "# import sklearn\n",
    "# from sklearn.preprocessing import MinMaxScaler\n",
    "\n",
    "# scaler = MinMaxScaler()\n",
    "# gauss_signals_train_sc = scaler.fit_transform(gauss_signals_train)\n",
    "# gauss_signals_test_sc = scaler.transform(gauss_signals_test)"
   ]
  },
  {
   "cell_type": "code",
   "execution_count": 36,
   "id": "e5a9a13f",
   "metadata": {},
   "outputs": [],
   "source": [
    "import wfdb\n",
    "from wfdb.processing import (\n",
    "    resample_singlechan,\n",
    "    find_local_peaks,\n",
    "    correct_peaks,\n",
    "    normalize_bound\n",
    ")"
   ]
  },
  {
   "cell_type": "code",
   "execution_count": 37,
   "id": "35023843",
   "metadata": {},
   "outputs": [],
   "source": [
    "def data_generator(signals, labels, win_size, batch_size):\n",
    "   \n",
    "    while True:\n",
    "        X, y = [], []\n",
    "\n",
    "        while len(X) < batch_size:\n",
    "            i = np.random.randint(0, len(signals))\n",
    "            sig = signals[i]\n",
    "            lbl = labels[i]\n",
    "\n",
    "            if len(sig) <= win_size + 4:\n",
    "                continue  # skip short signals\n",
    "\n",
    "            start = np.random.randint(2, len(sig) - win_size - 2)\n",
    "            end = start + win_size\n",
    "\n",
    "            data_win = sig[start:end]\n",
    "            label_win = lbl[start:end]\n",
    "\n",
    "            # Pad 1s ±2 samples around every 1 in label_win\n",
    "            padded_label = label_win.copy()\n",
    "            ones = np.where(label_win == 1)[0]\n",
    "            for p in ones:\n",
    "                for offset in [-2, -1, 1, 2]:\n",
    "                    if 0 <= p + offset < win_size:\n",
    "                        padded_label[p + offset] = 1\n",
    "\n",
    "            # Normalize signal window to (0, 1)\n",
    "            # data_win = normalize_bound(data_win, lb=0, ub=1)\n",
    "\n",
    "            # Normalized locally\n",
    "            data_win = (data_win - np.min(data_win))/(np.max(data_win) - np.min(data_win))\n",
    "\n",
    "            # Normalized globally\n",
    "            # low = np.min(signals)\n",
    "            # high = np.max(signals)\n",
    "            # data_win = (data_win - low)/(high - low)\n",
    "\n",
    "            X.append(data_win)\n",
    "            y.append(padded_label)\n",
    "\n",
    "        X = np.array(X).reshape(batch_size, win_size, 1)\n",
    "        y = np.array(y).reshape(batch_size, win_size, 1).astype(int)\n",
    "\n",
    "        yield X, y"
   ]
  },
  {
   "cell_type": "code",
   "execution_count": 38,
   "id": "120f35d5",
   "metadata": {},
   "outputs": [],
   "source": [
    "gen = data_generator(gauss_signals_train, binary_labels_train, win_size=990, batch_size=64)\n",
    "X_batch, y_batch = next(gen)"
   ]
  },
  {
   "cell_type": "code",
   "execution_count": 39,
   "id": "f3ab5797",
   "metadata": {},
   "outputs": [],
   "source": [
    "n = next(gen)"
   ]
  },
  {
   "cell_type": "code",
   "execution_count": 40,
   "id": "379edc02",
   "metadata": {},
   "outputs": [
    {
     "name": "stdout",
     "output_type": "stream",
     "text": [
      "<class 'tuple'>\n",
      "2\n",
      "(64, 990, 1)\n",
      "(64, 990, 1)\n"
     ]
    },
    {
     "data": {
      "image/png": "[encoded data removed]",
      "text/plain": [
       "<Figure size 1296x720 with 4 Axes>"
      ]
     },
     "metadata": {
      "needs_background": "light"
     },
     "output_type": "display_data"
    }
   ],
   "source": [
    "\n",
    "print(type(n))         # likely a tuple\n",
    "print(len(n))          # 2: probably (inputs, labels)\n",
    "print(n[0].shape)      # input batch shape\n",
    "print(n[1].shape)      # label batch shape\n",
    "\n",
    "# Plot 4 training examples with labels\n",
    "fig, axs = plt.subplots(2, 2)\n",
    "fig.set_figheight(10), fig.set_figwidth(18)\n",
    "fig.suptitle('Some examples of training data with labels', size=20)\n",
    "\n",
    "# first index refers to whether it's an input or label, so noisy signal is input and peaks are labels\n",
    "axs[0, 0].plot(n[0][0], color='orange')\n",
    "axs[0, 0].plot(n[1][0]+1, color='green')\n",
    "\n",
    "axs[0, 1].plot(n[0][1], color='purple')\n",
    "axs[0, 1].plot(n[1][1]+1, color='blue')\n",
    "\n",
    "axs[1, 0].plot(n[0][2], color='yellow')\n",
    "axs[1, 0].plot(n[1][2]+1, color='red')\n",
    "\n",
    "axs[1, 1].plot(n[0][3], color='black')\n",
    "axs[1, 1].plot(n[1][3]+1, color='grey')\n",
    "\n",
    "# Hide x labels and tick labels for top plots and y ticks for right plots.\n",
    "for ax in axs.flat:\n",
    "    ax.label_outer()"
   ]
  },
  {
   "cell_type": "code",
   "execution_count": 41,
   "id": "fcda9d33",
   "metadata": {},
   "outputs": [],
   "source": [
    "n_batch, n_timesteps, n_input_dim = 64, 990, 1\n",
    "\n",
    "model = models.Sequential()\n",
    "model.add(Input(shape=(n_timesteps, n_input_dim)))\n",
    "model.add(layers.Bidirectional(layers.LSTM(32, return_sequences=True)))\n",
    "model.add(layers.Bidirectional(layers.LSTM(32, return_sequences=True)))\n",
    "model.add(layers.Dense(1, activation='sigmoid'))\n",
    "\n",
    "model.compile(loss='binary_crossentropy', optimizer='adam', metrics=['acc'])\n"
   ]
  },
  {
   "cell_type": "code",
   "execution_count": 42,
   "id": "7b6257b6",
   "metadata": {},
   "outputs": [],
   "source": [
    "training_gen = data_generator(gauss_signals_train, binary_labels_train, win_size=n_timesteps, batch_size=n_batch)"
   ]
  },
  {
   "cell_type": "code",
   "execution_count": 43,
   "id": "dbab8d3c",
   "metadata": {},
   "outputs": [
    {
     "name": "stdout",
     "output_type": "stream",
     "text": [
      "Epoch 1/20\n",
      "40/40 [==============================] - 68s 2s/step - loss: 0.3469 - acc: 0.9547\n",
      "Epoch 2/20\n",
      "40/40 [==============================] - 54s 1s/step - loss: 0.1334 - acc: 0.9645\n",
      "Epoch 3/20\n",
      "40/40 [==============================] - 44s 1s/step - loss: 0.0808 - acc: 0.9652\n",
      "Epoch 4/20\n",
      "40/40 [==============================] - 43s 1s/step - loss: 0.0471 - acc: 0.9813\n",
      "Epoch 5/20\n",
      "40/40 [==============================] - 43s 1s/step - loss: 0.0262 - acc: 0.9918\n",
      "Epoch 6/20\n",
      "40/40 [==============================] - 43s 1s/step - loss: 0.0200 - acc: 0.9931\n",
      "Epoch 7/20\n",
      "40/40 [==============================] - 43s 1s/step - loss: 0.0169 - acc: 0.9944\n",
      "Epoch 8/20\n",
      "40/40 [==============================] - 43s 1s/step - loss: 0.0141 - acc: 0.9955\n",
      "Epoch 9/20\n",
      "40/40 [==============================] - 43s 1s/step - loss: 0.0132 - acc: 0.9957\n",
      "Epoch 10/20\n",
      "40/40 [==============================] - 43s 1s/step - loss: 0.0124 - acc: 0.9960\n",
      "Epoch 11/20\n",
      "40/40 [==============================] - 43s 1s/step - loss: 0.0106 - acc: 0.9969\n",
      "Epoch 12/20\n",
      "40/40 [==============================] - 43s 1s/step - loss: 0.0115 - acc: 0.9961\n",
      "Epoch 13/20\n",
      "40/40 [==============================] - 42s 1s/step - loss: 0.0092 - acc: 0.9974\n",
      "Epoch 14/20\n",
      "40/40 [==============================] - 43s 1s/step - loss: 0.0094 - acc: 0.9967\n",
      "Epoch 15/20\n",
      "40/40 [==============================] - 44s 1s/step - loss: 0.0087 - acc: 0.9971\n",
      "Epoch 16/20\n",
      "40/40 [==============================] - 43s 1s/step - loss: 0.0083 - acc: 0.9972\n",
      "Epoch 17/20\n",
      "40/40 [==============================] - 44s 1s/step - loss: 0.0073 - acc: 0.9980\n",
      "Epoch 18/20\n",
      "40/40 [==============================] - 44s 1s/step - loss: 0.0073 - acc: 0.9977\n",
      "Epoch 19/20\n",
      "40/40 [==============================] - 44s 1s/step - loss: 0.0072 - acc: 0.9976\n",
      "Epoch 20/20\n",
      "40/40 [==============================] - 44s 1s/step - loss: 0.0064 - acc: 0.9983\n"
     ]
    },
    {
     "data": {
      "text/plain": [
       "<tensorflow.python.keras.callbacks.History at 0x7efbc00690f0>"
      ]
     },
     "execution_count": 43,
     "metadata": {},
     "output_type": "execute_result"
    }
   ],
   "source": [
    "model.fit(training_gen,\n",
    "          steps_per_epoch=40,\n",
    "          epochs=20)"
   ]
  },
  {
   "cell_type": "code",
   "execution_count": 44,
   "id": "70118101",
   "metadata": {},
   "outputs": [],
   "source": [
    "testing_gen = data_generator(gauss_signals_test, binary_labels_test, win_size=n_timesteps, batch_size=n_batch)"
   ]
  },
  {
   "cell_type": "code",
   "execution_count": 45,
   "id": "f1d7c5f5",
   "metadata": {},
   "outputs": [],
   "source": [
    "gauss_test, label_test = next(testing_gen)"
   ]
  },
  {
   "cell_type": "code",
   "execution_count": 46,
   "id": "6e8b5026",
   "metadata": {},
   "outputs": [
    {
     "data": {
      "text/plain": [
       "(64, 990, 1)"
      ]
     },
     "execution_count": 46,
     "metadata": {},
     "output_type": "execute_result"
    }
   ],
   "source": [
    "label_test.shape"
   ]
  },
  {
   "cell_type": "code",
   "execution_count": 47,
   "id": "7e4ac7fe",
   "metadata": {},
   "outputs": [],
   "source": [
    "binary_pred = model.predict(gauss_test)"
   ]
  },
  {
   "cell_type": "code",
   "execution_count": 48,
   "id": "9baa7a06",
   "metadata": {},
   "outputs": [
    {
     "data": {
      "text/plain": [
       "(64, 990, 1)"
      ]
     },
     "execution_count": 48,
     "metadata": {},
     "output_type": "execute_result"
    }
   ],
   "source": [
    "binary_pred.shape"
   ]
  },
  {
   "cell_type": "code",
   "execution_count": 49,
   "id": "49e86c7f",
   "metadata": {},
   "outputs": [
    {
     "data": {
      "text/plain": [
       "array([[1.7881393e-07],\n",
       "       [1.4901161e-07],\n",
       "       [2.3841858e-07],\n",
       "       [1.4901161e-07],\n",
       "       [1.1920929e-07],\n",
       "       [1.1920929e-07],\n",
       "       [1.7881393e-07],\n",
       "       [1.1920929e-07],\n",
       "       [2.0861626e-07],\n",
       "       [2.0861626e-07]], dtype=float32)"
      ]
     },
     "execution_count": 49,
     "metadata": {},
     "output_type": "execute_result"
    }
   ],
   "source": [
    "np.where(binary_pred[5] > 1e-2)[0]\n",
    "#binary_pred[5]\n",
    "binary_pred[5][750:760]"
   ]
  },
  {
   "cell_type": "code",
   "execution_count": 50,
   "id": "11e03b94",
   "metadata": {},
   "outputs": [],
   "source": [
    "plt.close('all')"
   ]
  },
  {
   "cell_type": "code",
   "execution_count": 51,
   "id": "9781742f",
   "metadata": {},
   "outputs": [
    {
     "data": {
      "image/png": "[encoded data removed]",
      "text/plain": [
       "<Figure size 432x288 with 1 Axes>"
      ]
     },
     "metadata": {
      "needs_background": "light"
     },
     "output_type": "display_data"
    }
   ],
   "source": [
    "plt.figure()\n",
    "for j in range(64):\n",
    "    plt.plot(binary_pred[j], color='red')\n",
    "    plt.plot(label_test[j] + 1, color='purple')\n",
    "plt.show()"
   ]
  },
  {
   "cell_type": "code",
   "execution_count": 52,
   "id": "e28b0379",
   "metadata": {},
   "outputs": [
    {
     "data": {
      "text/plain": [
       "(64, 990, 1)"
      ]
     },
     "execution_count": 52,
     "metadata": {},
     "output_type": "execute_result"
    }
   ],
   "source": [
    "binary_pred.shape"
   ]
  },
  {
   "cell_type": "code",
   "execution_count": 53,
   "id": "030ac027",
   "metadata": {},
   "outputs": [],
   "source": [
    "# evaluate accuracy\n",
    "# use f1 score, set prob >= 60% as positive, else negative\n",
    "\n",
    "binary_pred_adjusted = np.zeros_like(binary_pred)\n",
    "\n",
    "for j in range(binary_pred.shape[0]):\n",
    "    idx = np.where(binary_pred[j] >= 0.6)[0]\n",
    "    binary_pred_adjusted[j][idx] = 1\n"
   ]
  },
  {
   "cell_type": "code",
   "execution_count": 54,
   "id": "69d1476f",
   "metadata": {},
   "outputs": [],
   "source": [
    "plt.close('all')"
   ]
  },
  {
   "cell_type": "code",
   "execution_count": 1,
   "id": "9f1201e3",
   "metadata": {},
   "outputs": [
    {
     "ename": "NameError",
     "evalue": "name 'plt' is not defined",
     "output_type": "error",
     "traceback": [
      "\u001b[0;31m---------------------------------------------------------------------------\u001b[0m",
      "\u001b[0;31mNameError\u001b[0m                                 Traceback (most recent call last)",
      "\u001b[0;32m<ipython-input-1-a9f5fa6dcc11>\u001b[0m in \u001b[0;36m<module>\u001b[0;34m\u001b[0m\n\u001b[0;32m----> 1\u001b[0;31m \u001b[0mplt\u001b[0m\u001b[0;34m.\u001b[0m\u001b[0mfigure\u001b[0m\u001b[0;34m(\u001b[0m\u001b[0;34m)\u001b[0m\u001b[0;34m\u001b[0m\u001b[0;34m\u001b[0m\u001b[0m\n\u001b[0m\u001b[1;32m      2\u001b[0m \u001b[0;34m\u001b[0m\u001b[0m\n\u001b[1;32m      3\u001b[0m \u001b[0;32mfor\u001b[0m \u001b[0mj\u001b[0m \u001b[0;32min\u001b[0m \u001b[0mrange\u001b[0m\u001b[0;34m(\u001b[0m\u001b[0;36m1\u001b[0m\u001b[0;34m)\u001b[0m\u001b[0;34m:\u001b[0m\u001b[0;34m\u001b[0m\u001b[0;34m\u001b[0m\u001b[0m\n\u001b[1;32m      4\u001b[0m     \u001b[0mplt\u001b[0m\u001b[0;34m.\u001b[0m\u001b[0mplot\u001b[0m\u001b[0;34m(\u001b[0m\u001b[0mgauss_test\u001b[0m\u001b[0;34m[\u001b[0m\u001b[0mj\u001b[0m\u001b[0;34m]\u001b[0m\u001b[0;34m,\u001b[0m \u001b[0mcolor\u001b[0m\u001b[0;34m=\u001b[0m\u001b[0;34m'green'\u001b[0m\u001b[0;34m,\u001b[0m \u001b[0mlabel\u001b[0m\u001b[0;34m=\u001b[0m\u001b[0;34m'Signal'\u001b[0m\u001b[0;34m)\u001b[0m\u001b[0;34m\u001b[0m\u001b[0;34m\u001b[0m\u001b[0m\n\u001b[1;32m      5\u001b[0m     \u001b[0mplt\u001b[0m\u001b[0;34m.\u001b[0m\u001b[0mplot\u001b[0m\u001b[0;34m(\u001b[0m\u001b[0mbinary_pred\u001b[0m\u001b[0;34m[\u001b[0m\u001b[0mj\u001b[0m\u001b[0;34m]\u001b[0m \u001b[0;34m+\u001b[0m \u001b[0;36m1\u001b[0m\u001b[0;34m,\u001b[0m \u001b[0mcolor\u001b[0m\u001b[0;34m=\u001b[0m\u001b[0;34m'orange'\u001b[0m\u001b[0;34m,\u001b[0m \u001b[0mlabel\u001b[0m\u001b[0;34m=\u001b[0m\u001b[0;34m'Predicted Probabilities'\u001b[0m\u001b[0;34m)\u001b[0m\u001b[0;34m\u001b[0m\u001b[0;34m\u001b[0m\u001b[0m\n",
      "\u001b[0;31mNameError\u001b[0m: name 'plt' is not defined"
     ]
    }
   ],
   "source": [
    "plt.figure()\n",
    "\n",
    "for j in range(1):\n",
    "    plt.plot(gauss_test[j], color='green', label='Signal')\n",
    "    plt.plot(binary_pred[j] + 1, color='orange', label='Predicted Probabilities')\n",
    "    plt.plot(label_test[j] + 2, color='purple', label='True Labels')\n",
    "\n",
    "plt.tick_params(top=True, bottom=True, left=True, right=True, direction='in')\n",
    "plt.legend(loc='upper left', bbox_to_anchor=(1.05, 1))\n",
    "plt.tight_layout()\n",
    "plt.savefig('test_results_multigauss1.png')\n",
    "plt.show()"
   ]
  }
 ],
 "metadata": {
  "kernelspec": {
   "display_name": "ecgenv",
   "language": "python",
   "name": "python3"
  },
  "language_info": {
   "codemirror_mode": {
    "name": "ipython",
    "version": 3
   },
   "file_extension": ".py",
   "mimetype": "text/x-python",
   "name": "python",
   "nbconvert_exporter": "python",
   "pygments_lexer": "ipython3",
   "version": "3.6.8"
  }
 },
 "nbformat": 4,
 "nbformat_minor": 5
}
