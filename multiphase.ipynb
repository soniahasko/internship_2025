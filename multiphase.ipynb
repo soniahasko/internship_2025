{
 "cells": [
  {
   "cell_type": "code",
   "execution_count": 1,
   "id": "548c09ae",
   "metadata": {},
   "outputs": [],
   "source": [
    "# Import relevant libraries\n",
    "\n",
    "import Dans_Diffraction as dif\n",
    "import Dans_Diffraction.functions_scattering as fs\n",
    "import numpy as np\n",
    "import matplotlib.pyplot as plt\n",
    "import sys\n",
    "from tqdm import tqdm"
   ]
  },
  {
   "cell_type": "code",
   "execution_count": 2,
   "id": "4a561214",
   "metadata": {},
   "outputs": [],
   "source": [
    "# all crystals that will be in multi-phase pattern\n",
    "all_crystals = ['BaSO4_orthorhombic', 'NaCl_cubic']\n",
    "cif_files = [f'cif_files/{i}.cif' for i in all_crystals]\n",
    "\n",
    "# Create crystal objects for the crystals, put in list\n",
    "xtls = [dif.Crystal(i) for i in cif_files]\n",
    "\n",
    "multi_xtl = dif.MultiCrystal(xtls)"
   ]
  },
  {
   "cell_type": "code",
   "execution_count": 3,
   "id": "f323fbd5",
   "metadata": {},
   "outputs": [
    {
     "data": {
      "text/plain": [
       "MultiCrystal([BaSO4_orthorhombic, NaCl_cubic])"
      ]
     },
     "execution_count": 3,
     "metadata": {},
     "output_type": "execute_result"
    }
   ],
   "source": [
    "multi_xtl"
   ]
  },
  {
   "cell_type": "code",
   "execution_count": 4,
   "id": "830890fb",
   "metadata": {},
   "outputs": [],
   "source": [
    "orig_lps = []\n",
    "for xtl in multi_xtl.crystal_list:\n",
    "    orig_lps.append(xtl.Cell.lp()) # starting lattice parameters"
   ]
  },
  {
   "cell_type": "code",
   "execution_count": 5,
   "id": "2b7dd0bc",
   "metadata": {},
   "outputs": [
    {
     "data": {
      "text/plain": [
       "[(8.91393949, 5.46903188, 7.18825422, 90.0, 90.0, 90.0),\n",
       " (5.58812644, 5.58812644, 5.58812644, 90.0, 90.0, 90.0)]"
      ]
     },
     "execution_count": 5,
     "metadata": {},
     "output_type": "execute_result"
    }
   ],
   "source": [
    "orig_lps"
   ]
  },
  {
   "cell_type": "code",
   "execution_count": 6,
   "id": "1499c495",
   "metadata": {},
   "outputs": [],
   "source": [
    "lp_multiplier = (2,2,2,1,1,1) # separate multiplier for cell prms\n",
    "max_lps = np.array(orig_lps) * np.array(lp_multiplier) # max lp_a, lp_b, lp_c, alpha, beta, gamma\n",
    "num_patterns = 100 # number of variations in lattice prms\n",
    "\n",
    "all_lps = np.linspace(orig_lps, max_lps, num_patterns) # shape (num_patterns,num of crystals/phases, 6)"
   ]
  },
  {
   "cell_type": "code",
   "execution_count": 7,
   "id": "0ffb71af",
   "metadata": {},
   "outputs": [],
   "source": [
    "wavelength = 0.1665\n",
    "energy_kev = 12.398 / wavelength # convert to kEv\n",
    "min_twotheta = 1\n",
    "max_twotheta = 10\n",
    "scattering_type = 'xray'"
   ]
  },
  {
   "cell_type": "code",
   "execution_count": 8,
   "id": "fd603a68",
   "metadata": {},
   "outputs": [],
   "source": [
    "new_structure_factors = []\n",
    "for xtl in multi_xtl.crystal_list:\n",
    "    new_structure_factors.append(xtl.Scatter.structure_factor) # find the structure factor for each crystal"
   ]
  },
  {
   "cell_type": "code",
   "execution_count": 9,
   "id": "5943b849",
   "metadata": {},
   "outputs": [],
   "source": [
    "# This function has been adapted from the Dans-Diffraction library\n",
    "def intensity(i, hkl=None, scattering_type=None, int_hkl=None, **options):\n",
    "    \"\"\"\n",
    "    Returns the structure factor squared\n",
    "            I = |sum( f_i * occ_i * dw_i * exp( -i * 2 * pi * hkl.uvw ) |^2\n",
    "    Where f_i is the elemental scattering factor, occ_i is the site occupancy, dw_i\n",
    "    is the Debye-Waller thermal factor, hkl is the reflection and uvw is the site position.\n",
    "\n",
    "    The following options for scattering_type are  supported:\n",
    "      'xray'  - uses x-ray form factors\n",
    "      'neutron' - uses neutron scattering lengths\n",
    "      'xray magnetic' - calculates the magnetic (non-resonant) component of the x-ray scattering\n",
    "      'neutron magnetic' - calculates the magnetic component of neutron scattering\n",
    "      'xray resonant' - calculates magnetic resonant scattering\n",
    "      'xray dispersion' - uses x-ray form factors including f'-if'' components\n",
    "\n",
    "    :param hkl: array[n,3] : reflection indexes (h, k, l)\n",
    "    :param scattering_type: str : one of ['xray','neutron', 'electron', 'xray magnetic','neutron magnetic','xray resonant']\n",
    "    :param int_hkl: Bool : when True, hkl values are converted to integer.\n",
    "    :param kwargs: additional options to pass to scattering function\n",
    "    :return: float array[n] : array of |SF|^2\n",
    "    \"\"\"\n",
    "    return fs.intensity(new_structure_factors[i](hkl, scattering_type, int_hkl, **options))\n",
    "\n",
    "new_intensities = [intensity(i) for i in range(len(new_structure_factors))]"
   ]
  },
  {
   "cell_type": "code",
   "execution_count": 10,
   "id": "b18b0a21",
   "metadata": {},
   "outputs": [],
   "source": [
    "from tqdm import tqdm"
   ]
  },
  {
   "cell_type": "code",
   "execution_count": 11,
   "id": "68c7f82d",
   "metadata": {},
   "outputs": [],
   "source": [
    "def list_all_reflections(energy_kev=energy_kev, print_symmetric=False,\n",
    "                              min_intensity=min_twotheta, max_intensity=max_twotheta):\n",
    "\n",
    "    hkl = np.empty(shape=(0,3))\n",
    "    tth = np.empty(shape=0)\n",
    "    inten = np.empty(shape=0)\n",
    "    name = np.empty(shape=0)\n",
    "    for xtl in multi_xtl.crystal_list:\n",
    "        hkl_xtl = xtl.Cell.all_hkl(energy_kev, xtl.Scatter._scattering_max_twotheta)\n",
    "        if not print_symmetric:\n",
    "            hkl_xtl = xtl.Symmetry.remove_symmetric_reflections(hkl_xtl)\n",
    "\n",
    "        hkl_xtl = xtl.Cell.sort_hkl(hkl_xtl)\n",
    "        # remove [0,0,0]\n",
    "        hkl_xtl = hkl_xtl[1:, :]\n",
    "        \n",
    "\n",
    "\n",
    "        tth_xtl = xtl.Cell.tth(hkl_xtl, energy_kev)\n",
    "        inrange = np.all([tth_xtl < xtl.Scatter._scattering_max_twotheta, tth_xtl > xtl.Scatter._scattering_min_twotheta], axis=0)\n",
    "        hkl_xtl = hkl_xtl[inrange, :]\n",
    "        tth_xtl = tth_xtl[inrange]\n",
    "        inten_xtl = xtl.Scatter.intensity(hkl_xtl)\n",
    "        \n",
    "\n",
    "        name = np.append(name, [xtl.name]*len(tth_xtl))\n",
    "        hkl = np.vstack((hkl, hkl_xtl))\n",
    "        tth = np.append(tth, tth_xtl)\n",
    "        inten = np.append(inten, inten_xtl)\n",
    "\n",
    "    # Sort reflections from all reflections\n",
    "    idx = np.argsort(tth)\n",
    "    name = name[idx]\n",
    "    hkl = hkl[idx, :]\n",
    "    tth = tth[idx]\n",
    "    inten = inten[idx]\n",
    "\n",
    "    all_info = []\n",
    "\n",
    "    count = 0\n",
    "    for n in range(0, len(tth)):\n",
    "        if inten[n] < min_intensity: continue\n",
    "        if inten[n] > max_intensity: continue\n",
    "        count += 1\n",
    "\n",
    "        all_info.append([hkl[n,0], hkl[n,1], hkl[n,2],tth[n],inten[n]])\n",
    "\n",
    "    return np.array(all_info)"
   ]
  },
  {
   "cell_type": "code",
   "execution_count": 12,
   "id": "bce812af",
   "metadata": {},
   "outputs": [],
   "source": [
    "valid_refs = [] # contains valid reflections with integrated areas intensities\n",
    "tths = [] # each lst entry contains an array with all the two theta vals for that set of lattice prms\n",
    "intensities = [] # same as above, but for intensities\n",
    "powder_ref1s = [] # contains powder reflections\n",
    "\n",
    "valid_refs_2 = [] # contains valid reflections with integrated areas intensities\n",
    "tths_2 = [] # each lst entry contains an array with all the two theta vals for that set of lattice prms\n",
    "intensities_2 = [] # same as above, but for intensities\n",
    "powder_ref1s_2 = [] # contains powder reflections"
   ]
  },
  {
   "cell_type": "code",
   "execution_count": 13,
   "id": "53ea40b2",
   "metadata": {},
   "outputs": [],
   "source": [
    "for xtl in multi_xtl.crystal_list:\n",
    "    xtl.Scatter.setup_scatter(\n",
    "        scattering_type=scattering_type, \n",
    "        powder_units='twotheta', \n",
    "        energy_kev=energy_kev,\n",
    "        min_twotheta=min_twotheta,\n",
    "        max_twotheta=max_twotheta,\n",
    "        output=False,\n",
    "        powder_lorentz=1\n",
    "    )"
   ]
  },
  {
   "cell_type": "code",
   "execution_count": 14,
   "id": "6b55c03d",
   "metadata": {},
   "outputs": [
    {
     "data": {
      "text/plain": [
       "array([[[ 8.91393949,  5.46903188,  7.18825422, 90.        ,\n",
       "         90.        , 90.        ],\n",
       "        [ 5.58812644,  5.58812644,  5.58812644, 90.        ,\n",
       "         90.        , 90.        ]],\n",
       "\n",
       "       [[ 9.00397928,  5.52427463,  7.26086285, 90.        ,\n",
       "         90.        , 90.        ],\n",
       "        [ 5.64457216,  5.64457216,  5.64457216, 90.        ,\n",
       "         90.        , 90.        ]],\n",
       "\n",
       "       [[ 9.09401908,  5.57951737,  7.33347148, 90.        ,\n",
       "         90.        , 90.        ],\n",
       "        [ 5.70101788,  5.70101788,  5.70101788, 90.        ,\n",
       "         90.        , 90.        ]],\n",
       "\n",
       "       ...,\n",
       "\n",
       "       [[17.64779939, 10.82757827, 14.23129118, 90.        ,\n",
       "         90.        , 90.        ],\n",
       "        [11.06336144, 11.06336144, 11.06336144, 90.        ,\n",
       "         90.        , 90.        ]],\n",
       "\n",
       "       [[17.73783919, 10.88282101, 14.30389981, 90.        ,\n",
       "         90.        , 90.        ],\n",
       "        [11.11980716, 11.11980716, 11.11980716, 90.        ,\n",
       "         90.        , 90.        ]],\n",
       "\n",
       "       [[17.82787898, 10.93806376, 14.37650844, 90.        ,\n",
       "         90.        , 90.        ],\n",
       "        [11.17625288, 11.17625288, 11.17625288, 90.        ,\n",
       "         90.        , 90.        ]]], shape=(100, 2, 6))"
      ]
     },
     "execution_count": 14,
     "metadata": {},
     "output_type": "execute_result"
    }
   ],
   "source": [
    "all_lps"
   ]
  },
  {
   "cell_type": "code",
   "execution_count": 15,
   "id": "f46dec63",
   "metadata": {},
   "outputs": [
    {
     "data": {
      "text/plain": [
       "array([ 9.00397928,  5.52427463,  7.26086285, 90.        , 90.        ,\n",
       "       90.        ])"
      ]
     },
     "execution_count": 15,
     "metadata": {},
     "output_type": "execute_result"
    }
   ],
   "source": [
    "all_lps[1][0]"
   ]
  },
  {
   "cell_type": "code",
   "execution_count": 16,
   "id": "c7496b95",
   "metadata": {},
   "outputs": [
    {
     "name": "stdout",
     "output_type": "stream",
     "text": [
      "count is 0\n"
     ]
    },
    {
     "name": "stderr",
     "output_type": "stream",
     "text": [
      "Setting lattice parameters: 100%|██████████| 100/100 [03:14<00:00,  1.94s/it]\n"
     ]
    },
    {
     "name": "stdout",
     "output_type": "stream",
     "text": [
      "(100, 11837)\n",
      "count is 1\n"
     ]
    },
    {
     "name": "stderr",
     "output_type": "stream",
     "text": [
      "Setting lattice parameters: 100%|██████████| 100/100 [13:38<00:00,  8.18s/it]"
     ]
    },
    {
     "name": "stdout",
     "output_type": "stream",
     "text": [
      "(100, 11837)\n"
     ]
    },
    {
     "name": "stderr",
     "output_type": "stream",
     "text": [
      "\n"
     ]
    }
   ],
   "source": [
    "import csv\n",
    "from tqdm import tqdm\n",
    "\n",
    "\n",
    "for xtl in multi_xtl.crystal_list:\n",
    "    \n",
    "    count = multi_xtl.crystal_list.index(xtl)\n",
    "    print(f'count is {count}')\n",
    "\n",
    "    if count == 0:\n",
    "        for i in tqdm(range(num_patterns), desc=\"Setting lattice parameters\"):\n",
    "            xtl.Cell.latt(all_lps[i][count]) # set lattice prms\n",
    "\n",
    "            tth1, intensity1, ref1 = xtl.Scatter.powder() # record two theta, intensities, and all reflections including aphysical ones\n",
    "            tths.append(tth1)\n",
    "            intensities.append(intensity1)\n",
    "            powder_ref1s.append(ref1)\n",
    "            \n",
    "            real_reflections = list_all_reflections(energy_kev=energy_kev)\n",
    "            valid_refs.append(real_reflections)\n",
    "\n",
    "        tths = np.array(tths)\n",
    "        intensities = np.array(intensities)\n",
    "        print(tths.shape)\n",
    "    \n",
    "    else:\n",
    "        for i in tqdm(range(num_patterns), desc=\"Setting lattice parameters\"):\n",
    "            xtl.Cell.latt(all_lps[i][count]) # set lattice prms\n",
    "\n",
    "            tth1, intensity1, ref1 = xtl.Scatter.powder() # record two theta, intensities, and all reflections including aphysical ones\n",
    "            tths_2.append(tth1)\n",
    "            intensities_2.append(intensity1)\n",
    "            powder_ref1s_2.append(ref1)\n",
    "            \n",
    "            real_reflections = list_all_reflections(energy_kev=energy_kev)\n",
    "            valid_refs_2.append(real_reflections)\n",
    "\n",
    "        tths_2 = np.array(tths_2)\n",
    "        intensities_2 = np.array(intensities_2)\n",
    "        print(tths_2.shape)"
   ]
  },
  {
   "cell_type": "code",
   "execution_count": 17,
   "id": "3d7af8f6",
   "metadata": {},
   "outputs": [],
   "source": [
    "max_refs = max(len(sublist) for sublist in valid_refs)\n",
    "\n",
    "refs_arr_tths = np.zeros((num_patterns, max_refs))\n",
    "refs_arr_ints = np.zeros((num_patterns, max_refs))\n",
    "\n",
    "for i in range(num_patterns):\n",
    "    for j in range(len(valid_refs[i])):\n",
    "        refs_arr_tths[i][j] = valid_refs[i][j][3]\n",
    "        refs_arr_ints[i][j] = valid_refs[i][j][4]\n",
    "\n",
    "max_refs_2 = max(len(sublist) for sublist in valid_refs_2)\n",
    "\n",
    "refs_arr_tths_2 = np.zeros((num_patterns, max_refs_2))\n",
    "refs_arr_ints_2 = np.zeros((num_patterns, max_refs_2))\n",
    "\n",
    "for i in range(num_patterns):\n",
    "    for j in range(len(valid_refs_2[i])):\n",
    "        refs_arr_tths_2[i][j] = valid_refs_2[i][j][3]\n",
    "        refs_arr_tths_2[i][j] = valid_refs_2[i][j][4]"
   ]
  },
  {
   "cell_type": "code",
   "execution_count": 18,
   "id": "cf1d04c2",
   "metadata": {},
   "outputs": [],
   "source": [
    "# Separate ouput of Dans-Diffraction powder method into hkls, tths, intensities, for all variations\n",
    "powder_ref1_hkls = [] \n",
    "powder_ref1_tths = []\n",
    "powder_ref1_intensities = []\n",
    "\n",
    "for j in range(num_patterns):\n",
    "    ref1_tths_pattern = []\n",
    "    ref1_intensities_pattern = []\n",
    "    ref1_hkls_pattern = []\n",
    "    \n",
    "    for i in range(len(powder_ref1s[j])):\n",
    "        ref1_hkls_pattern.append((powder_ref1s[j][i][0], powder_ref1s[j][i][1], powder_ref1s[j][i][2]))\n",
    "        ref1_tths_pattern.append(powder_ref1s[j][i][3])\n",
    "        ref1_intensities_pattern.append(powder_ref1s[j][i][4])\n",
    "    \n",
    "    powder_ref1_hkls.append(ref1_hkls_pattern)\n",
    "    powder_ref1_tths.append(ref1_tths_pattern)\n",
    "    powder_ref1_intensities.append(ref1_intensities_pattern)"
   ]
  },
  {
   "cell_type": "code",
   "execution_count": 19,
   "id": "9e30ac9f",
   "metadata": {},
   "outputs": [],
   "source": [
    "# Separate ouput of Dans-Diffraction powder method into hkls, tths, intensities, for all variations\n",
    "powder_ref1_hkls_2 = [] \n",
    "powder_ref1_tths_2 = []\n",
    "powder_ref1_intensities_2 = []\n",
    "\n",
    "for j in range(num_patterns):\n",
    "    ref1_tths_pattern_2 = []\n",
    "    ref1_intensities_pattern_2 = []\n",
    "    ref1_hkls_pattern_2 = []\n",
    "    \n",
    "    for i in range(len(powder_ref1s_2[j])):\n",
    "        ref1_hkls_pattern_2.append((powder_ref1s_2[j][i][0], powder_ref1s_2[j][i][1], powder_ref1s_2[j][i][2]))\n",
    "        ref1_tths_pattern_2.append(powder_ref1s_2[j][i][3])\n",
    "        ref1_intensities_pattern_2.append(powder_ref1s_2[j][i][4])\n",
    "    \n",
    "    powder_ref1_hkls_2.append(ref1_hkls_pattern_2)\n",
    "    powder_ref1_tths_2.append(ref1_tths_pattern_2)\n",
    "    powder_ref1_intensities_2.append(ref1_intensities_pattern_2)"
   ]
  },
  {
   "cell_type": "code",
   "execution_count": 20,
   "id": "3e45bfd8",
   "metadata": {},
   "outputs": [],
   "source": [
    "import xarray as xr"
   ]
  },
  {
   "cell_type": "code",
   "execution_count": 21,
   "id": "62b87947",
   "metadata": {},
   "outputs": [],
   "source": [
    "binary_peaks = [] # empty list that will contain the np arrays\n",
    "binary_peaks_2 = []"
   ]
  },
  {
   "cell_type": "code",
   "execution_count": 22,
   "id": "e56321cf",
   "metadata": {},
   "outputs": [],
   "source": [
    "peak_dtype = np.dtype([\n",
    "    ('hkl', '3i4'),           # tuple of 3 integers\n",
    "    ('2theta_calc', 'f8'),   # calculated 2θ\n",
    "    ('2theta_nearest', 'f8'),# nearest 2θ\n",
    "    ('intensity', 'f8')      # intensity\n",
    "]) # this is an array that will hold all of the data we want to keep"
   ]
  },
  {
   "cell_type": "code",
   "execution_count": 23,
   "id": "f21becd0",
   "metadata": {},
   "outputs": [],
   "source": [
    "all_variations = [] # Create a list to hold each variation's reflections\n",
    "all_variations_2 = []"
   ]
  },
  {
   "cell_type": "code",
   "execution_count": 24,
   "id": "021fc358",
   "metadata": {},
   "outputs": [],
   "source": [
    "tol = 0.1\n",
    "max_refs = max(len(sublist) for sublist in powder_ref1_tths)\n",
    "\n",
    "for j in range(num_patterns):\n",
    "    binary_peaks_pattern = np.zeros(tths[j].shape[0], dtype=int)\n",
    "    non_zero_count = np.count_nonzero(refs_arr_tths[j])\n",
    "    variation_data = np.zeros((non_zero_count), dtype=peak_dtype)\n",
    "\n",
    "    count = 0\n",
    "\n",
    "    for i in range(non_zero_count):\n",
    "        if refs_arr_tths[j][i] == 0:\n",
    "            continue  # skip zero entries\n",
    "\n",
    "        diffs = np.abs(powder_ref1_tths[j] - refs_arr_tths[j][i])\n",
    "        min_idx_powder = np.argmin(diffs)\n",
    "        \n",
    "        if diffs[min_idx_powder] < tol:\n",
    "            idx_powder = min_idx_powder\n",
    "            variation_data[i] = (\n",
    "                powder_ref1_hkls[j][idx_powder],\n",
    "                refs_arr_tths[j][i],\n",
    "                powder_ref1_tths[j][idx_powder],\n",
    "                powder_ref1_intensities[j][idx_powder]\n",
    "            )    \n",
    "        \n",
    "        # For binary pattern\n",
    "        diffs_alldata = np.abs(tths[j] - refs_arr_tths[j][i])\n",
    "        min_idx_alldata = np.argmin(diffs_alldata)\n",
    "\n",
    "        # peak width = 0.01 degrees, and 9 degrees (1-->10 theta) divided by 11763 points is ~7.6e-4 points per degree\n",
    "        # over 0.01 degrees that is 13 points\n",
    "        start_id = min_idx_alldata - 5 #\n",
    "        end_id = min_idx_alldata + 8\n",
    "\n",
    "        if diffs_alldata[min_idx_alldata] < tol:\n",
    "            binary_peaks_pattern[start_id:end_id] = 1\n",
    "            count+=1\n",
    "            # print(f\"Yes: match in tths[{j}] for ref peak {refs_arr_tths[j][i]} (i={i} at hkl {powder_ref1_hkls[j][i]}\")\n",
    "            # print(tths[j][min_idx_alldata])\n",
    "\n",
    "        else:\n",
    "            print(f\"No match in tths[{j}] for ref peak {refs_arr_tths[j][i]} (i={i})\")\n",
    "    # print(f'count: {count}')\n",
    "\n",
    "    # print(f\"Pattern {j} - Peaks marked: {np.count_nonzero(binary_peaks_pattern)}\")\n",
    "    all_variations.append(variation_data)\n",
    "    binary_peaks.append(binary_peaks_pattern)\n",
    " "
   ]
  },
  {
   "cell_type": "code",
   "execution_count": 25,
   "id": "0d650e30",
   "metadata": {},
   "outputs": [],
   "source": [
    "tol = 0.1\n",
    "max_refs = max(len(sublist) for sublist in powder_ref1_tths_2)\n",
    "\n",
    "for j in range(num_patterns):\n",
    "    binary_peaks_pattern_2 = np.zeros(tths_2[j].shape[0], dtype=int)\n",
    "    non_zero_count_2 = np.count_nonzero(refs_arr_tths_2[j])\n",
    "    variation_data_2 = np.zeros((non_zero_count), dtype=peak_dtype)\n",
    "\n",
    "    count = 0\n",
    "\n",
    "    for i in range(non_zero_count_2):\n",
    "        if refs_arr_tths_2[j][i] == 0:\n",
    "            continue  # skip zero entries\n",
    "\n",
    "        diffs = np.abs(powder_ref1_tths_2[j] - refs_arr_tths_2[j][i])\n",
    "        min_idx_powder_2 = np.argmin(diffs)\n",
    "        \n",
    "        if diffs[min_idx_powder_2] < tol:\n",
    "            idx_powder_2 = min_idx_powder_2\n",
    "            variation_data_2[i] = (\n",
    "                powder_ref1_hkls_2[j][idx_powder_2],\n",
    "                refs_arr_tths_2[j][i],\n",
    "                powder_ref1_tths_2[j][idx_powder_2],\n",
    "                powder_ref1_intensities_2[j][idx_powder_2]\n",
    "            )    \n",
    "        \n",
    "        # For binary pattern\n",
    "        diffs_alldata_2 = np.abs(tths_2[j] - refs_arr_tths_2[j][i])\n",
    "        min_idx_alldata_2 = np.argmin(diffs_alldata_2)\n",
    "\n",
    "        # peak width = 0.01 degrees, and 9 degrees (1-->10 theta) divided by 11763 points is ~7.6e-4 points per degree\n",
    "        # over 0.01 degrees that is 13 points\n",
    "        start_id_2 = min_idx_alldata_2 - 5 #\n",
    "        end_id_2 = min_idx_alldata_2 + 8\n",
    "\n",
    "        if diffs_alldata_2[min_idx_alldata_2] < tol:\n",
    "            binary_peaks_pattern_2[start_id_2:end_id_2] = 1\n",
    "            count+=1\n",
    "            # print(f\"Yes: match in tths[{j}] for ref peak {refs_arr_tths[j][i]} (i={i} at hkl {powder_ref1_hkls[j][i]}\")\n",
    "            # print(tths[j][min_idx_alldata])\n",
    "\n",
    "        else:\n",
    "            print(f\"No match in tths[{j}] for ref peak {refs_arr_tths_2[j][i]} (i={i})\")\n",
    "    # print(f'count: {count}')\n",
    "\n",
    "    # print(f\"Pattern {j} - Peaks marked: {np.count_nonzero(binary_peaks_pattern)}\")\n",
    "    all_variations_2.append(variation_data_2)\n",
    "    binary_peaks_2.append(binary_peaks_pattern_2)\n",
    " "
   ]
  }
 ],
 "metadata": {
  "kernelspec": {
   "display_name": "internship",
   "language": "python",
   "name": "python3"
  },
  "language_info": {
   "codemirror_mode": {
    "name": "ipython",
    "version": 3
   },
   "file_extension": ".py",
   "mimetype": "text/x-python",
   "name": "python",
   "nbconvert_exporter": "python",
   "pygments_lexer": "ipython3",
   "version": "3.13.5"
  }
 },
 "nbformat": 4,
 "nbformat_minor": 5
}
