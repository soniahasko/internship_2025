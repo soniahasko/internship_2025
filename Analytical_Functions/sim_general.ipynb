{
 "cells": [
  {
   "cell_type": "code",
   "execution_count": 2,
   "id": "107d296a",
   "metadata": {},
   "outputs": [],
   "source": [
    "import numpy as np\n",
    "import matplotlib.pyplot as plt\n",
    "import xarray as xr\n",
    "import os \n",
    "from zipfile import ZipFile, ZIP_DEFLATED\n",
    "from scipy.special import voigt_profile\n",
    "import math"
   ]
  },
  {
   "cell_type": "markdown",
   "id": "2b21850e",
   "metadata": {},
   "source": [
    "Choose the peak density"
   ]
  },
  {
   "cell_type": "code",
   "execution_count": 3,
   "id": "f15c17f3",
   "metadata": {},
   "outputs": [],
   "source": [
    "peak_densities_all = ['small', 'medium', 'large', 'very_large']\n",
    "peak_density = peak_densities_all[0]\n",
    "\n",
    "np.random.seed(42) # for reproducibility\n",
    "num_repetitions = 3000\n",
    "num_xs = 11837\n",
    "x = np.linspace(0, 10, num_xs)\n",
    "\n",
    "signals = np.zeros((num_repetitions, len(x)))\n",
    "all_peaks = []\n",
    "binary_peaks = np.zeros((num_repetitions, num_xs))"
   ]
  },
  {
   "cell_type": "markdown",
   "id": "799be7b6",
   "metadata": {},
   "source": [
    "Choose the number of peaks"
   ]
  },
  {
   "cell_type": "code",
   "execution_count": null,
   "id": "e868a5f0",
   "metadata": {},
   "outputs": [],
   "source": [
    "for i in range(num_repetitions):\n",
    "    if peak_density == 'small':\n",
    "        n_func = np.random.randint(5, 20)\n",
    "    elif peak_density == 'medium':\n",
    "        n_func = np.random.randint(20,50)\n",
    "    elif peak_density == 'large':\n",
    "        n_func = np.random.randint(50, 100)\n",
    "    else: n_func = np.random.randint(100, 200)\n"
   ]
  },
  {
   "cell_type": "code",
   "execution_count": null,
   "id": "4f55c630",
   "metadata": {},
   "outputs": [],
   "source": [
    "for i in range(num_repetitions):\n",
    "    used_means = []\n",
    "\n",
    "    for _ in range(n_func):\n",
    "\n",
    "        attempts = 0\n",
    "\n",
    "        while True:\n",
    "            a = np.random.uniform(0,10) # peak center\n",
    "            b = np.random.uniform(0.001,0.05) # half width half max (HWHM) for L\n",
    "            # rule of thumb is 7 points per peak, maybe 5\n",
    "            stddev = b / np.sqrt(2 * np.log(2)) # convert b to std dev\n",
    "            mix_param = np.random.uniform(0.2,0.8)\n",
    "\n",
    "            min_d = b * 4\n",
    "            if all(abs(a - m) >= min_d for m in used_means):\n",
    "                used_means.append(a)\n",
    "                break\n",
    "            attempts += 1\n",
    "            if attempts > 500: # avoid inf loop\n",
    "                break\n",
    "\n",
    "        "
   ]
  }
 ],
 "metadata": {
  "kernelspec": {
   "display_name": "BNL",
   "language": "python",
   "name": "python3"
  },
  "language_info": {
   "codemirror_mode": {
    "name": "ipython",
    "version": 3
   },
   "file_extension": ".py",
   "mimetype": "text/x-python",
   "name": "python",
   "nbconvert_exporter": "python",
   "pygments_lexer": "ipython3",
   "version": "3.13.5"
  }
 },
 "nbformat": 4,
 "nbformat_minor": 5
}
