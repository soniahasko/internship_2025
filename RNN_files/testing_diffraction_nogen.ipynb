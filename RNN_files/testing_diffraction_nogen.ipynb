{
 "cells": [
  {
   "cell_type": "markdown",
   "id": "4be583e3",
   "metadata": {},
   "source": [
    "Code adapted from:\n",
    "Juho Laitala, Mingzhe Jiang, Elise Syrjälä, Emad Kasaeyan Naeini, Antti\n",
    "Airola, Amir M. Rahmani, Nikil D. Dutt, and Pasi Liljeberg. 2020. Robust\n",
    "ECG R-peak Detection Using LSTM. In The 35th ACM/SIGAPP Symposium\n",
    "on Applied Computing (SAC ’20), March 30-April 3, 2020, Brno, Czech Republic\n",
    "ACM, New York, NY, USA, Article 4, 8 pages. https://doi.org/10.1145/3341105.\n",
    "3373945"
   ]
  },
  {
   "cell_type": "code",
   "execution_count": 19,
   "id": "5a4e21f5",
   "metadata": {},
   "outputs": [],
   "source": [
    "import sys\n",
    "import os\n",
    "\n",
    "# Add the parent directory to sys.path\n",
    "sys.path.append(os.path.abspath(\"..\"))\n",
    "\n",
    "# Importing needed libraries\n",
    "from matplotlib import pyplot as plt\n",
    "from RNN_files import Laitala_data_original_file\n",
    "import wfdb\n",
    "from wfdb.io import get_record_list\n",
    "from wfdb import rdsamp\n",
    "import numpy as np\n",
    "import tensorflow as tf\n",
    "from tensorflow.keras import layers\n",
    "from scipy.signal import resample_poly\n",
    "import xarray as xr\n",
    "import matplotlib.pyplot as plt\n",
    "from RNN_files import Laitala_data_original_file\n",
    "import tensorflow\n",
    "from tensorflow.keras import layers, models, Input\n",
    "import numpy as np\n",
    "import sklearn\n",
    "from sklearn.model_selection import train_test_split"
   ]
  },
  {
   "cell_type": "markdown",
   "id": "2f951f28",
   "metadata": {},
   "source": [
    "Run this cell and not the one after if using simulated diffraction data."
   ]
  },
  {
   "cell_type": "code",
   "execution_count": 20,
   "id": "fcf813d2",
   "metadata": {},
   "outputs": [],
   "source": [
    "# path = '/nsls2/users/shasko/Repos/internship_2025/datasets/ds_combined_500_patterns_NaCl.nc'\n",
    "# ds = xr.open_dataset(path, engine=\"netcdf4\")\n",
    "# gaussians = ds[\"Intensities\"].values\n",
    "# binary = ds[\"binary_arr\"].values\n",
    "# x = ds[\"tth\"].values\n",
    "\n",
    "# window_size = 11763"
   ]
  },
  {
   "cell_type": "markdown",
   "id": "7bcaff2a",
   "metadata": {},
   "source": [
    "Run this cell and not the previous one if using simulated Gaussian signals. "
   ]
  },
  {
   "cell_type": "code",
   "execution_count": 21,
   "id": "ffba0842",
   "metadata": {},
   "outputs": [
    {
     "name": "stdout",
     "output_type": "stream",
     "text": [
      "<class 'numpy.ndarray'>\n"
     ]
    }
   ],
   "source": [
    "path = '/nsls2/users/shasko/Repos/internship_2025/saved_data/gaussian_functions_smalldataset_varying_amps.nc' \n",
    "ds = xr.open_dataset(path, engine=\"netcdf4\")\n",
    "\n",
    "gaussians = ds[\"Gaussians\"].values\n",
    "binary = ds[\"BinaryArr\"].values\n",
    "print(type(binary))\n",
    "\n",
    "x = ds[\"x\"].values\n",
    "window_size = 1000"
   ]
  },
  {
   "cell_type": "code",
   "execution_count": 22,
   "id": "f1bc85ed",
   "metadata": {},
   "outputs": [],
   "source": [
    "for j in range(binary.shape[0]):\n",
    "    idx = np.where(binary[j] == 1)[0][0] # because there's only 1 \"1\" we can use [0][0]\n",
    "    binary[j][idx - 2] = 1\n",
    "    binary[j][idx - 1] = 1\n",
    "    binary[j][idx + 1] = 1\n",
    "    binary[j][idx + 2] = 1"
   ]
  },
  {
   "cell_type": "code",
   "execution_count": 23,
   "id": "625c6f3b",
   "metadata": {},
   "outputs": [
    {
     "data": {
      "text/html": [
       "<div><svg style=\"position: absolute; width: 0; height: 0; overflow: hidden\">\n",
       "<defs>\n",
       "<symbol id=\"icon-database\" viewBox=\"0 0 32 32\">\n",
       "<path d=\"M16 0c-8.837 0-16 2.239-16 5v4c0 2.761 7.163 5 16 5s16-2.239 16-5v-4c0-2.761-7.163-5-16-5z\"></path>\n",
       "<path d=\"M16 17c-8.837 0-16-2.239-16-5v6c0 2.761 7.163 5 16 5s16-2.239 16-5v-6c0 2.761-7.163 5-16 5z\"></path>\n",
       "<path d=\"M16 26c-8.837 0-16-2.239-16-5v6c0 2.761 7.163 5 16 5s16-2.239 16-5v-6c0 2.761-7.163 5-16 5z\"></path>\n",
       "</symbol>\n",
       "<symbol id=\"icon-file-text2\" viewBox=\"0 0 32 32\">\n",
       "<path d=\"M28.681 7.159c-0.694-0.947-1.662-2.053-2.724-3.116s-2.169-2.030-3.116-2.724c-1.612-1.182-2.393-1.319-2.841-1.319h-15.5c-1.378 0-2.5 1.121-2.5 2.5v27c0 1.378 1.122 2.5 2.5 2.5h23c1.378 0 2.5-1.122 2.5-2.5v-19.5c0-0.448-0.137-1.23-1.319-2.841zM24.543 5.457c0.959 0.959 1.712 1.825 2.268 2.543h-4.811v-4.811c0.718 0.556 1.584 1.309 2.543 2.268zM28 29.5c0 0.271-0.229 0.5-0.5 0.5h-23c-0.271 0-0.5-0.229-0.5-0.5v-27c0-0.271 0.229-0.5 0.5-0.5 0 0 15.499-0 15.5 0v7c0 0.552 0.448 1 1 1h7v19.5z\"></path>\n",
       "<path d=\"M23 26h-14c-0.552 0-1-0.448-1-1s0.448-1 1-1h14c0.552 0 1 0.448 1 1s-0.448 1-1 1z\"></path>\n",
       "<path d=\"M23 22h-14c-0.552 0-1-0.448-1-1s0.448-1 1-1h14c0.552 0 1 0.448 1 1s-0.448 1-1 1z\"></path>\n",
       "<path d=\"M23 18h-14c-0.552 0-1-0.448-1-1s0.448-1 1-1h14c0.552 0 1 0.448 1 1s-0.448 1-1 1z\"></path>\n",
       "</symbol>\n",
       "</defs>\n",
       "</svg>\n",
       "<style>/* CSS stylesheet for displaying xarray objects in jupyterlab.\n",
       " *\n",
       " */\n",
       "\n",
       ":root {\n",
       "  --xr-font-color0: var(--jp-content-font-color0, rgba(0, 0, 0, 1));\n",
       "  --xr-font-color2: var(--jp-content-font-color2, rgba(0, 0, 0, 0.54));\n",
       "  --xr-font-color3: var(--jp-content-font-color3, rgba(0, 0, 0, 0.38));\n",
       "  --xr-border-color: var(--jp-border-color2, #e0e0e0);\n",
       "  --xr-disabled-color: var(--jp-layout-color3, #bdbdbd);\n",
       "  --xr-background-color: var(--jp-layout-color0, white);\n",
       "  --xr-background-color-row-even: var(--jp-layout-color1, white);\n",
       "  --xr-background-color-row-odd: var(--jp-layout-color2, #eeeeee);\n",
       "}\n",
       "\n",
       "html[theme=dark],\n",
       "body.vscode-dark {\n",
       "  --xr-font-color0: rgba(255, 255, 255, 1);\n",
       "  --xr-font-color2: rgba(255, 255, 255, 0.54);\n",
       "  --xr-font-color3: rgba(255, 255, 255, 0.38);\n",
       "  --xr-border-color: #1F1F1F;\n",
       "  --xr-disabled-color: #515151;\n",
       "  --xr-background-color: #111111;\n",
       "  --xr-background-color-row-even: #111111;\n",
       "  --xr-background-color-row-odd: #313131;\n",
       "}\n",
       "\n",
       ".xr-wrap {\n",
       "  display: block;\n",
       "  min-width: 300px;\n",
       "  max-width: 700px;\n",
       "}\n",
       "\n",
       ".xr-text-repr-fallback {\n",
       "  /* fallback to plain text repr when CSS is not injected (untrusted notebook) */\n",
       "  display: none;\n",
       "}\n",
       "\n",
       ".xr-header {\n",
       "  padding-top: 6px;\n",
       "  padding-bottom: 6px;\n",
       "  margin-bottom: 4px;\n",
       "  border-bottom: solid 1px var(--xr-border-color);\n",
       "}\n",
       "\n",
       ".xr-header > div,\n",
       ".xr-header > ul {\n",
       "  display: inline;\n",
       "  margin-top: 0;\n",
       "  margin-bottom: 0;\n",
       "}\n",
       "\n",
       ".xr-obj-type,\n",
       ".xr-array-name {\n",
       "  margin-left: 2px;\n",
       "  margin-right: 10px;\n",
       "}\n",
       "\n",
       ".xr-obj-type {\n",
       "  color: var(--xr-font-color2);\n",
       "}\n",
       "\n",
       ".xr-sections {\n",
       "  padding-left: 0 !important;\n",
       "  display: grid;\n",
       "  grid-template-columns: 150px auto auto 1fr 20px 20px;\n",
       "}\n",
       "\n",
       ".xr-section-item {\n",
       "  display: contents;\n",
       "}\n",
       "\n",
       ".xr-section-item input {\n",
       "  display: none;\n",
       "}\n",
       "\n",
       ".xr-section-item input + label {\n",
       "  color: var(--xr-disabled-color);\n",
       "}\n",
       "\n",
       ".xr-section-item input:enabled + label {\n",
       "  cursor: pointer;\n",
       "  color: var(--xr-font-color2);\n",
       "}\n",
       "\n",
       ".xr-section-item input:enabled + label:hover {\n",
       "  color: var(--xr-font-color0);\n",
       "}\n",
       "\n",
       ".xr-section-summary {\n",
       "  grid-column: 1;\n",
       "  color: var(--xr-font-color2);\n",
       "  font-weight: 500;\n",
       "}\n",
       "\n",
       ".xr-section-summary > span {\n",
       "  display: inline-block;\n",
       "  padding-left: 0.5em;\n",
       "}\n",
       "\n",
       ".xr-section-summary-in:disabled + label {\n",
       "  color: var(--xr-font-color2);\n",
       "}\n",
       "\n",
       ".xr-section-summary-in + label:before {\n",
       "  display: inline-block;\n",
       "  content: '►';\n",
       "  font-size: 11px;\n",
       "  width: 15px;\n",
       "  text-align: center;\n",
       "}\n",
       "\n",
       ".xr-section-summary-in:disabled + label:before {\n",
       "  color: var(--xr-disabled-color);\n",
       "}\n",
       "\n",
       ".xr-section-summary-in:checked + label:before {\n",
       "  content: '▼';\n",
       "}\n",
       "\n",
       ".xr-section-summary-in:checked + label > span {\n",
       "  display: none;\n",
       "}\n",
       "\n",
       ".xr-section-summary,\n",
       ".xr-section-inline-details {\n",
       "  padding-top: 4px;\n",
       "  padding-bottom: 4px;\n",
       "}\n",
       "\n",
       ".xr-section-inline-details {\n",
       "  grid-column: 2 / -1;\n",
       "}\n",
       "\n",
       ".xr-section-details {\n",
       "  display: none;\n",
       "  grid-column: 1 / -1;\n",
       "  margin-bottom: 5px;\n",
       "}\n",
       "\n",
       ".xr-section-summary-in:checked ~ .xr-section-details {\n",
       "  display: contents;\n",
       "}\n",
       "\n",
       ".xr-array-wrap {\n",
       "  grid-column: 1 / -1;\n",
       "  display: grid;\n",
       "  grid-template-columns: 20px auto;\n",
       "}\n",
       "\n",
       ".xr-array-wrap > label {\n",
       "  grid-column: 1;\n",
       "  vertical-align: top;\n",
       "}\n",
       "\n",
       ".xr-preview {\n",
       "  color: var(--xr-font-color3);\n",
       "}\n",
       "\n",
       ".xr-array-preview,\n",
       ".xr-array-data {\n",
       "  padding: 0 5px !important;\n",
       "  grid-column: 2;\n",
       "}\n",
       "\n",
       ".xr-array-data,\n",
       ".xr-array-in:checked ~ .xr-array-preview {\n",
       "  display: none;\n",
       "}\n",
       "\n",
       ".xr-array-in:checked ~ .xr-array-data,\n",
       ".xr-array-preview {\n",
       "  display: inline-block;\n",
       "}\n",
       "\n",
       ".xr-dim-list {\n",
       "  display: inline-block !important;\n",
       "  list-style: none;\n",
       "  padding: 0 !important;\n",
       "  margin: 0;\n",
       "}\n",
       "\n",
       ".xr-dim-list li {\n",
       "  display: inline-block;\n",
       "  padding: 0;\n",
       "  margin: 0;\n",
       "}\n",
       "\n",
       ".xr-dim-list:before {\n",
       "  content: '(';\n",
       "}\n",
       "\n",
       ".xr-dim-list:after {\n",
       "  content: ')';\n",
       "}\n",
       "\n",
       ".xr-dim-list li:not(:last-child):after {\n",
       "  content: ',';\n",
       "  padding-right: 5px;\n",
       "}\n",
       "\n",
       ".xr-has-index {\n",
       "  font-weight: bold;\n",
       "}\n",
       "\n",
       ".xr-var-list,\n",
       ".xr-var-item {\n",
       "  display: contents;\n",
       "}\n",
       "\n",
       ".xr-var-item > div,\n",
       ".xr-var-item label,\n",
       ".xr-var-item > .xr-var-name span {\n",
       "  background-color: var(--xr-background-color-row-even);\n",
       "  margin-bottom: 0;\n",
       "}\n",
       "\n",
       ".xr-var-item > .xr-var-name:hover span {\n",
       "  padding-right: 5px;\n",
       "}\n",
       "\n",
       ".xr-var-list > li:nth-child(odd) > div,\n",
       ".xr-var-list > li:nth-child(odd) > label,\n",
       ".xr-var-list > li:nth-child(odd) > .xr-var-name span {\n",
       "  background-color: var(--xr-background-color-row-odd);\n",
       "}\n",
       "\n",
       ".xr-var-name {\n",
       "  grid-column: 1;\n",
       "}\n",
       "\n",
       ".xr-var-dims {\n",
       "  grid-column: 2;\n",
       "}\n",
       "\n",
       ".xr-var-dtype {\n",
       "  grid-column: 3;\n",
       "  text-align: right;\n",
       "  color: var(--xr-font-color2);\n",
       "}\n",
       "\n",
       ".xr-var-preview {\n",
       "  grid-column: 4;\n",
       "}\n",
       "\n",
       ".xr-var-name,\n",
       ".xr-var-dims,\n",
       ".xr-var-dtype,\n",
       ".xr-preview,\n",
       ".xr-attrs dt {\n",
       "  white-space: nowrap;\n",
       "  overflow: hidden;\n",
       "  text-overflow: ellipsis;\n",
       "  padding-right: 10px;\n",
       "}\n",
       "\n",
       ".xr-var-name:hover,\n",
       ".xr-var-dims:hover,\n",
       ".xr-var-dtype:hover,\n",
       ".xr-attrs dt:hover {\n",
       "  overflow: visible;\n",
       "  width: auto;\n",
       "  z-index: 1;\n",
       "}\n",
       "\n",
       ".xr-var-attrs,\n",
       ".xr-var-data {\n",
       "  display: none;\n",
       "  background-color: var(--xr-background-color) !important;\n",
       "  padding-bottom: 5px !important;\n",
       "}\n",
       "\n",
       ".xr-var-attrs-in:checked ~ .xr-var-attrs,\n",
       ".xr-var-data-in:checked ~ .xr-var-data {\n",
       "  display: block;\n",
       "}\n",
       "\n",
       ".xr-var-data > table {\n",
       "  float: right;\n",
       "}\n",
       "\n",
       ".xr-var-name span,\n",
       ".xr-var-data,\n",
       ".xr-attrs {\n",
       "  padding-left: 25px !important;\n",
       "}\n",
       "\n",
       ".xr-attrs,\n",
       ".xr-var-attrs,\n",
       ".xr-var-data {\n",
       "  grid-column: 1 / -1;\n",
       "}\n",
       "\n",
       "dl.xr-attrs {\n",
       "  padding: 0;\n",
       "  margin: 0;\n",
       "  display: grid;\n",
       "  grid-template-columns: 125px auto;\n",
       "}\n",
       "\n",
       ".xr-attrs dt,\n",
       ".xr-attrs dd {\n",
       "  padding: 0;\n",
       "  margin: 0;\n",
       "  float: left;\n",
       "  padding-right: 10px;\n",
       "  width: auto;\n",
       "}\n",
       "\n",
       ".xr-attrs dt {\n",
       "  font-weight: normal;\n",
       "  grid-column: 1;\n",
       "}\n",
       "\n",
       ".xr-attrs dt:hover span {\n",
       "  display: inline-block;\n",
       "  background: var(--xr-background-color);\n",
       "  padding-right: 10px;\n",
       "}\n",
       "\n",
       ".xr-attrs dd {\n",
       "  grid-column: 2;\n",
       "  white-space: pre-wrap;\n",
       "  word-break: break-all;\n",
       "}\n",
       "\n",
       ".xr-icon-database,\n",
       ".xr-icon-file-text2 {\n",
       "  display: inline-block;\n",
       "  vertical-align: middle;\n",
       "  width: 1em;\n",
       "  height: 1.5em !important;\n",
       "  stroke-width: 0;\n",
       "  stroke: currentColor;\n",
       "  fill: currentColor;\n",
       "}\n",
       "</style><pre class='xr-text-repr-fallback'>&lt;xarray.Dataset&gt;\n",
       "Dimensions:    (pattern: 5000, x: 1000)\n",
       "Coordinates:\n",
       "  * pattern    (pattern) int64 0 1 2 3 4 5 6 ... 4994 4995 4996 4997 4998 4999\n",
       "  * x          (x) float64 0.0 0.01001 0.02002 0.03003 ... 9.97 9.98 9.99 10.0\n",
       "Data variables:\n",
       "    Gaussians  (pattern, x) float64 1.862e-52 8.593e-52 ... 5.189e-139\n",
       "    BinaryArr  (pattern, x) float64 0.0 0.0 0.0 0.0 0.0 ... 0.0 0.0 0.0 0.0 0.0</pre><div class='xr-wrap' hidden><div class='xr-header'><div class='xr-obj-type'>xarray.Dataset</div></div><ul class='xr-sections'><li class='xr-section-item'><input id='section-65fb67cd-ec12-418b-b803-40116ed84347' class='xr-section-summary-in' type='checkbox' disabled ><label for='section-65fb67cd-ec12-418b-b803-40116ed84347' class='xr-section-summary'  title='Expand/collapse section'>Dimensions:</label><div class='xr-section-inline-details'><ul class='xr-dim-list'><li><span class='xr-has-index'>pattern</span>: 5000</li><li><span class='xr-has-index'>x</span>: 1000</li></ul></div><div class='xr-section-details'></div></li><li class='xr-section-item'><input id='section-62805647-fc8f-4322-aff3-6a063a10bd35' class='xr-section-summary-in' type='checkbox'  checked><label for='section-62805647-fc8f-4322-aff3-6a063a10bd35' class='xr-section-summary' >Coordinates: <span>(2)</span></label><div class='xr-section-inline-details'></div><div class='xr-section-details'><ul class='xr-var-list'><li class='xr-var-item'><div class='xr-var-name'><span class='xr-has-index'>pattern</span></div><div class='xr-var-dims'>(pattern)</div><div class='xr-var-dtype'>int64</div><div class='xr-var-preview xr-preview'>0 1 2 3 4 ... 4996 4997 4998 4999</div><input id='attrs-523d49cc-4a0b-411a-95f1-c3e0b36c6b2a' class='xr-var-attrs-in' type='checkbox' disabled><label for='attrs-523d49cc-4a0b-411a-95f1-c3e0b36c6b2a' title='Show/Hide attributes'><svg class='icon xr-icon-file-text2'><use xlink:href='#icon-file-text2'></use></svg></label><input id='data-49e55c4c-af65-4ddb-bd39-dcea73300171' class='xr-var-data-in' type='checkbox'><label for='data-49e55c4c-af65-4ddb-bd39-dcea73300171' title='Show/Hide data repr'><svg class='icon xr-icon-database'><use xlink:href='#icon-database'></use></svg></label><div class='xr-var-attrs'><dl class='xr-attrs'></dl></div><div class='xr-var-data'><pre>array([   0,    1,    2, ..., 4997, 4998, 4999])</pre></div></li><li class='xr-var-item'><div class='xr-var-name'><span class='xr-has-index'>x</span></div><div class='xr-var-dims'>(x)</div><div class='xr-var-dtype'>float64</div><div class='xr-var-preview xr-preview'>0.0 0.01001 0.02002 ... 9.99 10.0</div><input id='attrs-b57b7b3a-f4ba-4e46-aef4-23eda1735eb0' class='xr-var-attrs-in' type='checkbox' disabled><label for='attrs-b57b7b3a-f4ba-4e46-aef4-23eda1735eb0' title='Show/Hide attributes'><svg class='icon xr-icon-file-text2'><use xlink:href='#icon-file-text2'></use></svg></label><input id='data-0b640a05-d8c3-4395-b7f0-5d6cf979626e' class='xr-var-data-in' type='checkbox'><label for='data-0b640a05-d8c3-4395-b7f0-5d6cf979626e' title='Show/Hide data repr'><svg class='icon xr-icon-database'><use xlink:href='#icon-database'></use></svg></label><div class='xr-var-attrs'><dl class='xr-attrs'></dl></div><div class='xr-var-data'><pre>array([ 0.     ,  0.01001,  0.02002, ...,  9.97998,  9.98999, 10.     ])</pre></div></li></ul></div></li><li class='xr-section-item'><input id='section-eb214b98-181e-4cd5-9f8c-18ad1dd60dd2' class='xr-section-summary-in' type='checkbox'  checked><label for='section-eb214b98-181e-4cd5-9f8c-18ad1dd60dd2' class='xr-section-summary' >Data variables: <span>(2)</span></label><div class='xr-section-inline-details'></div><div class='xr-section-details'><ul class='xr-var-list'><li class='xr-var-item'><div class='xr-var-name'><span>Gaussians</span></div><div class='xr-var-dims'>(pattern, x)</div><div class='xr-var-dtype'>float64</div><div class='xr-var-preview xr-preview'>1.862e-52 8.593e-52 ... 5.189e-139</div><input id='attrs-997810aa-daf9-454a-88fc-69a901c30c73' class='xr-var-attrs-in' type='checkbox' disabled><label for='attrs-997810aa-daf9-454a-88fc-69a901c30c73' title='Show/Hide attributes'><svg class='icon xr-icon-file-text2'><use xlink:href='#icon-file-text2'></use></svg></label><input id='data-3dd3e1c6-d2b9-44b8-bee4-4d8a333de400' class='xr-var-data-in' type='checkbox'><label for='data-3dd3e1c6-d2b9-44b8-bee4-4d8a333de400' title='Show/Hide data repr'><svg class='icon xr-icon-database'><use xlink:href='#icon-database'></use></svg></label><div class='xr-var-attrs'><dl class='xr-attrs'></dl></div><div class='xr-var-data'><pre>array([[1.862258e-052, 8.592568e-052, 3.925043e-051, ..., 2.468866e-046,\n",
       "        8.737499e-047, 3.076480e-047],\n",
       "       [5.913925e-099, 6.531976e-098, 7.122415e-097, ..., 6.105155e-129,\n",
       "        1.167044e-129, 2.220583e-130],\n",
       "       [2.693085e-013, 4.093124e-013, 6.201733e-013, ..., 5.034747e-040,\n",
       "        2.246908e-040, 9.991461e-041],\n",
       "       ...,\n",
       "       [1.079271e-048, 3.219564e-048, 9.552157e-048, ..., 5.229612e-078,\n",
       "        1.540489e-078, 4.518841e-079],\n",
       "       [6.783052e-064, 2.067879e-063, 6.277038e-063, ..., 1.954336e-045,\n",
       "        7.234644e-046, 2.665171e-046],\n",
       "       [1.693161e-092, 7.142924e-092, 2.998506e-091, ..., 2.314305e-136,\n",
       "        1.104044e-137, 5.189378e-139]])</pre></div></li><li class='xr-var-item'><div class='xr-var-name'><span>BinaryArr</span></div><div class='xr-var-dims'>(pattern, x)</div><div class='xr-var-dtype'>float64</div><div class='xr-var-preview xr-preview'>0.0 0.0 0.0 0.0 ... 0.0 0.0 0.0 0.0</div><input id='attrs-a3514ea3-5581-47b4-8f8c-4884bd8eac08' class='xr-var-attrs-in' type='checkbox' disabled><label for='attrs-a3514ea3-5581-47b4-8f8c-4884bd8eac08' title='Show/Hide attributes'><svg class='icon xr-icon-file-text2'><use xlink:href='#icon-file-text2'></use></svg></label><input id='data-3d060a52-5e25-4888-9064-37eb9771d892' class='xr-var-data-in' type='checkbox'><label for='data-3d060a52-5e25-4888-9064-37eb9771d892' title='Show/Hide data repr'><svg class='icon xr-icon-database'><use xlink:href='#icon-database'></use></svg></label><div class='xr-var-attrs'><dl class='xr-attrs'></dl></div><div class='xr-var-data'><pre>array([[0., 0., 0., ..., 0., 0., 0.],\n",
       "       [0., 0., 0., ..., 0., 0., 0.],\n",
       "       [0., 0., 0., ..., 0., 0., 0.],\n",
       "       ...,\n",
       "       [0., 0., 0., ..., 0., 0., 0.],\n",
       "       [0., 0., 0., ..., 0., 0., 0.],\n",
       "       [0., 0., 0., ..., 0., 0., 0.]])</pre></div></li></ul></div></li><li class='xr-section-item'><input id='section-efc593a3-0150-43b1-87b7-eeb4f7a34a62' class='xr-section-summary-in' type='checkbox' disabled ><label for='section-efc593a3-0150-43b1-87b7-eeb4f7a34a62' class='xr-section-summary'  title='Expand/collapse section'>Attributes: <span>(0)</span></label><div class='xr-section-inline-details'></div><div class='xr-section-details'><dl class='xr-attrs'></dl></div></li></ul></div></div>"
      ],
      "text/plain": [
       "<xarray.Dataset>\n",
       "Dimensions:    (pattern: 5000, x: 1000)\n",
       "Coordinates:\n",
       "  * pattern    (pattern) int64 0 1 2 3 4 5 6 ... 4994 4995 4996 4997 4998 4999\n",
       "  * x          (x) float64 0.0 0.01001 0.02002 0.03003 ... 9.97 9.98 9.99 10.0\n",
       "Data variables:\n",
       "    Gaussians  (pattern, x) float64 1.862e-52 8.593e-52 ... 5.189e-139\n",
       "    BinaryArr  (pattern, x) float64 0.0 0.0 0.0 0.0 0.0 ... 0.0 0.0 0.0 0.0 0.0"
      ]
     },
     "execution_count": 23,
     "metadata": {},
     "output_type": "execute_result"
    }
   ],
   "source": [
    "ds"
   ]
  },
  {
   "cell_type": "code",
   "execution_count": null,
   "id": "9d1b114d",
   "metadata": {},
   "outputs": [],
   "source": []
  },
  {
   "cell_type": "code",
   "execution_count": 24,
   "id": "1e41c1c4",
   "metadata": {},
   "outputs": [],
   "source": [
    "\n",
    "tv_gaussians, test_gaussians, tv_binary, test_binary = train_test_split(gaussians, binary, test_size=0.2, shuffle=False)"
   ]
  },
  {
   "cell_type": "code",
   "execution_count": 25,
   "id": "ee7fd550",
   "metadata": {},
   "outputs": [],
   "source": [
    "train_gaussians, val_gaussians, train_binary, val_binary = train_test_split(tv_gaussians, tv_binary, test_size=0.25, shuffle=False)"
   ]
  },
  {
   "cell_type": "code",
   "execution_count": 26,
   "id": "22195b7a",
   "metadata": {},
   "outputs": [],
   "source": [
    "from sklearn.preprocessing import MinMaxScaler\n",
    "\n",
    "scale_gauss = MinMaxScaler()\n",
    "train_gaussians_sc = scale_gauss.fit_transform(train_gaussians)\n",
    "val_gaussians_sc = scale_gauss.transform(val_gaussians)\n",
    "test_gaussians_sc = scale_gauss.transform(test_gaussians)"
   ]
  },
  {
   "cell_type": "code",
   "execution_count": 27,
   "id": "e5a9a13f",
   "metadata": {},
   "outputs": [],
   "source": [
    "import wfdb\n",
    "from wfdb.processing import (\n",
    "    resample_singlechan,\n",
    "    find_local_peaks,\n",
    "    correct_peaks,\n",
    "    normalize_bound\n",
    ")"
   ]
  },
  {
   "cell_type": "code",
   "execution_count": 28,
   "id": "fcda9d33",
   "metadata": {},
   "outputs": [],
   "source": [
    "n_batch, n_timesteps, n_input_dim = 64, window_size, 1\n",
    "\n",
    "model = models.Sequential()\n",
    "model.add(Input(shape=(n_timesteps, n_input_dim)))\n",
    "model.add(layers.Bidirectional(layers.LSTM(32, return_sequences=True)))\n",
    "model.add(layers.Bidirectional(layers.LSTM(32, return_sequences=True)))\n",
    "model.add(layers.Dense(1, activation='sigmoid'))\n",
    "\n",
    "model.compile(loss='binary_crossentropy', optimizer='adam', metrics=['acc'])\n"
   ]
  },
  {
   "cell_type": "code",
   "execution_count": 29,
   "id": "9f2403f0",
   "metadata": {},
   "outputs": [
    {
     "name": "stdout",
     "output_type": "stream",
     "text": [
      "Model: \"sequential_1\"\n",
      "_________________________________________________________________\n",
      "Layer (type)                 Output Shape              Param #   \n",
      "=================================================================\n",
      "bidirectional_2 (Bidirection (None, 1000, 64)          8704      \n",
      "_________________________________________________________________\n",
      "bidirectional_3 (Bidirection (None, 1000, 64)          24832     \n",
      "_________________________________________________________________\n",
      "dense_1 (Dense)              (None, 1000, 1)           65        \n",
      "=================================================================\n",
      "Total params: 33,601\n",
      "Trainable params: 33,601\n",
      "Non-trainable params: 0\n",
      "_________________________________________________________________\n"
     ]
    }
   ],
   "source": [
    "model.summary() # view model architecture"
   ]
  },
  {
   "cell_type": "code",
   "execution_count": 30,
   "id": "fe02cb45",
   "metadata": {},
   "outputs": [],
   "source": [
    "checkpoint_path = 'training/cp.ckpt'\n",
    "checkpoint_dir = os.path.dirname(checkpoint_path)\n",
    "\n",
    "# Create callback to save model's weights\n",
    "cp_callback = tf.keras.callbacks.ModelCheckpoint(filepath=checkpoint_path,\n",
    "                                                 save_weights_only=True,\n",
    "                                                 verbose=2) \n",
    "\n",
    "es_callback = tf.keras.callbacks.EarlyStopping(monitor='loss',\n",
    "                                              patience=3,\n",
    "                                              min_delta=1e-5,\n",
    "                                              verbose=2)"
   ]
  },
  {
   "cell_type": "code",
   "execution_count": 31,
   "id": "8d669752",
   "metadata": {},
   "outputs": [],
   "source": [
    "train_gaussians_reshaped = train_gaussians_sc.reshape(train_gaussians_sc.shape[0], train_gaussians_sc.shape[1], 1)\n",
    "val_gaussians_reshaped = val_gaussians_sc.reshape(val_gaussians_sc.shape[0], val_gaussians_sc.shape[1], 1)\n",
    "test_gaussians_reshaped = test_gaussians_sc.reshape(test_gaussians_sc.shape[0], test_gaussians_sc.shape[1], 1)"
   ]
  },
  {
   "cell_type": "code",
   "execution_count": 32,
   "id": "d09c305c",
   "metadata": {},
   "outputs": [],
   "source": [
    "train_binary_reshaped = train_binary.reshape(train_binary.shape[0], train_binary.shape[1], 1)\n",
    "val_binary_reshaped = val_binary.reshape(val_binary.shape[0], val_binary.shape[1], 1)\n",
    "test_binary_reshaped = test_binary.reshape(test_binary.shape[0], test_binary.shape[1], 1)"
   ]
  },
  {
   "cell_type": "code",
   "execution_count": 33,
   "id": "d9583e74",
   "metadata": {},
   "outputs": [
    {
     "data": {
      "text/plain": [
       "(3000, 1000, 1)"
      ]
     },
     "execution_count": 33,
     "metadata": {},
     "output_type": "execute_result"
    }
   ],
   "source": [
    "train_gaussians_reshaped.shape"
   ]
  },
  {
   "cell_type": "code",
   "execution_count": 34,
   "id": "60540aec",
   "metadata": {},
   "outputs": [
    {
     "data": {
      "text/plain": [
       "(3000, 1000, 1)"
      ]
     },
     "execution_count": 34,
     "metadata": {},
     "output_type": "execute_result"
    }
   ],
   "source": [
    "train_binary_reshaped.shape"
   ]
  },
  {
   "cell_type": "code",
   "execution_count": 35,
   "id": "ef8c989b",
   "metadata": {},
   "outputs": [
    {
     "name": "stdout",
     "output_type": "stream",
     "text": [
      "Model: \"sequential_1\"\n",
      "_________________________________________________________________\n",
      "Layer (type)                 Output Shape              Param #   \n",
      "=================================================================\n",
      "bidirectional_2 (Bidirection (None, 1000, 64)          8704      \n",
      "_________________________________________________________________\n",
      "bidirectional_3 (Bidirection (None, 1000, 64)          24832     \n",
      "_________________________________________________________________\n",
      "dense_1 (Dense)              (None, 1000, 1)           65        \n",
      "=================================================================\n",
      "Total params: 33,601\n",
      "Trainable params: 33,601\n",
      "Non-trainable params: 0\n",
      "_________________________________________________________________\n"
     ]
    }
   ],
   "source": [
    "model.summary()"
   ]
  },
  {
   "cell_type": "code",
   "execution_count": 36,
   "id": "dbab8d3c",
   "metadata": {},
   "outputs": [
    {
     "name": "stdout",
     "output_type": "stream",
     "text": [
      "Epoch 1/40\n",
      "47/47 [==============================] - 33s 617ms/step - loss: 0.2300 - acc: 0.9757 - val_loss: 0.0604 - val_acc: 0.9890\n",
      "\n",
      "Epoch 00001: saving model to training/cp.ckpt\n",
      "Epoch 2/40\n",
      "47/47 [==============================] - 28s 599ms/step - loss: 0.0586 - acc: 0.9890 - val_loss: 0.0557 - val_acc: 0.9890\n",
      "\n",
      "Epoch 00002: saving model to training/cp.ckpt\n",
      "Epoch 3/40\n",
      "47/47 [==============================] - 28s 592ms/step - loss: 0.0485 - acc: 0.9890 - val_loss: 0.0430 - val_acc: 0.9890\n",
      "\n",
      "Epoch 00003: saving model to training/cp.ckpt\n",
      "Epoch 4/40\n",
      "47/47 [==============================] - 28s 596ms/step - loss: 0.0424 - acc: 0.9890 - val_loss: 0.0404 - val_acc: 0.9890\n",
      "\n",
      "Epoch 00004: saving model to training/cp.ckpt\n",
      "Epoch 5/40\n",
      "47/47 [==============================] - 28s 592ms/step - loss: 0.0392 - acc: 0.9890 - val_loss: 0.0379 - val_acc: 0.9890\n",
      "\n",
      "Epoch 00005: saving model to training/cp.ckpt\n",
      "Epoch 6/40\n",
      "47/47 [==============================] - 28s 593ms/step - loss: 0.0351 - acc: 0.9890 - val_loss: 0.0315 - val_acc: 0.9890\n",
      "\n",
      "Epoch 00006: saving model to training/cp.ckpt\n",
      "Epoch 7/40\n",
      "47/47 [==============================] - 28s 594ms/step - loss: 0.0283 - acc: 0.9890 - val_loss: 0.0256 - val_acc: 0.9890\n",
      "\n",
      "Epoch 00007: saving model to training/cp.ckpt\n",
      "Epoch 8/40\n",
      "47/47 [==============================] - 28s 594ms/step - loss: 0.0249 - acc: 0.9891 - val_loss: 0.0248 - val_acc: 0.9896\n",
      "\n",
      "Epoch 00008: saving model to training/cp.ckpt\n",
      "Epoch 9/40\n",
      "47/47 [==============================] - 28s 596ms/step - loss: 0.0236 - acc: 0.9894 - val_loss: 0.0239 - val_acc: 0.9892\n",
      "\n",
      "Epoch 00009: saving model to training/cp.ckpt\n",
      "Epoch 10/40\n",
      "47/47 [==============================] - 28s 595ms/step - loss: 0.0224 - acc: 0.9900 - val_loss: 0.0218 - val_acc: 0.9906\n",
      "\n",
      "Epoch 00010: saving model to training/cp.ckpt\n",
      "Epoch 11/40\n",
      "47/47 [==============================] - 28s 596ms/step - loss: 0.0229 - acc: 0.9899 - val_loss: 0.0216 - val_acc: 0.9901\n",
      "\n",
      "Epoch 00011: saving model to training/cp.ckpt\n",
      "Epoch 12/40\n",
      "47/47 [==============================] - 28s 599ms/step - loss: 0.0215 - acc: 0.9905 - val_loss: 0.0220 - val_acc: 0.9903\n",
      "\n",
      "Epoch 00012: saving model to training/cp.ckpt\n",
      "Epoch 13/40\n",
      "47/47 [==============================] - 28s 594ms/step - loss: 0.0224 - acc: 0.9902 - val_loss: 0.0212 - val_acc: 0.9909\n",
      "\n",
      "Epoch 00013: saving model to training/cp.ckpt\n",
      "Epoch 14/40\n",
      "47/47 [==============================] - 28s 596ms/step - loss: 0.0210 - acc: 0.9909 - val_loss: 0.0211 - val_acc: 0.9907\n",
      "\n",
      "Epoch 00014: saving model to training/cp.ckpt\n",
      "Epoch 15/40\n",
      "47/47 [==============================] - 28s 596ms/step - loss: 0.0207 - acc: 0.9911 - val_loss: 0.0207 - val_acc: 0.9914\n",
      "\n",
      "Epoch 00015: saving model to training/cp.ckpt\n",
      "Epoch 16/40\n",
      "47/47 [==============================] - 28s 595ms/step - loss: 0.0205 - acc: 0.9913 - val_loss: 0.0215 - val_acc: 0.9904\n",
      "\n",
      "Epoch 00016: saving model to training/cp.ckpt\n",
      "Epoch 17/40\n",
      "47/47 [==============================] - 28s 597ms/step - loss: 0.0203 - acc: 0.9913 - val_loss: 0.0201 - val_acc: 0.9914\n",
      "\n",
      "Epoch 00017: saving model to training/cp.ckpt\n",
      "Epoch 18/40\n",
      "47/47 [==============================] - 28s 599ms/step - loss: 0.0201 - acc: 0.9914 - val_loss: 0.0200 - val_acc: 0.9916\n",
      "\n",
      "Epoch 00018: saving model to training/cp.ckpt\n",
      "Epoch 19/40\n",
      "47/47 [==============================] - 28s 594ms/step - loss: 0.0222 - acc: 0.9907 - val_loss: 0.0212 - val_acc: 0.9912\n",
      "\n",
      "Epoch 00019: saving model to training/cp.ckpt\n",
      "Epoch 20/40\n",
      "47/47 [==============================] - 28s 596ms/step - loss: 0.0201 - acc: 0.9915 - val_loss: 0.0197 - val_acc: 0.9919\n",
      "\n",
      "Epoch 00020: saving model to training/cp.ckpt\n",
      "Epoch 21/40\n",
      "47/47 [==============================] - 28s 590ms/step - loss: 0.0196 - acc: 0.9918 - val_loss: 0.0196 - val_acc: 0.9918\n",
      "\n",
      "Epoch 00021: saving model to training/cp.ckpt\n",
      "Epoch 22/40\n",
      "47/47 [==============================] - 28s 590ms/step - loss: 0.0197 - acc: 0.9915 - val_loss: 0.0220 - val_acc: 0.9905\n",
      "\n",
      "Epoch 00022: saving model to training/cp.ckpt\n",
      "Epoch 23/40\n",
      "47/47 [==============================] - 28s 592ms/step - loss: 0.0196 - acc: 0.9915 - val_loss: 0.0196 - val_acc: 0.9916\n",
      "\n",
      "Epoch 00023: saving model to training/cp.ckpt\n",
      "Epoch 24/40\n",
      "47/47 [==============================] - 28s 591ms/step - loss: 0.0191 - acc: 0.9918 - val_loss: 0.0194 - val_acc: 0.9919\n",
      "\n",
      "Epoch 00024: saving model to training/cp.ckpt\n",
      "Epoch 25/40\n",
      "47/47 [==============================] - 28s 593ms/step - loss: 0.0194 - acc: 0.9914 - val_loss: 0.0193 - val_acc: 0.9917\n",
      "\n",
      "Epoch 00025: saving model to training/cp.ckpt\n",
      "Epoch 26/40\n",
      "47/47 [==============================] - 28s 595ms/step - loss: 0.0188 - acc: 0.9919 - val_loss: 0.0190 - val_acc: 0.9920\n",
      "\n",
      "Epoch 00026: saving model to training/cp.ckpt\n",
      "Epoch 27/40\n",
      "47/47 [==============================] - 28s 596ms/step - loss: 0.0188 - acc: 0.9919 - val_loss: 0.0189 - val_acc: 0.9918\n",
      "\n",
      "Epoch 00027: saving model to training/cp.ckpt\n",
      "Epoch 28/40\n",
      "47/47 [==============================] - 28s 598ms/step - loss: 0.0185 - acc: 0.9919 - val_loss: 0.0199 - val_acc: 0.9907\n",
      "\n",
      "Epoch 00028: saving model to training/cp.ckpt\n",
      "Epoch 29/40\n",
      "47/47 [==============================] - 28s 599ms/step - loss: 0.0180 - acc: 0.9920 - val_loss: 0.0177 - val_acc: 0.9926\n",
      "\n",
      "Epoch 00029: saving model to training/cp.ckpt\n",
      "Epoch 30/40\n",
      "47/47 [==============================] - 28s 597ms/step - loss: 0.0175 - acc: 0.9923 - val_loss: 0.0159 - val_acc: 0.9937\n",
      "\n",
      "Epoch 00030: saving model to training/cp.ckpt\n",
      "Epoch 31/40\n",
      "47/47 [==============================] - 28s 591ms/step - loss: 0.0156 - acc: 0.9933 - val_loss: 0.0164 - val_acc: 0.9924\n",
      "\n",
      "Epoch 00031: saving model to training/cp.ckpt\n",
      "Epoch 32/40\n",
      "47/47 [==============================] - 28s 592ms/step - loss: 0.0152 - acc: 0.9934 - val_loss: 0.0143 - val_acc: 0.9934\n",
      "\n",
      "Epoch 00032: saving model to training/cp.ckpt\n",
      "Epoch 33/40\n",
      "47/47 [==============================] - 30s 634ms/step - loss: 0.0137 - acc: 0.9943 - val_loss: 0.0136 - val_acc: 0.9947\n",
      "\n",
      "Epoch 00033: saving model to training/cp.ckpt\n",
      "Epoch 34/40\n",
      "47/47 [==============================] - 29s 623ms/step - loss: 0.0146 - acc: 0.9938 - val_loss: 0.0165 - val_acc: 0.9927\n",
      "\n",
      "Epoch 00034: saving model to training/cp.ckpt\n",
      "Epoch 35/40\n",
      "47/47 [==============================] - 28s 599ms/step - loss: 0.0150 - acc: 0.9935 - val_loss: 0.0147 - val_acc: 0.9942\n",
      "\n",
      "Epoch 00035: saving model to training/cp.ckpt\n",
      "Epoch 36/40\n",
      "47/47 [==============================] - 28s 601ms/step - loss: 0.0145 - acc: 0.9939 - val_loss: 0.0148 - val_acc: 0.9938\n",
      "\n",
      "Epoch 00036: saving model to training/cp.ckpt\n",
      "Epoch 00036: early stopping\n"
     ]
    },
    {
     "data": {
      "text/plain": [
       "<keras.callbacks.History at 0x7fc3622efa90>"
      ]
     },
     "execution_count": 36,
     "metadata": {},
     "output_type": "execute_result"
    }
   ],
   "source": [
    "model.fit(x=train_gaussians_reshaped,\n",
    "          y=train_binary_reshaped,\n",
    "          batch_size=64,\n",
    "          epochs=40, \n",
    "          validation_data=(val_gaussians_reshaped, val_binary_reshaped),\n",
    "          callbacks=[cp_callback, es_callback])"
   ]
  },
  {
   "cell_type": "code",
   "execution_count": 37,
   "id": "0920d876",
   "metadata": {},
   "outputs": [
    {
     "name": "stdout",
     "output_type": "stream",
     "text": [
      "32/32 - 4s\n"
     ]
    }
   ],
   "source": [
    "binary_pred = model.predict(test_gaussians_reshaped,\n",
    "                            verbose=2)"
   ]
  },
  {
   "cell_type": "code",
   "execution_count": 38,
   "id": "25d9993f",
   "metadata": {},
   "outputs": [
    {
     "data": {
      "text/plain": [
       "(1000, 1000, 1)"
      ]
     },
     "execution_count": 38,
     "metadata": {},
     "output_type": "execute_result"
    }
   ],
   "source": [
    "binary_pred.shape"
   ]
  },
  {
   "cell_type": "code",
   "execution_count": 39,
   "id": "3be2242a",
   "metadata": {},
   "outputs": [],
   "source": [
    "plt.close('all')"
   ]
  },
  {
   "cell_type": "code",
   "execution_count": 122,
   "id": "14aedf5d",
   "metadata": {},
   "outputs": [
    {
     "data": {
      "image/png": "[encoded data removed]",
      "text/plain": [
       "<Figure size 720x576 with 1 Axes>"
      ]
     },
     "metadata": {
      "needs_background": "light"
     },
     "output_type": "display_data"
    }
   ],
   "source": [
    "plt.figure(figsize=(10,8))\n",
    "idx=12\n",
    "plt.plot(binary_pred[idx], color='purple', label='Prediction Probabilities')\n",
    "plt.plot(test_binary_reshaped[idx] + 1, color='green', label='True Peaks')\n",
    "plt.plot(test_gaussians_reshaped[idx] + 2, color='orange', label='Signal')\n",
    "plt.legend(bbox_to_anchor=(1.01, 1.02), loc='upper left', fontsize=15)\n",
    "plt.tight_layout()\n",
    "plt.savefig('/nsls2/users/shasko/Repos/internship_2025/saved_figures/gaussian_jul12_idx12')\n",
    "plt.show()"
   ]
  },
  {
   "cell_type": "markdown",
   "id": "ce591327",
   "metadata": {},
   "source": [
    "Evaluate accuracy: use f1 score, set prob >= 30% as positive, else negative\n"
   ]
  },
  {
   "cell_type": "code",
   "execution_count": 41,
   "id": "4ccb88ab",
   "metadata": {},
   "outputs": [],
   "source": [
    "from sklearn.metrics import f1_score"
   ]
  },
  {
   "cell_type": "code",
   "execution_count": 92,
   "id": "517ee2e6",
   "metadata": {},
   "outputs": [
    {
     "name": "stdout",
     "output_type": "stream",
     "text": [
      "0.7101454751558661\n"
     ]
    }
   ],
   "source": [
    "threshold = 0.3\n",
    "binary_pred_adjusted_sklearn = (binary_pred >= threshold).astype(int)\n",
    "test_binary_reshaped = test_binary_reshaped.astype(int)\n",
    "f1 = f1_score(test_binary_reshaped.squeeze(), binary_pred_adjusted_sklearn.squeeze(), average='micro')\n",
    "print(f1)\n"
   ]
  },
  {
   "cell_type": "markdown",
   "id": "0431c76d",
   "metadata": {},
   "source": [
    "Try evaluating on non-Guassian data now..."
   ]
  },
  {
   "cell_type": "code",
   "execution_count": 46,
   "id": "467e78f8",
   "metadata": {},
   "outputs": [
    {
     "name": "stdout",
     "output_type": "stream",
     "text": [
      "<class 'numpy.ndarray'>\n"
     ]
    }
   ],
   "source": [
    "path = '/nsls2/users/shasko/Repos/internship_2025/saved_data/lorentzian_functions_smalldataset.nc' \n",
    "ds = xr.open_dataset(path, engine=\"netcdf4\")\n",
    "\n",
    "intensities_lor = ds[\"Intensities\"].values\n",
    "binary = ds[\"BinaryArr\"].values\n",
    "print(type(binary))\n",
    "\n",
    "x = ds[\"x\"].values\n",
    "window_size = 1000"
   ]
  },
  {
   "cell_type": "code",
   "execution_count": 47,
   "id": "365174ab",
   "metadata": {},
   "outputs": [],
   "source": [
    "from sklearn.preprocessing import MinMaxScaler\n",
    "\n",
    "scaler_lor = MinMaxScaler()\n",
    "intensities_lor_sc = scaler_lor.fit_transform(intensities_lor)"
   ]
  },
  {
   "cell_type": "code",
   "execution_count": 48,
   "id": "529aa488",
   "metadata": {},
   "outputs": [],
   "source": [
    "intensities_lor_sc_reshaped = intensities_lor_sc.reshape(intensities_lor_sc.shape[0],\n",
    "                                                         intensities_lor_sc.shape[1],\n",
    "                                                         1)"
   ]
  },
  {
   "cell_type": "code",
   "execution_count": 49,
   "id": "8a50a512",
   "metadata": {},
   "outputs": [],
   "source": [
    "binary_lor_reshaped = binary.reshape(binary.shape[0],\n",
    "                                 binary.shape[1],\n",
    "                                 1)"
   ]
  },
  {
   "cell_type": "code",
   "execution_count": 50,
   "id": "508e07c2",
   "metadata": {},
   "outputs": [
    {
     "name": "stdout",
     "output_type": "stream",
     "text": [
      "157/157 - 15s\n"
     ]
    }
   ],
   "source": [
    "pred_lor = model.predict(intensities_lor_sc_reshaped,\n",
    "                         verbose=2)"
   ]
  },
  {
   "cell_type": "code",
   "execution_count": 51,
   "id": "44c0f308",
   "metadata": {},
   "outputs": [],
   "source": [
    "plt.close('all')"
   ]
  },
  {
   "cell_type": "code",
   "execution_count": 130,
   "id": "4f204b38",
   "metadata": {},
   "outputs": [
    {
     "data": {
      "image/png": "[encoded data removed]",
      "text/plain": [
       "<Figure size 720x576 with 1 Axes>"
      ]
     },
     "metadata": {
      "needs_background": "light"
     },
     "output_type": "display_data"
    }
   ],
   "source": [
    "plt.figure(figsize=(10,8))\n",
    "idx=9\n",
    "\n",
    "plt.plot(pred_lor[idx], color='purple', label='Prediction Probabilities')\n",
    "plt.plot(binary_lor_reshaped[idx] + 1, color='green', label='True Peaks')\n",
    "plt.plot(intensities_lor_sc_reshaped[idx] + 2.02, color='orange', label='Signal')\n",
    "plt.legend(bbox_to_anchor=(1.01, 1.02), loc='upper left', fontsize=15)\n",
    "plt.tight_layout()\n",
    "plt.savefig('/nsls2/users/shasko/Repos/internship_2025/saved_figures/lorentz_jul2_idx9.png')\n",
    "plt.show()"
   ]
  },
  {
   "cell_type": "code",
   "execution_count": 100,
   "id": "6b59b345",
   "metadata": {},
   "outputs": [
    {
     "name": "stdout",
     "output_type": "stream",
     "text": [
      "0.3635305360090348\n"
     ]
    }
   ],
   "source": [
    "threshold = 0.15\n",
    "pred_lor_adjusted_sklearn = (pred_lor >= threshold).astype(int)\n",
    "binary_lor_reshaped = binary_lor_reshaped.astype(int)\n",
    "f1 = f1_score(binary_lor_reshaped.squeeze(), pred_lor_adjusted_sklearn.squeeze(), average='micro')\n",
    "print(f1)"
   ]
  },
  {
   "cell_type": "markdown",
   "id": "95f6123e",
   "metadata": {},
   "source": [
    "Try evaluating on diffraction data now..."
   ]
  },
  {
   "cell_type": "code",
   "execution_count": 53,
   "id": "ac9d8c9d",
   "metadata": {},
   "outputs": [],
   "source": [
    "path = '/nsls2/users/shasko/Repos/internship_2025/datasets/ds_combined_500_patterns_NaCl.nc'\n",
    "ds = xr.open_dataset(path, engine=\"netcdf4\")\n",
    "intensities_diff = ds[\"Intensities\"].values\n",
    "binary_diff = ds[\"binary_arr\"].values\n",
    "x = ds[\"tth\"].values\n",
    "\n",
    "window_size = 11763"
   ]
  },
  {
   "cell_type": "code",
   "execution_count": 54,
   "id": "99d5195d",
   "metadata": {},
   "outputs": [],
   "source": [
    "scaler_diff = MinMaxScaler()\n",
    "intensities_diff_sc = scaler_diff.fit_transform(intensities_diff)"
   ]
  },
  {
   "cell_type": "code",
   "execution_count": 55,
   "id": "ade4d721",
   "metadata": {},
   "outputs": [],
   "source": [
    "intensities_diff_sc_reshaped = intensities_diff_sc.reshape(intensities_diff_sc.shape[0],\n",
    "                                                           intensities_diff_sc.shape[1],\n",
    "                                                           1)"
   ]
  },
  {
   "cell_type": "code",
   "execution_count": 56,
   "id": "bfb9ca13",
   "metadata": {},
   "outputs": [],
   "source": [
    "binary_diff_reshaped = binary_diff.reshape(binary_diff.shape[0],\n",
    "                                           binary_diff.shape[1],\n",
    "                                           1)"
   ]
  },
  {
   "cell_type": "code",
   "execution_count": 57,
   "id": "c0fcf85c",
   "metadata": {},
   "outputs": [
    {
     "name": "stdout",
     "output_type": "stream",
     "text": [
      "WARNING:tensorflow:Model was constructed with shape (None, 1000, 1) for input KerasTensor(type_spec=TensorSpec(shape=(None, 1000, 1), dtype=tf.float32, name='input_2'), name='input_2', description=\"created by layer 'input_2'\"), but it was called on an input with incompatible shape (None, 11763, 1).\n",
      "16/16 - 19s\n"
     ]
    }
   ],
   "source": [
    "pred_diff = model.predict(intensities_diff_sc_reshaped,\n",
    "                         verbose=2)"
   ]
  },
  {
   "cell_type": "code",
   "execution_count": 132,
   "id": "7a084ad7",
   "metadata": {},
   "outputs": [
    {
     "data": {
      "image/png": "[encoded data removed]",
      "text/plain": [
       "<Figure size 720x576 with 1 Axes>"
      ]
     },
     "metadata": {
      "needs_background": "light"
     },
     "output_type": "display_data"
    }
   ],
   "source": [
    "plt.figure(figsize=(10,8))\n",
    "idx=9\n",
    "\n",
    "plt.plot(pred_diff[idx], color='purple', label='Prediction Probabilities')\n",
    "plt.plot(binary_diff_reshaped[idx] + 1, color='green', label='True Peaks')\n",
    "plt.plot(intensities_diff_sc_reshaped[idx] + 2.02, color='orange', label='Signal')\n",
    "plt.legend(bbox_to_anchor=(1.01, 1.02), loc='upper left', fontsize=15)\n",
    "plt.tight_layout()\n",
    "plt.savefig('/nsls2/users/shasko/Repos/internship_2025/saved_figures/diff_jul2_idx9.png')\n",
    "plt.show()"
   ]
  },
  {
   "cell_type": "code",
   "execution_count": 106,
   "id": "75575bd3",
   "metadata": {},
   "outputs": [
    {
     "name": "stdout",
     "output_type": "stream",
     "text": [
      "0.47217904880323286\n"
     ]
    }
   ],
   "source": [
    "threshold = 0.35\n",
    "pred_diff_adjusted_sklearn = (pred_diff >= threshold).astype(int)\n",
    "binary_diff_reshaped = binary_diff_reshaped.astype(int)\n",
    "f1 = f1_score(binary_diff_reshaped.squeeze(), pred_diff_adjusted_sklearn.squeeze(), average='micro')\n",
    "print(f1)"
   ]
  }
 ],
 "metadata": {
  "kernelspec": {
   "display_name": "ecgenv",
   "language": "python",
   "name": "python3"
  },
  "language_info": {
   "codemirror_mode": {
    "name": "ipython",
    "version": 3
   },
   "file_extension": ".py",
   "mimetype": "text/x-python",
   "name": "python",
   "nbconvert_exporter": "python",
   "pygments_lexer": "ipython3",
   "version": "3.6.8"
  }
 },
 "nbformat": 4,
 "nbformat_minor": 5
}
