{
 "cells": [
  {
   "cell_type": "markdown",
   "id": "4be583e3",
   "metadata": {},
   "source": [
    "Code adapted from:\n",
    "Juho Laitala, Mingzhe Jiang, Elise Syrjälä, Emad Kasaeyan Naeini, Antti\n",
    "Airola, Amir M. Rahmani, Nikil D. Dutt, and Pasi Liljeberg. 2020. Robust\n",
    "ECG R-peak Detection Using LSTM. In The 35th ACM/SIGAPP Symposium\n",
    "on Applied Computing (SAC ’20), March 30-April 3, 2020, Brno, Czech Republic\n",
    "ACM, New York, NY, USA, Article 4, 8 pages. https://doi.org/10.1145/3341105.\n",
    "3373945"
   ]
  },
  {
   "cell_type": "code",
   "execution_count": 1,
   "id": "5a4e21f5",
   "metadata": {},
   "outputs": [],
   "source": [
    "import sys\n",
    "import os\n",
    "\n",
    "# Add the parent directory to sys.path\n",
    "sys.path.append(os.path.abspath(\"..\"))\n",
    "\n",
    "# Importing needed libraries\n",
    "from matplotlib import pyplot as plt\n",
    "from RNN_files import Laitala_data_original_file\n",
    "import wfdb\n",
    "from wfdb.io import get_record_list\n",
    "from wfdb import rdsamp\n",
    "import numpy as np\n",
    "import tensorflow as tf\n",
    "from tensorflow.keras import layers\n",
    "from scipy.signal import resample_poly\n",
    "import xarray as xr\n",
    "import matplotlib.pyplot as plt\n",
    "from RNN_files import Laitala_data_original_file\n",
    "import tensorflow\n",
    "from tensorflow.keras import layers, models, Input\n",
    "import numpy as np\n",
    "import sklearn\n",
    "from sklearn.model_selection import train_test_split"
   ]
  },
  {
   "cell_type": "markdown",
   "id": "2f951f28",
   "metadata": {},
   "source": [
    "Run this cell and not the one after if using simulated diffraction data."
   ]
  },
  {
   "cell_type": "code",
   "execution_count": 2,
   "id": "fcf813d2",
   "metadata": {},
   "outputs": [],
   "source": [
    "\n",
    "# path = '/nsls2/users/shasko/Repos/internship_2025/datasets/ds_combined_500_patterns_NaCl.nc'\n",
    "# ds = xr.open_dataset(path, engine=\"netcdf4\")\n",
    "# gaussians = ds[\"Intensities\"]\n",
    "# binary = ds[\"binary_arr\"]\n",
    "# x = ds[\"tth\"].values\n",
    "\n",
    "# window_size = 11763"
   ]
  },
  {
   "cell_type": "markdown",
   "id": "7bcaff2a",
   "metadata": {},
   "source": [
    "Run this cell and not the previous one if using simulated Gaussian signals. "
   ]
  },
  {
   "cell_type": "code",
   "execution_count": 3,
   "id": "ffba0842",
   "metadata": {},
   "outputs": [
    {
     "name": "stdout",
     "output_type": "stream",
     "text": [
      "<class 'numpy.ndarray'>\n"
     ]
    }
   ],
   "source": [
    "path = '/nsls2/users/shasko/Repos/internship_2025/datasets/math_functions_smalldataset.nc' \n",
    "ds = xr.open_dataset(path, engine=\"netcdf4\")\n",
    "\n",
    "gaussians = ds[\"Gaussians\"].values\n",
    "binary = ds[\"BinaryArr\"].values\n",
    "print(type(binary))\n",
    "\n",
    "x = ds[\"x\"].values\n",
    "window_size = 1000"
   ]
  },
  {
   "cell_type": "code",
   "execution_count": 4,
   "id": "625c6f3b",
   "metadata": {},
   "outputs": [
    {
     "data": {
      "text/html": [
       "<div><svg style=\"position: absolute; width: 0; height: 0; overflow: hidden\">\n",
       "<defs>\n",
       "<symbol id=\"icon-database\" viewBox=\"0 0 32 32\">\n",
       "<path d=\"M16 0c-8.837 0-16 2.239-16 5v4c0 2.761 7.163 5 16 5s16-2.239 16-5v-4c0-2.761-7.163-5-16-5z\"></path>\n",
       "<path d=\"M16 17c-8.837 0-16-2.239-16-5v6c0 2.761 7.163 5 16 5s16-2.239 16-5v-6c0 2.761-7.163 5-16 5z\"></path>\n",
       "<path d=\"M16 26c-8.837 0-16-2.239-16-5v6c0 2.761 7.163 5 16 5s16-2.239 16-5v-6c0 2.761-7.163 5-16 5z\"></path>\n",
       "</symbol>\n",
       "<symbol id=\"icon-file-text2\" viewBox=\"0 0 32 32\">\n",
       "<path d=\"M28.681 7.159c-0.694-0.947-1.662-2.053-2.724-3.116s-2.169-2.030-3.116-2.724c-1.612-1.182-2.393-1.319-2.841-1.319h-15.5c-1.378 0-2.5 1.121-2.5 2.5v27c0 1.378 1.122 2.5 2.5 2.5h23c1.378 0 2.5-1.122 2.5-2.5v-19.5c0-0.448-0.137-1.23-1.319-2.841zM24.543 5.457c0.959 0.959 1.712 1.825 2.268 2.543h-4.811v-4.811c0.718 0.556 1.584 1.309 2.543 2.268zM28 29.5c0 0.271-0.229 0.5-0.5 0.5h-23c-0.271 0-0.5-0.229-0.5-0.5v-27c0-0.271 0.229-0.5 0.5-0.5 0 0 15.499-0 15.5 0v7c0 0.552 0.448 1 1 1h7v19.5z\"></path>\n",
       "<path d=\"M23 26h-14c-0.552 0-1-0.448-1-1s0.448-1 1-1h14c0.552 0 1 0.448 1 1s-0.448 1-1 1z\"></path>\n",
       "<path d=\"M23 22h-14c-0.552 0-1-0.448-1-1s0.448-1 1-1h14c0.552 0 1 0.448 1 1s-0.448 1-1 1z\"></path>\n",
       "<path d=\"M23 18h-14c-0.552 0-1-0.448-1-1s0.448-1 1-1h14c0.552 0 1 0.448 1 1s-0.448 1-1 1z\"></path>\n",
       "</symbol>\n",
       "</defs>\n",
       "</svg>\n",
       "<style>/* CSS stylesheet for displaying xarray objects in jupyterlab.\n",
       " *\n",
       " */\n",
       "\n",
       ":root {\n",
       "  --xr-font-color0: var(--jp-content-font-color0, rgba(0, 0, 0, 1));\n",
       "  --xr-font-color2: var(--jp-content-font-color2, rgba(0, 0, 0, 0.54));\n",
       "  --xr-font-color3: var(--jp-content-font-color3, rgba(0, 0, 0, 0.38));\n",
       "  --xr-border-color: var(--jp-border-color2, #e0e0e0);\n",
       "  --xr-disabled-color: var(--jp-layout-color3, #bdbdbd);\n",
       "  --xr-background-color: var(--jp-layout-color0, white);\n",
       "  --xr-background-color-row-even: var(--jp-layout-color1, white);\n",
       "  --xr-background-color-row-odd: var(--jp-layout-color2, #eeeeee);\n",
       "}\n",
       "\n",
       "html[theme=dark],\n",
       "body.vscode-dark {\n",
       "  --xr-font-color0: rgba(255, 255, 255, 1);\n",
       "  --xr-font-color2: rgba(255, 255, 255, 0.54);\n",
       "  --xr-font-color3: rgba(255, 255, 255, 0.38);\n",
       "  --xr-border-color: #1F1F1F;\n",
       "  --xr-disabled-color: #515151;\n",
       "  --xr-background-color: #111111;\n",
       "  --xr-background-color-row-even: #111111;\n",
       "  --xr-background-color-row-odd: #313131;\n",
       "}\n",
       "\n",
       ".xr-wrap {\n",
       "  display: block;\n",
       "  min-width: 300px;\n",
       "  max-width: 700px;\n",
       "}\n",
       "\n",
       ".xr-text-repr-fallback {\n",
       "  /* fallback to plain text repr when CSS is not injected (untrusted notebook) */\n",
       "  display: none;\n",
       "}\n",
       "\n",
       ".xr-header {\n",
       "  padding-top: 6px;\n",
       "  padding-bottom: 6px;\n",
       "  margin-bottom: 4px;\n",
       "  border-bottom: solid 1px var(--xr-border-color);\n",
       "}\n",
       "\n",
       ".xr-header > div,\n",
       ".xr-header > ul {\n",
       "  display: inline;\n",
       "  margin-top: 0;\n",
       "  margin-bottom: 0;\n",
       "}\n",
       "\n",
       ".xr-obj-type,\n",
       ".xr-array-name {\n",
       "  margin-left: 2px;\n",
       "  margin-right: 10px;\n",
       "}\n",
       "\n",
       ".xr-obj-type {\n",
       "  color: var(--xr-font-color2);\n",
       "}\n",
       "\n",
       ".xr-sections {\n",
       "  padding-left: 0 !important;\n",
       "  display: grid;\n",
       "  grid-template-columns: 150px auto auto 1fr 20px 20px;\n",
       "}\n",
       "\n",
       ".xr-section-item {\n",
       "  display: contents;\n",
       "}\n",
       "\n",
       ".xr-section-item input {\n",
       "  display: none;\n",
       "}\n",
       "\n",
       ".xr-section-item input + label {\n",
       "  color: var(--xr-disabled-color);\n",
       "}\n",
       "\n",
       ".xr-section-item input:enabled + label {\n",
       "  cursor: pointer;\n",
       "  color: var(--xr-font-color2);\n",
       "}\n",
       "\n",
       ".xr-section-item input:enabled + label:hover {\n",
       "  color: var(--xr-font-color0);\n",
       "}\n",
       "\n",
       ".xr-section-summary {\n",
       "  grid-column: 1;\n",
       "  color: var(--xr-font-color2);\n",
       "  font-weight: 500;\n",
       "}\n",
       "\n",
       ".xr-section-summary > span {\n",
       "  display: inline-block;\n",
       "  padding-left: 0.5em;\n",
       "}\n",
       "\n",
       ".xr-section-summary-in:disabled + label {\n",
       "  color: var(--xr-font-color2);\n",
       "}\n",
       "\n",
       ".xr-section-summary-in + label:before {\n",
       "  display: inline-block;\n",
       "  content: '►';\n",
       "  font-size: 11px;\n",
       "  width: 15px;\n",
       "  text-align: center;\n",
       "}\n",
       "\n",
       ".xr-section-summary-in:disabled + label:before {\n",
       "  color: var(--xr-disabled-color);\n",
       "}\n",
       "\n",
       ".xr-section-summary-in:checked + label:before {\n",
       "  content: '▼';\n",
       "}\n",
       "\n",
       ".xr-section-summary-in:checked + label > span {\n",
       "  display: none;\n",
       "}\n",
       "\n",
       ".xr-section-summary,\n",
       ".xr-section-inline-details {\n",
       "  padding-top: 4px;\n",
       "  padding-bottom: 4px;\n",
       "}\n",
       "\n",
       ".xr-section-inline-details {\n",
       "  grid-column: 2 / -1;\n",
       "}\n",
       "\n",
       ".xr-section-details {\n",
       "  display: none;\n",
       "  grid-column: 1 / -1;\n",
       "  margin-bottom: 5px;\n",
       "}\n",
       "\n",
       ".xr-section-summary-in:checked ~ .xr-section-details {\n",
       "  display: contents;\n",
       "}\n",
       "\n",
       ".xr-array-wrap {\n",
       "  grid-column: 1 / -1;\n",
       "  display: grid;\n",
       "  grid-template-columns: 20px auto;\n",
       "}\n",
       "\n",
       ".xr-array-wrap > label {\n",
       "  grid-column: 1;\n",
       "  vertical-align: top;\n",
       "}\n",
       "\n",
       ".xr-preview {\n",
       "  color: var(--xr-font-color3);\n",
       "}\n",
       "\n",
       ".xr-array-preview,\n",
       ".xr-array-data {\n",
       "  padding: 0 5px !important;\n",
       "  grid-column: 2;\n",
       "}\n",
       "\n",
       ".xr-array-data,\n",
       ".xr-array-in:checked ~ .xr-array-preview {\n",
       "  display: none;\n",
       "}\n",
       "\n",
       ".xr-array-in:checked ~ .xr-array-data,\n",
       ".xr-array-preview {\n",
       "  display: inline-block;\n",
       "}\n",
       "\n",
       ".xr-dim-list {\n",
       "  display: inline-block !important;\n",
       "  list-style: none;\n",
       "  padding: 0 !important;\n",
       "  margin: 0;\n",
       "}\n",
       "\n",
       ".xr-dim-list li {\n",
       "  display: inline-block;\n",
       "  padding: 0;\n",
       "  margin: 0;\n",
       "}\n",
       "\n",
       ".xr-dim-list:before {\n",
       "  content: '(';\n",
       "}\n",
       "\n",
       ".xr-dim-list:after {\n",
       "  content: ')';\n",
       "}\n",
       "\n",
       ".xr-dim-list li:not(:last-child):after {\n",
       "  content: ',';\n",
       "  padding-right: 5px;\n",
       "}\n",
       "\n",
       ".xr-has-index {\n",
       "  font-weight: bold;\n",
       "}\n",
       "\n",
       ".xr-var-list,\n",
       ".xr-var-item {\n",
       "  display: contents;\n",
       "}\n",
       "\n",
       ".xr-var-item > div,\n",
       ".xr-var-item label,\n",
       ".xr-var-item > .xr-var-name span {\n",
       "  background-color: var(--xr-background-color-row-even);\n",
       "  margin-bottom: 0;\n",
       "}\n",
       "\n",
       ".xr-var-item > .xr-var-name:hover span {\n",
       "  padding-right: 5px;\n",
       "}\n",
       "\n",
       ".xr-var-list > li:nth-child(odd) > div,\n",
       ".xr-var-list > li:nth-child(odd) > label,\n",
       ".xr-var-list > li:nth-child(odd) > .xr-var-name span {\n",
       "  background-color: var(--xr-background-color-row-odd);\n",
       "}\n",
       "\n",
       ".xr-var-name {\n",
       "  grid-column: 1;\n",
       "}\n",
       "\n",
       ".xr-var-dims {\n",
       "  grid-column: 2;\n",
       "}\n",
       "\n",
       ".xr-var-dtype {\n",
       "  grid-column: 3;\n",
       "  text-align: right;\n",
       "  color: var(--xr-font-color2);\n",
       "}\n",
       "\n",
       ".xr-var-preview {\n",
       "  grid-column: 4;\n",
       "}\n",
       "\n",
       ".xr-var-name,\n",
       ".xr-var-dims,\n",
       ".xr-var-dtype,\n",
       ".xr-preview,\n",
       ".xr-attrs dt {\n",
       "  white-space: nowrap;\n",
       "  overflow: hidden;\n",
       "  text-overflow: ellipsis;\n",
       "  padding-right: 10px;\n",
       "}\n",
       "\n",
       ".xr-var-name:hover,\n",
       ".xr-var-dims:hover,\n",
       ".xr-var-dtype:hover,\n",
       ".xr-attrs dt:hover {\n",
       "  overflow: visible;\n",
       "  width: auto;\n",
       "  z-index: 1;\n",
       "}\n",
       "\n",
       ".xr-var-attrs,\n",
       ".xr-var-data {\n",
       "  display: none;\n",
       "  background-color: var(--xr-background-color) !important;\n",
       "  padding-bottom: 5px !important;\n",
       "}\n",
       "\n",
       ".xr-var-attrs-in:checked ~ .xr-var-attrs,\n",
       ".xr-var-data-in:checked ~ .xr-var-data {\n",
       "  display: block;\n",
       "}\n",
       "\n",
       ".xr-var-data > table {\n",
       "  float: right;\n",
       "}\n",
       "\n",
       ".xr-var-name span,\n",
       ".xr-var-data,\n",
       ".xr-attrs {\n",
       "  padding-left: 25px !important;\n",
       "}\n",
       "\n",
       ".xr-attrs,\n",
       ".xr-var-attrs,\n",
       ".xr-var-data {\n",
       "  grid-column: 1 / -1;\n",
       "}\n",
       "\n",
       "dl.xr-attrs {\n",
       "  padding: 0;\n",
       "  margin: 0;\n",
       "  display: grid;\n",
       "  grid-template-columns: 125px auto;\n",
       "}\n",
       "\n",
       ".xr-attrs dt,\n",
       ".xr-attrs dd {\n",
       "  padding: 0;\n",
       "  margin: 0;\n",
       "  float: left;\n",
       "  padding-right: 10px;\n",
       "  width: auto;\n",
       "}\n",
       "\n",
       ".xr-attrs dt {\n",
       "  font-weight: normal;\n",
       "  grid-column: 1;\n",
       "}\n",
       "\n",
       ".xr-attrs dt:hover span {\n",
       "  display: inline-block;\n",
       "  background: var(--xr-background-color);\n",
       "  padding-right: 10px;\n",
       "}\n",
       "\n",
       ".xr-attrs dd {\n",
       "  grid-column: 2;\n",
       "  white-space: pre-wrap;\n",
       "  word-break: break-all;\n",
       "}\n",
       "\n",
       ".xr-icon-database,\n",
       ".xr-icon-file-text2 {\n",
       "  display: inline-block;\n",
       "  vertical-align: middle;\n",
       "  width: 1em;\n",
       "  height: 1.5em !important;\n",
       "  stroke-width: 0;\n",
       "  stroke: currentColor;\n",
       "  fill: currentColor;\n",
       "}\n",
       "</style><pre class='xr-text-repr-fallback'>&lt;xarray.Dataset&gt;\n",
       "Dimensions:    (pattern: 5000, x: 1000)\n",
       "Coordinates:\n",
       "  * pattern    (pattern) int64 0 1 2 3 4 5 6 ... 4994 4995 4996 4997 4998 4999\n",
       "  * x          (x) float64 0.0 0.01001 0.02002 0.03003 ... 9.97 9.98 9.99 10.0\n",
       "Data variables:\n",
       "    Gaussians  (pattern, x) float64 2.174e-17 3.766e-17 ... 2.613e-48 9.194e-49\n",
       "    BinaryArr  (pattern, x) float64 0.0 0.0 0.0 0.0 0.0 ... 0.0 0.0 0.0 0.0 0.0</pre><div class='xr-wrap' hidden><div class='xr-header'><div class='xr-obj-type'>xarray.Dataset</div></div><ul class='xr-sections'><li class='xr-section-item'><input id='section-8c206661-6eb8-4768-bf75-b201a6a9733a' class='xr-section-summary-in' type='checkbox' disabled ><label for='section-8c206661-6eb8-4768-bf75-b201a6a9733a' class='xr-section-summary'  title='Expand/collapse section'>Dimensions:</label><div class='xr-section-inline-details'><ul class='xr-dim-list'><li><span class='xr-has-index'>pattern</span>: 5000</li><li><span class='xr-has-index'>x</span>: 1000</li></ul></div><div class='xr-section-details'></div></li><li class='xr-section-item'><input id='section-10603155-68b5-4a2d-bd17-44baf2b9f7fa' class='xr-section-summary-in' type='checkbox'  checked><label for='section-10603155-68b5-4a2d-bd17-44baf2b9f7fa' class='xr-section-summary' >Coordinates: <span>(2)</span></label><div class='xr-section-inline-details'></div><div class='xr-section-details'><ul class='xr-var-list'><li class='xr-var-item'><div class='xr-var-name'><span class='xr-has-index'>pattern</span></div><div class='xr-var-dims'>(pattern)</div><div class='xr-var-dtype'>int64</div><div class='xr-var-preview xr-preview'>0 1 2 3 4 ... 4996 4997 4998 4999</div><input id='attrs-ac9864fd-2893-4c0c-b241-b5663a6c5d76' class='xr-var-attrs-in' type='checkbox' disabled><label for='attrs-ac9864fd-2893-4c0c-b241-b5663a6c5d76' title='Show/Hide attributes'><svg class='icon xr-icon-file-text2'><use xlink:href='#icon-file-text2'></use></svg></label><input id='data-d5005814-89ef-42ba-8b00-64ac9dcc8872' class='xr-var-data-in' type='checkbox'><label for='data-d5005814-89ef-42ba-8b00-64ac9dcc8872' title='Show/Hide data repr'><svg class='icon xr-icon-database'><use xlink:href='#icon-database'></use></svg></label><div class='xr-var-attrs'><dl class='xr-attrs'></dl></div><div class='xr-var-data'><pre>array([   0,    1,    2, ..., 4997, 4998, 4999])</pre></div></li><li class='xr-var-item'><div class='xr-var-name'><span class='xr-has-index'>x</span></div><div class='xr-var-dims'>(x)</div><div class='xr-var-dtype'>float64</div><div class='xr-var-preview xr-preview'>0.0 0.01001 0.02002 ... 9.99 10.0</div><input id='attrs-8e655e51-5c4b-41a7-96a1-7c6cbb919fa8' class='xr-var-attrs-in' type='checkbox' disabled><label for='attrs-8e655e51-5c4b-41a7-96a1-7c6cbb919fa8' title='Show/Hide attributes'><svg class='icon xr-icon-file-text2'><use xlink:href='#icon-file-text2'></use></svg></label><input id='data-80e55944-48b2-4fd1-8563-82856c8d0cff' class='xr-var-data-in' type='checkbox'><label for='data-80e55944-48b2-4fd1-8563-82856c8d0cff' title='Show/Hide data repr'><svg class='icon xr-icon-database'><use xlink:href='#icon-database'></use></svg></label><div class='xr-var-attrs'><dl class='xr-attrs'></dl></div><div class='xr-var-data'><pre>array([ 0.     ,  0.01001,  0.02002, ...,  9.97998,  9.98999, 10.     ])</pre></div></li></ul></div></li><li class='xr-section-item'><input id='section-5a106ed4-b2f8-41da-a588-3b050e69f827' class='xr-section-summary-in' type='checkbox'  checked><label for='section-5a106ed4-b2f8-41da-a588-3b050e69f827' class='xr-section-summary' >Data variables: <span>(2)</span></label><div class='xr-section-inline-details'></div><div class='xr-section-details'><ul class='xr-var-list'><li class='xr-var-item'><div class='xr-var-name'><span>Gaussians</span></div><div class='xr-var-dims'>(pattern, x)</div><div class='xr-var-dtype'>float64</div><div class='xr-var-preview xr-preview'>2.174e-17 3.766e-17 ... 9.194e-49</div><input id='attrs-0e0e9c62-e8ab-4b10-88fd-aa6f5f89b519' class='xr-var-attrs-in' type='checkbox' disabled><label for='attrs-0e0e9c62-e8ab-4b10-88fd-aa6f5f89b519' title='Show/Hide attributes'><svg class='icon xr-icon-file-text2'><use xlink:href='#icon-file-text2'></use></svg></label><input id='data-c547324f-6b54-46d4-aff1-9af7d462686d' class='xr-var-data-in' type='checkbox'><label for='data-c547324f-6b54-46d4-aff1-9af7d462686d' title='Show/Hide data repr'><svg class='icon xr-icon-database'><use xlink:href='#icon-database'></use></svg></label><div class='xr-var-attrs'><dl class='xr-attrs'></dl></div><div class='xr-var-data'><pre>array([[2.173949e-017, 3.765816e-017, 6.497775e-017, ..., 2.261696e-041,\n",
       "        9.564124e-042, 4.028580e-042],\n",
       "       [3.335569e-044, 1.503362e-043, 6.698832e-043, ..., 4.992045e-301,\n",
       "        9.337584e-303, 1.726762e-304],\n",
       "       [2.047632e-019, 4.501489e-019, 9.824550e-019, ..., 5.660647e-090,\n",
       "        1.003227e-090, 1.765160e-091],\n",
       "       ...,\n",
       "       [5.616036e-019, 9.191352e-019, 1.499957e-018, ..., 7.271074e-084,\n",
       "        2.538505e-084, 8.837048e-085],\n",
       "       [3.357657e-029, 9.969796e-029, 2.933474e-028, ..., 1.685619e-178,\n",
       "        1.094134e-179, 7.037646e-181],\n",
       "       [4.200771e-027, 9.113071e-027, 1.967233e-026, ..., 7.389332e-048,\n",
       "        2.612900e-048, 9.193814e-049]])</pre></div></li><li class='xr-var-item'><div class='xr-var-name'><span>BinaryArr</span></div><div class='xr-var-dims'>(pattern, x)</div><div class='xr-var-dtype'>float64</div><div class='xr-var-preview xr-preview'>0.0 0.0 0.0 0.0 ... 0.0 0.0 0.0 0.0</div><input id='attrs-be5c10b9-682f-4970-b260-0d7d017a8b60' class='xr-var-attrs-in' type='checkbox' disabled><label for='attrs-be5c10b9-682f-4970-b260-0d7d017a8b60' title='Show/Hide attributes'><svg class='icon xr-icon-file-text2'><use xlink:href='#icon-file-text2'></use></svg></label><input id='data-1609adc3-96e8-49c7-aeb8-a631086f1ed3' class='xr-var-data-in' type='checkbox'><label for='data-1609adc3-96e8-49c7-aeb8-a631086f1ed3' title='Show/Hide data repr'><svg class='icon xr-icon-database'><use xlink:href='#icon-database'></use></svg></label><div class='xr-var-attrs'><dl class='xr-attrs'></dl></div><div class='xr-var-data'><pre>array([[0., 0., 0., ..., 0., 0., 0.],\n",
       "       [0., 0., 0., ..., 0., 0., 0.],\n",
       "       [0., 0., 0., ..., 0., 0., 0.],\n",
       "       ...,\n",
       "       [0., 0., 0., ..., 0., 0., 0.],\n",
       "       [0., 0., 0., ..., 0., 0., 0.],\n",
       "       [0., 0., 0., ..., 0., 0., 0.]])</pre></div></li></ul></div></li><li class='xr-section-item'><input id='section-66f400d8-a247-48ee-959a-1a630c812929' class='xr-section-summary-in' type='checkbox' disabled ><label for='section-66f400d8-a247-48ee-959a-1a630c812929' class='xr-section-summary'  title='Expand/collapse section'>Attributes: <span>(0)</span></label><div class='xr-section-inline-details'></div><div class='xr-section-details'><dl class='xr-attrs'></dl></div></li></ul></div></div>"
      ],
      "text/plain": [
       "<xarray.Dataset>\n",
       "Dimensions:    (pattern: 5000, x: 1000)\n",
       "Coordinates:\n",
       "  * pattern    (pattern) int64 0 1 2 3 4 5 6 ... 4994 4995 4996 4997 4998 4999\n",
       "  * x          (x) float64 0.0 0.01001 0.02002 0.03003 ... 9.97 9.98 9.99 10.0\n",
       "Data variables:\n",
       "    Gaussians  (pattern, x) float64 2.174e-17 3.766e-17 ... 2.613e-48 9.194e-49\n",
       "    BinaryArr  (pattern, x) float64 0.0 0.0 0.0 0.0 0.0 ... 0.0 0.0 0.0 0.0 0.0"
      ]
     },
     "execution_count": 4,
     "metadata": {},
     "output_type": "execute_result"
    }
   ],
   "source": [
    "ds"
   ]
  },
  {
   "cell_type": "code",
   "execution_count": 5,
   "id": "1e41c1c4",
   "metadata": {},
   "outputs": [],
   "source": [
    "\n",
    "tv_gaussians, test_gaussians, tv_binary, test_binary = train_test_split(gaussians, binary, test_size=0.2, shuffle=False)"
   ]
  },
  {
   "cell_type": "code",
   "execution_count": 6,
   "id": "ee7fd550",
   "metadata": {},
   "outputs": [],
   "source": [
    "train_gaussians, val_gaussians, train_binary, val_binary = train_test_split(tv_gaussians, tv_binary, test_size=0.25, shuffle=False)"
   ]
  },
  {
   "cell_type": "code",
   "execution_count": 8,
   "id": "e5a9a13f",
   "metadata": {},
   "outputs": [],
   "source": [
    "import wfdb\n",
    "from wfdb.processing import (\n",
    "    resample_singlechan,\n",
    "    find_local_peaks,\n",
    "    correct_peaks,\n",
    "    normalize_bound\n",
    ")"
   ]
  },
  {
   "cell_type": "code",
   "execution_count": 13,
   "id": "fcda9d33",
   "metadata": {},
   "outputs": [],
   "source": [
    "n_batch, n_timesteps, n_input_dim = 64, window_size, 1\n",
    "\n",
    "model = models.Sequential()\n",
    "model.add(Input(shape=(n_timesteps, n_input_dim)))\n",
    "model.add(layers.Bidirectional(layers.LSTM(32, return_sequences=True)))\n",
    "model.add(layers.Bidirectional(layers.LSTM(32, return_sequences=True)))\n",
    "model.add(layers.Dense(1, activation='sigmoid'))\n",
    "\n",
    "model.compile(loss='binary_crossentropy', optimizer='adam', metrics=['acc'])\n"
   ]
  },
  {
   "cell_type": "code",
   "execution_count": 14,
   "id": "9f2403f0",
   "metadata": {},
   "outputs": [
    {
     "name": "stdout",
     "output_type": "stream",
     "text": [
      "Model: \"sequential\"\n",
      "_________________________________________________________________\n",
      "Layer (type)                 Output Shape              Param #   \n",
      "=================================================================\n",
      "bidirectional (Bidirectional (None, 1000, 64)          8704      \n",
      "_________________________________________________________________\n",
      "bidirectional_1 (Bidirection (None, 1000, 64)          24832     \n",
      "_________________________________________________________________\n",
      "dense (Dense)                (None, 1000, 1)           65        \n",
      "=================================================================\n",
      "Total params: 33,601\n",
      "Trainable params: 33,601\n",
      "Non-trainable params: 0\n",
      "_________________________________________________________________\n"
     ]
    }
   ],
   "source": [
    "model.summary() # view model architecture"
   ]
  },
  {
   "cell_type": "code",
   "execution_count": 15,
   "id": "fe02cb45",
   "metadata": {},
   "outputs": [],
   "source": [
    "checkpoint_path = 'training/cp.ckpt'\n",
    "checkpoint_dir = os.path.dirname(checkpoint_path)\n",
    "\n",
    "# Create callback to save model's weights\n",
    "cp_callback = tf.keras.callbacks.ModelCheckpoint(filepath=checkpoint_path,\n",
    "                                                 save_weights_only=True,\n",
    "                                                 verbose=2) \n",
    "\n",
    "es_callback = tf.keras.callbacks.EarlyStopping(monitor='loss',\n",
    "                                              patience=3,\n",
    "                                              min_delta=1e-5,\n",
    "                                              verbose=2)"
   ]
  },
  {
   "cell_type": "code",
   "execution_count": 16,
   "id": "8d669752",
   "metadata": {},
   "outputs": [],
   "source": [
    "train_gaussians_reshaped = train_gaussians.reshape(train_gaussians.shape[0], train_gaussians.shape[1], 1)\n",
    "val_gaussians_reshaped = val_gaussians.reshape(val_gaussians.shape[0], val_gaussians.shape[1], 1)\n",
    "test_gaussians_reshaped = test_gaussians.reshape(test_gaussians.shape[0], test_gaussians.shape[1], 1)"
   ]
  },
  {
   "cell_type": "code",
   "execution_count": 17,
   "id": "d09c305c",
   "metadata": {},
   "outputs": [],
   "source": [
    "train_binary_reshaped = train_binary.reshape(train_binary.shape[0], train_binary.shape[1], 1)\n",
    "val_binary_reshaped = val_binary.reshape(val_binary.shape[0], val_binary.shape[1], 1)\n",
    "test_binary_reshaped = test_binary.reshape(test_binary.shape[0], test_binary.shape[1], 1)"
   ]
  },
  {
   "cell_type": "code",
   "execution_count": 18,
   "id": "5c4aa3e9",
   "metadata": {},
   "outputs": [],
   "source": [
    "train_gaussians_sc = train_gaussians_reshaped"
   ]
  },
  {
   "cell_type": "code",
   "execution_count": 19,
   "id": "d9583e74",
   "metadata": {},
   "outputs": [
    {
     "data": {
      "text/plain": [
       "(3000, 1000, 1)"
      ]
     },
     "execution_count": 19,
     "metadata": {},
     "output_type": "execute_result"
    }
   ],
   "source": [
    "train_gaussians_reshaped.shape"
   ]
  },
  {
   "cell_type": "code",
   "execution_count": 20,
   "id": "60540aec",
   "metadata": {},
   "outputs": [
    {
     "data": {
      "text/plain": [
       "(3000, 1000, 1)"
      ]
     },
     "execution_count": 20,
     "metadata": {},
     "output_type": "execute_result"
    }
   ],
   "source": [
    "train_binary_reshaped.shape"
   ]
  },
  {
   "cell_type": "code",
   "execution_count": 21,
   "id": "ef8c989b",
   "metadata": {},
   "outputs": [
    {
     "name": "stdout",
     "output_type": "stream",
     "text": [
      "Model: \"sequential\"\n",
      "_________________________________________________________________\n",
      "Layer (type)                 Output Shape              Param #   \n",
      "=================================================================\n",
      "bidirectional (Bidirectional (None, 1000, 64)          8704      \n",
      "_________________________________________________________________\n",
      "bidirectional_1 (Bidirection (None, 1000, 64)          24832     \n",
      "_________________________________________________________________\n",
      "dense (Dense)                (None, 1000, 1)           65        \n",
      "=================================================================\n",
      "Total params: 33,601\n",
      "Trainable params: 33,601\n",
      "Non-trainable params: 0\n",
      "_________________________________________________________________\n"
     ]
    }
   ],
   "source": [
    "model.summary()"
   ]
  },
  {
   "cell_type": "code",
   "execution_count": 22,
   "id": "dbab8d3c",
   "metadata": {},
   "outputs": [
    {
     "name": "stdout",
     "output_type": "stream",
     "text": [
      "Epoch 1/40\n",
      "47/47 [==============================] - 35s 660ms/step - loss: 0.2041 - acc: 0.9805 - val_loss: 0.0414 - val_acc: 0.9930\n",
      "\n",
      "Epoch 00001: saving model to training/cp.ckpt\n",
      "Epoch 2/40\n",
      "47/47 [==============================] - 30s 635ms/step - loss: 0.0386 - acc: 0.9930 - val_loss: 0.0349 - val_acc: 0.9930\n",
      "\n",
      "Epoch 00002: saving model to training/cp.ckpt\n",
      "Epoch 3/40\n",
      "47/47 [==============================] - 30s 631ms/step - loss: 0.0321 - acc: 0.9930 - val_loss: 0.0296 - val_acc: 0.9930\n",
      "\n",
      "Epoch 00003: saving model to training/cp.ckpt\n",
      "Epoch 4/40\n",
      "47/47 [==============================] - 30s 630ms/step - loss: 0.0274 - acc: 0.9930 - val_loss: 0.0265 - val_acc: 0.9930\n",
      "\n",
      "Epoch 00004: saving model to training/cp.ckpt\n",
      "Epoch 5/40\n",
      "47/47 [==============================] - 30s 633ms/step - loss: 0.0239 - acc: 0.9930 - val_loss: 0.0222 - val_acc: 0.9930\n",
      "\n",
      "Epoch 00005: saving model to training/cp.ckpt\n",
      "Epoch 6/40\n",
      "47/47 [==============================] - 30s 639ms/step - loss: 0.0214 - acc: 0.9930 - val_loss: 0.0196 - val_acc: 0.9930\n",
      "\n",
      "Epoch 00006: saving model to training/cp.ckpt\n",
      "Epoch 7/40\n",
      "47/47 [==============================] - 30s 635ms/step - loss: 0.0192 - acc: 0.9930 - val_loss: 0.0174 - val_acc: 0.9930\n",
      "\n",
      "Epoch 00007: saving model to training/cp.ckpt\n",
      "Epoch 8/40\n",
      "47/47 [==============================] - 30s 644ms/step - loss: 0.0170 - acc: 0.9930 - val_loss: 0.0157 - val_acc: 0.9930\n",
      "\n",
      "Epoch 00008: saving model to training/cp.ckpt\n",
      "Epoch 9/40\n",
      "47/47 [==============================] - 31s 651ms/step - loss: 0.0159 - acc: 0.9930 - val_loss: 0.0150 - val_acc: 0.9930\n",
      "\n",
      "Epoch 00009: saving model to training/cp.ckpt\n",
      "Epoch 10/40\n",
      "47/47 [==============================] - 30s 641ms/step - loss: 0.0147 - acc: 0.9931 - val_loss: 0.0150 - val_acc: 0.9932\n",
      "\n",
      "Epoch 00010: saving model to training/cp.ckpt\n",
      "Epoch 11/40\n",
      "47/47 [==============================] - 30s 639ms/step - loss: 0.0142 - acc: 0.9932 - val_loss: 0.0134 - val_acc: 0.9932\n",
      "\n",
      "Epoch 00011: saving model to training/cp.ckpt\n",
      "Epoch 12/40\n",
      "47/47 [==============================] - 30s 643ms/step - loss: 0.0133 - acc: 0.9933 - val_loss: 0.0126 - val_acc: 0.9936\n",
      "\n",
      "Epoch 00012: saving model to training/cp.ckpt\n",
      "Epoch 13/40\n",
      "47/47 [==============================] - 30s 641ms/step - loss: 0.0137 - acc: 0.9934 - val_loss: 0.0124 - val_acc: 0.9934\n",
      "\n",
      "Epoch 00013: saving model to training/cp.ckpt\n",
      "Epoch 14/40\n",
      "47/47 [==============================] - 30s 641ms/step - loss: 0.0121 - acc: 0.9936 - val_loss: 0.0114 - val_acc: 0.9938\n",
      "\n",
      "Epoch 00014: saving model to training/cp.ckpt\n",
      "Epoch 15/40\n",
      "47/47 [==============================] - 30s 640ms/step - loss: 0.0126 - acc: 0.9938 - val_loss: 0.0132 - val_acc: 0.9939\n",
      "\n",
      "Epoch 00015: saving model to training/cp.ckpt\n",
      "Epoch 16/40\n",
      "47/47 [==============================] - 30s 642ms/step - loss: 0.0119 - acc: 0.9941 - val_loss: 0.0110 - val_acc: 0.9940\n",
      "\n",
      "Epoch 00016: saving model to training/cp.ckpt\n",
      "Epoch 17/40\n",
      "47/47 [==============================] - 30s 641ms/step - loss: 0.0117 - acc: 0.9944 - val_loss: 0.0108 - val_acc: 0.9950\n",
      "\n",
      "Epoch 00017: saving model to training/cp.ckpt\n",
      "Epoch 18/40\n",
      "47/47 [==============================] - 30s 640ms/step - loss: 0.0110 - acc: 0.9951 - val_loss: 0.0102 - val_acc: 0.9956\n",
      "\n",
      "Epoch 00018: saving model to training/cp.ckpt\n",
      "Epoch 19/40\n",
      "47/47 [==============================] - 30s 640ms/step - loss: 0.0104 - acc: 0.9956 - val_loss: 0.0097 - val_acc: 0.9957\n",
      "\n",
      "Epoch 00019: saving model to training/cp.ckpt\n",
      "Epoch 20/40\n",
      "47/47 [==============================] - 30s 647ms/step - loss: 0.0103 - acc: 0.9957 - val_loss: 0.0117 - val_acc: 0.9943\n",
      "\n",
      "Epoch 00020: saving model to training/cp.ckpt\n",
      "Epoch 21/40\n",
      "47/47 [==============================] - 31s 653ms/step - loss: 0.0106 - acc: 0.9955 - val_loss: 0.0111 - val_acc: 0.9947\n",
      "\n",
      "Epoch 00021: saving model to training/cp.ckpt\n",
      "Epoch 22/40\n",
      "47/47 [==============================] - 30s 641ms/step - loss: 0.0108 - acc: 0.9955 - val_loss: 0.0098 - val_acc: 0.9958\n",
      "\n",
      "Epoch 00022: saving model to training/cp.ckpt\n",
      "Epoch 23/40\n",
      "47/47 [==============================] - 30s 638ms/step - loss: 0.0090 - acc: 0.9970 - val_loss: 0.0087 - val_acc: 0.9966\n",
      "\n",
      "Epoch 00023: saving model to training/cp.ckpt\n",
      "Epoch 24/40\n",
      "47/47 [==============================] - 30s 646ms/step - loss: 0.0095 - acc: 0.9962 - val_loss: 0.0082 - val_acc: 0.9976\n",
      "\n",
      "Epoch 00024: saving model to training/cp.ckpt\n",
      "Epoch 25/40\n",
      "47/47 [==============================] - 30s 644ms/step - loss: 0.0086 - acc: 0.9971 - val_loss: 0.0079 - val_acc: 0.9977\n",
      "\n",
      "Epoch 00025: saving model to training/cp.ckpt\n",
      "Epoch 26/40\n",
      "47/47 [==============================] - 30s 639ms/step - loss: 0.0090 - acc: 0.9965 - val_loss: 0.0087 - val_acc: 0.9964\n",
      "\n",
      "Epoch 00026: saving model to training/cp.ckpt\n",
      "Epoch 27/40\n",
      "47/47 [==============================] - 30s 638ms/step - loss: 0.0099 - acc: 0.9956 - val_loss: 0.0119 - val_acc: 0.9943\n",
      "\n",
      "Epoch 00027: saving model to training/cp.ckpt\n",
      "Epoch 28/40\n",
      "47/47 [==============================] - 30s 639ms/step - loss: 0.0093 - acc: 0.9961 - val_loss: 0.0083 - val_acc: 0.9968\n",
      "\n",
      "Epoch 00028: saving model to training/cp.ckpt\n",
      "Epoch 00028: early stopping\n"
     ]
    },
    {
     "data": {
      "text/plain": [
       "<keras.callbacks.History at 0x7f16632c8a90>"
      ]
     },
     "execution_count": 22,
     "metadata": {},
     "output_type": "execute_result"
    }
   ],
   "source": [
    "model.fit(x=train_gaussians_reshaped,\n",
    "          y=train_binary_reshaped,\n",
    "          batch_size=64,\n",
    "          epochs=40, \n",
    "          validation_data=(val_gaussians_reshaped, val_binary_reshaped),\n",
    "          callbacks=[cp_callback, es_callback])"
   ]
  },
  {
   "cell_type": "code",
   "execution_count": 23,
   "id": "0920d876",
   "metadata": {},
   "outputs": [
    {
     "name": "stdout",
     "output_type": "stream",
     "text": [
      "32/32 - 4s\n"
     ]
    }
   ],
   "source": [
    "binary_pred = model.predict(test_gaussians_reshaped,\n",
    "                            verbose=2)"
   ]
  },
  {
   "cell_type": "code",
   "execution_count": 24,
   "id": "25d9993f",
   "metadata": {},
   "outputs": [
    {
     "data": {
      "text/plain": [
       "(1000, 1000, 1)"
      ]
     },
     "execution_count": 24,
     "metadata": {},
     "output_type": "execute_result"
    }
   ],
   "source": [
    "binary_pred.shape"
   ]
  },
  {
   "cell_type": "code",
   "execution_count": 25,
   "id": "3be2242a",
   "metadata": {},
   "outputs": [],
   "source": [
    "plt.close('all')"
   ]
  },
  {
   "cell_type": "code",
   "execution_count": 43,
   "id": "14aedf5d",
   "metadata": {},
   "outputs": [
    {
     "data": {
      "image/png": "[encoded data removed]",
      "text/plain": [
       "<Figure size 720x576 with 1 Axes>"
      ]
     },
     "metadata": {
      "needs_background": "light"
     },
     "output_type": "display_data"
    }
   ],
   "source": [
    "plt.figure(figsize=(10,8))\n",
    "idx=16\n",
    "plt.plot(binary_pred[idx], color='blue', label='Pred')\n",
    "plt.plot(test_binary_reshaped[idx] + 1, color='red', label='True')\n",
    "plt.show()"
   ]
  },
  {
   "cell_type": "markdown",
   "id": "ce591327",
   "metadata": {},
   "source": [
    "Evaluate accuracy: use f1 score, set prob >= 30% as positive, else negative\n"
   ]
  },
  {
   "cell_type": "code",
   "execution_count": 93,
   "id": "4ccb88ab",
   "metadata": {},
   "outputs": [],
   "source": [
    "from sklearn.metrics import f1_score"
   ]
  },
  {
   "cell_type": "code",
   "execution_count": null,
   "id": "517ee2e6",
   "metadata": {},
   "outputs": [],
   "source": [
    "threshold = 0.3\n",
    "binary_pred_adjusted_sklearn = (binary_pred >= threshold).astype(int)\n"
   ]
  },
  {
   "cell_type": "code",
   "execution_count": 122,
   "id": "f029126f",
   "metadata": {},
   "outputs": [],
   "source": [
    "test_binary_reshaped = test_binary_reshaped.astype(int)"
   ]
  },
  {
   "cell_type": "code",
   "execution_count": 123,
   "id": "7beb91c1",
   "metadata": {},
   "outputs": [],
   "source": [
    "f1 = f1_score(test_binary_reshaped.squeeze(), binary_pred_adjusted_sklearn.squeeze(), average='micro')"
   ]
  },
  {
   "cell_type": "code",
   "execution_count": 124,
   "id": "258c0b1d",
   "metadata": {},
   "outputs": [
    {
     "name": "stdout",
     "output_type": "stream",
     "text": [
      "0.04422673198040588\n"
     ]
    }
   ],
   "source": [
    "print(f1)"
   ]
  },
  {
   "cell_type": "markdown",
   "id": "0431c76d",
   "metadata": {},
   "source": [
    "Try evaluating on non-Guassian data now..."
   ]
  },
  {
   "cell_type": "code",
   "execution_count": 128,
   "id": "467e78f8",
   "metadata": {},
   "outputs": [
    {
     "name": "stdout",
     "output_type": "stream",
     "text": [
      "<class 'numpy.ndarray'>\n"
     ]
    }
   ],
   "source": [
    "path = '/nsls2/users/shasko/Repos/internship_2025/saved_data/lorentzian_functions_smalldataset.nc' \n",
    "ds = xr.open_dataset(path, engine=\"netcdf4\")\n",
    "\n",
    "intensities_lor = ds[\"Intensities\"].values\n",
    "binary = ds[\"BinaryArr\"].values\n",
    "print(type(binary))\n",
    "\n",
    "x = ds[\"x\"].values\n",
    "window_size = 1000"
   ]
  },
  {
   "cell_type": "code",
   "execution_count": 129,
   "id": "365174ab",
   "metadata": {},
   "outputs": [],
   "source": [
    "from sklearn.preprocessing import MinMaxScaler\n",
    "\n",
    "scaler_lor = MinMaxScaler()\n",
    "intensities_lor_sc = scaler_lor.fit_transform(intensities_lor)"
   ]
  },
  {
   "cell_type": "code",
   "execution_count": 132,
   "id": "529aa488",
   "metadata": {},
   "outputs": [],
   "source": [
    "intensities_lor_sc_reshaped = intensities_lor_sc.reshape(intensities_lor_sc.shape[0],\n",
    "                                                         intensities_lor_sc.shape[1],\n",
    "                                                         1)"
   ]
  },
  {
   "cell_type": "code",
   "execution_count": 136,
   "id": "8a50a512",
   "metadata": {},
   "outputs": [],
   "source": [
    "binary_lor_reshaped = binary.reshape(binary.shape[0],\n",
    "                                 binary.shape[1],\n",
    "                                 1)"
   ]
  },
  {
   "cell_type": "code",
   "execution_count": 133,
   "id": "508e07c2",
   "metadata": {},
   "outputs": [
    {
     "name": "stdout",
     "output_type": "stream",
     "text": [
      "157/157 - 15s\n"
     ]
    }
   ],
   "source": [
    "pred_lor = model.predict(intensities_lor_sc_reshaped,\n",
    "                         verbose=2)"
   ]
  },
  {
   "cell_type": "code",
   "execution_count": 134,
   "id": "44c0f308",
   "metadata": {},
   "outputs": [],
   "source": [
    "plt.close('all')"
   ]
  },
  {
   "cell_type": "code",
   "execution_count": 141,
   "id": "4f204b38",
   "metadata": {},
   "outputs": [
    {
     "data": {
      "image/png": "[encoded data removed]",
      "text/plain": [
       "<Figure size 720x576 with 1 Axes>"
      ]
     },
     "metadata": {
      "needs_background": "light"
     },
     "output_type": "display_data"
    }
   ],
   "source": [
    "plt.figure(figsize=(10,8))\n",
    "idx=4\n",
    "plt.plot(pred_lor[idx], color='blue', label='Pred')\n",
    "plt.plot(binary_lor_reshaped[idx] + 1, color='red', label='True')\n",
    "plt.show()"
   ]
  },
  {
   "cell_type": "markdown",
   "id": "95f6123e",
   "metadata": {},
   "source": [
    "Try evaluating on diffraction data now..."
   ]
  },
  {
   "cell_type": "code",
   "execution_count": 147,
   "id": "ac9d8c9d",
   "metadata": {},
   "outputs": [],
   "source": [
    "path = '/nsls2/users/shasko/Repos/internship_2025/datasets/ds_combined_500_patterns_NaCl.nc'\n",
    "ds = xr.open_dataset(path, engine=\"netcdf4\")\n",
    "intensities_diff = ds[\"Intensities\"].values\n",
    "binary_diff = ds[\"binary_arr\"].values\n",
    "x = ds[\"tth\"].values\n",
    "\n",
    "window_size = 11763"
   ]
  },
  {
   "cell_type": "code",
   "execution_count": 148,
   "id": "99d5195d",
   "metadata": {},
   "outputs": [],
   "source": [
    "scaler_diff = MinMaxScaler()\n",
    "intensities_diff_sc = scaler_diff.fit_transform(intensities_diff)"
   ]
  },
  {
   "cell_type": "code",
   "execution_count": 149,
   "id": "ade4d721",
   "metadata": {},
   "outputs": [],
   "source": [
    "intensities_diff_sc_reshaped = intensities_diff_sc.reshape(intensities_diff_sc.shape[0],\n",
    "                                                           intensities_diff_sc.shape[1],\n",
    "                                                           1)"
   ]
  },
  {
   "cell_type": "code",
   "execution_count": 150,
   "id": "bfb9ca13",
   "metadata": {},
   "outputs": [],
   "source": [
    "binary_diff_reshaped = binary_diff.reshape(binary_diff.shape[0],\n",
    "                                           binary_diff.shape[1],\n",
    "                                           1)"
   ]
  },
  {
   "cell_type": "code",
   "execution_count": 151,
   "id": "c0fcf85c",
   "metadata": {},
   "outputs": [
    {
     "name": "stdout",
     "output_type": "stream",
     "text": [
      "WARNING:tensorflow:Model was constructed with shape (None, 1000, 1) for input KerasTensor(type_spec=TensorSpec(shape=(None, 1000, 1), dtype=tf.float32, name='input_1'), name='input_1', description=\"created by layer 'input_1'\"), but it was called on an input with incompatible shape (None, 11763, 1).\n",
      "16/16 - 20s\n"
     ]
    }
   ],
   "source": [
    "pred_diff = model.predict(intensities_diff_sc_reshaped,\n",
    "                         verbose=2)"
   ]
  },
  {
   "cell_type": "code",
   "execution_count": 159,
   "id": "7a084ad7",
   "metadata": {},
   "outputs": [
    {
     "data": {
      "image/png": "[encoded data removed]",
      "text/plain": [
       "<Figure size 720x576 with 1 Axes>"
      ]
     },
     "metadata": {
      "needs_background": "light"
     },
     "output_type": "display_data"
    }
   ],
   "source": [
    "plt.figure(figsize=(10,8))\n",
    "idx=200\n",
    "plt.plot(pred_diff[idx], color='blue', label='Pred')\n",
    "plt.plot(binary_diff_reshaped[idx] + 1, color='red', label='True')\n",
    "plt.show()"
   ]
  }
 ],
 "metadata": {
  "kernelspec": {
   "display_name": "ecgenv",
   "language": "python",
   "name": "python3"
  },
  "language_info": {
   "codemirror_mode": {
    "name": "ipython",
    "version": 3
   },
   "file_extension": ".py",
   "mimetype": "text/x-python",
   "name": "python",
   "nbconvert_exporter": "python",
   "pygments_lexer": "ipython3",
   "version": "3.6.8"
  }
 },
 "nbformat": 4,
 "nbformat_minor": 5
}
