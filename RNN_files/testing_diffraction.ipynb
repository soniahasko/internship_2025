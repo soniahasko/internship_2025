{
 "cells": [
  {
   "cell_type": "markdown",
   "id": "4be583e3",
   "metadata": {},
   "source": [
    "Code adapted from:\n",
    "Juho Laitala, Mingzhe Jiang, Elise Syrjälä, Emad Kasaeyan Naeini, Antti\n",
    "Airola, Amir M. Rahmani, Nikil D. Dutt, and Pasi Liljeberg. 2020. Robust\n",
    "ECG R-peak Detection Using LSTM. In The 35th ACM/SIGAPP Symposium\n",
    "on Applied Computing (SAC ’20), March 30-April 3, 2020, Brno, Czech Republic\n",
    "ACM, New York, NY, USA, Article 4, 8 pages. https://doi.org/10.1145/3341105.\n",
    "3373945"
   ]
  },
  {
   "cell_type": "code",
   "execution_count": null,
   "id": "5a4e21f5",
   "metadata": {},
   "outputs": [],
   "source": [
    "import sys\n",
    "import os\n",
    "\n",
    "# Add the parent directory to sys.path\n",
    "sys.path.append(os.path.abspath(\"..\"))\n",
    "\n",
    "# Importing needed libraries\n",
    "from matplotlib import pyplot as plt\n",
    "from ecg2rr import data\n",
    "import wfdb\n",
    "from wfdb.io import get_record_list\n",
    "from wfdb import rdsamp\n",
    "import numpy as np\n",
    "import tensorflow as tf\n",
    "from tensorflow.keras import layers\n",
    "from scipy.signal import resample_poly\n",
    "\n",
    "\n",
    "# Now you can import\n",
    "from ecg2rr import data\n",
    "import tensorflow\n",
    "from tensorflow.keras import layers, models, Input\n",
    "import numpy as np"
   ]
  },
  {
   "cell_type": "code",
   "execution_count": 41,
   "id": "76dc9b91",
   "metadata": {},
   "outputs": [],
   "source": [
    "import xarray as xr\n",
    "import matplotlib.pyplot as plt\n",
    "import numpy as np"
   ]
  },
  {
   "cell_type": "code",
   "execution_count": 42,
   "id": "fcf813d2",
   "metadata": {},
   "outputs": [],
   "source": [
    "# path = 'saved_data/math_functions_single.nc'\n",
    "import xarray as xr\n",
    "\n",
    "path = '/nsls2/users/shasko/Repos/internship_2025/ecg2rr/ds_combined_polypropylene_100patterns.nc'\n",
    "ds = xr.open_dataset(path, engine=\"netcdf4\")\n",
    "gaussians = ds[\"Intensities\"]\n",
    "binary = ds[\"binary_arr\"]\n",
    "x = ds[\"tth\"].values\n"
   ]
  },
  {
   "cell_type": "code",
   "execution_count": 43,
   "id": "ffba0842",
   "metadata": {},
   "outputs": [],
   "source": [
    "# path = '/nsls2/users/shasko/Repos/ecg2rr/ecg2rr/math_functions_smalldataset.nc'\n",
    "# ds = xr.open_dataset(path, engine=\"netcdf4\")\n",
    "\n",
    "# gaussians = ds[\"Gaussians\"].values\n",
    "# binary = ds[\"BinaryArr\"].values\n",
    "# print(type(binary))\n",
    "\n",
    "\n",
    "# # for j in range(binary.shape[0]):\n",
    "# #     idx = np.where(binary[j] == 1)[0][0] # because there's only 1 \"1\" we can use [0][0]\n",
    "# #     binary[j][idx - 2] = 1\n",
    "# #     binary[j][idx - 1] = 1\n",
    "# #     binary[j][idx + 1] = 1\n",
    "# #     binary[j][idx + 2] = 1\n",
    "\n",
    "# x = ds[\"x\"].values"
   ]
  },
  {
   "cell_type": "code",
   "execution_count": 44,
   "id": "625c6f3b",
   "metadata": {},
   "outputs": [
    {
     "data": {
      "text/html": [
       "<div><svg style=\"position: absolute; width: 0; height: 0; overflow: hidden\">\n",
       "<defs>\n",
       "<symbol id=\"icon-database\" viewBox=\"0 0 32 32\">\n",
       "<path d=\"M16 0c-8.837 0-16 2.239-16 5v4c0 2.761 7.163 5 16 5s16-2.239 16-5v-4c0-2.761-7.163-5-16-5z\"></path>\n",
       "<path d=\"M16 17c-8.837 0-16-2.239-16-5v6c0 2.761 7.163 5 16 5s16-2.239 16-5v-6c0 2.761-7.163 5-16 5z\"></path>\n",
       "<path d=\"M16 26c-8.837 0-16-2.239-16-5v6c0 2.761 7.163 5 16 5s16-2.239 16-5v-6c0 2.761-7.163 5-16 5z\"></path>\n",
       "</symbol>\n",
       "<symbol id=\"icon-file-text2\" viewBox=\"0 0 32 32\">\n",
       "<path d=\"M28.681 7.159c-0.694-0.947-1.662-2.053-2.724-3.116s-2.169-2.030-3.116-2.724c-1.612-1.182-2.393-1.319-2.841-1.319h-15.5c-1.378 0-2.5 1.121-2.5 2.5v27c0 1.378 1.122 2.5 2.5 2.5h23c1.378 0 2.5-1.122 2.5-2.5v-19.5c0-0.448-0.137-1.23-1.319-2.841zM24.543 5.457c0.959 0.959 1.712 1.825 2.268 2.543h-4.811v-4.811c0.718 0.556 1.584 1.309 2.543 2.268zM28 29.5c0 0.271-0.229 0.5-0.5 0.5h-23c-0.271 0-0.5-0.229-0.5-0.5v-27c0-0.271 0.229-0.5 0.5-0.5 0 0 15.499-0 15.5 0v7c0 0.552 0.448 1 1 1h7v19.5z\"></path>\n",
       "<path d=\"M23 26h-14c-0.552 0-1-0.448-1-1s0.448-1 1-1h14c0.552 0 1 0.448 1 1s-0.448 1-1 1z\"></path>\n",
       "<path d=\"M23 22h-14c-0.552 0-1-0.448-1-1s0.448-1 1-1h14c0.552 0 1 0.448 1 1s-0.448 1-1 1z\"></path>\n",
       "<path d=\"M23 18h-14c-0.552 0-1-0.448-1-1s0.448-1 1-1h14c0.552 0 1 0.448 1 1s-0.448 1-1 1z\"></path>\n",
       "</symbol>\n",
       "</defs>\n",
       "</svg>\n",
       "<style>/* CSS stylesheet for displaying xarray objects in jupyterlab.\n",
       " *\n",
       " */\n",
       "\n",
       ":root {\n",
       "  --xr-font-color0: var(--jp-content-font-color0, rgba(0, 0, 0, 1));\n",
       "  --xr-font-color2: var(--jp-content-font-color2, rgba(0, 0, 0, 0.54));\n",
       "  --xr-font-color3: var(--jp-content-font-color3, rgba(0, 0, 0, 0.38));\n",
       "  --xr-border-color: var(--jp-border-color2, #e0e0e0);\n",
       "  --xr-disabled-color: var(--jp-layout-color3, #bdbdbd);\n",
       "  --xr-background-color: var(--jp-layout-color0, white);\n",
       "  --xr-background-color-row-even: var(--jp-layout-color1, white);\n",
       "  --xr-background-color-row-odd: var(--jp-layout-color2, #eeeeee);\n",
       "}\n",
       "\n",
       "html[theme=dark],\n",
       "body.vscode-dark {\n",
       "  --xr-font-color0: rgba(255, 255, 255, 1);\n",
       "  --xr-font-color2: rgba(255, 255, 255, 0.54);\n",
       "  --xr-font-color3: rgba(255, 255, 255, 0.38);\n",
       "  --xr-border-color: #1F1F1F;\n",
       "  --xr-disabled-color: #515151;\n",
       "  --xr-background-color: #111111;\n",
       "  --xr-background-color-row-even: #111111;\n",
       "  --xr-background-color-row-odd: #313131;\n",
       "}\n",
       "\n",
       ".xr-wrap {\n",
       "  display: block;\n",
       "  min-width: 300px;\n",
       "  max-width: 700px;\n",
       "}\n",
       "\n",
       ".xr-text-repr-fallback {\n",
       "  /* fallback to plain text repr when CSS is not injected (untrusted notebook) */\n",
       "  display: none;\n",
       "}\n",
       "\n",
       ".xr-header {\n",
       "  padding-top: 6px;\n",
       "  padding-bottom: 6px;\n",
       "  margin-bottom: 4px;\n",
       "  border-bottom: solid 1px var(--xr-border-color);\n",
       "}\n",
       "\n",
       ".xr-header > div,\n",
       ".xr-header > ul {\n",
       "  display: inline;\n",
       "  margin-top: 0;\n",
       "  margin-bottom: 0;\n",
       "}\n",
       "\n",
       ".xr-obj-type,\n",
       ".xr-array-name {\n",
       "  margin-left: 2px;\n",
       "  margin-right: 10px;\n",
       "}\n",
       "\n",
       ".xr-obj-type {\n",
       "  color: var(--xr-font-color2);\n",
       "}\n",
       "\n",
       ".xr-sections {\n",
       "  padding-left: 0 !important;\n",
       "  display: grid;\n",
       "  grid-template-columns: 150px auto auto 1fr 20px 20px;\n",
       "}\n",
       "\n",
       ".xr-section-item {\n",
       "  display: contents;\n",
       "}\n",
       "\n",
       ".xr-section-item input {\n",
       "  display: none;\n",
       "}\n",
       "\n",
       ".xr-section-item input + label {\n",
       "  color: var(--xr-disabled-color);\n",
       "}\n",
       "\n",
       ".xr-section-item input:enabled + label {\n",
       "  cursor: pointer;\n",
       "  color: var(--xr-font-color2);\n",
       "}\n",
       "\n",
       ".xr-section-item input:enabled + label:hover {\n",
       "  color: var(--xr-font-color0);\n",
       "}\n",
       "\n",
       ".xr-section-summary {\n",
       "  grid-column: 1;\n",
       "  color: var(--xr-font-color2);\n",
       "  font-weight: 500;\n",
       "}\n",
       "\n",
       ".xr-section-summary > span {\n",
       "  display: inline-block;\n",
       "  padding-left: 0.5em;\n",
       "}\n",
       "\n",
       ".xr-section-summary-in:disabled + label {\n",
       "  color: var(--xr-font-color2);\n",
       "}\n",
       "\n",
       ".xr-section-summary-in + label:before {\n",
       "  display: inline-block;\n",
       "  content: '►';\n",
       "  font-size: 11px;\n",
       "  width: 15px;\n",
       "  text-align: center;\n",
       "}\n",
       "\n",
       ".xr-section-summary-in:disabled + label:before {\n",
       "  color: var(--xr-disabled-color);\n",
       "}\n",
       "\n",
       ".xr-section-summary-in:checked + label:before {\n",
       "  content: '▼';\n",
       "}\n",
       "\n",
       ".xr-section-summary-in:checked + label > span {\n",
       "  display: none;\n",
       "}\n",
       "\n",
       ".xr-section-summary,\n",
       ".xr-section-inline-details {\n",
       "  padding-top: 4px;\n",
       "  padding-bottom: 4px;\n",
       "}\n",
       "\n",
       ".xr-section-inline-details {\n",
       "  grid-column: 2 / -1;\n",
       "}\n",
       "\n",
       ".xr-section-details {\n",
       "  display: none;\n",
       "  grid-column: 1 / -1;\n",
       "  margin-bottom: 5px;\n",
       "}\n",
       "\n",
       ".xr-section-summary-in:checked ~ .xr-section-details {\n",
       "  display: contents;\n",
       "}\n",
       "\n",
       ".xr-array-wrap {\n",
       "  grid-column: 1 / -1;\n",
       "  display: grid;\n",
       "  grid-template-columns: 20px auto;\n",
       "}\n",
       "\n",
       ".xr-array-wrap > label {\n",
       "  grid-column: 1;\n",
       "  vertical-align: top;\n",
       "}\n",
       "\n",
       ".xr-preview {\n",
       "  color: var(--xr-font-color3);\n",
       "}\n",
       "\n",
       ".xr-array-preview,\n",
       ".xr-array-data {\n",
       "  padding: 0 5px !important;\n",
       "  grid-column: 2;\n",
       "}\n",
       "\n",
       ".xr-array-data,\n",
       ".xr-array-in:checked ~ .xr-array-preview {\n",
       "  display: none;\n",
       "}\n",
       "\n",
       ".xr-array-in:checked ~ .xr-array-data,\n",
       ".xr-array-preview {\n",
       "  display: inline-block;\n",
       "}\n",
       "\n",
       ".xr-dim-list {\n",
       "  display: inline-block !important;\n",
       "  list-style: none;\n",
       "  padding: 0 !important;\n",
       "  margin: 0;\n",
       "}\n",
       "\n",
       ".xr-dim-list li {\n",
       "  display: inline-block;\n",
       "  padding: 0;\n",
       "  margin: 0;\n",
       "}\n",
       "\n",
       ".xr-dim-list:before {\n",
       "  content: '(';\n",
       "}\n",
       "\n",
       ".xr-dim-list:after {\n",
       "  content: ')';\n",
       "}\n",
       "\n",
       ".xr-dim-list li:not(:last-child):after {\n",
       "  content: ',';\n",
       "  padding-right: 5px;\n",
       "}\n",
       "\n",
       ".xr-has-index {\n",
       "  font-weight: bold;\n",
       "}\n",
       "\n",
       ".xr-var-list,\n",
       ".xr-var-item {\n",
       "  display: contents;\n",
       "}\n",
       "\n",
       ".xr-var-item > div,\n",
       ".xr-var-item label,\n",
       ".xr-var-item > .xr-var-name span {\n",
       "  background-color: var(--xr-background-color-row-even);\n",
       "  margin-bottom: 0;\n",
       "}\n",
       "\n",
       ".xr-var-item > .xr-var-name:hover span {\n",
       "  padding-right: 5px;\n",
       "}\n",
       "\n",
       ".xr-var-list > li:nth-child(odd) > div,\n",
       ".xr-var-list > li:nth-child(odd) > label,\n",
       ".xr-var-list > li:nth-child(odd) > .xr-var-name span {\n",
       "  background-color: var(--xr-background-color-row-odd);\n",
       "}\n",
       "\n",
       ".xr-var-name {\n",
       "  grid-column: 1;\n",
       "}\n",
       "\n",
       ".xr-var-dims {\n",
       "  grid-column: 2;\n",
       "}\n",
       "\n",
       ".xr-var-dtype {\n",
       "  grid-column: 3;\n",
       "  text-align: right;\n",
       "  color: var(--xr-font-color2);\n",
       "}\n",
       "\n",
       ".xr-var-preview {\n",
       "  grid-column: 4;\n",
       "}\n",
       "\n",
       ".xr-var-name,\n",
       ".xr-var-dims,\n",
       ".xr-var-dtype,\n",
       ".xr-preview,\n",
       ".xr-attrs dt {\n",
       "  white-space: nowrap;\n",
       "  overflow: hidden;\n",
       "  text-overflow: ellipsis;\n",
       "  padding-right: 10px;\n",
       "}\n",
       "\n",
       ".xr-var-name:hover,\n",
       ".xr-var-dims:hover,\n",
       ".xr-var-dtype:hover,\n",
       ".xr-attrs dt:hover {\n",
       "  overflow: visible;\n",
       "  width: auto;\n",
       "  z-index: 1;\n",
       "}\n",
       "\n",
       ".xr-var-attrs,\n",
       ".xr-var-data {\n",
       "  display: none;\n",
       "  background-color: var(--xr-background-color) !important;\n",
       "  padding-bottom: 5px !important;\n",
       "}\n",
       "\n",
       ".xr-var-attrs-in:checked ~ .xr-var-attrs,\n",
       ".xr-var-data-in:checked ~ .xr-var-data {\n",
       "  display: block;\n",
       "}\n",
       "\n",
       ".xr-var-data > table {\n",
       "  float: right;\n",
       "}\n",
       "\n",
       ".xr-var-name span,\n",
       ".xr-var-data,\n",
       ".xr-attrs {\n",
       "  padding-left: 25px !important;\n",
       "}\n",
       "\n",
       ".xr-attrs,\n",
       ".xr-var-attrs,\n",
       ".xr-var-data {\n",
       "  grid-column: 1 / -1;\n",
       "}\n",
       "\n",
       "dl.xr-attrs {\n",
       "  padding: 0;\n",
       "  margin: 0;\n",
       "  display: grid;\n",
       "  grid-template-columns: 125px auto;\n",
       "}\n",
       "\n",
       ".xr-attrs dt,\n",
       ".xr-attrs dd {\n",
       "  padding: 0;\n",
       "  margin: 0;\n",
       "  float: left;\n",
       "  padding-right: 10px;\n",
       "  width: auto;\n",
       "}\n",
       "\n",
       ".xr-attrs dt {\n",
       "  font-weight: normal;\n",
       "  grid-column: 1;\n",
       "}\n",
       "\n",
       ".xr-attrs dt:hover span {\n",
       "  display: inline-block;\n",
       "  background: var(--xr-background-color);\n",
       "  padding-right: 10px;\n",
       "}\n",
       "\n",
       ".xr-attrs dd {\n",
       "  grid-column: 2;\n",
       "  white-space: pre-wrap;\n",
       "  word-break: break-all;\n",
       "}\n",
       "\n",
       ".xr-icon-database,\n",
       ".xr-icon-file-text2 {\n",
       "  display: inline-block;\n",
       "  vertical-align: middle;\n",
       "  width: 1em;\n",
       "  height: 1.5em !important;\n",
       "  stroke-width: 0;\n",
       "  stroke: currentColor;\n",
       "  fill: currentColor;\n",
       "}\n",
       "</style><pre class='xr-text-repr-fallback'>&lt;xarray.Dataset&gt;\n",
       "Dimensions:         (hkl_index: 3, pattern: 100, peak: 8272, tth: 11763, variation: 100)\n",
       "Coordinates:\n",
       "  * pattern         (pattern) int64 0 1 2 3 4 5 6 7 ... 92 93 94 95 96 97 98 99\n",
       "  * tth             (tth) float64 1.0 1.001 1.002 1.002 ... 9.998 9.999 10.0\n",
       "  * variation       (variation) int64 0 1 2 3 4 5 6 7 ... 93 94 95 96 97 98 99\n",
       "  * peak            (peak) int64 0 1 2 3 4 5 6 ... 8266 8267 8268 8269 8270 8271\n",
       "  * hkl_index       (hkl_index) object &#x27;h&#x27; &#x27;k&#x27; &#x27;l&#x27;\n",
       "Data variables:\n",
       "    Intensities     (pattern, tth) float64 ...\n",
       "    hkl             (variation, peak, hkl_index) float64 ...\n",
       "    2theta_calc     (variation, peak) float64 ...\n",
       "    2theta_nearest  (variation, peak) float64 ...\n",
       "    intensity       (variation, peak) float64 ...\n",
       "    binary_arr      (pattern, tth) int64 ...\n",
       "Attributes:\n",
       "    CIF:        cif_files/polypropylene.cif\n",
       "    tth_range:  [ 1 10]</pre><div class='xr-wrap' hidden><div class='xr-header'><div class='xr-obj-type'>xarray.Dataset</div></div><ul class='xr-sections'><li class='xr-section-item'><input id='section-dd8a14f2-6240-4fc8-9b69-77388a5cb083' class='xr-section-summary-in' type='checkbox' disabled ><label for='section-dd8a14f2-6240-4fc8-9b69-77388a5cb083' class='xr-section-summary'  title='Expand/collapse section'>Dimensions:</label><div class='xr-section-inline-details'><ul class='xr-dim-list'><li><span class='xr-has-index'>hkl_index</span>: 3</li><li><span class='xr-has-index'>pattern</span>: 100</li><li><span class='xr-has-index'>peak</span>: 8272</li><li><span class='xr-has-index'>tth</span>: 11763</li><li><span class='xr-has-index'>variation</span>: 100</li></ul></div><div class='xr-section-details'></div></li><li class='xr-section-item'><input id='section-404dca7a-7204-4a98-be89-19c28dea43a9' class='xr-section-summary-in' type='checkbox'  checked><label for='section-404dca7a-7204-4a98-be89-19c28dea43a9' class='xr-section-summary' >Coordinates: <span>(5)</span></label><div class='xr-section-inline-details'></div><div class='xr-section-details'><ul class='xr-var-list'><li class='xr-var-item'><div class='xr-var-name'><span class='xr-has-index'>pattern</span></div><div class='xr-var-dims'>(pattern)</div><div class='xr-var-dtype'>int64</div><div class='xr-var-preview xr-preview'>0 1 2 3 4 5 6 ... 94 95 96 97 98 99</div><input id='attrs-9a349244-8105-41e8-bf87-1cf4b3087945' class='xr-var-attrs-in' type='checkbox' disabled><label for='attrs-9a349244-8105-41e8-bf87-1cf4b3087945' title='Show/Hide attributes'><svg class='icon xr-icon-file-text2'><use xlink:href='#icon-file-text2'></use></svg></label><input id='data-799d2e4a-b983-47cd-a5db-94b740adb273' class='xr-var-data-in' type='checkbox'><label for='data-799d2e4a-b983-47cd-a5db-94b740adb273' title='Show/Hide data repr'><svg class='icon xr-icon-database'><use xlink:href='#icon-database'></use></svg></label><div class='xr-var-attrs'><dl class='xr-attrs'></dl></div><div class='xr-var-data'><pre>array([ 0,  1,  2,  3,  4,  5,  6,  7,  8,  9, 10, 11, 12, 13, 14, 15, 16, 17,\n",
       "       18, 19, 20, 21, 22, 23, 24, 25, 26, 27, 28, 29, 30, 31, 32, 33, 34, 35,\n",
       "       36, 37, 38, 39, 40, 41, 42, 43, 44, 45, 46, 47, 48, 49, 50, 51, 52, 53,\n",
       "       54, 55, 56, 57, 58, 59, 60, 61, 62, 63, 64, 65, 66, 67, 68, 69, 70, 71,\n",
       "       72, 73, 74, 75, 76, 77, 78, 79, 80, 81, 82, 83, 84, 85, 86, 87, 88, 89,\n",
       "       90, 91, 92, 93, 94, 95, 96, 97, 98, 99])</pre></div></li><li class='xr-var-item'><div class='xr-var-name'><span class='xr-has-index'>tth</span></div><div class='xr-var-dims'>(tth)</div><div class='xr-var-dtype'>float64</div><div class='xr-var-preview xr-preview'>1.0 1.001 1.002 ... 9.999 10.0</div><input id='attrs-1544809c-4926-4260-a1bf-257314521399' class='xr-var-attrs-in' type='checkbox' disabled><label for='attrs-1544809c-4926-4260-a1bf-257314521399' title='Show/Hide attributes'><svg class='icon xr-icon-file-text2'><use xlink:href='#icon-file-text2'></use></svg></label><input id='data-cd7c7c26-3e2d-4893-8a3a-354b4513ec27' class='xr-var-data-in' type='checkbox'><label for='data-cd7c7c26-3e2d-4893-8a3a-354b4513ec27' title='Show/Hide data repr'><svg class='icon xr-icon-database'><use xlink:href='#icon-database'></use></svg></label><div class='xr-var-attrs'><dl class='xr-attrs'></dl></div><div class='xr-var-data'><pre>array([ 1.      ,  1.000765,  1.00153 , ...,  9.99847 ,  9.999235, 10.      ])</pre></div></li><li class='xr-var-item'><div class='xr-var-name'><span class='xr-has-index'>variation</span></div><div class='xr-var-dims'>(variation)</div><div class='xr-var-dtype'>int64</div><div class='xr-var-preview xr-preview'>0 1 2 3 4 5 6 ... 94 95 96 97 98 99</div><input id='attrs-9e8a1b5a-bb5c-4ecf-b67c-5e24043fd67f' class='xr-var-attrs-in' type='checkbox' disabled><label for='attrs-9e8a1b5a-bb5c-4ecf-b67c-5e24043fd67f' title='Show/Hide attributes'><svg class='icon xr-icon-file-text2'><use xlink:href='#icon-file-text2'></use></svg></label><input id='data-f7b53846-8356-4287-8c7e-258064a890cb' class='xr-var-data-in' type='checkbox'><label for='data-f7b53846-8356-4287-8c7e-258064a890cb' title='Show/Hide data repr'><svg class='icon xr-icon-database'><use xlink:href='#icon-database'></use></svg></label><div class='xr-var-attrs'><dl class='xr-attrs'></dl></div><div class='xr-var-data'><pre>array([ 0,  1,  2,  3,  4,  5,  6,  7,  8,  9, 10, 11, 12, 13, 14, 15, 16, 17,\n",
       "       18, 19, 20, 21, 22, 23, 24, 25, 26, 27, 28, 29, 30, 31, 32, 33, 34, 35,\n",
       "       36, 37, 38, 39, 40, 41, 42, 43, 44, 45, 46, 47, 48, 49, 50, 51, 52, 53,\n",
       "       54, 55, 56, 57, 58, 59, 60, 61, 62, 63, 64, 65, 66, 67, 68, 69, 70, 71,\n",
       "       72, 73, 74, 75, 76, 77, 78, 79, 80, 81, 82, 83, 84, 85, 86, 87, 88, 89,\n",
       "       90, 91, 92, 93, 94, 95, 96, 97, 98, 99])</pre></div></li><li class='xr-var-item'><div class='xr-var-name'><span class='xr-has-index'>peak</span></div><div class='xr-var-dims'>(peak)</div><div class='xr-var-dtype'>int64</div><div class='xr-var-preview xr-preview'>0 1 2 3 4 ... 8268 8269 8270 8271</div><input id='attrs-dd47fa61-e8f3-4053-8547-4f7a5425fbc3' class='xr-var-attrs-in' type='checkbox' disabled><label for='attrs-dd47fa61-e8f3-4053-8547-4f7a5425fbc3' title='Show/Hide attributes'><svg class='icon xr-icon-file-text2'><use xlink:href='#icon-file-text2'></use></svg></label><input id='data-0b3d792a-967b-4bfc-b343-ed65591f3531' class='xr-var-data-in' type='checkbox'><label for='data-0b3d792a-967b-4bfc-b343-ed65591f3531' title='Show/Hide data repr'><svg class='icon xr-icon-database'><use xlink:href='#icon-database'></use></svg></label><div class='xr-var-attrs'><dl class='xr-attrs'></dl></div><div class='xr-var-data'><pre>array([   0,    1,    2, ..., 8269, 8270, 8271])</pre></div></li><li class='xr-var-item'><div class='xr-var-name'><span class='xr-has-index'>hkl_index</span></div><div class='xr-var-dims'>(hkl_index)</div><div class='xr-var-dtype'>object</div><div class='xr-var-preview xr-preview'>&#x27;h&#x27; &#x27;k&#x27; &#x27;l&#x27;</div><input id='attrs-aafe283f-0c43-4352-a398-cbdf17fe7d25' class='xr-var-attrs-in' type='checkbox' disabled><label for='attrs-aafe283f-0c43-4352-a398-cbdf17fe7d25' title='Show/Hide attributes'><svg class='icon xr-icon-file-text2'><use xlink:href='#icon-file-text2'></use></svg></label><input id='data-65f7b4c2-0e40-4f0f-a693-993ff2df08de' class='xr-var-data-in' type='checkbox'><label for='data-65f7b4c2-0e40-4f0f-a693-993ff2df08de' title='Show/Hide data repr'><svg class='icon xr-icon-database'><use xlink:href='#icon-database'></use></svg></label><div class='xr-var-attrs'><dl class='xr-attrs'></dl></div><div class='xr-var-data'><pre>array([&#x27;h&#x27;, &#x27;k&#x27;, &#x27;l&#x27;], dtype=object)</pre></div></li></ul></div></li><li class='xr-section-item'><input id='section-773c6560-f643-44cf-84a4-ac3577093d96' class='xr-section-summary-in' type='checkbox'  checked><label for='section-773c6560-f643-44cf-84a4-ac3577093d96' class='xr-section-summary' >Data variables: <span>(6)</span></label><div class='xr-section-inline-details'></div><div class='xr-section-details'><ul class='xr-var-list'><li class='xr-var-item'><div class='xr-var-name'><span>Intensities</span></div><div class='xr-var-dims'>(pattern, tth)</div><div class='xr-var-dtype'>float64</div><div class='xr-var-preview xr-preview'>...</div><input id='attrs-cb137da1-a136-4cda-8789-59637b466a27' class='xr-var-attrs-in' type='checkbox' disabled><label for='attrs-cb137da1-a136-4cda-8789-59637b466a27' title='Show/Hide attributes'><svg class='icon xr-icon-file-text2'><use xlink:href='#icon-file-text2'></use></svg></label><input id='data-0c3db1e2-6ec5-4281-b66e-5fec20bb546a' class='xr-var-data-in' type='checkbox'><label for='data-0c3db1e2-6ec5-4281-b66e-5fec20bb546a' title='Show/Hide data repr'><svg class='icon xr-icon-database'><use xlink:href='#icon-database'></use></svg></label><div class='xr-var-attrs'><dl class='xr-attrs'></dl></div><div class='xr-var-data'><pre>[1176300 values with dtype=float64]</pre></div></li><li class='xr-var-item'><div class='xr-var-name'><span>hkl</span></div><div class='xr-var-dims'>(variation, peak, hkl_index)</div><div class='xr-var-dtype'>float64</div><div class='xr-var-preview xr-preview'>...</div><input id='attrs-43567e84-2eaf-4d15-9e11-45afb80de4e8' class='xr-var-attrs-in' type='checkbox' disabled><label for='attrs-43567e84-2eaf-4d15-9e11-45afb80de4e8' title='Show/Hide attributes'><svg class='icon xr-icon-file-text2'><use xlink:href='#icon-file-text2'></use></svg></label><input id='data-a2b760e7-0e26-4d78-89ee-92dbe6849a63' class='xr-var-data-in' type='checkbox'><label for='data-a2b760e7-0e26-4d78-89ee-92dbe6849a63' title='Show/Hide data repr'><svg class='icon xr-icon-database'><use xlink:href='#icon-database'></use></svg></label><div class='xr-var-attrs'><dl class='xr-attrs'></dl></div><div class='xr-var-data'><pre>[2481600 values with dtype=float64]</pre></div></li><li class='xr-var-item'><div class='xr-var-name'><span>2theta_calc</span></div><div class='xr-var-dims'>(variation, peak)</div><div class='xr-var-dtype'>float64</div><div class='xr-var-preview xr-preview'>...</div><input id='attrs-31665781-12c0-4d28-9483-9fc8316facaa' class='xr-var-attrs-in' type='checkbox' disabled><label for='attrs-31665781-12c0-4d28-9483-9fc8316facaa' title='Show/Hide attributes'><svg class='icon xr-icon-file-text2'><use xlink:href='#icon-file-text2'></use></svg></label><input id='data-5f91d1d7-1584-4d45-a02e-24a5075c70fc' class='xr-var-data-in' type='checkbox'><label for='data-5f91d1d7-1584-4d45-a02e-24a5075c70fc' title='Show/Hide data repr'><svg class='icon xr-icon-database'><use xlink:href='#icon-database'></use></svg></label><div class='xr-var-attrs'><dl class='xr-attrs'></dl></div><div class='xr-var-data'><pre>[827200 values with dtype=float64]</pre></div></li><li class='xr-var-item'><div class='xr-var-name'><span>2theta_nearest</span></div><div class='xr-var-dims'>(variation, peak)</div><div class='xr-var-dtype'>float64</div><div class='xr-var-preview xr-preview'>...</div><input id='attrs-a6bd54a8-427d-4b81-ab9c-015b5ea84e1b' class='xr-var-attrs-in' type='checkbox' disabled><label for='attrs-a6bd54a8-427d-4b81-ab9c-015b5ea84e1b' title='Show/Hide attributes'><svg class='icon xr-icon-file-text2'><use xlink:href='#icon-file-text2'></use></svg></label><input id='data-019f6727-8328-4b83-9d4f-59628b5d527a' class='xr-var-data-in' type='checkbox'><label for='data-019f6727-8328-4b83-9d4f-59628b5d527a' title='Show/Hide data repr'><svg class='icon xr-icon-database'><use xlink:href='#icon-database'></use></svg></label><div class='xr-var-attrs'><dl class='xr-attrs'></dl></div><div class='xr-var-data'><pre>[827200 values with dtype=float64]</pre></div></li><li class='xr-var-item'><div class='xr-var-name'><span>intensity</span></div><div class='xr-var-dims'>(variation, peak)</div><div class='xr-var-dtype'>float64</div><div class='xr-var-preview xr-preview'>...</div><input id='attrs-3d50d199-d0ee-41c4-b8ea-0fd263e98615' class='xr-var-attrs-in' type='checkbox' disabled><label for='attrs-3d50d199-d0ee-41c4-b8ea-0fd263e98615' title='Show/Hide attributes'><svg class='icon xr-icon-file-text2'><use xlink:href='#icon-file-text2'></use></svg></label><input id='data-3721aa72-74ba-44a9-8618-9da8a44fe780' class='xr-var-data-in' type='checkbox'><label for='data-3721aa72-74ba-44a9-8618-9da8a44fe780' title='Show/Hide data repr'><svg class='icon xr-icon-database'><use xlink:href='#icon-database'></use></svg></label><div class='xr-var-attrs'><dl class='xr-attrs'></dl></div><div class='xr-var-data'><pre>[827200 values with dtype=float64]</pre></div></li><li class='xr-var-item'><div class='xr-var-name'><span>binary_arr</span></div><div class='xr-var-dims'>(pattern, tth)</div><div class='xr-var-dtype'>int64</div><div class='xr-var-preview xr-preview'>...</div><input id='attrs-f927a747-30aa-4a19-80be-c1b3cd0af373' class='xr-var-attrs-in' type='checkbox' disabled><label for='attrs-f927a747-30aa-4a19-80be-c1b3cd0af373' title='Show/Hide attributes'><svg class='icon xr-icon-file-text2'><use xlink:href='#icon-file-text2'></use></svg></label><input id='data-2a992458-2233-4a2a-a3f2-f16a23742f3b' class='xr-var-data-in' type='checkbox'><label for='data-2a992458-2233-4a2a-a3f2-f16a23742f3b' title='Show/Hide data repr'><svg class='icon xr-icon-database'><use xlink:href='#icon-database'></use></svg></label><div class='xr-var-attrs'><dl class='xr-attrs'></dl></div><div class='xr-var-data'><pre>[1176300 values with dtype=int64]</pre></div></li></ul></div></li><li class='xr-section-item'><input id='section-39f6c613-51b8-4fe6-96f7-6fb0477af18d' class='xr-section-summary-in' type='checkbox'  checked><label for='section-39f6c613-51b8-4fe6-96f7-6fb0477af18d' class='xr-section-summary' >Attributes: <span>(2)</span></label><div class='xr-section-inline-details'></div><div class='xr-section-details'><dl class='xr-attrs'><dt><span>CIF :</span></dt><dd>cif_files/polypropylene.cif</dd><dt><span>tth_range :</span></dt><dd>[ 1 10]</dd></dl></div></li></ul></div></div>"
      ],
      "text/plain": [
       "<xarray.Dataset>\n",
       "Dimensions:         (hkl_index: 3, pattern: 100, peak: 8272, tth: 11763, variation: 100)\n",
       "Coordinates:\n",
       "  * pattern         (pattern) int64 0 1 2 3 4 5 6 7 ... 92 93 94 95 96 97 98 99\n",
       "  * tth             (tth) float64 1.0 1.001 1.002 1.002 ... 9.998 9.999 10.0\n",
       "  * variation       (variation) int64 0 1 2 3 4 5 6 7 ... 93 94 95 96 97 98 99\n",
       "  * peak            (peak) int64 0 1 2 3 4 5 6 ... 8266 8267 8268 8269 8270 8271\n",
       "  * hkl_index       (hkl_index) object 'h' 'k' 'l'\n",
       "Data variables:\n",
       "    Intensities     (pattern, tth) float64 ...\n",
       "    hkl             (variation, peak, hkl_index) float64 ...\n",
       "    2theta_calc     (variation, peak) float64 ...\n",
       "    2theta_nearest  (variation, peak) float64 ...\n",
       "    intensity       (variation, peak) float64 ...\n",
       "    binary_arr      (pattern, tth) int64 ...\n",
       "Attributes:\n",
       "    CIF:        cif_files/polypropylene.cif\n",
       "    tth_range:  [ 1 10]"
      ]
     },
     "execution_count": 44,
     "metadata": {},
     "output_type": "execute_result"
    }
   ],
   "source": [
    "ds"
   ]
  },
  {
   "cell_type": "code",
   "execution_count": 45,
   "id": "1e41c1c4",
   "metadata": {},
   "outputs": [],
   "source": [
    "import sklearn\n",
    "from sklearn.model_selection import train_test_split\n",
    "\n",
    "train_gaussians, test_gaussians, train_binary, test_binary = train_test_split(gaussians, binary, test_size=0.2, shuffle=False)"
   ]
  },
  {
   "cell_type": "code",
   "execution_count": 46,
   "id": "0e3dfdbb",
   "metadata": {},
   "outputs": [],
   "source": [
    "gauss_signals_train = [signal for signal in train_gaussians]\n",
    "gauss_signals_test = [signal for signal in test_gaussians]\n",
    "\n",
    "binary_labels_train = [label for label in train_binary]\n",
    "binary_labels_test = [label for label in test_binary]"
   ]
  },
  {
   "cell_type": "code",
   "execution_count": 47,
   "id": "52d115ee",
   "metadata": {},
   "outputs": [],
   "source": [
    "# import sklearn\n",
    "# from sklearn.preprocessing import MinMaxScaler\n",
    "\n",
    "# scaler = MinMaxScaler()\n",
    "# gauss_signals_train_sc = scaler.fit_transform(gauss_signals_train)\n",
    "# gauss_signals_test_sc = scaler.transform(gauss_signals_test)"
   ]
  },
  {
   "cell_type": "code",
   "execution_count": 48,
   "id": "e5a9a13f",
   "metadata": {},
   "outputs": [],
   "source": [
    "import wfdb\n",
    "from wfdb.processing import (\n",
    "    resample_singlechan,\n",
    "    find_local_peaks,\n",
    "    correct_peaks,\n",
    "    normalize_bound\n",
    ")"
   ]
  },
  {
   "cell_type": "code",
   "execution_count": 49,
   "id": "35023843",
   "metadata": {},
   "outputs": [],
   "source": [
    "def data_generator(signals, labels, win_size, batch_size):\n",
    "   \n",
    "    while True:\n",
    "        X, y = [], []\n",
    "\n",
    "        while len(X) < batch_size:\n",
    "            i = np.random.randint(0, len(signals))\n",
    "            sig = signals[i]\n",
    "            lbl = labels[i]\n",
    "\n",
    "            if len(sig) <= win_size + 4:\n",
    "                continue  # skip short signals\n",
    "\n",
    "            start = np.random.randint(2, len(sig) - win_size - 2)\n",
    "            end = start + win_size\n",
    "\n",
    "            data_win = sig[start:end]\n",
    "            label_win = lbl[start:end]\n",
    "\n",
    "            # Pad 1s ±2 samples around every 1 in label_win\n",
    "            padded_label = label_win.copy()\n",
    "            ones = np.where(label_win == 1)[0]\n",
    "            for p in ones:\n",
    "                for offset in [-2, -1, 1, 2]:\n",
    "                    if 0 <= p + offset < win_size:\n",
    "                        padded_label[p + offset] = 1\n",
    "\n",
    "            # Normalize signal window to (0, 1)\n",
    "            # data_win = normalize_bound(data_win, lb=0, ub=1)\n",
    "\n",
    "            # Normalized locally\n",
    "            data_win = (data_win - np.min(data_win))/(np.max(data_win) - np.min(data_win))\n",
    "\n",
    "            # Normalized globally\n",
    "            # low = np.min(signals)\n",
    "            # high = np.max(signals)\n",
    "            # data_win = (data_win - low)/(high - low)\n",
    "\n",
    "            X.append(data_win)\n",
    "            y.append(padded_label)\n",
    "\n",
    "        X = np.array(X).reshape(batch_size, win_size, 1)\n",
    "        y = np.array(y).reshape(batch_size, win_size, 1).astype(int)\n",
    "\n",
    "        yield X, y"
   ]
  },
  {
   "cell_type": "code",
   "execution_count": 50,
   "id": "120f35d5",
   "metadata": {},
   "outputs": [],
   "source": [
    "gen = data_generator(gauss_signals_train, binary_labels_train, win_size=11753, batch_size=64)\n",
    "X_batch, y_batch = next(gen)"
   ]
  },
  {
   "cell_type": "code",
   "execution_count": 51,
   "id": "f3ab5797",
   "metadata": {},
   "outputs": [],
   "source": [
    "n = next(gen)"
   ]
  },
  {
   "cell_type": "code",
   "execution_count": 52,
   "id": "379edc02",
   "metadata": {},
   "outputs": [
    {
     "name": "stdout",
     "output_type": "stream",
     "text": [
      "<class 'tuple'>\n",
      "2\n",
      "(64, 11753, 1)\n",
      "(64, 11753, 1)\n"
     ]
    },
    {
     "data": {
      "image/png": "[encoded data removed]",
      "text/plain": [
       "<Figure size 1296x720 with 4 Axes>"
      ]
     },
     "metadata": {
      "needs_background": "light"
     },
     "output_type": "display_data"
    }
   ],
   "source": [
    "\n",
    "print(type(n))         # likely a tuple\n",
    "print(len(n))          # 2: probably (inputs, labels)\n",
    "print(n[0].shape)      # input batch shape\n",
    "print(n[1].shape)      # label batch shape\n",
    "\n",
    "# Plot 4 training examples with labels\n",
    "fig, axs = plt.subplots(2, 2)\n",
    "fig.set_figheight(10), fig.set_figwidth(18)\n",
    "fig.suptitle('Some examples of training data with labels', size=20)\n",
    "\n",
    "# first index refers to whether it's an input or label, so noisy signal is input and peaks are labels\n",
    "axs[0, 0].plot(n[0][0], color='orange')\n",
    "axs[0, 0].plot(n[1][0]+1, color='green')\n",
    "\n",
    "axs[0, 1].plot(n[0][1], color='purple')\n",
    "axs[0, 1].plot(n[1][1]+1, color='blue')\n",
    "\n",
    "axs[1, 0].plot(n[0][2], color='yellow')\n",
    "axs[1, 0].plot(n[1][2]+1, color='red')\n",
    "\n",
    "axs[1, 1].plot(n[0][3], color='black')\n",
    "axs[1, 1].plot(n[1][3]+1, color='grey')\n",
    "\n",
    "# Hide x labels and tick labels for top plots and y ticks for right plots.\n",
    "for ax in axs.flat:\n",
    "    ax.label_outer()"
   ]
  },
  {
   "cell_type": "code",
   "execution_count": 53,
   "id": "fcda9d33",
   "metadata": {},
   "outputs": [],
   "source": [
    "n_batch, n_timesteps, n_input_dim = 64, 11753, 1\n",
    "\n",
    "model = models.Sequential()\n",
    "model.add(Input(shape=(n_timesteps, n_input_dim)))\n",
    "model.add(layers.Bidirectional(layers.LSTM(32, return_sequences=True)))\n",
    "model.add(layers.Bidirectional(layers.LSTM(32, return_sequences=True)))\n",
    "model.add(layers.Dense(1, activation='sigmoid'))\n",
    "\n",
    "model.compile(loss='binary_crossentropy', optimizer='adam', metrics=['acc'])\n"
   ]
  },
  {
   "cell_type": "code",
   "execution_count": null,
   "id": "7b6257b6",
   "metadata": {},
   "outputs": [
    {
     "ename": "",
     "evalue": "",
     "output_type": "error",
     "traceback": [
      "\u001b[1;31mThe Kernel crashed while executing code in the current cell or a previous cell. \n",
      "\u001b[1;31mPlease review the code in the cell(s) to identify a possible cause of the failure. \n",
      "\u001b[1;31mClick <a href='https://aka.ms/vscodeJupyterKernelCrash'>here</a> for more info. \n",
      "\u001b[1;31mView Jupyter <a href='command:jupyter.viewOutput'>log</a> for further details."
     ]
    }
   ],
   "source": [
    "training_gen = data_generator(gauss_signals_train, binary_labels_train, win_size=n_timesteps, batch_size=n_batch)"
   ]
  },
  {
   "cell_type": "code",
   "execution_count": null,
   "id": "dbab8d3c",
   "metadata": {},
   "outputs": [
    {
     "name": "stdout",
     "output_type": "stream",
     "text": [
      "Epoch 1/4\n",
      "13/40 [========>.....................] - ETA: 2:02:47 - loss: 0.6867 - acc: 0.5713"
     ]
    }
   ],
   "source": [
    "model.fit(training_gen,\n",
    "          steps_per_epoch=40,\n",
    "          epochs=4)"
   ]
  },
  {
   "cell_type": "code",
   "execution_count": null,
   "id": "70118101",
   "metadata": {},
   "outputs": [],
   "source": [
    "testing_gen = data_generator(gauss_signals_test, binary_labels_test, win_size=n_timesteps, batch_size=n_batch)"
   ]
  },
  {
   "cell_type": "code",
   "execution_count": null,
   "id": "f1d7c5f5",
   "metadata": {},
   "outputs": [
    {
     "ename": "KeyboardInterrupt",
     "evalue": "",
     "output_type": "error",
     "traceback": [
      "\u001b[0;31m---------------------------------------------------------------------------\u001b[0m",
      "\u001b[0;31mKeyboardInterrupt\u001b[0m                         Traceback (most recent call last)",
      "\u001b[0;32m<ipython-input-39-6102791d3053>\u001b[0m in \u001b[0;36m<module>\u001b[0;34m\u001b[0m\n\u001b[0;32m----> 1\u001b[0;31m \u001b[0mgauss_test\u001b[0m\u001b[0;34m,\u001b[0m \u001b[0mlabel_test\u001b[0m \u001b[0;34m=\u001b[0m \u001b[0mnext\u001b[0m\u001b[0;34m(\u001b[0m\u001b[0mtesting_gen\u001b[0m\u001b[0;34m)\u001b[0m\u001b[0;34m\u001b[0m\u001b[0;34m\u001b[0m\u001b[0m\n\u001b[0m",
      "\u001b[0;32m<ipython-input-28-a692e0b294e1>\u001b[0m in \u001b[0;36mdata_generator\u001b[0;34m(signals, labels, win_size, batch_size)\u001b[0m\n\u001b[1;32m     24\u001b[0m                 \u001b[0;32mfor\u001b[0m \u001b[0moffset\u001b[0m \u001b[0;32min\u001b[0m \u001b[0;34m[\u001b[0m\u001b[0;34m-\u001b[0m\u001b[0;36m2\u001b[0m\u001b[0;34m,\u001b[0m \u001b[0;34m-\u001b[0m\u001b[0;36m1\u001b[0m\u001b[0;34m,\u001b[0m \u001b[0;36m1\u001b[0m\u001b[0;34m,\u001b[0m \u001b[0;36m2\u001b[0m\u001b[0;34m]\u001b[0m\u001b[0;34m:\u001b[0m\u001b[0;34m\u001b[0m\u001b[0;34m\u001b[0m\u001b[0m\n\u001b[1;32m     25\u001b[0m                     \u001b[0;32mif\u001b[0m \u001b[0;36m0\u001b[0m \u001b[0;34m<=\u001b[0m \u001b[0mp\u001b[0m \u001b[0;34m+\u001b[0m \u001b[0moffset\u001b[0m \u001b[0;34m<\u001b[0m \u001b[0mwin_size\u001b[0m\u001b[0;34m:\u001b[0m\u001b[0;34m\u001b[0m\u001b[0;34m\u001b[0m\u001b[0m\n\u001b[0;32m---> 26\u001b[0;31m                         \u001b[0mpadded_label\u001b[0m\u001b[0;34m[\u001b[0m\u001b[0mp\u001b[0m \u001b[0;34m+\u001b[0m \u001b[0moffset\u001b[0m\u001b[0;34m]\u001b[0m \u001b[0;34m=\u001b[0m \u001b[0;36m1\u001b[0m\u001b[0;34m\u001b[0m\u001b[0;34m\u001b[0m\u001b[0m\n\u001b[0m\u001b[1;32m     27\u001b[0m \u001b[0;34m\u001b[0m\u001b[0m\n\u001b[1;32m     28\u001b[0m             \u001b[0;31m# Normalize signal window to (0, 1)\u001b[0m\u001b[0;34m\u001b[0m\u001b[0;34m\u001b[0m\u001b[0;34m\u001b[0m\u001b[0m\n",
      "\u001b[0;32m~/Repos/internship_2025/notebooks/ecgenv/lib64/python3.6/site-packages/xarray/core/dataarray.py\u001b[0m in \u001b[0;36m__setitem__\u001b[0;34m(self, key, value)\u001b[0m\n\u001b[1;32m    708\u001b[0m             \u001b[0;31m# TODO Coordinate consistency in key is checked here, but it\u001b[0m\u001b[0;34m\u001b[0m\u001b[0;34m\u001b[0m\u001b[0;34m\u001b[0m\u001b[0m\n\u001b[1;32m    709\u001b[0m             \u001b[0;31m# causes unnecessary indexing. It should be optimized.\u001b[0m\u001b[0;34m\u001b[0m\u001b[0;34m\u001b[0m\u001b[0;34m\u001b[0m\u001b[0m\n\u001b[0;32m--> 710\u001b[0;31m             \u001b[0mobj\u001b[0m \u001b[0;34m=\u001b[0m \u001b[0mself\u001b[0m\u001b[0;34m[\u001b[0m\u001b[0mkey\u001b[0m\u001b[0;34m]\u001b[0m\u001b[0;34m\u001b[0m\u001b[0;34m\u001b[0m\u001b[0m\n\u001b[0m\u001b[1;32m    711\u001b[0m             \u001b[0;32mif\u001b[0m \u001b[0misinstance\u001b[0m\u001b[0;34m(\u001b[0m\u001b[0mvalue\u001b[0m\u001b[0;34m,\u001b[0m \u001b[0mDataArray\u001b[0m\u001b[0;34m)\u001b[0m\u001b[0;34m:\u001b[0m\u001b[0;34m\u001b[0m\u001b[0;34m\u001b[0m\u001b[0m\n\u001b[1;32m    712\u001b[0m                 \u001b[0massert_coordinate_consistent\u001b[0m\u001b[0;34m(\u001b[0m\u001b[0mvalue\u001b[0m\u001b[0;34m,\u001b[0m \u001b[0mobj\u001b[0m\u001b[0;34m.\u001b[0m\u001b[0mcoords\u001b[0m\u001b[0;34m.\u001b[0m\u001b[0mvariables\u001b[0m\u001b[0;34m)\u001b[0m\u001b[0;34m\u001b[0m\u001b[0;34m\u001b[0m\u001b[0m\n",
      "\u001b[0;32m~/Repos/internship_2025/notebooks/ecgenv/lib64/python3.6/site-packages/xarray/core/dataarray.py\u001b[0m in \u001b[0;36m__getitem__\u001b[0;34m(self, key)\u001b[0m\n\u001b[1;32m    699\u001b[0m         \u001b[0;32melse\u001b[0m\u001b[0;34m:\u001b[0m\u001b[0;34m\u001b[0m\u001b[0;34m\u001b[0m\u001b[0m\n\u001b[1;32m    700\u001b[0m             \u001b[0;31m# xarray-style array indexing\u001b[0m\u001b[0;34m\u001b[0m\u001b[0;34m\u001b[0m\u001b[0;34m\u001b[0m\u001b[0m\n\u001b[0;32m--> 701\u001b[0;31m             \u001b[0;32mreturn\u001b[0m \u001b[0mself\u001b[0m\u001b[0;34m.\u001b[0m\u001b[0misel\u001b[0m\u001b[0;34m(\u001b[0m\u001b[0mindexers\u001b[0m\u001b[0;34m=\u001b[0m\u001b[0mself\u001b[0m\u001b[0;34m.\u001b[0m\u001b[0m_item_key_to_dict\u001b[0m\u001b[0;34m(\u001b[0m\u001b[0mkey\u001b[0m\u001b[0;34m)\u001b[0m\u001b[0;34m)\u001b[0m\u001b[0;34m\u001b[0m\u001b[0;34m\u001b[0m\u001b[0m\n\u001b[0m\u001b[1;32m    702\u001b[0m \u001b[0;34m\u001b[0m\u001b[0m\n\u001b[1;32m    703\u001b[0m     \u001b[0;32mdef\u001b[0m \u001b[0m__setitem__\u001b[0m\u001b[0;34m(\u001b[0m\u001b[0mself\u001b[0m\u001b[0;34m,\u001b[0m \u001b[0mkey\u001b[0m\u001b[0;34m:\u001b[0m \u001b[0mAny\u001b[0m\u001b[0;34m,\u001b[0m \u001b[0mvalue\u001b[0m\u001b[0;34m:\u001b[0m \u001b[0mAny\u001b[0m\u001b[0;34m)\u001b[0m \u001b[0;34m->\u001b[0m \u001b[0;32mNone\u001b[0m\u001b[0;34m:\u001b[0m\u001b[0;34m\u001b[0m\u001b[0;34m\u001b[0m\u001b[0m\n",
      "\u001b[0;32m~/Repos/internship_2025/notebooks/ecgenv/lib64/python3.6/site-packages/xarray/core/dataarray.py\u001b[0m in \u001b[0;36misel\u001b[0;34m(self, indexers, drop, missing_dims, **indexers_kwargs)\u001b[0m\n\u001b[1;32m   1097\u001b[0m         \u001b[0;32mif\u001b[0m \u001b[0many\u001b[0m\u001b[0;34m(\u001b[0m\u001b[0mis_fancy_indexer\u001b[0m\u001b[0;34m(\u001b[0m\u001b[0midx\u001b[0m\u001b[0;34m)\u001b[0m \u001b[0;32mfor\u001b[0m \u001b[0midx\u001b[0m \u001b[0;32min\u001b[0m \u001b[0mindexers\u001b[0m\u001b[0;34m.\u001b[0m\u001b[0mvalues\u001b[0m\u001b[0;34m(\u001b[0m\u001b[0;34m)\u001b[0m\u001b[0;34m)\u001b[0m\u001b[0;34m:\u001b[0m\u001b[0;34m\u001b[0m\u001b[0;34m\u001b[0m\u001b[0m\n\u001b[1;32m   1098\u001b[0m             ds = self._to_temp_dataset()._isel_fancy(\n\u001b[0;32m-> 1099\u001b[0;31m                 \u001b[0mindexers\u001b[0m\u001b[0;34m,\u001b[0m \u001b[0mdrop\u001b[0m\u001b[0;34m=\u001b[0m\u001b[0mdrop\u001b[0m\u001b[0;34m,\u001b[0m \u001b[0mmissing_dims\u001b[0m\u001b[0;34m=\u001b[0m\u001b[0mmissing_dims\u001b[0m\u001b[0;34m\u001b[0m\u001b[0;34m\u001b[0m\u001b[0m\n\u001b[0m\u001b[1;32m   1100\u001b[0m             )\n\u001b[1;32m   1101\u001b[0m             \u001b[0;32mreturn\u001b[0m \u001b[0mself\u001b[0m\u001b[0;34m.\u001b[0m\u001b[0m_from_temp_dataset\u001b[0m\u001b[0;34m(\u001b[0m\u001b[0mds\u001b[0m\u001b[0;34m)\u001b[0m\u001b[0;34m\u001b[0m\u001b[0;34m\u001b[0m\u001b[0m\n",
      "\u001b[0;32m~/Repos/internship_2025/notebooks/ecgenv/lib64/python3.6/site-packages/xarray/core/dataset.py\u001b[0m in \u001b[0;36m_isel_fancy\u001b[0;34m(self, indexers, drop, missing_dims)\u001b[0m\n\u001b[1;32m   2089\u001b[0m             \u001b[0;32mif\u001b[0m \u001b[0mname\u001b[0m \u001b[0;32min\u001b[0m \u001b[0mself\u001b[0m\u001b[0;34m.\u001b[0m\u001b[0mindexes\u001b[0m\u001b[0;34m:\u001b[0m\u001b[0;34m\u001b[0m\u001b[0;34m\u001b[0m\u001b[0m\n\u001b[1;32m   2090\u001b[0m                 new_var, new_index = isel_variable_and_index(\n\u001b[0;32m-> 2091\u001b[0;31m                     \u001b[0mname\u001b[0m\u001b[0;34m,\u001b[0m \u001b[0mvar\u001b[0m\u001b[0;34m,\u001b[0m \u001b[0mself\u001b[0m\u001b[0;34m.\u001b[0m\u001b[0mindexes\u001b[0m\u001b[0;34m[\u001b[0m\u001b[0mname\u001b[0m\u001b[0;34m]\u001b[0m\u001b[0;34m,\u001b[0m \u001b[0mvar_indexers\u001b[0m\u001b[0;34m\u001b[0m\u001b[0;34m\u001b[0m\u001b[0m\n\u001b[0m\u001b[1;32m   2092\u001b[0m                 )\n\u001b[1;32m   2093\u001b[0m                 \u001b[0;32mif\u001b[0m \u001b[0mnew_index\u001b[0m \u001b[0;32mis\u001b[0m \u001b[0;32mnot\u001b[0m \u001b[0;32mNone\u001b[0m\u001b[0;34m:\u001b[0m\u001b[0;34m\u001b[0m\u001b[0;34m\u001b[0m\u001b[0m\n",
      "\u001b[0;32m~/Repos/internship_2025/notebooks/ecgenv/lib64/python3.6/site-packages/xarray/core/indexes.py\u001b[0m in \u001b[0;36misel_variable_and_index\u001b[0;34m(name, variable, index, indexers)\u001b[0m\n\u001b[1;32m    104\u001b[0m         )\n\u001b[1;32m    105\u001b[0m \u001b[0;34m\u001b[0m\u001b[0m\n\u001b[0;32m--> 106\u001b[0;31m     \u001b[0mnew_variable\u001b[0m \u001b[0;34m=\u001b[0m \u001b[0mvariable\u001b[0m\u001b[0;34m.\u001b[0m\u001b[0misel\u001b[0m\u001b[0;34m(\u001b[0m\u001b[0mindexers\u001b[0m\u001b[0;34m)\u001b[0m\u001b[0;34m\u001b[0m\u001b[0;34m\u001b[0m\u001b[0m\n\u001b[0m\u001b[1;32m    107\u001b[0m \u001b[0;34m\u001b[0m\u001b[0m\n\u001b[1;32m    108\u001b[0m     \u001b[0;32mif\u001b[0m \u001b[0mnew_variable\u001b[0m\u001b[0;34m.\u001b[0m\u001b[0mdims\u001b[0m \u001b[0;34m!=\u001b[0m \u001b[0;34m(\u001b[0m\u001b[0mname\u001b[0m\u001b[0;34m,\u001b[0m\u001b[0;34m)\u001b[0m\u001b[0;34m:\u001b[0m\u001b[0;34m\u001b[0m\u001b[0;34m\u001b[0m\u001b[0m\n",
      "\u001b[0;32m~/Repos/internship_2025/notebooks/ecgenv/lib64/python3.6/site-packages/xarray/core/variable.py\u001b[0m in \u001b[0;36misel\u001b[0;34m(self, indexers, missing_dims, **indexers_kwargs)\u001b[0m\n\u001b[1;32m   1085\u001b[0m         \u001b[0;32mreturn\u001b[0m \u001b[0mself\u001b[0m\u001b[0;34m.\u001b[0m\u001b[0mcopy\u001b[0m\u001b[0;34m(\u001b[0m\u001b[0mdeep\u001b[0m\u001b[0;34m=\u001b[0m\u001b[0;32mFalse\u001b[0m\u001b[0;34m)\u001b[0m\u001b[0;34m\u001b[0m\u001b[0;34m\u001b[0m\u001b[0m\n\u001b[1;32m   1086\u001b[0m \u001b[0;34m\u001b[0m\u001b[0m\n\u001b[0;32m-> 1087\u001b[0;31m     def isel(\n\u001b[0m\u001b[1;32m   1088\u001b[0m         \u001b[0mself\u001b[0m\u001b[0;34m:\u001b[0m \u001b[0mVariableType\u001b[0m\u001b[0;34m,\u001b[0m\u001b[0;34m\u001b[0m\u001b[0;34m\u001b[0m\u001b[0m\n\u001b[1;32m   1089\u001b[0m         \u001b[0mindexers\u001b[0m\u001b[0;34m:\u001b[0m \u001b[0mMapping\u001b[0m\u001b[0;34m[\u001b[0m\u001b[0mHashable\u001b[0m\u001b[0;34m,\u001b[0m \u001b[0mAny\u001b[0m\u001b[0;34m]\u001b[0m \u001b[0;34m=\u001b[0m \u001b[0;32mNone\u001b[0m\u001b[0;34m,\u001b[0m\u001b[0;34m\u001b[0m\u001b[0;34m\u001b[0m\u001b[0m\n",
      "\u001b[0;31mKeyboardInterrupt\u001b[0m: "
     ]
    }
   ],
   "source": [
    "gauss_test, label_test = next(testing_gen)"
   ]
  },
  {
   "cell_type": "code",
   "execution_count": null,
   "id": "6e8b5026",
   "metadata": {},
   "outputs": [
    {
     "data": {
      "text/plain": [
       "(64, 990, 1)"
      ]
     },
     "execution_count": 46,
     "metadata": {},
     "output_type": "execute_result"
    }
   ],
   "source": [
    "label_test.shape"
   ]
  },
  {
   "cell_type": "code",
   "execution_count": null,
   "id": "7e4ac7fe",
   "metadata": {},
   "outputs": [],
   "source": [
    "binary_pred = model.predict(gauss_test)"
   ]
  },
  {
   "cell_type": "code",
   "execution_count": null,
   "id": "9baa7a06",
   "metadata": {},
   "outputs": [
    {
     "data": {
      "text/plain": [
       "(64, 990, 1)"
      ]
     },
     "execution_count": 48,
     "metadata": {},
     "output_type": "execute_result"
    }
   ],
   "source": [
    "binary_pred.shape"
   ]
  },
  {
   "cell_type": "code",
   "execution_count": null,
   "id": "49e86c7f",
   "metadata": {},
   "outputs": [
    {
     "data": {
      "text/plain": [
       "array([[1.7881393e-07],\n",
       "       [1.4901161e-07],\n",
       "       [2.3841858e-07],\n",
       "       [1.4901161e-07],\n",
       "       [1.1920929e-07],\n",
       "       [1.1920929e-07],\n",
       "       [1.7881393e-07],\n",
       "       [1.1920929e-07],\n",
       "       [2.0861626e-07],\n",
       "       [2.0861626e-07]], dtype=float32)"
      ]
     },
     "execution_count": 49,
     "metadata": {},
     "output_type": "execute_result"
    }
   ],
   "source": [
    "np.where(binary_pred[5] > 1e-2)[0]\n",
    "#binary_pred[5]\n",
    "binary_pred[5][750:760]"
   ]
  },
  {
   "cell_type": "code",
   "execution_count": null,
   "id": "11e03b94",
   "metadata": {},
   "outputs": [],
   "source": [
    "plt.close('all')"
   ]
  },
  {
   "cell_type": "code",
   "execution_count": null,
   "id": "9781742f",
   "metadata": {},
   "outputs": [
    {
     "data": {
      "image/png": "[encoded data removed]",
      "text/plain": [
       "<Figure size 432x288 with 1 Axes>"
      ]
     },
     "metadata": {
      "needs_background": "light"
     },
     "output_type": "display_data"
    }
   ],
   "source": [
    "plt.figure()\n",
    "for j in range(64):\n",
    "    plt.plot(binary_pred[j], color='red')\n",
    "    plt.plot(label_test[j] + 1, color='purple')\n",
    "plt.show()"
   ]
  },
  {
   "cell_type": "code",
   "execution_count": null,
   "id": "e28b0379",
   "metadata": {},
   "outputs": [
    {
     "data": {
      "text/plain": [
       "(64, 990, 1)"
      ]
     },
     "execution_count": 52,
     "metadata": {},
     "output_type": "execute_result"
    }
   ],
   "source": [
    "binary_pred.shape"
   ]
  },
  {
   "cell_type": "code",
   "execution_count": null,
   "id": "030ac027",
   "metadata": {},
   "outputs": [],
   "source": [
    "# evaluate accuracy\n",
    "# use f1 score, set prob >= 60% as positive, else negative\n",
    "\n",
    "binary_pred_adjusted = np.zeros_like(binary_pred)\n",
    "\n",
    "for j in range(binary_pred.shape[0]):\n",
    "    idx = np.where(binary_pred[j] >= 0.6)[0]\n",
    "    binary_pred_adjusted[j][idx] = 1\n"
   ]
  },
  {
   "cell_type": "code",
   "execution_count": null,
   "id": "69d1476f",
   "metadata": {},
   "outputs": [],
   "source": [
    "plt.close('all')"
   ]
  },
  {
   "cell_type": "code",
   "execution_count": null,
   "id": "9f1201e3",
   "metadata": {},
   "outputs": [
    {
     "ename": "NameError",
     "evalue": "name 'plt' is not defined",
     "output_type": "error",
     "traceback": [
      "\u001b[0;31m---------------------------------------------------------------------------\u001b[0m",
      "\u001b[0;31mNameError\u001b[0m                                 Traceback (most recent call last)",
      "\u001b[0;32m<ipython-input-1-a9f5fa6dcc11>\u001b[0m in \u001b[0;36m<module>\u001b[0;34m\u001b[0m\n\u001b[0;32m----> 1\u001b[0;31m \u001b[0mplt\u001b[0m\u001b[0;34m.\u001b[0m\u001b[0mfigure\u001b[0m\u001b[0;34m(\u001b[0m\u001b[0;34m)\u001b[0m\u001b[0;34m\u001b[0m\u001b[0;34m\u001b[0m\u001b[0m\n\u001b[0m\u001b[1;32m      2\u001b[0m \u001b[0;34m\u001b[0m\u001b[0m\n\u001b[1;32m      3\u001b[0m \u001b[0;32mfor\u001b[0m \u001b[0mj\u001b[0m \u001b[0;32min\u001b[0m \u001b[0mrange\u001b[0m\u001b[0;34m(\u001b[0m\u001b[0;36m1\u001b[0m\u001b[0;34m)\u001b[0m\u001b[0;34m:\u001b[0m\u001b[0;34m\u001b[0m\u001b[0;34m\u001b[0m\u001b[0m\n\u001b[1;32m      4\u001b[0m     \u001b[0mplt\u001b[0m\u001b[0;34m.\u001b[0m\u001b[0mplot\u001b[0m\u001b[0;34m(\u001b[0m\u001b[0mgauss_test\u001b[0m\u001b[0;34m[\u001b[0m\u001b[0mj\u001b[0m\u001b[0;34m]\u001b[0m\u001b[0;34m,\u001b[0m \u001b[0mcolor\u001b[0m\u001b[0;34m=\u001b[0m\u001b[0;34m'green'\u001b[0m\u001b[0;34m,\u001b[0m \u001b[0mlabel\u001b[0m\u001b[0;34m=\u001b[0m\u001b[0;34m'Signal'\u001b[0m\u001b[0;34m)\u001b[0m\u001b[0;34m\u001b[0m\u001b[0;34m\u001b[0m\u001b[0m\n\u001b[1;32m      5\u001b[0m     \u001b[0mplt\u001b[0m\u001b[0;34m.\u001b[0m\u001b[0mplot\u001b[0m\u001b[0;34m(\u001b[0m\u001b[0mbinary_pred\u001b[0m\u001b[0;34m[\u001b[0m\u001b[0mj\u001b[0m\u001b[0;34m]\u001b[0m \u001b[0;34m+\u001b[0m \u001b[0;36m1\u001b[0m\u001b[0;34m,\u001b[0m \u001b[0mcolor\u001b[0m\u001b[0;34m=\u001b[0m\u001b[0;34m'orange'\u001b[0m\u001b[0;34m,\u001b[0m \u001b[0mlabel\u001b[0m\u001b[0;34m=\u001b[0m\u001b[0;34m'Predicted Probabilities'\u001b[0m\u001b[0;34m)\u001b[0m\u001b[0;34m\u001b[0m\u001b[0;34m\u001b[0m\u001b[0m\n",
      "\u001b[0;31mNameError\u001b[0m: name 'plt' is not defined"
     ]
    }
   ],
   "source": [
    "plt.figure()\n",
    "\n",
    "for j in range(1):\n",
    "    plt.plot(gauss_test[j], color='green', label='Signal')\n",
    "    plt.plot(binary_pred[j] + 1, color='orange', label='Predicted Probabilities')\n",
    "    plt.plot(label_test[j] + 2, color='purple', label='True Labels')\n",
    "\n",
    "plt.tick_params(top=True, bottom=True, left=True, right=True, direction='in')\n",
    "plt.legend(loc='upper left', bbox_to_anchor=(1.05, 1))\n",
    "plt.tight_layout()\n",
    "plt.savefig('test_results_multigauss1.png')\n",
    "plt.show()"
   ]
  }
 ],
 "metadata": {
  "kernelspec": {
   "display_name": "Python 3",
   "language": "python",
   "name": "python3"
  },
  "language_info": {
   "codemirror_mode": {
    "name": "ipython",
    "version": 3
   },
   "file_extension": ".py",
   "mimetype": "text/x-python",
   "name": "python",
   "nbconvert_exporter": "python",
   "pygments_lexer": "ipython3",
   "version": "3.9.20"
  }
 },
 "nbformat": 4,
 "nbformat_minor": 5
}
